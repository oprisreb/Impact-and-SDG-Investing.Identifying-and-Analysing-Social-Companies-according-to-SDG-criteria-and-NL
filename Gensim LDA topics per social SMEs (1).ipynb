{
 "cells": [
  {
   "cell_type": "markdown",
   "metadata": {},
   "source": [
    "# Model Implementation\n",
    "\n",
    "Loading data\n",
    "\n",
    "Data Cleaning\n",
    "\n",
    "Phrase Modeling: Bi-grams and Tri-grams\n",
    "    \n",
    "Data transformation: Corpus and Dictionary\n",
    "    \n",
    "Base Model\n",
    "\n",
    "Hyperparameter Tuning\n",
    "\n",
    "Final Model\n",
    "\n",
    "Visualize Results"
   ]
  },
  {
   "cell_type": "code",
   "execution_count": 2,
   "metadata": {},
   "outputs": [],
   "source": [
    "import gensim\n",
    "from gensim.utils import simple_preprocess\n",
    "from gensim.parsing.preprocessing import STOPWORDS\n",
    "from nltk.stem import WordNetLemmatizer, SnowballStemmer\n",
    "from nltk.stem.porter import *\n",
    "import numpy as np\n",
    "np.random.seed(400)\n",
    "from sklearn.model_selection import train_test_split\n",
    "from sklearn import datasets\n",
    "from sklearn import svm\n"
   ]
  },
  {
   "cell_type": "code",
   "execution_count": 2,
   "metadata": {},
   "outputs": [
    {
     "data": {
      "text/html": [
       "<div>\n",
       "<style scoped>\n",
       "    .dataframe tbody tr th:only-of-type {\n",
       "        vertical-align: middle;\n",
       "    }\n",
       "\n",
       "    .dataframe tbody tr th {\n",
       "        vertical-align: top;\n",
       "    }\n",
       "\n",
       "    .dataframe thead th {\n",
       "        text-align: right;\n",
       "    }\n",
       "</style>\n",
       "<table border=\"1\" class=\"dataframe\">\n",
       "  <thead>\n",
       "    <tr style=\"text-align: right;\">\n",
       "      <th></th>\n",
       "      <th>Organization_Name</th>\n",
       "      <th>Organization_City</th>\n",
       "      <th>Organization_Country</th>\n",
       "      <th>Organization_Website</th>\n",
       "      <th>Organization Linkedin</th>\n",
       "      <th>Short_description</th>\n",
       "      <th>Organization_Industries</th>\n",
       "      <th>Investor</th>\n",
       "      <th>Type_investment</th>\n",
       "      <th>Long_description</th>\n",
       "    </tr>\n",
       "  </thead>\n",
       "  <tbody>\n",
       "    <tr>\n",
       "      <th>0</th>\n",
       "      <td>Affect Therapeutics</td>\n",
       "      <td>New York</td>\n",
       "      <td>United States</td>\n",
       "      <td>https://www.affecttherapeutics.com/</td>\n",
       "      <td>https://www.linkedin.com/company/affect-therap...</td>\n",
       "      <td>Affect Therapeutics is using mobile technology...</td>\n",
       "      <td>Health Care</td>\n",
       "      <td>Acumen</td>\n",
       "      <td>SDGs</td>\n",
       "      <td>Affect is using digital technology to deliver ...</td>\n",
       "    </tr>\n",
       "  </tbody>\n",
       "</table>\n",
       "</div>"
      ],
      "text/plain": [
       "     Organization_Name Organization_City Organization_Country  \\\n",
       "0  Affect Therapeutics          New York        United States   \n",
       "\n",
       "                  Organization_Website  \\\n",
       "0  https://www.affecttherapeutics.com/   \n",
       "\n",
       "                               Organization Linkedin  \\\n",
       "0  https://www.linkedin.com/company/affect-therap...   \n",
       "\n",
       "                                   Short_description Organization_Industries  \\\n",
       "0  Affect Therapeutics is using mobile technology...             Health Care   \n",
       "\n",
       "  Investor Type_investment                                   Long_description  \n",
       "0   Acumen            SDGs  Affect is using digital technology to deliver ...  "
      ]
     },
     "execution_count": 2,
     "metadata": {},
     "output_type": "execute_result"
    }
   ],
   "source": [
    "# Importing modules\n",
    "import pandas as pd\n",
    "\n",
    "# Read data \n",
    "df=pd.read_excel(\"sdgs_topic modelling.xlsx\")\n",
    "# Print head\n",
    "df.head(1)"
   ]
  },
  {
   "cell_type": "code",
   "execution_count": 3,
   "metadata": {},
   "outputs": [],
   "source": [
    "train, test= train_test_split(df,test_size=0.1, random_state=0)"
   ]
  },
  {
   "cell_type": "markdown",
   "metadata": {},
   "source": [
    "# Remove punctuation/lower casing\n"
   ]
  },
  {
   "cell_type": "code",
   "execution_count": 4,
   "metadata": {},
   "outputs": [
    {
     "name": "stderr",
     "output_type": "stream",
     "text": [
      "C:\\Users\\daian\\anaconda3\\lib\\site-packages\\ipykernel_launcher.py:4: SettingWithCopyWarning: \n",
      "A value is trying to be set on a copy of a slice from a DataFrame.\n",
      "Try using .loc[row_indexer,col_indexer] = value instead\n",
      "\n",
      "See the caveats in the documentation: https://pandas.pydata.org/pandas-docs/stable/user_guide/indexing.html#returning-a-view-versus-a-copy\n",
      "  after removing the cwd from sys.path.\n",
      "C:\\Users\\daian\\anaconda3\\lib\\site-packages\\ipykernel_launcher.py:6: SettingWithCopyWarning: \n",
      "A value is trying to be set on a copy of a slice from a DataFrame.\n",
      "Try using .loc[row_indexer,col_indexer] = value instead\n",
      "\n",
      "See the caveats in the documentation: https://pandas.pydata.org/pandas-docs/stable/user_guide/indexing.html#returning-a-view-versus-a-copy\n",
      "  \n"
     ]
    },
    {
     "data": {
      "text/plain": [
       "141     forceclouds develops enterprise software inten...\n",
       "487     jsc credo bank (credo) successfully operating ...\n",
       "678     our vision is to offer pedagogically different...\n",
       "49              the path towards upward economic mobility\n",
       "1178    sustainable restaurant group is a collection o...\n",
       "Name: Long_description_processed, dtype: object"
      ]
     },
     "execution_count": 4,
     "metadata": {},
     "output_type": "execute_result"
    }
   ],
   "source": [
    "# Load the regular expression library\n",
    "import re\n",
    "# Remove punctuation\n",
    "train['Long_description_processed'] = train['Long_description'].map(lambda x: re.sub('[,\\.!?]', '', x))\n",
    "# Convert the descriptions to lowercase\n",
    "train['Long_description_processed'] = train['Long_description_processed'].map(lambda x: x.lower())\n",
    "# Print out the first rows of descriptions\n",
    "train['Long_description_processed'].head()"
   ]
  },
  {
   "cell_type": "markdown",
   "metadata": {},
   "source": [
    "# Tokenize words and further clean-up text\n"
   ]
  },
  {
   "cell_type": "code",
   "execution_count": 5,
   "metadata": {},
   "outputs": [
    {
     "name": "stdout",
     "output_type": "stream",
     "text": [
      "['forceclouds', 'develops', 'enterprise', 'software', 'intended', 'to', 'provide', 'simple', 'safe', 'efficient', 'and', 'compliant', 'information', 'automation']\n"
     ]
    }
   ],
   "source": [
    "import gensim\n",
    "from gensim.utils import simple_preprocess\n",
    "def sent_to_words(sentences):\n",
    "    for sentence in sentences:\n",
    "        yield(gensim.utils.simple_preprocess(str(sentence), deacc=True))  # deacc=True removes punctuations\n",
    "data = train.Long_description_processed.values.tolist()\n",
    "data_words = list(sent_to_words(data))\n",
    "print(data_words[:1][0][:30])"
   ]
  },
  {
   "cell_type": "markdown",
   "metadata": {},
   "source": [
    "# Phrase Modeling: Bigram and Trigram Models\n",
    "\n",
    "Bigrams are two words frequently occurring together in the document. \n",
    "\n"
   ]
  },
  {
   "cell_type": "code",
   "execution_count": 6,
   "metadata": {},
   "outputs": [],
   "source": [
    "# Build the bigram and trigram models\n",
    "bigram = gensim.models.Phrases(data_words, min_count=5, threshold=100) # higher threshold fewer phrases.\n",
    "trigram = gensim.models.Phrases(bigram[data_words], threshold=100)\n",
    "# Faster way to get a sentence clubbed as a trigram/bigram\n",
    "bigram_mod = gensim.models.phrases.Phraser(bigram)\n",
    "trigram_mod = gensim.models.phrases.Phraser(trigram)"
   ]
  },
  {
   "cell_type": "markdown",
   "metadata": {},
   "source": [
    "# Remove Stopwords, Make Bigrams and Lemmatize\n"
   ]
  },
  {
   "cell_type": "code",
   "execution_count": 7,
   "metadata": {},
   "outputs": [],
   "source": [
    "# NLTK Stop words\n",
    "# import nltk\n",
    "# nltk.download('stopwords')\n",
    "from nltk.corpus import stopwords\n",
    "stop_words = stopwords.words('english')\n",
    "stop_words.extend(['from', 'subject', 're', 'edu', 'use'])\n",
    "# Define functions for stopwords, bigrams, trigrams and lemmatization\n",
    "def remove_stopwords(texts):\n",
    "    return [[word for word in simple_preprocess(str(doc)) if word not in stop_words] for doc in texts]\n",
    "def make_bigrams(texts):\n",
    "    return [bigram_mod[doc] for doc in texts]\n",
    "def make_trigrams(texts):\n",
    "    return [trigram_mod[bigram_mod[doc]] for doc in texts]\n",
    "def lemmatization(texts, allowed_postags=['NOUN', 'ADJ', 'VERB', 'ADV']):\n",
    "    \"\"\"https://spacy.io/api/annotation\"\"\"\n",
    "    texts_out = []\n",
    "    for sent in texts:\n",
    "        doc = nlp(\" \".join(sent)) \n",
    "        texts_out.append([token.lemma_ for token in doc if token.pos_ in allowed_postags])\n",
    "    return texts_out"
   ]
  },
  {
   "cell_type": "code",
   "execution_count": 8,
   "metadata": {},
   "outputs": [
    {
     "name": "stdout",
     "output_type": "stream",
     "text": [
      "[['forcecloud', 'develop', 'enterprise', 'software', 'intend', 'provide', 'simple', 'safe', 'efficient', 'compliant', 'information', 'automation']]\n"
     ]
    }
   ],
   "source": [
    "import spacy\n",
    "# Remove Stop Words\n",
    "data_words_nostops = remove_stopwords(data_words)\n",
    "# Form Bigrams\n",
    "data_words_bigrams = make_bigrams(data_words_nostops)\n",
    "# Initialize spacy 'en' model, keeping only tagger component (for efficiency)\n",
    "nlp = spacy.load(\"en_core_web_sm\", disable=['parser', 'ner'])\n",
    "# Do lemmatization keeping only noun, adj, vb, adv\n",
    "data_lemmatized = lemmatization(data_words_bigrams, allowed_postags=['NOUN', 'ADJ', 'VERB', 'ADV'])\n",
    "print(data_lemmatized[:1])"
   ]
  },
  {
   "cell_type": "markdown",
   "metadata": {},
   "source": [
    "# Data Transformation: Corpus and Dictionary\n",
    "The two main inputs to the LDA topic model are the dictionary(id2word) and the corpus. "
   ]
  },
  {
   "cell_type": "code",
   "execution_count": 9,
   "metadata": {},
   "outputs": [],
   "source": [
    "import gensim.corpora as corpora\n",
    "# Create Dictionary\n",
    "id2word = corpora.Dictionary(data_lemmatized)\n",
    "# Create Corpus\n",
    "texts = data_lemmatized\n"
   ]
  },
  {
   "cell_type": "code",
   "execution_count": 10,
   "metadata": {},
   "outputs": [
    {
     "name": "stdout",
     "output_type": "stream",
     "text": [
      "0 automation\n",
      "1 compliant\n",
      "2 develop\n",
      "3 efficient\n",
      "4 enterprise\n",
      "5 forcecloud\n",
      "6 information\n",
      "7 intend\n",
      "8 provide\n",
      "9 safe\n",
      "10 simple\n"
     ]
    }
   ],
   "source": [
    "'''\n",
    "Checking dictionary created\n",
    "'''\n",
    "count = 0\n",
    "for k, v in id2word.iteritems():\n",
    "    print(k, v)\n",
    "    count += 1\n",
    "    if count > 10:\n",
    "        break"
   ]
  },
  {
   "cell_type": "code",
   "execution_count": 11,
   "metadata": {},
   "outputs": [],
   "source": [
    "id2word.filter_extremes(no_below=15, no_above=0.1, keep_n= 100000)"
   ]
  },
  {
   "cell_type": "code",
   "execution_count": 12,
   "metadata": {},
   "outputs": [
    {
     "name": "stdout",
     "output_type": "stream",
     "text": [
      "[[(0, 1), (1, 1), (2, 1), (3, 1), (4, 1), (5, 1), (6, 1), (7, 1)]]\n"
     ]
    }
   ],
   "source": [
    "# Term Document Frequency\n",
    "corpus = [id2word.doc2bow(text) for text in texts]\n",
    "# View\n",
    "print(corpus[:1])"
   ]
  },
  {
   "cell_type": "markdown",
   "metadata": {},
   "source": [
    "# Base Model\n"
   ]
  },
  {
   "cell_type": "code",
   "execution_count": 13,
   "metadata": {},
   "outputs": [],
   "source": [
    "# Build LDA model\n",
    "lda_model = gensim.models.LdaMulticore(corpus=corpus,\n",
    "                                       id2word=id2word,\n",
    "                                       num_topics=5, \n",
    "                                       random_state=100,\n",
    "                                       chunksize=100,\n",
    "                                       passes=10,\n",
    "                                       per_word_topics=True)"
   ]
  },
  {
   "cell_type": "markdown",
   "metadata": {},
   "source": [
    "# View the topics in LDA model\n"
   ]
  },
  {
   "cell_type": "code",
   "execution_count": 14,
   "metadata": {},
   "outputs": [
    {
     "name": "stdout",
     "output_type": "stream",
     "text": [
      "[(0,\n",
      "  '0.021*\"power\" + 0.020*\"energy\" + 0.018*\"payment\" + 0.017*\"online\" + '\n",
      "  '0.015*\"digital\" + 0.015*\"mobile\" + 0.014*\"consumer\" + 0.013*\"africa\" + '\n",
      "  '0.013*\"solar\" + 0.013*\"app\"'),\n",
      " (1,\n",
      "  '0.044*\"social\" + 0.019*\"support\" + 0.018*\"community\" + 0.017*\"impact\" + '\n",
      "  '0.016*\"engagement\" + 0.014*\"need\" + 0.013*\"program\" + 0.013*\"change\" + '\n",
      "  '0.013*\"family\" + 0.012*\"share\"'),\n",
      " (2,\n",
      "  '0.026*\"datum\" + 0.022*\"health\" + 0.018*\"healthcare\" + 0.016*\"farmer\" + '\n",
      "  '0.016*\"care\" + 0.014*\"work\" + 0.013*\"food\" + 0.013*\"improve\" + '\n",
      "  '0.013*\"patient\" + 0.012*\"industry\"'),\n",
      " (3,\n",
      "  '0.019*\"development\" + 0.015*\"student\" + 0.015*\"access\" + 0.014*\"security\" + '\n",
      "  '0.014*\"client\" + 0.013*\"work\" + 0.012*\"learning\" + 0.011*\"school\" + '\n",
      "  '0.011*\"focus\" + 0.011*\"network\"'),\n",
      " (4,\n",
      "  '0.031*\"finance\" + 0.026*\"credit\" + 0.025*\"india\" + 0.024*\"small\" + '\n",
      "  '0.020*\"insurance\" + 0.020*\"loan\" + 0.019*\"bank\" + 0.019*\"access\" + '\n",
      "  '0.015*\"micro\" + 0.014*\"urban\"')]\n"
     ]
    }
   ],
   "source": [
    "from pprint import pprint\n",
    "# Print the Keyword in the 5 topics\n",
    "pprint(lda_model.print_topics())\n",
    "doc_lda = lda_model[corpus]"
   ]
  },
  {
   "cell_type": "markdown",
   "metadata": {},
   "source": [
    "# Compute Model Perplexity and Coherence Score\n"
   ]
  },
  {
   "cell_type": "code",
   "execution_count": 15,
   "metadata": {},
   "outputs": [
    {
     "name": "stdout",
     "output_type": "stream",
     "text": [
      "\n",
      "Coherence Score:  0.4245952905703936\n"
     ]
    }
   ],
   "source": [
    "from gensim.models import CoherenceModel\n",
    "# Compute Coherence Score\n",
    "coherence_model_lda = CoherenceModel(model=lda_model, texts=data_lemmatized, dictionary=id2word, coherence='c_v')\n",
    "coherence_lda = coherence_model_lda.get_coherence()\n",
    "print('\\nCoherence Score: ', coherence_lda)"
   ]
  },
  {
   "cell_type": "code",
   "execution_count": 16,
   "metadata": {},
   "outputs": [
    {
     "name": "stdout",
     "output_type": "stream",
     "text": [
      "\n",
      "Perplexity:  -5.921062964039574\n"
     ]
    }
   ],
   "source": [
    "# Compute Perplexity\n",
    "print('\\nPerplexity: ', lda_model.log_perplexity(corpus))  # a measure of how good the model is. lower the better."
   ]
  },
  {
   "cell_type": "code",
   "execution_count": 17,
   "metadata": {},
   "outputs": [
    {
     "data": {
      "text/plain": [
       "372.8115879402722"
      ]
     },
     "execution_count": 17,
     "metadata": {},
     "output_type": "execute_result"
    }
   ],
   "source": [
    "#convert gensim log_perplexity to the perlexity value from scikitlearn, to make them comparable \n",
    "np.exp(-1.*lda_model.log_perplexity(corpus))"
   ]
  },
  {
   "cell_type": "markdown",
   "metadata": {},
   "source": [
    "# Hyperparameter Tuning\n",
    "\n",
    "\n",
    "Number of Topics (K)\n",
    "\n",
    "Dirichlet hyperparameter alpha: Document-Topic Density\n",
    "\n",
    "Dirichlet hyperparameter eta: Word-Topic Density\n",
    "\n"
   ]
  },
  {
   "cell_type": "code",
   "execution_count": 34,
   "metadata": {},
   "outputs": [],
   "source": [
    "# supporting function\n",
    "def compute_coherence_values(corpus, dictionary, k, a, b):\n",
    "    \n",
    "    lda_model = gensim.models.LdaMulticore(corpus=corpus,\n",
    "                                           id2word=dictionary,\n",
    "                                           num_topics=k, \n",
    "                                           random_state=100,\n",
    "                                           chunksize=100,\n",
    "                                           passes=10,\n",
    "                                           alpha=a,\n",
    "                                           eta=b)\n",
    "    \n",
    "    coherence_model_lda = CoherenceModel(model=lda_model, texts=data_lemmatized, dictionary=id2word, coherence='c_v')\n",
    "    \n",
    "    return coherence_model_lda.get_coherence()"
   ]
  },
  {
   "cell_type": "markdown",
   "metadata": {},
   "source": [
    "#  call the function, and iterate it over the range of topics, alpha, and eta parameter values\n",
    "#takes a while to get final results"
   ]
  },
  {
   "cell_type": "code",
   "execution_count": 35,
   "metadata": {},
   "outputs": [
    {
     "name": "stderr",
     "output_type": "stream",
     "text": [
      "100%|██████████| 540/540 [1:56:53<00:00, 12.99s/it]\n"
     ]
    }
   ],
   "source": [
    "import numpy as np\n",
    "import tqdm\n",
    "grid = {}\n",
    "grid['Validation_Set'] = {}\n",
    "# Topics range\n",
    "min_topics = 2\n",
    "max_topics = 11\n",
    "step_size = 1\n",
    "topics_range = range(min_topics, max_topics, step_size)\n",
    "# Alpha parameter\n",
    "alpha = list(np.arange(0.01, 1, 0.3))\n",
    "alpha.append('symmetric')\n",
    "alpha.append('asymmetric')\n",
    "# Beta parameter\n",
    "eta = list(np.arange(0.01, 1, 0.3))\n",
    "eta.append('symmetric')\n",
    "# Validation sets\n",
    "num_of_docs = len(corpus)\n",
    "corpus_sets = [# gensim.utils.ClippedCorpus(corpus, num_of_docs*0.25), \n",
    "               # gensim.utils.ClippedCorpus(corpus, num_of_docs*0.5), \n",
    "               gensim.utils.ClippedCorpus(corpus, int(num_of_docs*0.75)), \n",
    "               corpus]\n",
    "corpus_title = ['75% Corpus', '100% Corpus']\n",
    "model_results = {'Validation_Set': [],\n",
    "                 'Topics': [],\n",
    "                 'Alpha': [],\n",
    "                 'Eta': [],\n",
    "                 'Coherence': []\n",
    "                }\n",
    "# Can take a long time to run\n",
    "if 1 == 1:\n",
    "    pbar = tqdm.tqdm(total=540)\n",
    "    \n",
    "    # iterate through validation corpuses\n",
    "    for i in range(len(corpus_sets)):\n",
    "        # iterate through number of topics\n",
    "        for k in topics_range:\n",
    "            # iterate through alpha values\n",
    "            for a in alpha:\n",
    "                # iterare through beta values\n",
    "                for b in eta:\n",
    "                    # get the coherence score for the given parameters\n",
    "                    cv = compute_coherence_values(corpus=corpus_sets[i], dictionary=id2word, \n",
    "                                                  k=k, a=a, b=b)\n",
    "                    # Save the model results\n",
    "                    model_results['Validation_Set'].append(corpus_title[i])\n",
    "                    model_results['Topics'].append(k)\n",
    "                    model_results['Alpha'].append(a)\n",
    "                    model_results['Eta'].append(b)\n",
    "                    model_results['Coherence'].append(cv)\n",
    "                    \n",
    "                    pbar.update(1)\n",
    "    pd.DataFrame(model_results).to_csv('lda_tuning_results2ETA.csv', index=False)\n",
    "    pbar.close()"
   ]
  },
  {
   "cell_type": "code",
   "execution_count": 37,
   "metadata": {},
   "outputs": [],
   "source": [
    "def compute_coherence_values(dictionary, corpus, texts, limit, start=2, step=1):\n",
    "    coherence_values=[]\n",
    "    model_list=[]\n",
    "    for num_topics in range (start, limit, step):\n",
    "        model=gensim.models.LdaMulticore(corpus=corpus, num_topics=num_topics, random_state=100, chunksize=200, \n",
    "                                      passes=10, per_word_topics=True, id2word=id2word)\n",
    "        model_list.append(model)\n",
    "        coherencemodel=CoherenceModel(model=model, texts=texts, dictionary=dictionary, coherence=\"c_v\")\n",
    "        coherence_values.append(coherencemodel.get_coherence())\n",
    "    return model_list, coherence_values\n",
    "        "
   ]
  },
  {
   "cell_type": "code",
   "execution_count": 38,
   "metadata": {},
   "outputs": [],
   "source": [
    "model_list, coherence_values=compute_coherence_values(dictionary=id2word, corpus=corpus, texts=data_lemmatized, \n",
    "                                                      start=2, limit=8,step=1)\n"
   ]
  },
  {
   "cell_type": "code",
   "execution_count": 44,
   "metadata": {},
   "outputs": [
    {
     "data": {
      "image/png": "[encoded data removed]",
      "text/plain": [
       "<Figure size 432x288 with 1 Axes>"
      ]
     },
     "metadata": {
      "needs_background": "light"
     },
     "output_type": "display_data"
    }
   ],
   "source": [
    "#show graph\n",
    "from matplotlib import pyplot as plt\n",
    "limit=10; start=4; step=1;\n",
    "x=range(start, limit, step)\n",
    "plt.plot(x, coherence_values)\n",
    "plt.xlabel(\"Num topics\")\n",
    "plt.ylabel(\"Coherence score\")\n",
    "plt.legend((\"coherence_values\"), loc=\"best\")\n",
    "#plt.show()\n",
    "plt.savefig('Charts\\Coherencenumbertopicsgensim_'+'.png')"
   ]
  },
  {
   "cell_type": "code",
   "execution_count": 45,
   "metadata": {},
   "outputs": [
    {
     "name": "stdout",
     "output_type": "stream",
     "text": [
      "Num topics= 4 has coherence value of 0.4337\n",
      "Num topics= 5 has coherence value of 0.3649\n",
      "Num topics= 6 has coherence value of 0.3532\n",
      "Num topics= 7 has coherence value of 0.3757\n",
      "Num topics= 8 has coherence value of 0.3664\n",
      "Num topics= 9 has coherence value of 0.405\n"
     ]
    }
   ],
   "source": [
    "#print the coherence score\n",
    "for m, cv in zip(x, coherence_values):\n",
    "    print(\"Num topics=\", m, \"has coherence value of\", round(cv,4))"
   ]
  },
  {
   "cell_type": "code",
   "execution_count": 13,
   "metadata": {},
   "outputs": [],
   "source": [
    "#final LDA model\n",
    "lda_model = gensim.models.LdaMulticore(corpus=corpus,\n",
    "                                           id2word=id2word,\n",
    "                                           num_topics=7, \n",
    "                                           random_state=100,\n",
    "                                           chunksize=100,\n",
    "                                           passes=10,\n",
    "                                           alpha=0.31,\n",
    "                                           eta=0.31)"
   ]
  },
  {
   "cell_type": "code",
   "execution_count": 19,
   "metadata": {},
   "outputs": [
    {
     "name": "stdout",
     "output_type": "stream",
     "text": [
      "\n",
      "Coherence Score:  0.4521730861917969\n"
     ]
    }
   ],
   "source": [
    "from gensim.models import CoherenceModel\n",
    "# Compute Coherence Score\n",
    "coherence_model_lda = CoherenceModel(model=lda_model, texts=data_lemmatized, dictionary=id2word, coherence='c_v')\n",
    "coherence_lda = coherence_model_lda.get_coherence()\n",
    "print('\\nCoherence Score: ', coherence_lda)"
   ]
  },
  {
   "cell_type": "code",
   "execution_count": 20,
   "metadata": {},
   "outputs": [
    {
     "name": "stdout",
     "output_type": "stream",
     "text": [
      "\n",
      "Perplexity:  -5.968836583187628\n"
     ]
    }
   ],
   "source": [
    "# Compute Perplexity\n",
    "print('\\nPerplexity: ', lda_model.log_perplexity(corpus))  # a measure of how good the model is. lower the better."
   ]
  },
  {
   "cell_type": "code",
   "execution_count": 21,
   "metadata": {},
   "outputs": [
    {
     "data": {
      "text/plain": [
       "391.0465672134156"
      ]
     },
     "execution_count": 21,
     "metadata": {},
     "output_type": "execute_result"
    }
   ],
   "source": [
    "#convert gensim log_perplexity to the perlexity value from scikitlearn, to make them comparable \n",
    "np.exp(-1.*lda_model.log_perplexity(corpus))\n"
   ]
  },
  {
   "cell_type": "code",
   "execution_count": 25,
   "metadata": {},
   "outputs": [
    {
     "name": "stderr",
     "output_type": "stream",
     "text": [
      "C:\\Users\\daian\\anaconda3\\lib\\site-packages\\sklearn\\decomposition\\online_lda.py:31: DeprecationWarning: `np.float` is a deprecated alias for the builtin `float`. To silence this warning, use `float` by itself. Doing this will not modify any behavior and is safe. If you specifically wanted the numpy scalar type, use `np.float64` here.\n",
      "Deprecated in NumPy 1.20; for more details and guidance: https://numpy.org/devdocs/release/1.20.0-notes.html#deprecations\n",
      "  EPS = np.finfo(np.float).eps\n"
     ]
    }
   ],
   "source": [
    "import pyLDAvis\n",
    "import pyLDAvis.gensim_models as gensimvis\n",
    "pyLDAvis.enable_notebook()"
   ]
  },
  {
   "cell_type": "code",
   "execution_count": 26,
   "metadata": {},
   "outputs": [
    {
     "name": "stderr",
     "output_type": "stream",
     "text": [
      "C:\\Users\\daian\\AppData\\Roaming\\Python\\Python37\\site-packages\\pyLDAvis\\_prepare.py:247: FutureWarning: In a future version of pandas all arguments of DataFrame.drop except for the argument 'labels' will be keyword-only\n",
      "  by='saliency', ascending=False).head(R).drop('saliency', 1)\n"
     ]
    }
   ],
   "source": [
    "lda_viz = gensimvis.prepare(lda_model, corpus, id2word)"
   ]
  },
  {
   "cell_type": "code",
   "execution_count": 27,
   "metadata": {},
   "outputs": [
    {
     "data": {
      "text/html": [
       "\n",
       "<link rel=\"stylesheet\" type=\"text/css\" href=\"https://cdn.jsdelivr.net/gh/bmabey/pyLDAvis@3.3.1/pyLDAvis/js/ldavis.v1.0.0.css\">\n",
       "\n",
       "\n",
       "<div id=\"ldavis_el1944816679802686168922929891\"></div>\n",
       "<script type=\"text/javascript\">\n",
       "\n",
       "var ldavis_el1944816679802686168922929891_data = {\"mdsDat\": {\"x\": [-0.10957481354929102, 0.055089154643658086, -0.07586464987661082, -0.03348269832886691, 0.03011123892754982, 0.17426068348020748, -0.04053891529664682], \"y\": [0.008991052574535792, -0.11226053742377459, -0.0142005096948559, 0.002638732049499927, -0.09130670201096307, 0.08047749479043714, 0.1256604697151207], \"topics\": [1, 2, 3, 4, 5, 6, 7], \"cluster\": [1, 1, 1, 1, 1, 1, 1], \"Freq\": [17.269450908351278, 15.711294407999949, 14.885127523500755, 14.780772862288469, 14.317466140365056, 12.787806020336212, 10.248082137158281]}, \"tinfo\": {\"Term\": [\"social\", \"finance\", \"energy\", \"credit\", \"health\", \"online\", \"farmer\", \"loan\", \"power\", \"payment\", \"food\", \"student\", \"insurance\", \"india\", \"development\", \"application\", \"healthcare\", \"solar\", \"urban\", \"impact\", \"lending\", \"school\", \"security\", \"medical\", \"rural\", \"datum\", \"care\", \"mobile\", \"learn\", \"learning\", \"food\", \"farmer\", \"farm\", \"produce\", \"decision\", \"startup\", \"saas\", \"web\", \"deep\", \"supply\", \"automation\", \"insight\", \"disease\", \"home\", \"intelligent\", \"care\", \"quality\", \"processing\", \"clinical\", \"safety\", \"challenge\", \"critical\", \"issue\", \"full\", \"drive\", \"ai\", \"research\", \"talent\", \"human\", \"understand\", \"patient\", \"develop\", \"datum\", \"value\", \"system\", \"improve\", \"organization\", \"use\", \"team\", \"work\", \"global\", \"information\", \"mission\", \"health\", \"deliver\", \"well\", \"provider\", \"partner\", \"create\", \"payment\", \"app\", \"online\", \"video\", \"mobile\", \"commerce\", \"job\", \"consumer\", \"economy\", \"fund\", \"digital\", \"money\", \"marketplace\", \"want\", \"easy\", \"brand\", \"indian\", \"pay\", \"medium\", \"bring\", \"website\", \"tool\", \"phone\", \"local\", \"find\", \"transaction\", \"connect\", \"accessible\", \"venture\", \"run\", \"user\", \"experience\", \"available\", \"large\", \"give\", \"africa\", \"skill\", \"value\", \"need\", \"access\", \"create\", \"design\", \"global\", \"share\", \"india\", \"allow\", \"insurance\", \"sale\", \"medical\", \"health\", \"healthcare\", \"young\", \"serve\", \"solve\", \"public\", \"plan\", \"call\", \"life\", \"logistic\", \"analytic\", \"patient\", \"outcome\", \"good\", \"private\", \"tech\", \"safe\", \"hard\", \"problem\", \"know\", \"marketing\", \"aim\", \"expert\", \"future\", \"big\", \"space\", \"place\", \"management\", \"datum\", \"small\", \"community\", \"provider\", \"work\", \"industry\", \"team\", \"well\", \"organization\", \"way\", \"connect\", \"experience\", \"mission\", \"improve\", \"care\", \"support\", \"energy\", \"solar\", \"clean\", \"industrial\", \"manufacture\", \"advanced\", \"end\", \"power\", \"distribute\", \"manufacturing\", \"proprietary\", \"high\", \"client\", \"african\", \"continue\", \"real\", \"long\", \"smart\", \"recognize\", \"performance\", \"cloud\", \"demand\", \"expertise\", \"system\", \"leader\", \"africa\", \"operation\", \"financing\", \"key\", \"network\", \"industry\", \"include\", \"reliable\", \"deliver\", \"software\", \"global\", \"focus\", \"design\", \"innovative\", \"develop\", \"market\", \"use\", \"manage\", \"access\", \"create\", \"school\", \"student\", \"activity\", \"learning\", \"learn\", \"employee\", \"specialist\", \"project\", \"development\", \"corporate\", \"comprehensive\", \"take\", \"ensure\", \"production\", \"education\", \"career\", \"highly\", \"skill\", \"agricultural\", \"training\", \"look\", \"resource\", \"core\", \"line\", \"group\", \"distribution\", \"bridge\", \"increase\", \"engagement\", \"engage\", \"time\", \"benefit\", \"opportunity\", \"work\", \"create\", \"operate\", \"access\", \"client\", \"community\", \"mission\", \"support\", \"africa\", \"experience\", \"team\", \"market\", \"lending\", \"microfinance\", \"urban\", \"credit\", \"loan\", \"finance\", \"woman\", \"low_income\", \"segment\", \"institution\", \"household\", \"income\", \"rural\", \"sme\", \"micro\", \"rate\", \"india\", \"banking\", \"target\", \"financing\", \"bank\", \"strong\", \"limited\", \"many\", \"self\", \"economic\", \"personal\", \"retail\", \"non\", \"asset\", \"small\", \"access\", \"traditional\", \"market\", \"individual\", \"focus\", \"education\", \"new\", \"aim\", \"first\", \"family\", \"well\", \"social\", \"member\", \"communication\", \"identify\", \"application\", \"prove\", \"independent\", \"impact\", \"security\", \"meet\", \"optimize\", \"program\", \"delivery\", \"fintech\", \"engagement\", \"positive\", \"analysis\", \"accelerate\", \"developer\", \"complete\", \"organisation\", \"deploy\", \"ecosystem\", \"various\", \"empower\", \"real_time\", \"establish\", \"risk\", \"content\", \"enterprise\", \"change\", \"support\", \"software\", \"network\", \"community\", \"first\", \"provider\", \"improve\", \"need\", \"deliver\", \"include\", \"datum\", \"infrastructure\", \"time\", \"share\"], \"Freq\": [110.0, 85.0, 76.0, 71.0, 113.0, 95.0, 76.0, 61.0, 87.0, 57.0, 60.0, 54.0, 55.0, 98.0, 79.0, 57.0, 88.0, 42.0, 40.0, 61.0, 38.0, 41.0, 54.0, 43.0, 47.0, 141.0, 91.0, 65.0, 43.0, 38.0, 56.93170786180582, 71.44220146723032, 21.980048176566683, 32.75226604459428, 21.764924582608103, 23.655797003184627, 11.73480800979923, 16.35699591493309, 14.18849926669914, 14.13714544915724, 11.570371176038535, 21.536834161717625, 15.418292664743069, 38.18428915946334, 13.802701372915935, 54.4620168265969, 32.3352688230572, 9.80866373241439, 13.747372805408698, 12.797511941370914, 17.360498507223276, 9.052304086467302, 7.683359047205531, 12.388843338686643, 40.96813301037515, 14.762587293008766, 16.62982596786625, 18.001876542982313, 15.814815064997795, 11.295217220092137, 24.52533264546591, 39.62291829617809, 50.84227573953968, 24.12200530050747, 32.261870919833704, 29.99549320431268, 29.169637820630253, 33.84422931880244, 29.32689299025195, 35.28084288656405, 25.20611265477207, 22.653680114549726, 28.34748244566896, 25.84651169989672, 24.191818370378588, 21.473605283760115, 20.01878560953186, 18.054852413634126, 18.94124685051635, 54.365693230231855, 35.00147752074107, 80.04186393346934, 20.32492574019639, 47.060351023551334, 20.65147708045534, 19.318386010532997, 51.88474655172679, 13.26240737121807, 16.068920861343905, 60.04519226598818, 20.308033761033993, 14.611166854223653, 13.591402569149842, 28.40546527647117, 24.544702803051262, 13.034897210670719, 12.045089010380572, 20.369489304763615, 22.466546219039774, 10.03952667825018, 25.680547598846246, 9.632687136697124, 16.278806649473626, 14.723693456689931, 8.67144227336102, 26.88798792844701, 15.771323613307809, 10.248152880960323, 10.030859115150632, 21.058973702097294, 37.269416734946574, 11.647342715041132, 22.42813868719909, 14.876316134016033, 22.454710045478322, 16.466027540517075, 20.22995692894272, 23.35914913448464, 29.0716178731732, 26.077908596392696, 20.20295988754942, 19.00485184160325, 16.453807160657796, 17.559756995398317, 16.429306368705205, 50.43264903137926, 17.934126232541047, 37.684466572909635, 80.65731069900261, 54.97541175168514, 18.90196288467708, 25.40525246125769, 18.911089848560557, 17.018692582307942, 10.982077719427688, 11.419298171594717, 43.258218413555035, 10.683787526809875, 19.86380796319643, 29.704916957718588, 14.536720956234452, 36.16173409413111, 13.308976789756503, 27.57531273356753, 11.064323804348211, 7.837650455425483, 20.1679739102654, 8.187952243212722, 12.002767206832763, 27.90812324211082, 13.586769058275255, 11.025409598830517, 8.559124748038062, 13.76430225933481, 7.411143276069787, 31.800515847590887, 48.81663248756553, 31.128727459939945, 31.716410451423762, 27.881699926775376, 36.42475528264628, 26.291422124300837, 26.990980225086485, 27.18062997223971, 24.746506138924946, 18.8875371939707, 17.932560605607037, 20.27174374617966, 19.208401782869537, 18.253795402195685, 18.101168492223096, 18.004318851449128, 72.98833938824734, 40.386354121379135, 21.126522067329898, 11.631041237644322, 27.458409593499287, 25.794208232098217, 29.657895519141693, 65.47440584776025, 13.34609631668226, 10.801598044651652, 14.026219095251966, 37.174227781145625, 24.120420199429525, 15.23389836523095, 10.626223366082003, 11.127829305191003, 8.330280289033826, 17.858553572332465, 7.683211297393124, 14.484242441322003, 18.980832811322323, 14.807261715172716, 11.676818209057206, 41.95066146454359, 25.728758869067388, 29.67663142359211, 13.407423903955992, 9.820927576852126, 12.442821584399375, 41.174071266068474, 33.69147102539504, 28.89469749790226, 14.981218313941529, 30.026606535858246, 23.646744579352163, 22.605017612669506, 23.890399646304484, 21.585565075414582, 20.276288243108052, 23.566728322726377, 22.302248846966695, 17.859806329289032, 15.179709438909715, 16.12951998472917, 15.646572936323256, 38.18950946703591, 48.98247162511627, 21.222496296053656, 32.44898834135158, 35.0252513535937, 33.39655813774618, 12.63587298529582, 27.19500270035238, 54.57539866962548, 17.48258287203216, 13.310807610839129, 16.14144875243288, 17.62306312259952, 17.24909167345969, 32.39632092934355, 14.55675147554549, 9.315309531105935, 21.30046992706656, 11.803410578034907, 9.370332305373358, 8.67169087911618, 10.336099463480647, 10.174887449580272, 11.153218197509533, 20.15457425191312, 11.465647850317712, 7.820596442360758, 16.93481990456013, 16.657336745679995, 14.142872152853522, 21.984716588704657, 16.736846136544465, 15.933525369264876, 37.85791663462912, 31.959972166854392, 18.598344233414206, 33.85859109122441, 16.699140447131803, 23.708676648505055, 23.14692076031293, 21.29824983899098, 17.971489633586554, 19.26983732457512, 17.909641481015086, 16.878074373775277, 35.80504755654289, 26.087691947236234, 37.513835397260365, 65.60321176344712, 56.89968491524759, 77.98474538062958, 23.25840758776121, 14.794594466044167, 17.90216842044871, 31.558141341986715, 13.06980042059614, 18.751523366881063, 32.41213015442754, 16.777690117287413, 25.30605221071519, 11.37140946137734, 55.6964646489355, 18.446075550349008, 9.107510058608728, 12.43131125259664, 32.4490482786315, 7.982632866291408, 7.950652439034353, 11.020445638120243, 7.7184625260537185, 12.847518772107922, 9.371100277200803, 10.65302252890861, 11.43005238607422, 10.470655559464566, 31.040026082860543, 38.24098634203231, 11.381564699556556, 23.820802208389303, 15.613345996782563, 19.989636217807515, 14.828391660169958, 16.33380200017417, 14.259716090025016, 14.34772400840362, 12.75112085553454, 13.088315451555202, 87.02701303386958, 16.84582261991564, 12.511508477978593, 13.008588227692046, 38.24897638756724, 12.438026195036377, 13.669518688184159, 37.73678468442074, 30.948323763571423, 14.338786139852235, 9.15159993647885, 21.438933770088756, 14.372404647395266, 9.749268225756412, 19.72001848267677, 8.141625072237016, 11.196070813560507, 9.411556007194376, 12.961656164641713, 6.314639311847759, 11.15630599988408, 7.160767737039971, 7.984956561883897, 6.415254193740946, 11.500583865980248, 12.38513079824652, 8.628264004222418, 12.026353971834512, 11.759265537532242, 21.470723977602763, 20.997874898912595, 29.35961647293051, 23.565326442785544, 23.117590859120213, 20.629979354910347, 16.18008788816346, 17.824339047598887, 18.1419549168933, 17.463443443583152, 15.60461621493141, 13.536961240441212, 15.022289840500202, 12.088860758963865, 12.48816632659558, 12.166261641345233], \"Total\": [110.0, 85.0, 76.0, 71.0, 113.0, 95.0, 76.0, 61.0, 87.0, 57.0, 60.0, 54.0, 55.0, 98.0, 79.0, 57.0, 88.0, 42.0, 40.0, 61.0, 38.0, 41.0, 54.0, 43.0, 47.0, 141.0, 91.0, 65.0, 43.0, 38.0, 60.06153486279623, 76.64753200545859, 24.83983944282239, 39.74058993514162, 29.786085698049906, 34.13444033675799, 17.298476110824176, 24.11548209997589, 21.141139336516094, 21.799678623291957, 17.949448083484416, 33.87505977428522, 25.0209108319854, 63.0216370978491, 23.141617323991383, 91.48640958778418, 55.26612235610582, 17.200780884962214, 24.727885256066614, 23.47960546458106, 32.826651388923715, 17.810454395500024, 15.21122223250885, 25.06356235919948, 83.33378690558067, 30.08205610996025, 34.7018885805403, 38.44095859148249, 34.3993181627827, 25.104438502910362, 58.243839153407386, 98.46632199711516, 141.44113554458494, 63.88812371149846, 101.155096941636, 91.86586738421805, 89.32684268944521, 114.21524704641095, 90.90071455612573, 134.79795685955662, 74.23666288472151, 63.068195935859734, 99.48793907031326, 113.62567992809178, 101.37155965391713, 94.43281693324131, 86.14249638789323, 47.30744386926398, 110.8583999543932, 57.057951032078506, 40.937772221155186, 95.21827700973842, 24.80447401105353, 65.88167933634156, 30.194478695984394, 29.558438068240125, 85.33470478373417, 22.203877025014975, 27.179112793703442, 101.64986296648551, 35.86956286852528, 25.936120406264592, 24.57634003999613, 52.03360797892975, 45.35696559354976, 24.56748316629155, 23.72738259160326, 40.129437476639616, 44.66457524592783, 19.96174167535728, 51.06838659396584, 20.24177797377782, 34.54385037212577, 31.260417567439706, 18.50330102513287, 58.85410442006203, 34.73087360974474, 22.701789749959246, 22.663324691305675, 49.10554924985102, 104.64677773933155, 26.589756163100166, 61.097509322161734, 37.72734402532537, 71.81164868699865, 44.623444235346966, 63.88812371149846, 87.82321717974571, 137.31231471736126, 110.8583999543932, 77.36988935088334, 74.23666288472151, 45.64784833901089, 98.31048998171819, 46.963038725110955, 55.51060062952855, 20.455936234828645, 43.0252737677295, 113.62567992809178, 88.061148507646, 30.750132876233064, 41.38106570636427, 32.09030925665142, 28.980907523039996, 19.621544645908077, 20.848881970580386, 82.13773847075142, 20.65810104697619, 38.90754830313875, 58.243839153407386, 28.632718513613323, 73.04476356318908, 26.97428177437166, 56.015760932376544, 22.76661118110243, 16.51178687889673, 43.498281753808094, 18.078931270184167, 27.38415871325993, 64.31552164071329, 32.72164183598857, 27.043551703053453, 21.253256665662143, 36.0780630780154, 19.524645070620707, 87.05594400034794, 141.44113554458494, 88.64938541729711, 97.82346535752352, 86.14249638789323, 134.79795685955662, 86.41032874745744, 90.90071455612573, 94.43281693324131, 89.32684268944521, 59.81367886322963, 58.85410442006203, 104.64677773933155, 99.48793907031326, 91.86586738421805, 91.48640958778418, 90.7456607088379, 76.03037382668835, 42.24452331004629, 23.33449673771092, 13.489454754772883, 32.03398909623908, 30.33891129314746, 37.52620896274692, 87.23148212192744, 18.839935699798506, 17.239586900434382, 24.946513282591116, 72.8038180892473, 47.634696935170574, 30.62942033781602, 22.25326507228283, 23.416066111504858, 17.54327589903403, 38.97114052392525, 16.778298688549178, 32.045875013004306, 42.417865299036094, 33.42084389086723, 26.813200065081414, 101.155096941636, 62.0800243699306, 71.81164868699865, 32.51695887541165, 24.0687859036241, 30.74961573651398, 102.71994628053403, 86.41032874745744, 75.5517717742904, 37.86888308145351, 101.37155965391713, 79.00509382644555, 74.23666288472151, 89.20962579716458, 77.36988935088334, 70.72010351793163, 98.46632199711516, 92.16941954125701, 114.21524704641095, 52.60589199904318, 137.31231471736126, 110.8583999543932, 41.04381012174491, 54.72461028955292, 23.81838241153491, 38.32462916204153, 43.18751372790566, 45.01419054545509, 18.194773488311707, 39.49293505307333, 79.30193163379734, 26.611601146729534, 21.2387674964905, 25.86815080877823, 28.661725754628467, 29.26497341781236, 57.65525054829317, 26.74922469472648, 18.493052319963855, 44.623444235346966, 24.753725376040943, 19.87364596509809, 19.00883892971769, 22.753512799191864, 22.87207339275925, 25.078475870692902, 47.04981125939024, 27.22681956966636, 18.667544531315215, 40.70636962138895, 40.665673012109686, 35.43795071440601, 56.640746178726936, 42.87297980118382, 40.83037962005169, 134.79795685955662, 110.8583999543932, 52.33591923973, 137.31231471736126, 47.634696935170574, 97.82346535752352, 99.48793907031326, 90.7456607088379, 71.81164868699865, 104.64677773933155, 90.90071455612573, 92.16941954125701, 38.30446303703644, 28.163386329046382, 40.652172335774324, 71.12098555962538, 61.97337187826496, 85.66361806177669, 26.205487382866473, 17.460048471393232, 21.17296179508311, 40.02729207837329, 18.19910033265032, 26.998379316414766, 47.84707085223921, 25.89701559275932, 42.97244534335422, 19.434638808251332, 98.31048998171819, 33.57812962608296, 17.61576098398273, 24.0687859036241, 68.71719079843677, 16.948867414591216, 17.32813733437774, 24.53119482672885, 17.188584668371327, 29.51410498202539, 22.737113617917426, 26.961175225794385, 29.118015781078167, 26.844788166807273, 88.64938541729711, 137.31231471736126, 29.633461207938087, 92.16941954125701, 50.86250009182707, 89.20962579716458, 57.65525054829317, 75.69142699927887, 64.31552164071329, 69.96574112026859, 60.796181118973045, 94.43281693324131, 110.00952354670278, 22.362805425497683, 17.003213900679334, 19.126752871875706, 57.19642301414618, 19.013858794793993, 22.00737621489312, 61.09199804299317, 54.74313771792353, 25.83717089875317, 16.813200869750634, 41.50668141816719, 28.47382670147848, 19.749370213732156, 40.665673012109686, 17.19098881734923, 24.133957000981, 20.68517932303555, 29.05795807446064, 14.312196681645984, 25.623349412707032, 16.462363423838827, 21.29656279754572, 17.113817378335256, 30.870316392268883, 34.585230985315604, 24.15240727210403, 33.9683058970328, 33.456354074364484, 61.40445640272655, 62.40057038189717, 90.7456607088379, 79.00509382644555, 102.71994628053403, 97.82346535752352, 69.96574112026859, 86.14249638789323, 91.86586738421805, 87.82321717974571, 101.37155965391713, 75.5517717742904, 141.44113554458494, 40.795119007785416, 56.640746178726936, 45.64784833901089], \"Category\": [\"Default\", \"Default\", \"Default\", \"Default\", \"Default\", \"Default\", \"Default\", \"Default\", \"Default\", \"Default\", \"Default\", \"Default\", \"Default\", \"Default\", \"Default\", \"Default\", \"Default\", \"Default\", \"Default\", \"Default\", \"Default\", \"Default\", \"Default\", \"Default\", \"Default\", \"Default\", \"Default\", \"Default\", \"Default\", \"Default\", \"Topic1\", \"Topic1\", \"Topic1\", \"Topic1\", \"Topic1\", \"Topic1\", \"Topic1\", \"Topic1\", \"Topic1\", \"Topic1\", \"Topic1\", \"Topic1\", \"Topic1\", \"Topic1\", \"Topic1\", \"Topic1\", \"Topic1\", \"Topic1\", \"Topic1\", \"Topic1\", \"Topic1\", \"Topic1\", \"Topic1\", \"Topic1\", \"Topic1\", \"Topic1\", \"Topic1\", \"Topic1\", \"Topic1\", \"Topic1\", \"Topic1\", \"Topic1\", \"Topic1\", \"Topic1\", \"Topic1\", \"Topic1\", \"Topic1\", \"Topic1\", \"Topic1\", \"Topic1\", \"Topic1\", \"Topic1\", \"Topic1\", \"Topic1\", \"Topic1\", \"Topic1\", \"Topic1\", \"Topic1\", \"Topic1\", \"Topic2\", \"Topic2\", \"Topic2\", \"Topic2\", \"Topic2\", \"Topic2\", \"Topic2\", \"Topic2\", \"Topic2\", \"Topic2\", \"Topic2\", \"Topic2\", \"Topic2\", \"Topic2\", \"Topic2\", \"Topic2\", \"Topic2\", \"Topic2\", \"Topic2\", \"Topic2\", \"Topic2\", \"Topic2\", \"Topic2\", \"Topic2\", \"Topic2\", \"Topic2\", \"Topic2\", \"Topic2\", \"Topic2\", \"Topic2\", \"Topic2\", \"Topic2\", \"Topic2\", \"Topic2\", \"Topic2\", \"Topic2\", \"Topic2\", \"Topic2\", \"Topic2\", \"Topic2\", \"Topic2\", \"Topic2\", \"Topic2\", \"Topic2\", \"Topic2\", \"Topic2\", \"Topic3\", \"Topic3\", \"Topic3\", \"Topic3\", \"Topic3\", \"Topic3\", \"Topic3\", \"Topic3\", \"Topic3\", \"Topic3\", \"Topic3\", \"Topic3\", \"Topic3\", \"Topic3\", \"Topic3\", \"Topic3\", \"Topic3\", \"Topic3\", \"Topic3\", \"Topic3\", \"Topic3\", \"Topic3\", \"Topic3\", \"Topic3\", \"Topic3\", \"Topic3\", \"Topic3\", \"Topic3\", \"Topic3\", \"Topic3\", \"Topic3\", \"Topic3\", \"Topic3\", \"Topic3\", \"Topic3\", \"Topic3\", \"Topic3\", \"Topic3\", \"Topic3\", \"Topic3\", \"Topic3\", \"Topic3\", \"Topic3\", \"Topic3\", \"Topic3\", \"Topic3\", \"Topic3\", \"Topic4\", \"Topic4\", \"Topic4\", \"Topic4\", \"Topic4\", \"Topic4\", \"Topic4\", \"Topic4\", \"Topic4\", \"Topic4\", \"Topic4\", \"Topic4\", \"Topic4\", \"Topic4\", \"Topic4\", \"Topic4\", \"Topic4\", \"Topic4\", \"Topic4\", \"Topic4\", \"Topic4\", \"Topic4\", \"Topic4\", \"Topic4\", \"Topic4\", \"Topic4\", \"Topic4\", \"Topic4\", \"Topic4\", \"Topic4\", \"Topic4\", \"Topic4\", \"Topic4\", \"Topic4\", \"Topic4\", \"Topic4\", \"Topic4\", \"Topic4\", \"Topic4\", \"Topic4\", \"Topic4\", \"Topic4\", \"Topic4\", \"Topic4\", \"Topic4\", \"Topic5\", \"Topic5\", \"Topic5\", \"Topic5\", \"Topic5\", \"Topic5\", \"Topic5\", \"Topic5\", \"Topic5\", \"Topic5\", \"Topic5\", \"Topic5\", \"Topic5\", \"Topic5\", \"Topic5\", \"Topic5\", \"Topic5\", \"Topic5\", \"Topic5\", \"Topic5\", \"Topic5\", \"Topic5\", \"Topic5\", \"Topic5\", \"Topic5\", \"Topic5\", \"Topic5\", \"Topic5\", \"Topic5\", \"Topic5\", \"Topic5\", \"Topic5\", \"Topic5\", \"Topic5\", \"Topic5\", \"Topic5\", \"Topic5\", \"Topic5\", \"Topic5\", \"Topic5\", \"Topic5\", \"Topic5\", \"Topic5\", \"Topic5\", \"Topic5\", \"Topic6\", \"Topic6\", \"Topic6\", \"Topic6\", \"Topic6\", \"Topic6\", \"Topic6\", \"Topic6\", \"Topic6\", \"Topic6\", \"Topic6\", \"Topic6\", \"Topic6\", \"Topic6\", \"Topic6\", \"Topic6\", \"Topic6\", \"Topic6\", \"Topic6\", \"Topic6\", \"Topic6\", \"Topic6\", \"Topic6\", \"Topic6\", \"Topic6\", \"Topic6\", \"Topic6\", \"Topic6\", \"Topic6\", \"Topic6\", \"Topic6\", \"Topic6\", \"Topic6\", \"Topic6\", \"Topic6\", \"Topic6\", \"Topic6\", \"Topic6\", \"Topic6\", \"Topic6\", \"Topic6\", \"Topic6\", \"Topic7\", \"Topic7\", \"Topic7\", \"Topic7\", \"Topic7\", \"Topic7\", \"Topic7\", \"Topic7\", \"Topic7\", \"Topic7\", \"Topic7\", \"Topic7\", \"Topic7\", \"Topic7\", \"Topic7\", \"Topic7\", \"Topic7\", \"Topic7\", \"Topic7\", \"Topic7\", \"Topic7\", \"Topic7\", \"Topic7\", \"Topic7\", \"Topic7\", \"Topic7\", \"Topic7\", \"Topic7\", \"Topic7\", \"Topic7\", \"Topic7\", \"Topic7\", \"Topic7\", \"Topic7\", \"Topic7\", \"Topic7\", \"Topic7\", \"Topic7\", \"Topic7\", \"Topic7\", \"Topic7\", \"Topic7\", \"Topic7\", \"Topic7\", \"Topic7\"], \"logprob\": [30.0, 29.0, 28.0, 27.0, 26.0, 25.0, 24.0, 23.0, 22.0, 21.0, 20.0, 19.0, 18.0, 17.0, 16.0, 15.0, 14.0, 13.0, 12.0, 11.0, 10.0, 9.0, 8.0, 7.0, 6.0, 5.0, 4.0, 3.0, 2.0, 1.0, -3.8123, -3.5853, -4.764, -4.3652, -4.7739, -4.6906, -5.3916, -5.0595, -5.2017, -5.2054, -5.4057, -4.7844, -5.1186, -4.2117, -5.2293, -3.8567, -4.378, -5.5709, -5.2333, -5.3049, -5.0, -5.6511, -5.8151, -5.3374, -4.1414, -5.1621, -5.043, -4.9637, -5.0932, -5.4298, -4.6545, -4.1748, -3.9254, -4.671, -4.3803, -4.4531, -4.481, -4.3324, -4.4757, -4.2908, -4.6271, -4.7338, -4.5096, -4.602, -4.6681, -4.7873, -4.8575, -4.9607, -4.9128, -3.7639, -4.2042, -3.3771, -4.7478, -3.9082, -4.7318, -4.7985, -3.8106, -5.1747, -4.9827, -3.6645, -4.7486, -5.0778, -5.1502, -4.413, -4.5591, -5.192, -5.2709, -4.7456, -4.6476, -5.4531, -4.5139, -5.4944, -4.9697, -5.0701, -5.5996, -4.4679, -5.0014, -5.4325, -5.4539, -4.7123, -4.1414, -5.3045, -4.6493, -5.0598, -4.6481, -4.9583, -4.7524, -4.6086, -4.3898, -4.4985, -4.7538, -4.8149, -4.959, -4.894, -4.9605, -3.7849, -4.8189, -4.0763, -3.3154, -3.6987, -4.7663, -4.4706, -4.7658, -4.8713, -5.3093, -5.2703, -3.9384, -5.3369, -4.7167, -4.3143, -5.0289, -4.1176, -5.1171, -4.3887, -5.3019, -5.6466, -4.7015, -5.6029, -5.2204, -4.3767, -5.0965, -5.3054, -5.5586, -5.0835, -5.7026, -4.2461, -3.8175, -4.2675, -4.2487, -4.3776, -4.1103, -4.4363, -4.4101, -4.4031, -4.4969, -4.7671, -4.819, -4.6964, -4.7502, -4.8012, -4.8096, -4.815, -3.4082, -4.0001, -4.648, -5.2449, -4.3859, -4.4484, -4.3088, -3.5169, -5.1073, -5.3189, -5.0576, -4.0829, -4.5155, -4.975, -5.3352, -5.2891, -5.5787, -4.8161, -5.6595, -5.0255, -4.7551, -5.0034, -5.2409, -3.9621, -4.4509, -4.3082, -5.1027, -5.414, -5.1774, -3.9807, -4.1813, -4.3349, -4.9918, -4.2965, -4.5353, -4.5804, -4.5251, -4.6265, -4.6891, -4.5387, -4.5939, -4.816, -4.9786, -4.9179, -4.9483, -4.0241, -3.7752, -4.6116, -4.187, -4.1106, -4.1582, -5.1302, -4.3637, -3.6671, -4.8055, -5.0781, -4.8853, -4.7975, -4.8189, -4.1887, -4.9886, -5.435, -4.608, -5.1983, -5.4292, -5.5066, -5.3311, -5.3468, -5.255, -4.6633, -5.2273, -5.6099, -4.8373, -4.8539, -5.0175, -4.5764, -4.8491, -4.8983, -4.0329, -4.2022, -4.7436, -4.1445, -4.8513, -4.5009, -4.5248, -4.6081, -4.7779, -4.7082, -4.7814, -4.8407, -3.9756, -4.2922, -3.929, -3.3701, -3.5124, -3.1972, -4.407, -4.8595, -4.6688, -4.1019, -4.9834, -4.6224, -4.0752, -4.7337, -4.3227, -5.1226, -3.5338, -4.6389, -5.3446, -5.0335, -4.074, -5.4764, -5.4805, -5.154, -5.5101, -5.0006, -5.3161, -5.1879, -5.1175, -5.2051, -4.1184, -3.9098, -5.1217, -4.3832, -4.8056, -4.5585, -4.8572, -4.7605, -4.8963, -4.8901, -5.0081, -4.982, -2.8661, -4.5082, -4.8057, -4.7667, -3.6882, -4.8116, -4.7171, -3.7017, -3.9, -4.6693, -5.1184, -4.2671, -4.667, -5.0551, -4.3507, -5.2353, -4.9167, -5.0904, -4.7703, -5.4894, -4.9203, -5.3637, -5.2548, -5.4736, -4.8899, -4.8158, -5.1773, -4.8452, -4.8677, -4.2656, -4.2879, -3.9527, -4.1725, -4.1917, -4.3056, -4.5485, -4.4517, -4.4341, -4.4722, -4.5847, -4.7269, -4.6228, -4.84, -4.8075, -4.8336], \"loglift\": [30.0, 29.0, 28.0, 27.0, 26.0, 25.0, 24.0, 23.0, 22.0, 21.0, 20.0, 19.0, 18.0, 17.0, 16.0, 15.0, 14.0, 13.0, 12.0, 11.0, 10.0, 9.0, 8.0, 7.0, 6.0, 5.0, 4.0, 3.0, 2.0, 1.0, 1.7027, 1.6859, 1.6339, 1.5628, 1.4425, 1.3895, 1.3682, 1.368, 1.3574, 1.3231, 1.3171, 1.3033, 1.2721, 1.2552, 1.2395, 1.2375, 1.2202, 1.1945, 1.1691, 1.1493, 1.1192, 1.0795, 1.0733, 1.0516, 1.0462, 1.0444, 1.0206, 0.9976, 0.9791, 0.9576, 0.8913, 0.8459, 0.7331, 0.7822, 0.6135, 0.6369, 0.6371, 0.5399, 0.625, 0.4158, 0.6761, 0.7323, 0.5007, 0.2755, 0.3235, 0.2752, 0.2969, 0.793, -0.0107, 1.8025, 1.6941, 1.6772, 1.6516, 1.5144, 1.4709, 1.4255, 1.3532, 1.3355, 1.3252, 1.3244, 1.2819, 1.2769, 1.2584, 1.2455, 1.2367, 1.217, 1.1728, 1.1727, 1.1636, 1.1635, 1.1634, 1.1082, 1.0984, 1.0979, 1.0929, 1.0674, 1.0614, 1.0554, 1.0357, 1.0041, 0.8184, 1.0253, 0.8486, 0.9202, 0.6882, 0.8538, 0.7008, 0.5265, 0.2983, 0.4036, 0.508, 0.4882, 0.8304, 0.1283, 0.8005, 1.8089, 1.7732, 1.7723, 1.5621, 1.4337, 1.4182, 1.4169, 1.376, 1.3725, 1.3244, 1.3028, 1.2636, 1.2454, 1.2325, 1.2315, 1.2269, 1.2017, 1.1984, 1.1961, 1.1832, 1.1597, 1.1362, 1.1127, 1.08, 1.0699, 1.0259, 1.0076, 0.9953, 0.9412, 0.9361, 0.8977, 0.841, 0.8582, 0.7785, 0.7768, 0.5963, 0.7149, 0.6905, 0.6594, 0.6212, 0.7521, 0.7164, 0.2634, 0.2601, 0.2889, 0.2846, 0.2874, 1.871, 1.8669, 1.8124, 1.7636, 1.7577, 1.7496, 1.6765, 1.6249, 1.5671, 1.4443, 1.336, 1.2397, 1.2313, 1.2134, 1.1727, 1.1679, 1.1671, 1.1315, 1.1308, 1.1177, 1.1077, 1.0978, 1.0806, 1.0317, 1.031, 1.0282, 1.0259, 1.0154, 1.0071, 0.9976, 0.97, 0.9507, 0.9845, 0.6951, 0.7056, 0.7228, 0.5943, 0.6353, 0.6626, 0.482, 0.4929, 0.0563, 0.669, -0.2298, -0.0462, 1.8716, 1.8328, 1.8283, 1.7773, 1.7342, 1.6452, 1.5791, 1.5706, 1.57, 1.5235, 1.4764, 1.4721, 1.4573, 1.4151, 1.3673, 1.3352, 1.258, 1.2042, 1.2031, 1.1918, 1.1588, 1.1546, 1.1337, 1.1334, 1.0959, 1.0788, 1.0737, 1.0667, 1.0512, 1.0251, 0.9973, 1.0031, 1.0027, 0.6738, 0.6999, 0.9091, 0.5436, 0.8955, 0.5264, 0.4855, 0.4943, 0.5584, 0.2516, 0.3193, 0.2461, 1.9892, 1.9801, 1.9763, 1.9759, 1.9713, 1.9628, 1.9374, 1.891, 1.8889, 1.8189, 1.7256, 1.6922, 1.6672, 1.6226, 1.5272, 1.5207, 1.4885, 1.4577, 1.397, 1.396, 1.3063, 1.3037, 1.2776, 1.2565, 1.256, 1.225, 1.1703, 1.1281, 1.1216, 1.1152, 1.0073, 0.7783, 1.0998, 0.7036, 0.8757, 0.5609, 0.6987, 0.5232, 0.5503, 0.4723, 0.4948, 0.0805, 2.0437, 1.9948, 1.9713, 1.8926, 1.8757, 1.8537, 1.8019, 1.7963, 1.7077, 1.6892, 1.6698, 1.6174, 1.5944, 1.5722, 1.5543, 1.5307, 1.51, 1.4906, 1.4708, 1.4598, 1.4466, 1.4456, 1.2971, 1.2969, 1.2907, 1.2511, 1.2487, 1.2398, 1.2325, 1.2273, 1.1889, 1.1496, 1.0683, 0.7867, 0.7217, 0.8139, 0.7026, 0.656, 0.6629, 0.4069, 0.5587, 0.0357, 1.0618, 0.7661, 0.9558]}, \"token.table\": {\"Topic\": [1, 2, 3, 4, 7, 1, 2, 3, 4, 5, 6, 7, 1, 2, 3, 4, 5, 7, 1, 3, 4, 5, 2, 4, 5, 2, 4, 5, 1, 5, 6, 1, 2, 3, 4, 5, 6, 1, 2, 3, 4, 5, 6, 7, 1, 2, 3, 4, 5, 6, 7, 1, 4, 6, 7, 1, 2, 3, 4, 6, 7, 2, 3, 6, 7, 1, 2, 4, 5, 6, 7, 1, 3, 4, 5, 6, 1, 3, 4, 7, 1, 2, 3, 4, 6, 2, 3, 4, 5, 6, 7, 1, 2, 3, 4, 5, 6, 1, 2, 3, 4, 5, 6, 7, 1, 2, 3, 4, 5, 6, 7, 1, 2, 3, 4, 5, 6, 4, 5, 6, 7, 1, 2, 3, 4, 6, 7, 1, 3, 4, 5, 7, 1, 2, 3, 4, 5, 6, 7, 2, 5, 1, 2, 3, 4, 1, 2, 3, 4, 5, 6, 7, 4, 5, 3, 4, 5, 6, 7, 1, 2, 3, 6, 1, 3, 4, 6, 7, 2, 3, 6, 7, 4, 5, 7, 1, 2, 3, 4, 5, 6, 7, 1, 2, 4, 6, 7, 2, 3, 4, 5, 6, 1, 2, 3, 4, 6, 7, 1, 2, 3, 4, 5, 6, 1, 2, 5, 7, 2, 3, 4, 6, 1, 2, 3, 4, 5, 2, 4, 5, 1, 2, 3, 4, 5, 6, 7, 2, 3, 5, 6, 1, 2, 4, 5, 7, 1, 2, 3, 4, 5, 6, 7, 1, 2, 3, 6, 7, 1, 4, 5, 6, 7, 1, 2, 3, 4, 5, 6, 7, 2, 3, 4, 5, 6, 7, 1, 3, 4, 6, 7, 1, 4, 7, 1, 2, 3, 4, 5, 6, 7, 1, 2, 3, 4, 5, 6, 7, 2, 4, 5, 6, 7, 1, 2, 3, 4, 5, 6, 7, 1, 2, 3, 4, 5, 6, 7, 1, 3, 4, 6, 1, 4, 6, 1, 2, 3, 4, 5, 6, 1, 2, 3, 4, 5, 6, 7, 2, 3, 5, 6, 7, 2, 3, 4, 5, 6, 2, 3, 5, 6, 1, 2, 3, 6, 7, 1, 2, 4, 5, 6, 7, 1, 2, 3, 4, 5, 6, 7, 1, 2, 3, 4, 5, 6, 7, 3, 4, 6, 7, 3, 4, 5, 1, 2, 3, 5, 7, 1, 2, 4, 5, 7, 1, 2, 3, 4, 5, 6, 1, 2, 3, 4, 5, 6, 7, 1, 2, 3, 4, 5, 6, 7, 1, 2, 3, 4, 5, 6, 7, 1, 2, 3, 4, 5, 6, 7, 1, 2, 4, 5, 6, 7, 1, 2, 3, 5, 6, 7, 1, 4, 1, 2, 4, 5, 7, 2, 3, 4, 6, 7, 4, 6, 2, 3, 4, 5, 6, 7, 2, 3, 4, 6, 7, 1, 2, 3, 4, 5, 6, 7, 1, 2, 3, 4, 5, 6, 7, 1, 4, 7, 1, 3, 4, 5, 6, 7, 2, 3, 4, 5, 1, 2, 3, 4, 6, 1, 2, 3, 4, 5, 6, 7, 1, 2, 3, 4, 5, 6, 1, 2, 3, 4, 5, 6, 7, 1, 2, 3, 4, 5, 6, 7, 1, 3, 5, 1, 2, 3, 5, 6, 7, 1, 2, 3, 4, 5, 6, 1, 2, 3, 4, 5, 6, 7, 1, 4, 5, 7, 1, 2, 3, 4, 5, 6, 7, 2, 3, 4, 6, 1, 2, 3, 4, 5, 3, 5, 6, 7, 1, 2, 3, 4, 5, 6, 7, 1, 2, 3, 4, 5, 6, 7, 1, 2, 3, 4, 5, 6, 7, 1, 5, 6, 7, 1, 2, 3, 4, 5, 6, 7, 1, 2, 3, 4, 5, 7, 1, 2, 3, 4, 5, 6, 7, 1, 2, 5, 6, 7, 1, 2, 3, 4, 5, 6, 7, 4, 1, 2, 3, 4, 5, 6, 7, 1, 2, 4, 5, 6, 7, 1, 2, 4, 5, 6, 7, 1, 2, 3, 4, 5, 6, 7, 1, 2, 3, 4, 5, 7, 2, 3, 4, 6, 7, 3, 5, 6, 1, 2, 4, 6, 1, 2, 3, 5, 2, 5, 1, 2, 4, 6, 7, 1, 3, 4, 5, 6, 1, 2, 3, 4, 5, 6, 7, 1, 2, 3, 4, 5, 6, 7, 1, 2, 3, 5, 1, 5, 2, 6, 1, 2, 3, 4, 5, 6, 7, 2, 6, 7, 1, 4, 5, 6, 7, 3, 4, 6, 7, 1, 2, 4, 5, 1, 2, 3, 7, 1, 2, 3, 4, 6, 1, 3, 4, 5, 6, 3, 4, 6, 1, 2, 3, 4, 5, 6, 7, 1, 2, 3, 4, 5, 6, 7, 1, 4, 7, 4, 5, 6, 1, 2, 3, 4, 6, 7, 1, 2, 3, 4, 5, 6, 7, 1, 3, 4, 5, 7, 1, 2, 3, 5, 7, 2, 3, 6, 1, 2, 3, 4, 5, 6, 7, 1, 2, 3, 4, 7, 1, 2, 6, 7, 3, 4, 5, 6, 6, 1, 2, 3, 4, 5, 6, 7, 1, 2, 3, 4, 5, 6, 7, 2, 3, 4, 5, 6, 7, 1, 2, 3, 4, 5, 6, 7, 1, 2, 3, 4, 5, 6, 7, 1, 2, 3, 4, 5, 6, 7, 1, 2, 3, 4, 5, 6, 1, 2, 5, 6, 7, 1, 2, 3, 4, 5, 6, 1, 2, 3, 4, 6, 7, 1, 2, 3, 5, 6, 7, 1, 4, 5, 7, 1, 2, 3, 5, 6, 7, 1, 2, 3, 4, 5, 6, 7, 1, 2, 3, 4, 7, 1, 2, 3, 4, 5, 6, 7, 1, 3, 4, 6, 7, 1, 2, 3, 4, 5, 2, 3, 6, 1, 3, 4, 5, 7, 2, 4, 5, 6, 1, 2, 3, 4, 1, 2, 3, 5, 6, 7, 2, 3, 5, 2, 3, 4, 6, 7, 1, 2, 3, 4, 5, 1, 3, 5, 7, 2, 3, 4, 5, 6, 7, 1, 5, 6, 1, 2, 4, 6, 1, 4, 5, 1, 2, 3, 5, 6, 7, 4, 5, 7, 2, 4, 5, 6, 7, 1, 3, 5, 6, 7, 1, 2, 3, 4, 5, 6, 7, 1, 2, 3, 4, 6, 7, 1, 2, 3, 4, 5, 6, 7, 2, 3, 4, 6, 7, 1, 2, 3, 4, 1, 2, 4, 5, 6, 7, 1, 2, 4, 5, 6, 2, 3, 4, 5, 6, 1, 4, 5, 6, 1, 2, 3, 4, 5, 6, 1, 2, 4, 6, 1, 3, 4, 6, 7, 2, 4, 6, 2, 3, 5, 6, 1, 3, 7, 1, 3, 4, 5, 1, 3, 4, 1, 3, 4, 5, 1, 3, 4, 5, 6, 7, 3, 4, 6, 1, 5, 6, 7, 1, 2, 3, 4, 5, 6, 7, 1, 2, 3, 4, 5, 6, 7, 2, 3, 5, 6, 7, 1, 2, 3, 4, 5, 6, 7, 1, 2, 3, 4, 6, 7, 2, 3, 6, 7, 1, 2, 3, 4, 6, 7, 1, 2, 3, 4, 5, 7, 4, 1, 2, 3, 4, 5, 6, 1, 2, 3, 4, 6, 7, 4, 5, 7, 1, 2, 3, 4, 5, 6, 2, 4, 6, 2, 5, 7, 1, 2, 3, 4, 5, 7, 1, 2, 3, 4, 5, 6, 7, 1, 2, 3, 4, 5, 6, 7, 2, 4, 5, 7, 1, 2, 3, 4, 5, 7, 1, 3, 5, 6, 1, 2, 3, 4, 5, 6, 7, 1, 2, 3, 4, 5, 6, 7, 1, 2, 3, 4, 5, 6, 7, 1, 2, 3, 4, 5, 6, 7, 1, 2, 4, 5, 6, 7, 3, 4, 5, 6, 1, 2, 6, 7, 1, 2, 3, 4, 6, 2, 5, 6, 1, 2, 3, 4, 5, 6, 7, 2, 3, 4, 5, 6, 1, 2, 3, 4, 5, 1, 2, 4, 5, 6, 7, 2, 3, 4, 5, 1, 2, 5, 1, 2, 3, 6, 1, 2, 3, 4, 5, 6, 7, 1, 2, 5, 7, 1, 2, 3, 6, 7, 1, 2, 3, 4, 5, 6, 7, 6, 7, 1, 2, 3, 4, 5, 6, 7, 2, 3, 7], \"Freq\": [0.14503137503183852, 0.14503137503183852, 0.0483437916772795, 0.193375166709118, 0.43509412509551554, 0.09467468396231418, 0.21119737191593163, 0.014565335994202183, 0.11652268795361746, 0.2476107119014371, 0.2767413838898415, 0.029130671988404366, 0.17275695588367027, 0.4606852156897874, 0.20154978186428196, 0.14396412990305854, 0.8816719639965976, 0.04198437923793322, 0.065921943627942, 0.032960971813971, 0.8569852671632461, 0.032960971813971, 0.3063569824986215, 0.4177595215890293, 0.2506557129534176, 0.42442853493867144, 0.489725232621544, 0.03264834884143627, 0.24238775815972258, 0.48477551631944515, 0.24238775815972258, 0.4986361286332905, 0.0664848171511054, 0.23269686002886888, 0.16621204287776348, 0.0332424085755527, 0.0332424085755527, 0.04664503876309894, 0.031096692508732628, 0.4353536951222568, 0.015548346254366314, 0.17103180879802946, 0.2176768475611284, 0.07774173127183157, 0.021293341043225635, 0.34069345669161016, 0.0638800231296769, 0.2768134335619333, 0.23422675147548197, 0.04258668208645127, 0.021293341043225635, 0.3729185396176088, 0.08287078658169085, 0.041435393290845425, 0.4557893261992996, 0.33412539640672406, 0.025701953569748005, 0.5140390713949601, 0.07710586070924401, 0.025701953569748005, 0.025701953569748005, 0.8549561468787802, 0.02442731848225086, 0.04885463696450172, 0.04885463696450172, 0.052450832445553826, 0.01748361081518461, 0.08741805407592304, 0.1398688865214769, 0.01748361081518461, 0.6643772109770152, 0.11175353596976431, 0.037251178656588106, 0.11175353596976431, 0.29800942925270485, 0.372511786565881, 0.668544232902704, 0.11142403881711734, 0.11142403881711734, 0.11142403881711734, 0.188042341168165, 0.45130161880359604, 0.03760846823363301, 0.22565080940179802, 0.07521693646726602, 0.07276199655288795, 0.24739078827981903, 0.07276199655288795, 0.04365719793173277, 0.4656767779384829, 0.08731439586346554, 0.11912515808780674, 0.08934386856585506, 0.14890644760975844, 0.029781289521951686, 0.05956257904390337, 0.5360632113951304, 0.23324714182156936, 0.1399482850929416, 0.11662357091078468, 0.0699741425464708, 0.3965201410966679, 0.023324714182156935, 0.023324714182156935, 0.28230967584812117, 0.09410322528270705, 0.42346451377218175, 0.09410322528270705, 0.047051612641353525, 0.047051612641353525, 0.047051612641353525, 0.24252063285213057, 0.551183256482115, 0.022047330259284598, 0.08818932103713839, 0.06614199077785379, 0.022047330259284598, 0.05356890930794235, 0.4285512744635388, 0.37498236515559646, 0.1071378186158847, 0.1343346481403522, 0.49256037651462475, 0.1343346481403522, 0.0671673240701761, 0.04477821604678407, 0.08955643209356814, 0.14389260796973502, 0.5276062292223618, 0.14389260796973502, 0.09592840531315668, 0.04796420265657834, 0.5902516039629389, 0.03279175577571883, 0.19675053465431294, 0.010930585258572942, 0.04372234103429177, 0.010930585258572942, 0.10930585258572942, 0.41122687201355085, 0.5607639163821149, 0.5178718900867268, 0.060926104716085505, 0.2741674712223848, 0.12185220943217101, 0.06410197816333467, 0.192305934490004, 0.144229450867503, 0.144229450867503, 0.048076483622501, 0.06410197816333467, 0.336535385357507, 0.8999551280684731, 0.04285500609849872, 0.041986201837747414, 0.503834422052969, 0.35688271562085305, 0.020993100918873707, 0.06297930275662113, 0.5661624459602873, 0.040440174711449096, 0.28308122298014365, 0.08088034942289819, 0.3064746400685895, 0.023574972312968425, 0.44792447394640006, 0.04714994462593685, 0.1885997785037474, 0.6954913913712581, 0.09935591305303688, 0.06623727536869126, 0.1324745507373825, 0.058812410750184514, 0.11762482150036903, 0.7645613397523986, 0.020444992340952494, 0.14311494638666747, 0.3271198774552399, 0.030667488511428743, 0.24533990809142994, 0.04088998468190499, 0.2146724195800012, 0.20961142909999353, 0.20961142909999353, 0.06987047636666452, 0.06987047636666452, 0.41922285819998706, 0.09416742286625063, 0.09416742286625063, 0.047083711433125314, 0.612088248630629, 0.09416742286625063, 0.016991168413041432, 0.45876154715211864, 0.3058410314347458, 0.11893817889129002, 0.033982336826082864, 0.06796467365216573, 0.08202993164082856, 0.6093652064747265, 0.011718561662975508, 0.10546705496677958, 0.09374849330380407, 0.09374849330380407, 0.029889688451325832, 0.3885659498672358, 0.20922781915928082, 0.35867626141590997, 0.04493722591951384, 0.3145605814365969, 0.4943094851146522, 0.08987445183902767, 0.08744288135386763, 0.17488576270773526, 0.08744288135386763, 0.17488576270773526, 0.4372144067693382, 0.07515519224012542, 0.22546557672037623, 0.638819134041066, 0.17138980905205686, 0.23453342291334095, 0.036082065063590914, 0.14432826025436366, 0.2886565205087273, 0.04510258132948865, 0.08118464639307957, 0.0281210951206978, 0.0281210951206978, 0.0140605475603489, 0.9279961389830274, 0.5053211894624055, 0.11229359765831233, 0.056146798829156165, 0.11229359765831233, 0.1684403964874685, 0.3605740282247934, 0.021210236954399612, 0.3464338702551937, 0.0989811057871982, 0.007070078984799871, 0.07070078984799871, 0.10605118477199806, 0.7385999027539338, 0.06714544570490308, 0.13429089140980616, 0.03357272285245154, 0.03357272285245154, 0.662215965618204, 0.047301140401300276, 0.09460228080260055, 0.09460228080260055, 0.047301140401300276, 0.23675279419529585, 0.09864699758137327, 0.09864699758137327, 0.29594099274411984, 0.1085116973395106, 0.019729399516274657, 0.15783519613019725, 0.24583980486319848, 0.03511997212331407, 0.10535991636994221, 0.03511997212331407, 0.03511997212331407, 0.49167960972639696, 0.2393715738035605, 0.029921446725445063, 0.44882170088167594, 0.059842893450890125, 0.20945012707811544, 0.24297847745285941, 0.24297847745285941, 0.425212335542504, 0.2326486460174121, 0.25849849557490234, 0.051699699114980464, 0.28434834513239254, 0.1550990973449414, 0.012924924778745116, 0.012924924778745116, 0.4062302642031446, 0.10155756605078615, 0.05077878302539308, 0.24373815852188677, 0.1523363490761792, 0.04062302642031446, 0.02031151321015723, 0.2753118432995224, 0.0344139804124403, 0.0688279608248806, 0.1376559216497612, 0.4473817453617239, 0.08827023321859037, 0.025220066633882963, 0.012610033316941481, 0.012610033316941481, 0.6935518324317814, 0.15132039980329778, 0.025220066633882963, 0.06886384099020317, 0.5902614942017415, 0.029513074710087073, 0.06886384099020317, 0.059026149420174145, 0.11805229884034829, 0.06886384099020317, 0.5994985594539108, 0.27976599441182504, 0.03996657063026072, 0.03996657063026072, 0.15923621225692852, 0.6900235864466903, 0.053078737418976174, 0.11018547327291676, 0.146913964363889, 0.22037094654583353, 0.03672849109097225, 0.4040134020006948, 0.03672849109097225, 0.4919973221240271, 0.08399954280166316, 0.0599996734297594, 0.08399954280166316, 0.09599947748761503, 0.10799941217356691, 0.0599996734297594, 0.5381137516225704, 0.19218348272234656, 0.19218348272234656, 0.019218348272234655, 0.03843669654446931, 0.03388210486508121, 0.03388210486508121, 0.3727031535158933, 0.10164631459524362, 0.4404673632460557, 0.5854833363269915, 0.04503717971746088, 0.2251858985873044, 0.13511153915238264, 0.09391186826779793, 0.4226034072050907, 0.046955934133898966, 0.046955934133898966, 0.37564747307119173, 0.0173444741023609, 0.08672237051180451, 0.0173444741023609, 0.5550231712755488, 0.2601671115354135, 0.0520334223070827, 0.044430433509193304, 0.1332913005275799, 0.044430433509193304, 0.022215216754596652, 0.7331021529016895, 0.022215216754596652, 0.022215216754596652, 0.2591486234978631, 0.12957431174893155, 0.09718073381169866, 0.03239357793723289, 0.03239357793723289, 0.09718073381169866, 0.38872293524679463, 0.07994412659637867, 0.7994412659637867, 0.053296084397585784, 0.053296084397585784, 0.0131526382111379, 0.9601425894130666, 0.0131526382111379, 0.19752835191890497, 0.084655007965245, 0.141091679942075, 0.39505670383780994, 0.16931001593049, 0.02459076478833176, 0.02459076478833176, 0.04918152957666352, 0.4180430014016399, 0.4918152957666352, 0.13955893773612205, 0.06977946886806102, 0.03488973443403051, 0.03488973443403051, 0.6280152198125493, 0.13955893773612205, 0.19542555545638154, 0.01628546295469846, 0.13028370363758768, 0.13028370363758768, 0.09771277772819077, 0.08142731477349231, 0.3419947220486677, 0.08280748073961121, 0.16561496147922242, 0.1242112211094168, 0.041403740369805604, 0.08280748073961121, 0.16561496147922242, 0.37263366332825043, 0.08600360368876743, 0.3535703707204883, 0.19111911930837205, 0.047779779827093014, 0.18156316334295344, 0.05733573579251162, 0.07644764772334882, 0.06112162739341276, 0.36672976436047655, 0.4278513917538893, 0.03056081369670638, 0.03056081369670638, 0.06112162739341276, 0.03056081369670638, 0.3729506353485539, 0.03729506353485539, 0.4475407624182647, 0.03729506353485539, 0.03729506353485539, 0.11188519060456617, 0.016448401554089123, 0.18093241709498034, 0.16448401554089123, 0.26317442486542597, 0.2138292202031586, 0.1480356139868021, 0.8856740016633651, 0.040257909166516594, 0.9263181493559847, 0.013046734497971614, 0.013046734497971614, 0.013046734497971614, 0.02609346899594323, 0.011673567176194282, 0.04669426870477713, 0.011673567176194282, 0.910538239743154, 0.011673567176194282, 0.4154758798404648, 0.49857105580855776, 0.4798400394889073, 0.0639786719318543, 0.03198933596592715, 0.2559146877274172, 0.1279573438637086, 0.03198933596592715, 0.25317263010864993, 0.15190357806518998, 0.050634526021729985, 0.050634526021729985, 0.5063452602172999, 0.10004896522095366, 0.17151251180734914, 0.11434167453823277, 0.10004896522095366, 0.07146354658639548, 0.20009793044190732, 0.22868334907646554, 0.07846686876499023, 0.10088597412641602, 0.12330507948784179, 0.2690292643371094, 0.16814329021069335, 0.2241910536142578, 0.03362865804213867, 0.9490266962076483, 0.01664959116153769, 0.01664959116153769, 0.47878269768764325, 0.11969567442191081, 0.07979711628127388, 0.11969567442191081, 0.11969567442191081, 0.03989855814063694, 0.5886873541989459, 0.11037887891230236, 0.07358591927486824, 0.1839647981871706, 0.18488695770812738, 0.03697739154162548, 0.40675130695788025, 0.22186434924975287, 0.11093217462487644, 0.02650597400465631, 0.3975896100698447, 0.15903584402793788, 0.02650597400465631, 0.26505974004656313, 0.05301194800931262, 0.05301194800931262, 0.3367608271780923, 0.25593822865535015, 0.013470433087123692, 0.3098199610038449, 0.05388173234849477, 0.026940866174247385, 0.2053535293741337, 0.08214141174965348, 0.4928484704979209, 0.08214141174965348, 0.0958316470412624, 0.013690235291608914, 0.02738047058321783, 0.12752442229622155, 0.02125407038270359, 0.02125407038270359, 0.1912866334443323, 0.4250814076540718, 0.06376221114811077, 0.12752442229622155, 0.30281398595268727, 0.48450237752429964, 0.18168839157161237, 0.22882151302816534, 0.035203309696640823, 0.7128670213569767, 0.008800827424160206, 0.008800827424160206, 0.008800827424160206, 0.18169192965511669, 0.1362689472413375, 0.6245660081894636, 0.022711491206889586, 0.011355745603444793, 0.011355745603444793, 0.1373554335809888, 0.013735543358098882, 0.0686777167904944, 0.5082151042496587, 0.09614880350669218, 0.12361989022288994, 0.0686777167904944, 0.21629744678123627, 0.21629744678123627, 0.4866692552577816, 0.05407436169530907, 0.6029675163944118, 0.04760269866271672, 0.04760269866271672, 0.04760269866271672, 0.03173513244181115, 0.14280809598815017, 0.07933783110452787, 0.05494777113822147, 0.10989554227644294, 0.05494777113822147, 0.7143210247968791, 0.46512549825219257, 0.0872110309222861, 0.14535171820381018, 0.20349240548533426, 0.0872110309222861, 0.05228278980225737, 0.10456557960451474, 0.1568483694067721, 0.6796762674293458, 0.04910626753259512, 0.016368755844198373, 0.04910626753259512, 0.16368755844198374, 0.04910626753259512, 0.032737511688396746, 0.6220127220795382, 0.326563073470243, 0.08708348625873147, 0.19593784408214582, 0.09796892204107291, 0.08708348625873147, 0.010885435782341434, 0.19593784408214582, 0.026471913934394086, 0.17206744057356158, 0.17206744057356158, 0.38384275204871426, 0.026471913934394086, 0.039707870901591134, 0.1853033975407586, 0.11111778099124742, 0.0370392603304158, 0.7037459462779003, 0.11111778099124742, 0.2947941590373282, 0.024566179919777352, 0.024566179919777352, 0.07369853975933205, 0.41762505863621496, 0.1473970795186641, 0.049132359839554704, 0.04543931044916053, 0.09087862089832106, 0.09087862089832106, 0.04543931044916053, 0.09087862089832106, 0.6361503462882475, 0.1424059630117136, 0.1830933810150603, 0.030515563502510053, 0.04068741800334674, 0.04068741800334674, 0.5696238520468544, 0.010171854500836686, 0.122112630736071, 0.5291547331896409, 0.040704210245356996, 0.284929471717499, 0.040704210245356996, 0.07864340118512474, 0.13762595207396827, 0.21626935325909302, 0.019660850296281184, 0.21626935325909302, 0.31457360474049895, 0.019660850296281184, 0.8895837688142377, 0.15044497791454722, 0.10415421547930193, 0.30088995582909445, 0.39347148069958504, 0.011572690608811324, 0.03471807182643397, 0.011572690608811324, 0.3646846030508145, 0.15855852306557153, 0.01585585230655715, 0.2536936369049144, 0.0634234092262286, 0.14270267075901438, 0.04902547286645533, 0.2696401007655043, 0.24512736433227664, 0.04902547286645533, 0.073538209299683, 0.294152837198732, 0.14140250795114323, 0.1272622571560289, 0.15554275874625756, 0.28280501590228646, 0.15554275874625756, 0.09898175556580026, 0.04242075238534297, 0.6494453484832031, 0.02952024311287287, 0.14760121556436434, 0.08856072933861861, 0.02952024311287287, 0.02952024311287287, 0.024982954081480296, 0.07494886224444089, 0.024982954081480296, 0.7994545306073695, 0.04996590816296059, 0.9007288595865559, 0.018014577191731117, 0.054043731575193356, 0.604970681348443, 0.12963657457466637, 0.17284876609955516, 0.08642438304977758, 0.5259274946955085, 0.06574093683693856, 0.26296374734775424, 0.06574093683693856, 0.6427944519982965, 0.3044815825255089, 0.09756219478338443, 0.22764512116123034, 0.3902487791335377, 0.22764512116123034, 0.03252073159446148, 0.2212520165169726, 0.4425040330339452, 0.1106260082584863, 0.05531300412924315, 0.1106260082584863, 0.06546911722552151, 0.3600801447403683, 0.24550918959570567, 0.1473055137574234, 0.016367279306380378, 0.13093823445104302, 0.049101837919141134, 0.016108241099279677, 0.16108241099279677, 0.22551537538991548, 0.41881426858127163, 0.1449741698935171, 0.032216482198559354, 0.016108241099279677, 0.023154840686136765, 0.09261936274454706, 0.04630968137227353, 0.8104194240147867, 0.10437152524261821, 0.8349722019409457, 0.026106618412405462, 0.9398382628465967, 0.18262007548870338, 0.012174671699246893, 0.5235108830676164, 0.12174671699246893, 0.04869868679698757, 0.03652401509774068, 0.07304803019548135, 0.17312882176021438, 0.46167685802723835, 0.28854803626702397, 0.279123820605873, 0.03987483151512471, 0.43862314666637187, 0.11962449454537413, 0.07974966303024943, 0.0161359624253512, 0.0161359624253512, 0.9197498582450182, 0.0322719248507024, 0.23158970160591552, 0.46317940321183104, 0.02894871270073944, 0.260538414306655, 0.2904429592224424, 0.04840715987040707, 0.5324787585744778, 0.09681431974081414, 0.17100569000144303, 0.05700189666714768, 0.05700189666714768, 0.45601517333718145, 0.22800758666859072, 0.15782131728781787, 0.05260710576260596, 0.2630355288130298, 0.47346395186345364, 0.05260710576260596, 0.05727360961445284, 0.05727360961445284, 0.8591041442167926, 0.09504638758127971, 0.15207422013004757, 0.03801855503251189, 0.28513916274383916, 0.13306494261379162, 0.13306494261379162, 0.15207422013004757, 0.1263555306453978, 0.1723029963346334, 0.36757972551388457, 0.11486866422308893, 0.03446059926692668, 0.057434332111544466, 0.1263555306453978, 0.031216842741493098, 0.8428547540203136, 0.062433685482986195, 0.638066333232314, 0.23202412117538693, 0.05800603029384673, 0.2038221144675786, 0.12229326868054717, 0.08152884578703144, 0.04076442289351572, 0.44840865182867296, 0.04076442289351572, 0.15189419733443477, 0.03254875657166459, 0.054247927619440986, 0.23869088152554033, 0.18444295390609936, 0.2603900525733167, 0.08679668419110557, 0.14606985162056937, 0.43820955486170815, 0.036517462905142344, 0.21910477743085408, 0.14606985162056937, 0.03855626764280677, 0.5783440146421016, 0.23133760585684066, 0.07711253528561354, 0.03855626764280677, 0.023242153098164266, 0.8832018177302422, 0.0697264592944928, 0.22427426263423536, 0.4983872502983008, 0.024919362514915038, 0.024919362514915038, 0.024919362514915038, 0.14951617508949022, 0.07475808754474511, 0.1161117837458269, 0.03870392791527563, 0.19351963957637816, 0.07740785583055126, 0.5418549908138589, 0.08943421730618979, 0.08943421730618979, 0.044717108653094896, 0.7601908471026133, 0.255977985709421, 0.023270725973583727, 0.0930829038943349, 0.5817681493395932, 0.9231844386974457, 0.281441150170082, 0.12061763578717799, 0.19097792332969848, 0.080411757191452, 0.23118380192542448, 0.050257348244657496, 0.040205878595726, 0.03035745324264621, 0.7134001512021859, 0.03035745324264621, 0.13660853959190794, 0.045536179863969316, 0.045536179863969316, 0.015178726621323106, 0.5575757940877931, 0.08363636911316896, 0.05575757940877931, 0.08363636911316896, 0.05575757940877931, 0.16727273822633792, 0.14802463878535907, 0.2618897455433276, 0.18218417081274962, 0.022773021351593703, 0.12525161743376537, 0.05693255337898426, 0.19357068148854648, 0.10708728341775386, 0.07788166066745736, 0.048676037917160846, 0.399143510920719, 0.05841124550059302, 0.09735207583432169, 0.22390977441893992, 0.09248075082620243, 0.1321153583231463, 0.1585384299877756, 0.18496150165240485, 0.05284614332925853, 0.2113845733170341, 0.14532689415546093, 0.03434299945155715, 0.03434299945155715, 0.1373719978062286, 0.0686859989031143, 0.34342999451557155, 0.37777299396712866, 0.010502185414442285, 0.8401748331553829, 0.06301311248665371, 0.06301311248665371, 0.010502185414442285, 0.15285868895041638, 0.13375135283161432, 0.15285868895041638, 0.19107336118802046, 0.36303938625723886, 0.019107336118802047, 0.030753183402897188, 0.061506366805794375, 0.030753183402897188, 0.3997913842376634, 0.2460254672231775, 0.2460254672231775, 0.09796627014546813, 0.14694940521820218, 0.048983135072734066, 0.3918650805818725, 0.24491567536367032, 0.048983135072734066, 0.1784312233726673, 0.059477074457555776, 0.1784312233726673, 0.535293670118002, 0.15610761636089368, 0.07805380818044684, 0.19513452045111712, 0.07805380818044684, 0.03902690409022342, 0.42929594499245766, 0.32465045362480516, 0.011194843228441557, 0.27987108071103894, 0.12314327551285713, 0.14553296196974025, 0.011194843228441557, 0.11194843228441557, 0.31432572480747795, 0.03492508053416422, 0.5238762080124633, 0.06985016106832843, 0.03492508053416422, 0.3804898030369961, 0.04227664478188846, 0.10569161195472114, 0.08455328956377692, 0.2536598686913307, 0.06341496717283268, 0.10569161195472114, 0.42922994712201157, 0.5150759365464139, 0.017169197884880465, 0.03433839576976093, 0.017169197884880465, 0.04214539872399933, 0.505744784687992, 0.16858159489599733, 0.08429079744799867, 0.16858159489599733, 0.9464062242550684, 0.017526041189908675, 0.017526041189908675, 0.1872315858925738, 0.06241052863085793, 0.43687370041600554, 0.031205264315428964, 0.2496421145234317, 0.3518476502530117, 0.17592382512650584, 0.04398095628162646, 0.39582860653463814, 0.049402774859770154, 0.4940277485977015, 0.24701387429885074, 0.19761109943908062, 0.05121732028331356, 0.05121732028331356, 0.3585212419831949, 0.3585212419831949, 0.10243464056662711, 0.10243464056662711, 0.35675071082947574, 0.5606082598748904, 0.050964387261353675, 0.17451003149815242, 0.17451003149815242, 0.05817001049938414, 0.05817001049938414, 0.4653600839950731, 0.09171000887979908, 0.11463751109974885, 0.02292750221994977, 0.7451438221483675, 0.011463751109974885, 0.07414469889241705, 0.48194054280071086, 0.37072349446208525, 0.037072349446208526, 0.22989413826960053, 0.45978827653920107, 0.06896824148088015, 0.11494706913480027, 0.06896824148088015, 0.06896824148088015, 0.5813689545189488, 0.05813689545189488, 0.2906844772594744, 0.8303852573365781, 0.02516318961625994, 0.1258159480812997, 0.02516318961625994, 0.06834108377432128, 0.30753487698444576, 0.5808992120817309, 0.024092506696098012, 0.048185013392196024, 0.07227752008829404, 0.3132025870492742, 0.024092506696098012, 0.5059426406180583, 0.2025678767417273, 0.6836665840033296, 0.07596295377814774, 0.04008576223346805, 0.5612006712685527, 0.04008576223346805, 0.20042881116734024, 0.1603430489338722, 0.05259321691574782, 0.05259321691574782, 0.05259321691574782, 0.15777965074724348, 0.6311186029889739, 0.23217344329030695, 0.011608672164515348, 0.3250428206064297, 0.06965203298709208, 0.04643468865806139, 0.10447804948063813, 0.20895609896127626, 0.17252737844820662, 0.034505475689641324, 0.5865930867239025, 0.034505475689641324, 0.034505475689641324, 0.10351642706892399, 0.5790165590740894, 0.07237706988426118, 0.018094267471065295, 0.054282802413195885, 0.054282802413195885, 0.16284840723958766, 0.03618853494213059, 0.15436355826310982, 0.05145451942103661, 0.10290903884207322, 0.5659997136314028, 0.10290903884207322, 0.04270572158611547, 0.25623432951669284, 0.21352860793057737, 0.4697629374472702, 0.28914076081336154, 0.028914076081336157, 0.23131260865068926, 0.057828152162672314, 0.028914076081336157, 0.3469689129760339, 0.11920159708236427, 0.1788023956235464, 0.4768063883294571, 0.11920159708236427, 0.05960079854118214, 0.21125524042503496, 0.21125524042503496, 0.39610357579694055, 0.02640690505312937, 0.15844143031877622, 0.48988688210857356, 0.14408437709075692, 0.2017181279270597, 0.14408437709075692, 0.08789851561166565, 0.04394925780583282, 0.08789851561166565, 0.2636955468349969, 0.4394925780583282, 0.08789851561166565, 0.11127111392124443, 0.37090371307081477, 0.07418074261416295, 0.40799408437789625, 0.05887841466284911, 0.26495286598282103, 0.2060744513199719, 0.08831762199427368, 0.3532704879770947, 0.4412415272784887, 0.35299322182279097, 0.13237245818354662, 0.020899920981332143, 0.020899920981332143, 0.2507990517759857, 0.6687974714026286, 0.6937027240504289, 0.11561712067507149, 0.11561712067507149, 0.35139177879228906, 0.48316369583939744, 0.04392397234903613, 0.08784794469807226, 0.5536719950260865, 0.3833113811719061, 0.042590153463545125, 0.04888556497831578, 0.879940169609684, 0.024364209780568163, 0.9258399716615903, 0.03653425951405005, 0.018267129757025026, 0.2557398165983504, 0.10960277854215016, 0.018267129757025026, 0.5662810224677758, 0.04723004791102135, 0.04723004791102135, 0.8501408623983844, 0.11635629335323898, 0.23271258670647796, 0.4654251734129559, 0.11635629335323898, 0.024165641530256757, 0.024165641530256757, 0.604141038256419, 0.048331283060513514, 0.14499384918154054, 0.09666256612102703, 0.048331283060513514, 0.10953418796142848, 0.35050940147657117, 0.021906837592285698, 0.021906837592285698, 0.043813675184571396, 0.19716153833057126, 0.26288205110742835, 0.3585559177282451, 0.11204872429007659, 0.4706046420183217, 0.022409744858015317, 0.022409744858015317, 0.06768236431371007, 0.10152354647056511, 0.34969221562083536, 0.06768236431371007, 0.011280394052285012, 0.34969221562083536, 0.05640197026142506, 0.12830006853226142, 0.1539600822387137, 0.10264005482580914, 0.46188024671614114, 0.025660013706452284, 0.10264005482580914, 0.038614488083313935, 0.07722897616662787, 0.656446297416337, 0.23168692849988362, 0.045450610445352306, 0.018180244178140924, 0.045450610445352306, 0.009090122089070462, 0.09090122089070461, 0.7908406217491302, 0.1645463522713833, 0.025314823426366664, 0.18986117569775, 0.3037778811164, 0.025314823426366664, 0.3037778811164, 0.946868300688991, 0.09348616668062132, 0.09348616668062132, 0.592079055643935, 0.09348616668062132, 0.09348616668062132, 0.031162055560207104, 0.027717674250904063, 0.08315302275271219, 0.3880474395126569, 0.19402371975632846, 0.2217413940072325, 0.055435348501808125, 0.1648825143070451, 0.7144908953305288, 0.05496083810234837, 0.7031021971716752, 0.029295924882153133, 0.058591849764306266, 0.11718369952861253, 0.029295924882153133, 0.058591849764306266, 0.4130069478255359, 0.05900099254650513, 0.472007940372041, 0.07309325692472973, 0.8953923973279392, 0.018273314231182433, 0.642211302374047, 0.0458722358838605, 0.0458722358838605, 0.091744471767721, 0.091744471767721, 0.0458722358838605, 0.14325753869059552, 0.022039621337014696, 0.19835659203313227, 0.04407924267402939, 0.2314160240386543, 0.03305943200552204, 0.3195745093867131, 0.3163458982048449, 0.09885809318901403, 0.03954323727560561, 0.41520399139385894, 0.05931485591340842, 0.04942904659450702, 0.019771618637802805, 0.1932878788654377, 0.03865757577308754, 0.6185212123694006, 0.07731515154617508, 0.46825054992224696, 0.2601391944012483, 0.02601391944012483, 0.02601391944012483, 0.0780417583203745, 0.13006959720062414, 0.28383673033179146, 0.11353469213271658, 0.05676734606635829, 0.5109061145972247, 0.31902939533103714, 0.02200202726420946, 0.29702736806682767, 0.08800810905683784, 0.19801824537788512, 0.05500506816052365, 0.02200202726420946, 0.21422542156459615, 0.035704236927432687, 0.49985931698405767, 0.07140847385486537, 0.10711271078229807, 0.035704236927432687, 0.035704236927432687, 0.08827567320922573, 0.15889621177660632, 0.05296540392553544, 0.05296540392553544, 0.38841296212059323, 0.03531026928369029, 0.21186161570214176, 0.07832634368896693, 0.5091212339782851, 0.07832634368896693, 0.09790792961120867, 0.09790792961120867, 0.019581585922241733, 0.15665268737793386, 0.06749127231429343, 0.10123690847144014, 0.06749127231429343, 0.06749127231429343, 0.37120199772861384, 0.3037107254143204, 0.1509536803296472, 0.05031789344321574, 0.45286104098894164, 0.3019073606592944, 0.27022205352485723, 0.486399696344743, 0.05404441070497144, 0.16213323211491434, 0.4381695292139184, 0.19916796782450838, 0.23900156138941003, 0.039833593564901675, 0.039833593564901675, 0.024598931435700667, 0.024598931435700667, 0.9347593945566253, 0.29768354820599585, 0.14008637562635098, 0.12257557867305711, 0.15759717257964487, 0.14008637562635098, 0.07879858628982243, 0.07879858628982243, 0.42765024158779186, 0.061092891655398836, 0.10182148609233138, 0.1629143777477302, 0.22400726940312907, 0.3756566730364086, 0.3130472275303405, 0.07826180688258512, 0.17217597514168728, 0.046957084129551074, 0.1168646337509621, 0.17529695062644315, 0.05843231687548105, 0.1168646337509621, 0.1168646337509621, 0.3505939012528863, 0.4404939042314032, 0.26429634253884193, 0.08809878084628064, 0.1761975616925613, 0.04031530761564924, 0.8063061523129849, 0.12094592284694772, 0.040689541175479176, 0.5696535764567084, 0.24413724705287504, 0.12206862352643752, 0.13374867007081867, 0.200623005106228, 0.3176530914181943, 0.06687433503540934, 0.08359291879426166, 0.050155751276557, 0.13374867007081867, 0.6634741919596954, 0.08293427399496192, 0.04146713699748096, 0.16586854798992384, 0.2504791456234747, 0.5009582912469493, 0.10019165824938987, 0.050095829124694936, 0.050095829124694936, 0.22238031949047773, 0.127074468280273, 0.2859175536306142, 0.03176861707006825, 0.15884308535034125, 0.13766400730362907, 0.021179078046712166, 0.8776787725397442, 0.038159946632162794, 0.25964785235184107, 0.11127765100793188, 0.26706636241903653, 0.007418510067195459, 0.28190338255342745, 0.014837020134390918, 0.05192957047036822, 0.097560554033206, 0.6178835088769713, 0.22764129274414732], \"Term\": [\"accelerate\", \"accelerate\", \"accelerate\", \"accelerate\", \"accelerate\", \"access\", \"access\", \"access\", \"access\", \"access\", \"access\", \"access\", \"accessible\", \"accessible\", \"accessible\", \"accessible\", \"activity\", \"activity\", \"advanced\", \"advanced\", \"advanced\", \"advanced\", \"africa\", \"africa\", \"africa\", \"african\", \"african\", \"african\", \"agricultural\", \"agricultural\", \"agricultural\", \"ai\", \"ai\", \"ai\", \"ai\", \"ai\", \"ai\", \"aim\", \"aim\", \"aim\", \"aim\", \"aim\", \"aim\", \"aim\", \"allow\", \"allow\", \"allow\", \"allow\", \"allow\", \"allow\", \"allow\", \"analysis\", \"analysis\", \"analysis\", \"analysis\", \"analytic\", \"analytic\", \"analytic\", \"analytic\", \"analytic\", \"analytic\", \"app\", \"app\", \"app\", \"app\", \"application\", \"application\", \"application\", \"application\", \"application\", \"application\", \"asset\", \"asset\", \"asset\", \"asset\", \"asset\", \"automation\", \"automation\", \"automation\", \"automation\", \"available\", \"available\", \"available\", \"available\", \"available\", \"bank\", \"bank\", \"bank\", \"bank\", \"bank\", \"bank\", \"banking\", \"banking\", \"banking\", \"banking\", \"banking\", \"banking\", \"benefit\", \"benefit\", \"benefit\", \"benefit\", \"benefit\", \"benefit\", \"benefit\", \"big\", \"big\", \"big\", \"big\", \"big\", \"big\", \"big\", \"brand\", \"brand\", \"brand\", \"brand\", \"brand\", \"brand\", \"bridge\", \"bridge\", \"bridge\", \"bridge\", \"bring\", \"bring\", \"bring\", \"bring\", \"bring\", \"bring\", \"call\", \"call\", \"call\", \"call\", \"call\", \"care\", \"care\", \"care\", \"care\", \"care\", \"care\", \"care\", \"career\", \"career\", \"challenge\", \"challenge\", \"challenge\", \"challenge\", \"change\", \"change\", \"change\", \"change\", \"change\", \"change\", \"change\", \"clean\", \"clean\", \"client\", \"client\", \"client\", \"client\", \"client\", \"clinical\", \"clinical\", \"clinical\", \"clinical\", \"cloud\", \"cloud\", \"cloud\", \"cloud\", \"cloud\", \"commerce\", \"commerce\", \"commerce\", \"commerce\", \"communication\", \"communication\", \"communication\", \"community\", \"community\", \"community\", \"community\", \"community\", \"community\", \"community\", \"complete\", \"complete\", \"complete\", \"complete\", \"complete\", \"comprehensive\", \"comprehensive\", \"comprehensive\", \"comprehensive\", \"comprehensive\", \"connect\", \"connect\", \"connect\", \"connect\", \"connect\", \"connect\", \"consumer\", \"consumer\", \"consumer\", \"consumer\", \"consumer\", \"consumer\", \"content\", \"content\", \"content\", \"content\", \"continue\", \"continue\", \"continue\", \"continue\", \"core\", \"core\", \"core\", \"core\", \"core\", \"corporate\", \"corporate\", \"corporate\", \"create\", \"create\", \"create\", \"create\", \"create\", \"create\", \"create\", \"credit\", \"credit\", \"credit\", \"credit\", \"critical\", \"critical\", \"critical\", \"critical\", \"critical\", \"datum\", \"datum\", \"datum\", \"datum\", \"datum\", \"datum\", \"datum\", \"decision\", \"decision\", \"decision\", \"decision\", \"decision\", \"deep\", \"deep\", \"deep\", \"deep\", \"deep\", \"deliver\", \"deliver\", \"deliver\", \"deliver\", \"deliver\", \"deliver\", \"deliver\", \"delivery\", \"delivery\", \"delivery\", \"delivery\", \"delivery\", \"delivery\", \"demand\", \"demand\", \"demand\", \"demand\", \"demand\", \"deploy\", \"deploy\", \"deploy\", \"design\", \"design\", \"design\", \"design\", \"design\", \"design\", \"design\", \"develop\", \"develop\", \"develop\", \"develop\", \"develop\", \"develop\", \"develop\", \"developer\", \"developer\", \"developer\", \"developer\", \"developer\", \"development\", \"development\", \"development\", \"development\", \"development\", \"development\", \"development\", \"digital\", \"digital\", \"digital\", \"digital\", \"digital\", \"digital\", \"digital\", \"disease\", \"disease\", \"disease\", \"disease\", \"distribute\", \"distribute\", \"distribute\", \"distribution\", \"distribution\", \"distribution\", \"distribution\", \"distribution\", \"distribution\", \"drive\", \"drive\", \"drive\", \"drive\", \"drive\", \"drive\", \"drive\", \"easy\", \"easy\", \"easy\", \"easy\", \"easy\", \"economic\", \"economic\", \"economic\", \"economic\", \"economic\", \"economy\", \"economy\", \"economy\", \"economy\", \"ecosystem\", \"ecosystem\", \"ecosystem\", \"ecosystem\", \"ecosystem\", \"education\", \"education\", \"education\", \"education\", \"education\", \"education\", \"employee\", \"employee\", \"employee\", \"employee\", \"employee\", \"employee\", \"employee\", \"empower\", \"empower\", \"empower\", \"empower\", \"empower\", \"empower\", \"empower\", \"end\", \"end\", \"end\", \"end\", \"energy\", \"energy\", \"energy\", \"engage\", \"engage\", \"engage\", \"engage\", \"engage\", \"engagement\", \"engagement\", \"engagement\", \"engagement\", \"engagement\", \"ensure\", \"ensure\", \"ensure\", \"ensure\", \"ensure\", \"ensure\", \"enterprise\", \"enterprise\", \"enterprise\", \"enterprise\", \"enterprise\", \"enterprise\", \"enterprise\", \"establish\", \"establish\", \"establish\", \"establish\", \"establish\", \"establish\", \"establish\", \"experience\", \"experience\", \"experience\", \"experience\", \"experience\", \"experience\", \"experience\", \"expert\", \"expert\", \"expert\", \"expert\", \"expert\", \"expert\", \"expert\", \"expertise\", \"expertise\", \"expertise\", \"expertise\", \"expertise\", \"expertise\", \"family\", \"family\", \"family\", \"family\", \"family\", \"family\", \"farm\", \"farm\", \"farmer\", \"farmer\", \"farmer\", \"farmer\", \"farmer\", \"finance\", \"finance\", \"finance\", \"finance\", \"finance\", \"financing\", \"financing\", \"find\", \"find\", \"find\", \"find\", \"find\", \"find\", \"fintech\", \"fintech\", \"fintech\", \"fintech\", \"fintech\", \"first\", \"first\", \"first\", \"first\", \"first\", \"first\", \"first\", \"focus\", \"focus\", \"focus\", \"focus\", \"focus\", \"focus\", \"focus\", \"food\", \"food\", \"food\", \"full\", \"full\", \"full\", \"full\", \"full\", \"full\", \"fund\", \"fund\", \"fund\", \"fund\", \"future\", \"future\", \"future\", \"future\", \"future\", \"give\", \"give\", \"give\", \"give\", \"give\", \"give\", \"give\", \"global\", \"global\", \"global\", \"global\", \"global\", \"global\", \"good\", \"good\", \"good\", \"good\", \"good\", \"good\", \"good\", \"group\", \"group\", \"group\", \"group\", \"group\", \"group\", \"group\", \"hard\", \"hard\", \"hard\", \"health\", \"health\", \"health\", \"health\", \"health\", \"health\", \"healthcare\", \"healthcare\", \"healthcare\", \"healthcare\", \"healthcare\", \"healthcare\", \"high\", \"high\", \"high\", \"high\", \"high\", \"high\", \"high\", \"highly\", \"highly\", \"highly\", \"highly\", \"home\", \"home\", \"home\", \"home\", \"home\", \"home\", \"home\", \"household\", \"household\", \"household\", \"household\", \"human\", \"human\", \"human\", \"human\", \"human\", \"identify\", \"identify\", \"identify\", \"identify\", \"impact\", \"impact\", \"impact\", \"impact\", \"impact\", \"impact\", \"impact\", \"improve\", \"improve\", \"improve\", \"improve\", \"improve\", \"improve\", \"improve\", \"include\", \"include\", \"include\", \"include\", \"include\", \"include\", \"include\", \"income\", \"income\", \"income\", \"income\", \"increase\", \"increase\", \"increase\", \"increase\", \"increase\", \"increase\", \"increase\", \"independent\", \"independent\", \"independent\", \"independent\", \"independent\", \"independent\", \"india\", \"india\", \"india\", \"india\", \"india\", \"india\", \"india\", \"indian\", \"indian\", \"indian\", \"indian\", \"indian\", \"individual\", \"individual\", \"individual\", \"individual\", \"individual\", \"individual\", \"individual\", \"industrial\", \"industry\", \"industry\", \"industry\", \"industry\", \"industry\", \"industry\", \"industry\", \"information\", \"information\", \"information\", \"information\", \"information\", \"information\", \"infrastructure\", \"infrastructure\", \"infrastructure\", \"infrastructure\", \"infrastructure\", \"infrastructure\", \"innovative\", \"innovative\", \"innovative\", \"innovative\", \"innovative\", \"innovative\", \"innovative\", \"insight\", \"insight\", \"insight\", \"insight\", \"insight\", \"insight\", \"institution\", \"institution\", \"institution\", \"institution\", \"institution\", \"insurance\", \"insurance\", \"insurance\", \"intelligent\", \"intelligent\", \"intelligent\", \"intelligent\", \"issue\", \"issue\", \"issue\", \"issue\", \"job\", \"job\", \"key\", \"key\", \"key\", \"key\", \"key\", \"know\", \"know\", \"know\", \"know\", \"know\", \"large\", \"large\", \"large\", \"large\", \"large\", \"large\", \"large\", \"leader\", \"leader\", \"leader\", \"leader\", \"leader\", \"leader\", \"leader\", \"learn\", \"learn\", \"learn\", \"learn\", \"learning\", \"learning\", \"lending\", \"lending\", \"life\", \"life\", \"life\", \"life\", \"life\", \"life\", \"life\", \"limited\", \"limited\", \"limited\", \"line\", \"line\", \"line\", \"line\", \"line\", \"loan\", \"loan\", \"loan\", \"loan\", \"local\", \"local\", \"local\", \"local\", \"logistic\", \"logistic\", \"logistic\", \"logistic\", \"long\", \"long\", \"long\", \"long\", \"long\", \"look\", \"look\", \"look\", \"look\", \"look\", \"low_income\", \"low_income\", \"low_income\", \"manage\", \"manage\", \"manage\", \"manage\", \"manage\", \"manage\", \"manage\", \"management\", \"management\", \"management\", \"management\", \"management\", \"management\", \"management\", \"manufacture\", \"manufacture\", \"manufacture\", \"manufacturing\", \"manufacturing\", \"manufacturing\", \"many\", \"many\", \"many\", \"many\", \"many\", \"many\", \"market\", \"market\", \"market\", \"market\", \"market\", \"market\", \"market\", \"marketing\", \"marketing\", \"marketing\", \"marketing\", \"marketing\", \"marketplace\", \"marketplace\", \"marketplace\", \"marketplace\", \"marketplace\", \"medical\", \"medical\", \"medical\", \"medium\", \"medium\", \"medium\", \"medium\", \"medium\", \"medium\", \"medium\", \"meet\", \"meet\", \"meet\", \"meet\", \"meet\", \"member\", \"member\", \"member\", \"member\", \"micro\", \"micro\", \"micro\", \"micro\", \"microfinance\", \"mission\", \"mission\", \"mission\", \"mission\", \"mission\", \"mission\", \"mission\", \"mobile\", \"mobile\", \"mobile\", \"mobile\", \"mobile\", \"mobile\", \"mobile\", \"money\", \"money\", \"money\", \"money\", \"money\", \"money\", \"need\", \"need\", \"need\", \"need\", \"need\", \"need\", \"need\", \"network\", \"network\", \"network\", \"network\", \"network\", \"network\", \"network\", \"new\", \"new\", \"new\", \"new\", \"new\", \"new\", \"new\", \"non\", \"non\", \"non\", \"non\", \"non\", \"non\", \"online\", \"online\", \"online\", \"online\", \"online\", \"operate\", \"operate\", \"operate\", \"operate\", \"operate\", \"operate\", \"operation\", \"operation\", \"operation\", \"operation\", \"operation\", \"operation\", \"opportunity\", \"opportunity\", \"opportunity\", \"opportunity\", \"opportunity\", \"opportunity\", \"optimize\", \"optimize\", \"optimize\", \"optimize\", \"organisation\", \"organisation\", \"organisation\", \"organisation\", \"organisation\", \"organisation\", \"organization\", \"organization\", \"organization\", \"organization\", \"organization\", \"organization\", \"organization\", \"outcome\", \"outcome\", \"outcome\", \"outcome\", \"outcome\", \"partner\", \"partner\", \"partner\", \"partner\", \"partner\", \"partner\", \"partner\", \"patient\", \"patient\", \"patient\", \"patient\", \"patient\", \"pay\", \"pay\", \"pay\", \"pay\", \"pay\", \"payment\", \"payment\", \"payment\", \"performance\", \"performance\", \"performance\", \"performance\", \"performance\", \"personal\", \"personal\", \"personal\", \"personal\", \"phone\", \"phone\", \"phone\", \"phone\", \"place\", \"place\", \"place\", \"place\", \"place\", \"place\", \"plan\", \"plan\", \"plan\", \"positive\", \"positive\", \"positive\", \"positive\", \"positive\", \"power\", \"power\", \"power\", \"power\", \"power\", \"private\", \"private\", \"private\", \"private\", \"problem\", \"problem\", \"problem\", \"problem\", \"problem\", \"problem\", \"processing\", \"processing\", \"processing\", \"produce\", \"produce\", \"produce\", \"produce\", \"production\", \"production\", \"production\", \"program\", \"program\", \"program\", \"program\", \"program\", \"program\", \"project\", \"project\", \"project\", \"proprietary\", \"proprietary\", \"proprietary\", \"proprietary\", \"proprietary\", \"prove\", \"prove\", \"prove\", \"prove\", \"prove\", \"provider\", \"provider\", \"provider\", \"provider\", \"provider\", \"provider\", \"provider\", \"public\", \"public\", \"public\", \"public\", \"public\", \"public\", \"quality\", \"quality\", \"quality\", \"quality\", \"quality\", \"quality\", \"quality\", \"rate\", \"rate\", \"rate\", \"rate\", \"rate\", \"real\", \"real\", \"real\", \"real\", \"real_time\", \"real_time\", \"real_time\", \"real_time\", \"real_time\", \"real_time\", \"recognize\", \"recognize\", \"recognize\", \"recognize\", \"recognize\", \"reliable\", \"reliable\", \"reliable\", \"reliable\", \"reliable\", \"research\", \"research\", \"research\", \"research\", \"resource\", \"resource\", \"resource\", \"resource\", \"resource\", \"resource\", \"retail\", \"retail\", \"retail\", \"retail\", \"risk\", \"risk\", \"risk\", \"risk\", \"risk\", \"run\", \"run\", \"run\", \"rural\", \"rural\", \"rural\", \"rural\", \"saas\", \"saas\", \"saas\", \"safe\", \"safe\", \"safe\", \"safe\", \"safety\", \"safety\", \"safety\", \"sale\", \"sale\", \"school\", \"school\", \"security\", \"security\", \"security\", \"security\", \"security\", \"security\", \"segment\", \"segment\", \"segment\", \"self\", \"self\", \"self\", \"self\", \"serve\", \"serve\", \"serve\", \"serve\", \"serve\", \"serve\", \"serve\", \"share\", \"share\", \"share\", \"share\", \"share\", \"share\", \"share\", \"skill\", \"skill\", \"skill\", \"skill\", \"skill\", \"small\", \"small\", \"small\", \"small\", \"small\", \"small\", \"small\", \"smart\", \"smart\", \"smart\", \"smart\", \"smart\", \"smart\", \"sme\", \"sme\", \"sme\", \"sme\", \"social\", \"social\", \"social\", \"social\", \"social\", \"social\", \"software\", \"software\", \"software\", \"software\", \"software\", \"software\", \"solar\", \"solve\", \"solve\", \"solve\", \"solve\", \"solve\", \"solve\", \"space\", \"space\", \"space\", \"space\", \"space\", \"space\", \"specialist\", \"specialist\", \"specialist\", \"startup\", \"startup\", \"startup\", \"startup\", \"startup\", \"startup\", \"strong\", \"strong\", \"strong\", \"student\", \"student\", \"student\", \"supply\", \"supply\", \"supply\", \"supply\", \"supply\", \"supply\", \"support\", \"support\", \"support\", \"support\", \"support\", \"support\", \"support\", \"system\", \"system\", \"system\", \"system\", \"system\", \"system\", \"system\", \"take\", \"take\", \"take\", \"take\", \"talent\", \"talent\", \"talent\", \"talent\", \"talent\", \"talent\", \"target\", \"target\", \"target\", \"target\", \"team\", \"team\", \"team\", \"team\", \"team\", \"team\", \"team\", \"tech\", \"tech\", \"tech\", \"tech\", \"tech\", \"tech\", \"tech\", \"time\", \"time\", \"time\", \"time\", \"time\", \"time\", \"time\", \"tool\", \"tool\", \"tool\", \"tool\", \"tool\", \"tool\", \"tool\", \"traditional\", \"traditional\", \"traditional\", \"traditional\", \"traditional\", \"traditional\", \"training\", \"training\", \"training\", \"training\", \"transaction\", \"transaction\", \"transaction\", \"transaction\", \"understand\", \"understand\", \"understand\", \"understand\", \"understand\", \"urban\", \"urban\", \"urban\", \"use\", \"use\", \"use\", \"use\", \"use\", \"use\", \"use\", \"user\", \"user\", \"user\", \"user\", \"user\", \"value\", \"value\", \"value\", \"value\", \"value\", \"various\", \"various\", \"various\", \"various\", \"various\", \"various\", \"venture\", \"venture\", \"venture\", \"venture\", \"video\", \"video\", \"video\", \"want\", \"want\", \"want\", \"want\", \"way\", \"way\", \"way\", \"way\", \"way\", \"way\", \"way\", \"web\", \"web\", \"web\", \"web\", \"website\", \"website\", \"website\", \"website\", \"website\", \"well\", \"well\", \"well\", \"well\", \"well\", \"well\", \"well\", \"woman\", \"woman\", \"work\", \"work\", \"work\", \"work\", \"work\", \"work\", \"work\", \"young\", \"young\", \"young\"]}, \"R\": 30, \"lambda.step\": 0.01, \"plot.opts\": {\"xlab\": \"PC1\", \"ylab\": \"PC2\"}, \"topic.order\": [3, 1, 7, 6, 4, 5, 2]};\n",
       "\n",
       "function LDAvis_load_lib(url, callback){\n",
       "  var s = document.createElement('script');\n",
       "  s.src = url;\n",
       "  s.async = true;\n",
       "  s.onreadystatechange = s.onload = callback;\n",
       "  s.onerror = function(){console.warn(\"failed to load library \" + url);};\n",
       "  document.getElementsByTagName(\"head\")[0].appendChild(s);\n",
       "}\n",
       "\n",
       "if(typeof(LDAvis) !== \"undefined\"){\n",
       "   // already loaded: just create the visualization\n",
       "   !function(LDAvis){\n",
       "       new LDAvis(\"#\" + \"ldavis_el1944816679802686168922929891\", ldavis_el1944816679802686168922929891_data);\n",
       "   }(LDAvis);\n",
       "}else if(typeof define === \"function\" && define.amd){\n",
       "   // require.js is available: use it to load d3/LDAvis\n",
       "   require.config({paths: {d3: \"https://d3js.org/d3.v5\"}});\n",
       "   require([\"d3\"], function(d3){\n",
       "      window.d3 = d3;\n",
       "      LDAvis_load_lib(\"https://cdn.jsdelivr.net/gh/bmabey/pyLDAvis@3.3.1/pyLDAvis/js/ldavis.v3.0.0.js\", function(){\n",
       "        new LDAvis(\"#\" + \"ldavis_el1944816679802686168922929891\", ldavis_el1944816679802686168922929891_data);\n",
       "      });\n",
       "    });\n",
       "}else{\n",
       "    // require.js not available: dynamically load d3 & LDAvis\n",
       "    LDAvis_load_lib(\"https://d3js.org/d3.v5.js\", function(){\n",
       "         LDAvis_load_lib(\"https://cdn.jsdelivr.net/gh/bmabey/pyLDAvis@3.3.1/pyLDAvis/js/ldavis.v3.0.0.js\", function(){\n",
       "                 new LDAvis(\"#\" + \"ldavis_el1944816679802686168922929891\", ldavis_el1944816679802686168922929891_data);\n",
       "            })\n",
       "         });\n",
       "}\n",
       "</script>"
      ],
      "text/plain": [
       "PreparedData(topic_coordinates=              x         y  topics  cluster       Freq\n",
       "topic                                                \n",
       "2     -0.109575  0.008991       1        1  17.269451\n",
       "0      0.055089 -0.112261       2        1  15.711294\n",
       "6     -0.075865 -0.014201       3        1  14.885128\n",
       "5     -0.033483  0.002639       4        1  14.780773\n",
       "3      0.030111 -0.091307       5        1  14.317466\n",
       "4      0.174261  0.080477       6        1  12.787806\n",
       "1     -0.040539  0.125660       7        1  10.248082, topic_info=               Term        Freq       Total Category  logprob  loglift\n",
       "90           social  110.000000  110.000000  Default  30.0000  30.0000\n",
       "192         finance   85.000000   85.000000  Default  29.0000  29.0000\n",
       "285          energy   76.000000   76.000000  Default  28.0000  28.0000\n",
       "148          credit   71.000000   71.000000  Default  27.0000  27.0000\n",
       "239          health  113.000000  113.000000  Default  26.0000  26.0000\n",
       "..              ...         ...         ...      ...      ...      ...\n",
       "180         include   13.536961   75.551772   Topic7  -4.7269   0.5587\n",
       "97            datum   15.022290  141.441136   Topic7  -4.6228   0.0357\n",
       "101  infrastructure   12.088861   40.795119   Topic7  -4.8400   1.0618\n",
       "115            time   12.488166   56.640746   Topic7  -4.8075   0.7661\n",
       "52            share   12.166262   45.647848   Topic7  -4.8336   0.9558\n",
       "\n",
       "[349 rows x 6 columns], token_table=      Topic      Freq        Term\n",
       "term                             \n",
       "207       1  0.145031  accelerate\n",
       "207       2  0.145031  accelerate\n",
       "207       3  0.048344  accelerate\n",
       "207       4  0.193375  accelerate\n",
       "207       7  0.435094  accelerate\n",
       "...     ...       ...         ...\n",
       "56        6  0.014837        work\n",
       "56        7  0.051930        work\n",
       "340       2  0.097561       young\n",
       "340       3  0.617884       young\n",
       "340       7  0.227641       young\n",
       "\n",
       "[1316 rows x 3 columns], R=30, lambda_step=0.01, plot_opts={'xlab': 'PC1', 'ylab': 'PC2'}, topic_order=[3, 1, 7, 6, 4, 5, 2])"
      ]
     },
     "execution_count": 27,
     "metadata": {},
     "output_type": "execute_result"
    }
   ],
   "source": [
    "lda_viz"
   ]
  },
  {
   "cell_type": "code",
   "execution_count": 28,
   "metadata": {},
   "outputs": [
    {
     "name": "stdout",
     "output_type": "stream",
     "text": [
      "Topic: 0 \n",
      "Words: 0.034*\"online\" + 0.026*\"digital\" + 0.023*\"payment\" + 0.022*\"consumer\" + 0.020*\"mobile\" + 0.016*\"experience\" + 0.015*\"app\" + 0.012*\"access\" + 0.012*\"easy\" + 0.011*\"connect\"\n",
      "Topic: 1 \n",
      "Words: 0.057*\"social\" + 0.025*\"application\" + 0.025*\"impact\" + 0.020*\"security\" + 0.019*\"support\" + 0.015*\"software\" + 0.015*\"network\" + 0.014*\"enterprise\" + 0.014*\"program\" + 0.014*\"change\"\n",
      "Topic: 2 \n",
      "Words: 0.028*\"farmer\" + 0.022*\"food\" + 0.021*\"care\" + 0.020*\"datum\" + 0.016*\"drive\" + 0.015*\"develop\" + 0.015*\"home\" + 0.014*\"work\" + 0.013*\"use\" + 0.013*\"produce\"\n",
      "Topic: 3 \n",
      "Words: 0.026*\"development\" + 0.023*\"student\" + 0.018*\"school\" + 0.018*\"work\" + 0.016*\"learn\" + 0.016*\"access\" + 0.016*\"employee\" + 0.015*\"learning\" + 0.015*\"education\" + 0.015*\"create\"\n",
      "Topic: 4 \n",
      "Words: 0.041*\"finance\" + 0.034*\"credit\" + 0.030*\"loan\" + 0.029*\"india\" + 0.020*\"access\" + 0.020*\"urban\" + 0.019*\"lending\" + 0.017*\"bank\" + 0.017*\"rural\" + 0.017*\"institution\"\n",
      "Topic: 5 \n",
      "Words: 0.033*\"energy\" + 0.030*\"power\" + 0.019*\"system\" + 0.019*\"network\" + 0.018*\"solar\" + 0.017*\"high\" + 0.015*\"industry\" + 0.014*\"deliver\" + 0.013*\"africa\" + 0.013*\"end\"\n",
      "Topic: 6 \n",
      "Words: 0.036*\"health\" + 0.025*\"healthcare\" + 0.023*\"insurance\" + 0.022*\"datum\" + 0.019*\"life\" + 0.017*\"medical\" + 0.016*\"work\" + 0.016*\"good\" + 0.014*\"management\" + 0.014*\"community\"\n"
     ]
    }
   ],
   "source": [
    "for idx, topic in lda_model.print_topics(-1):\n",
    "    print('Topic: {} \\nWords: {}'.format(idx, topic))"
   ]
  },
  {
   "cell_type": "code",
   "execution_count": 30,
   "metadata": {},
   "outputs": [
    {
     "data": {
      "text/html": [
       "<div>\n",
       "<style scoped>\n",
       "    .dataframe tbody tr th:only-of-type {\n",
       "        vertical-align: middle;\n",
       "    }\n",
       "\n",
       "    .dataframe tbody tr th {\n",
       "        vertical-align: top;\n",
       "    }\n",
       "\n",
       "    .dataframe thead th {\n",
       "        text-align: right;\n",
       "    }\n",
       "</style>\n",
       "<table border=\"1\" class=\"dataframe\">\n",
       "  <thead>\n",
       "    <tr style=\"text-align: right;\">\n",
       "      <th></th>\n",
       "      <th>0</th>\n",
       "      <th>1</th>\n",
       "      <th>2</th>\n",
       "      <th>3</th>\n",
       "      <th>4</th>\n",
       "      <th>5</th>\n",
       "      <th>6</th>\n",
       "    </tr>\n",
       "  </thead>\n",
       "  <tbody>\n",
       "    <tr>\n",
       "      <th>0</th>\n",
       "      <td>(0, 0.03217309)</td>\n",
       "      <td>(1, 0.037287343)</td>\n",
       "      <td>(2, 0.79994994)</td>\n",
       "      <td>(3, 0.032144427)</td>\n",
       "      <td>(4, 0.03162017)</td>\n",
       "      <td>(5, 0.033382054)</td>\n",
       "      <td>(6, 0.033442944)</td>\n",
       "    </tr>\n",
       "    <tr>\n",
       "      <th>1</th>\n",
       "      <td>(3, 0.8407157)</td>\n",
       "      <td>(4, 0.1340737)</td>\n",
       "      <td>None</td>\n",
       "      <td>None</td>\n",
       "      <td>None</td>\n",
       "      <td>None</td>\n",
       "      <td>None</td>\n",
       "    </tr>\n",
       "    <tr>\n",
       "      <th>2</th>\n",
       "      <td>(2, 0.3618778)</td>\n",
       "      <td>(3, 0.43174908)</td>\n",
       "      <td>(4, 0.16601333)</td>\n",
       "      <td>(5, 0.010193422)</td>\n",
       "      <td>(6, 0.010254331)</td>\n",
       "      <td>None</td>\n",
       "      <td>None</td>\n",
       "    </tr>\n",
       "    <tr>\n",
       "      <th>3</th>\n",
       "      <td>(0, 0.09850999)</td>\n",
       "      <td>(1, 0.09785562)</td>\n",
       "      <td>(2, 0.09785903)</td>\n",
       "      <td>(3, 0.100541696)</td>\n",
       "      <td>(4, 0.3943607)</td>\n",
       "      <td>(5, 0.112618685)</td>\n",
       "      <td>(6, 0.09825431)</td>\n",
       "    </tr>\n",
       "    <tr>\n",
       "      <th>4</th>\n",
       "      <td>(0, 0.018077021)</td>\n",
       "      <td>(1, 0.6091882)</td>\n",
       "      <td>(2, 0.29876631)</td>\n",
       "      <td>(3, 0.015342933)</td>\n",
       "      <td>(4, 0.014283815)</td>\n",
       "      <td>(5, 0.015553755)</td>\n",
       "      <td>(6, 0.02878797)</td>\n",
       "    </tr>\n",
       "    <tr>\n",
       "      <th>...</th>\n",
       "      <td>...</td>\n",
       "      <td>...</td>\n",
       "      <td>...</td>\n",
       "      <td>...</td>\n",
       "      <td>...</td>\n",
       "      <td>...</td>\n",
       "      <td>...</td>\n",
       "    </tr>\n",
       "    <tr>\n",
       "      <th>1074</th>\n",
       "      <td>(0, 0.90875703)</td>\n",
       "      <td>(1, 0.010968347)</td>\n",
       "      <td>(2, 0.010853385)</td>\n",
       "      <td>(3, 0.03490639)</td>\n",
       "      <td>(4, 0.011183948)</td>\n",
       "      <td>(5, 0.012444162)</td>\n",
       "      <td>(6, 0.010886761)</td>\n",
       "    </tr>\n",
       "    <tr>\n",
       "      <th>1075</th>\n",
       "      <td>(0, 0.5005317)</td>\n",
       "      <td>(1, 0.07448208)</td>\n",
       "      <td>(2, 0.109860025)</td>\n",
       "      <td>(3, 0.08161902)</td>\n",
       "      <td>(4, 0.07447046)</td>\n",
       "      <td>(5, 0.07955)</td>\n",
       "      <td>(6, 0.07948675)</td>\n",
       "    </tr>\n",
       "    <tr>\n",
       "      <th>1076</th>\n",
       "      <td>(0, 0.061337326)</td>\n",
       "      <td>(1, 0.06752863)</td>\n",
       "      <td>(2, 0.061037336)</td>\n",
       "      <td>(3, 0.62237835)</td>\n",
       "      <td>(4, 0.060071733)</td>\n",
       "      <td>(5, 0.06528505)</td>\n",
       "      <td>(6, 0.06236163)</td>\n",
       "    </tr>\n",
       "    <tr>\n",
       "      <th>1077</th>\n",
       "      <td>(0, 0.17186546)</td>\n",
       "      <td>(1, 0.014887316)</td>\n",
       "      <td>(2, 0.10480714)</td>\n",
       "      <td>(3, 0.014094501)</td>\n",
       "      <td>(4, 0.014250851)</td>\n",
       "      <td>(5, 0.66591036)</td>\n",
       "      <td>(6, 0.014184347)</td>\n",
       "    </tr>\n",
       "    <tr>\n",
       "      <th>1078</th>\n",
       "      <td>(0, 0.046396483)</td>\n",
       "      <td>(1, 0.6227541)</td>\n",
       "      <td>(2, 0.2398515)</td>\n",
       "      <td>(3, 0.021438036)</td>\n",
       "      <td>(4, 0.021809861)</td>\n",
       "      <td>(5, 0.026102083)</td>\n",
       "      <td>(6, 0.021647958)</td>\n",
       "    </tr>\n",
       "  </tbody>\n",
       "</table>\n",
       "<p>1079 rows × 7 columns</p>\n",
       "</div>"
      ],
      "text/plain": [
       "                     0                 1                 2                 3  \\\n",
       "0      (0, 0.03217309)  (1, 0.037287343)   (2, 0.79994994)  (3, 0.032144427)   \n",
       "1       (3, 0.8407157)    (4, 0.1340737)              None              None   \n",
       "2       (2, 0.3618778)   (3, 0.43174908)   (4, 0.16601333)  (5, 0.010193422)   \n",
       "3      (0, 0.09850999)   (1, 0.09785562)   (2, 0.09785903)  (3, 0.100541696)   \n",
       "4     (0, 0.018077021)    (1, 0.6091882)   (2, 0.29876631)  (3, 0.015342933)   \n",
       "...                ...               ...               ...               ...   \n",
       "1074   (0, 0.90875703)  (1, 0.010968347)  (2, 0.010853385)   (3, 0.03490639)   \n",
       "1075    (0, 0.5005317)   (1, 0.07448208)  (2, 0.109860025)   (3, 0.08161902)   \n",
       "1076  (0, 0.061337326)   (1, 0.06752863)  (2, 0.061037336)   (3, 0.62237835)   \n",
       "1077   (0, 0.17186546)  (1, 0.014887316)   (2, 0.10480714)  (3, 0.014094501)   \n",
       "1078  (0, 0.046396483)    (1, 0.6227541)    (2, 0.2398515)  (3, 0.021438036)   \n",
       "\n",
       "                     4                 5                 6  \n",
       "0      (4, 0.03162017)  (5, 0.033382054)  (6, 0.033442944)  \n",
       "1                 None              None              None  \n",
       "2     (6, 0.010254331)              None              None  \n",
       "3       (4, 0.3943607)  (5, 0.112618685)   (6, 0.09825431)  \n",
       "4     (4, 0.014283815)  (5, 0.015553755)   (6, 0.02878797)  \n",
       "...                ...               ...               ...  \n",
       "1074  (4, 0.011183948)  (5, 0.012444162)  (6, 0.010886761)  \n",
       "1075   (4, 0.07447046)      (5, 0.07955)   (6, 0.07948675)  \n",
       "1076  (4, 0.060071733)   (5, 0.06528505)   (6, 0.06236163)  \n",
       "1077  (4, 0.014250851)   (5, 0.66591036)  (6, 0.014184347)  \n",
       "1078  (4, 0.021809861)  (5, 0.026102083)  (6, 0.021647958)  \n",
       "\n",
       "[1079 rows x 7 columns]"
      ]
     },
     "execution_count": 30,
     "metadata": {},
     "output_type": "execute_result"
    }
   ],
   "source": [
    "#topic contribution per document\n",
    "df_docu_topics=pd.DataFrame(lda_model.get_document_topics(corpus))\n",
    "df_docu_topics"
   ]
  },
  {
   "cell_type": "code",
   "execution_count": 37,
   "metadata": {},
   "outputs": [
    {
     "data": {
      "text/html": [
       "<div>\n",
       "<style scoped>\n",
       "    .dataframe tbody tr th:only-of-type {\n",
       "        vertical-align: middle;\n",
       "    }\n",
       "\n",
       "    .dataframe tbody tr th {\n",
       "        vertical-align: top;\n",
       "    }\n",
       "\n",
       "    .dataframe thead th {\n",
       "        text-align: right;\n",
       "    }\n",
       "</style>\n",
       "<table border=\"1\" class=\"dataframe\">\n",
       "  <thead>\n",
       "    <tr style=\"text-align: right;\">\n",
       "      <th></th>\n",
       "      <th>Document_No</th>\n",
       "      <th>Dominant_Topic</th>\n",
       "      <th>Topic_Perc_Contrib</th>\n",
       "      <th>Keywords</th>\n",
       "      <th>Text</th>\n",
       "    </tr>\n",
       "  </thead>\n",
       "  <tbody>\n",
       "    <tr>\n",
       "      <th>0</th>\n",
       "      <td>0</td>\n",
       "      <td>2.0</td>\n",
       "      <td>0.8000</td>\n",
       "      <td>farmer, food, care, datum, drive, develop, hom...</td>\n",
       "      <td>forceclouds develops enterprise software inten...</td>\n",
       "    </tr>\n",
       "    <tr>\n",
       "      <th>1</th>\n",
       "      <td>1</td>\n",
       "      <td>3.0</td>\n",
       "      <td>0.8407</td>\n",
       "      <td>development, student, school, work, learn, acc...</td>\n",
       "      <td>jsc credo bank (credo) successfully operating ...</td>\n",
       "    </tr>\n",
       "    <tr>\n",
       "      <th>2</th>\n",
       "      <td>2</td>\n",
       "      <td>3.0</td>\n",
       "      <td>0.4317</td>\n",
       "      <td>development, student, school, work, learn, acc...</td>\n",
       "      <td>our vision is to offer pedagogically different...</td>\n",
       "    </tr>\n",
       "    <tr>\n",
       "      <th>3</th>\n",
       "      <td>3</td>\n",
       "      <td>4.0</td>\n",
       "      <td>0.3945</td>\n",
       "      <td>finance, credit, loan, india, access, urban, l...</td>\n",
       "      <td>the path towards upward economic mobility</td>\n",
       "    </tr>\n",
       "    <tr>\n",
       "      <th>4</th>\n",
       "      <td>4</td>\n",
       "      <td>1.0</td>\n",
       "      <td>0.6088</td>\n",
       "      <td>social, application, impact, security, support...</td>\n",
       "      <td>sustainable restaurant group is a collection o...</td>\n",
       "    </tr>\n",
       "    <tr>\n",
       "      <th>5</th>\n",
       "      <td>5</td>\n",
       "      <td>2.0</td>\n",
       "      <td>0.7665</td>\n",
       "      <td>farmer, food, care, datum, drive, develop, hom...</td>\n",
       "      <td>corticare provides continuous eeg services for...</td>\n",
       "    </tr>\n",
       "    <tr>\n",
       "      <th>6</th>\n",
       "      <td>6</td>\n",
       "      <td>2.0</td>\n",
       "      <td>0.3421</td>\n",
       "      <td>farmer, food, care, datum, drive, develop, hom...</td>\n",
       "      <td>metaweb technologies was spun out of applied m...</td>\n",
       "    </tr>\n",
       "    <tr>\n",
       "      <th>7</th>\n",
       "      <td>7</td>\n",
       "      <td>0.0</td>\n",
       "      <td>0.4353</td>\n",
       "      <td>online, digital, payment, consumer, mobile, ex...</td>\n",
       "      <td>guiabolso offers both financial management and...</td>\n",
       "    </tr>\n",
       "    <tr>\n",
       "      <th>8</th>\n",
       "      <td>8</td>\n",
       "      <td>4.0</td>\n",
       "      <td>0.3721</td>\n",
       "      <td>finance, credit, loan, india, access, urban, l...</td>\n",
       "      <td>fdl is a nonprofit microfinance institution th...</td>\n",
       "    </tr>\n",
       "    <tr>\n",
       "      <th>9</th>\n",
       "      <td>9</td>\n",
       "      <td>6.0</td>\n",
       "      <td>0.5856</td>\n",
       "      <td>health, healthcare, insurance, datum, life, me...</td>\n",
       "      <td>what do we do we carry out aerial inspection a...</td>\n",
       "    </tr>\n",
       "  </tbody>\n",
       "</table>\n",
       "</div>"
      ],
      "text/plain": [
       "   Document_No  Dominant_Topic  Topic_Perc_Contrib  \\\n",
       "0            0             2.0              0.8000   \n",
       "1            1             3.0              0.8407   \n",
       "2            2             3.0              0.4317   \n",
       "3            3             4.0              0.3945   \n",
       "4            4             1.0              0.6088   \n",
       "5            5             2.0              0.7665   \n",
       "6            6             2.0              0.3421   \n",
       "7            7             0.0              0.4353   \n",
       "8            8             4.0              0.3721   \n",
       "9            9             6.0              0.5856   \n",
       "\n",
       "                                            Keywords  \\\n",
       "0  farmer, food, care, datum, drive, develop, hom...   \n",
       "1  development, student, school, work, learn, acc...   \n",
       "2  development, student, school, work, learn, acc...   \n",
       "3  finance, credit, loan, india, access, urban, l...   \n",
       "4  social, application, impact, security, support...   \n",
       "5  farmer, food, care, datum, drive, develop, hom...   \n",
       "6  farmer, food, care, datum, drive, develop, hom...   \n",
       "7  online, digital, payment, consumer, mobile, ex...   \n",
       "8  finance, credit, loan, india, access, urban, l...   \n",
       "9  health, healthcare, insurance, datum, life, me...   \n",
       "\n",
       "                                                Text  \n",
       "0  forceclouds develops enterprise software inten...  \n",
       "1  jsc credo bank (credo) successfully operating ...  \n",
       "2  our vision is to offer pedagogically different...  \n",
       "3          the path towards upward economic mobility  \n",
       "4  sustainable restaurant group is a collection o...  \n",
       "5  corticare provides continuous eeg services for...  \n",
       "6  metaweb technologies was spun out of applied m...  \n",
       "7  guiabolso offers both financial management and...  \n",
       "8  fdl is a nonprofit microfinance institution th...  \n",
       "9  what do we do we carry out aerial inspection a...  "
      ]
     },
     "execution_count": 37,
     "metadata": {},
     "output_type": "execute_result"
    }
   ],
   "source": [
    "def format_topics_sentences(ldamodel=lda_model, corpus=corpus, texts=data):\n",
    "    # Init output\n",
    "    sent_topics_df = pd.DataFrame()\n",
    "\n",
    "    # Get main topic in each document\n",
    "    for i, row in enumerate(ldamodel[corpus]):\n",
    "        row = sorted(row, key=lambda x: (x[1]), reverse=True)\n",
    "        # Get the Dominant topic, Perc Contribution and Keywords for each document\n",
    "        for j, (topic_num, prop_topic) in enumerate(row):\n",
    "            if j == 0:  # => dominant topic\n",
    "                wp = ldamodel.show_topic(topic_num)\n",
    "                topic_keywords = \", \".join([word for word, prop in wp])\n",
    "                sent_topics_df = sent_topics_df.append(pd.Series([int(topic_num), round(prop_topic,4), topic_keywords]), ignore_index=True)\n",
    "            else:\n",
    "                break\n",
    "    sent_topics_df.columns = ['Dominant_Topic', 'Perc_Contribution', 'Topic_Keywords']\n",
    "\n",
    "    # Add original text to the end of the output\n",
    "    contents = pd.Series(texts)\n",
    "    sent_topics_df = pd.concat([sent_topics_df, contents], axis=1)\n",
    "    return(sent_topics_df)\n",
    "\n",
    "\n",
    "df_topic_sents_keywords = format_topics_sentences(ldamodel=lda_model, corpus=corpus, texts=data)\n",
    "\n",
    "# Format\n",
    "df_dominant_topic = df_topic_sents_keywords.reset_index()\n",
    "df_dominant_topic.columns = ['Document_No', 'Dominant_Topic', 'Topic_Perc_Contrib', 'Keywords', 'Text']\n",
    "\n",
    "# Show\n",
    "df_dominant_topic.head(10)"
   ]
  },
  {
   "cell_type": "code",
   "execution_count": 44,
   "metadata": {},
   "outputs": [],
   "source": [
    "df_dominant_topic.to_excel(\"df_dominant_topic_gensim.xlsx\")"
   ]
  },
  {
   "cell_type": "code",
   "execution_count": 42,
   "metadata": {},
   "outputs": [
    {
     "data": {
      "text/html": [
       "<div>\n",
       "<style scoped>\n",
       "    .dataframe tbody tr th:only-of-type {\n",
       "        vertical-align: middle;\n",
       "    }\n",
       "\n",
       "    .dataframe tbody tr th {\n",
       "        vertical-align: top;\n",
       "    }\n",
       "\n",
       "    .dataframe thead th {\n",
       "        text-align: right;\n",
       "    }\n",
       "</style>\n",
       "<table border=\"1\" class=\"dataframe\">\n",
       "  <thead>\n",
       "    <tr style=\"text-align: right;\">\n",
       "      <th></th>\n",
       "      <th>Topic Num</th>\n",
       "      <th>Num Documents</th>\n",
       "    </tr>\n",
       "  </thead>\n",
       "  <tbody>\n",
       "    <tr>\n",
       "      <th>0</th>\n",
       "      <td>0.0</td>\n",
       "      <td>200</td>\n",
       "    </tr>\n",
       "    <tr>\n",
       "      <th>1</th>\n",
       "      <td>2.0</td>\n",
       "      <td>168</td>\n",
       "    </tr>\n",
       "    <tr>\n",
       "      <th>2</th>\n",
       "      <td>6.0</td>\n",
       "      <td>163</td>\n",
       "    </tr>\n",
       "    <tr>\n",
       "      <th>3</th>\n",
       "      <td>3.0</td>\n",
       "      <td>156</td>\n",
       "    </tr>\n",
       "    <tr>\n",
       "      <th>4</th>\n",
       "      <td>5.0</td>\n",
       "      <td>151</td>\n",
       "    </tr>\n",
       "    <tr>\n",
       "      <th>5</th>\n",
       "      <td>4.0</td>\n",
       "      <td>127</td>\n",
       "    </tr>\n",
       "    <tr>\n",
       "      <th>6</th>\n",
       "      <td>1.0</td>\n",
       "      <td>114</td>\n",
       "    </tr>\n",
       "  </tbody>\n",
       "</table>\n",
       "</div>"
      ],
      "text/plain": [
       "   Topic Num  Num Documents\n",
       "0        0.0            200\n",
       "1        2.0            168\n",
       "2        6.0            163\n",
       "3        3.0            156\n",
       "4        5.0            151\n",
       "5        4.0            127\n",
       "6        1.0            114"
      ]
     },
     "execution_count": 42,
     "metadata": {},
     "output_type": "execute_result"
    }
   ],
   "source": [
    "df_topic_distribution = df_dominant_topic['Dominant_Topic'].value_counts().reset_index(name=\"Num Documents\")\n",
    "df_topic_distribution.columns = ['Topic Num', 'Num Documents']\n",
    "df_topic_distribution"
   ]
  },
  {
   "cell_type": "code",
   "execution_count": 43,
   "metadata": {},
   "outputs": [],
   "source": [
    "df_topic_distribution.to_excel(\"df_topic_distribution_gensim.xlsx\")"
   ]
  },
  {
   "cell_type": "code",
   "execution_count": 40,
   "metadata": {},
   "outputs": [
    {
     "data": {
      "text/html": [
       "<div>\n",
       "<style scoped>\n",
       "    .dataframe tbody tr th:only-of-type {\n",
       "        vertical-align: middle;\n",
       "    }\n",
       "\n",
       "    .dataframe tbody tr th {\n",
       "        vertical-align: top;\n",
       "    }\n",
       "\n",
       "    .dataframe thead th {\n",
       "        text-align: right;\n",
       "    }\n",
       "</style>\n",
       "<table border=\"1\" class=\"dataframe\">\n",
       "  <thead>\n",
       "    <tr style=\"text-align: right;\">\n",
       "      <th></th>\n",
       "      <th>Dominant_Topic</th>\n",
       "      <th>Topic_Keywords</th>\n",
       "      <th>Num_Documents</th>\n",
       "      <th>Perc_Documents</th>\n",
       "    </tr>\n",
       "  </thead>\n",
       "  <tbody>\n",
       "    <tr>\n",
       "      <th>0.0</th>\n",
       "      <td>2.0</td>\n",
       "      <td>farmer, food, care, datum, drive, develop, hom...</td>\n",
       "      <td>200.0</td>\n",
       "      <td>0.1854</td>\n",
       "    </tr>\n",
       "    <tr>\n",
       "      <th>1.0</th>\n",
       "      <td>3.0</td>\n",
       "      <td>development, student, school, work, learn, acc...</td>\n",
       "      <td>114.0</td>\n",
       "      <td>0.1057</td>\n",
       "    </tr>\n",
       "    <tr>\n",
       "      <th>2.0</th>\n",
       "      <td>3.0</td>\n",
       "      <td>development, student, school, work, learn, acc...</td>\n",
       "      <td>168.0</td>\n",
       "      <td>0.1557</td>\n",
       "    </tr>\n",
       "    <tr>\n",
       "      <th>3.0</th>\n",
       "      <td>4.0</td>\n",
       "      <td>finance, credit, loan, india, access, urban, l...</td>\n",
       "      <td>156.0</td>\n",
       "      <td>0.1446</td>\n",
       "    </tr>\n",
       "    <tr>\n",
       "      <th>4.0</th>\n",
       "      <td>1.0</td>\n",
       "      <td>social, application, impact, security, support...</td>\n",
       "      <td>127.0</td>\n",
       "      <td>0.1177</td>\n",
       "    </tr>\n",
       "    <tr>\n",
       "      <th>5.0</th>\n",
       "      <td>2.0</td>\n",
       "      <td>farmer, food, care, datum, drive, develop, hom...</td>\n",
       "      <td>151.0</td>\n",
       "      <td>0.1399</td>\n",
       "    </tr>\n",
       "    <tr>\n",
       "      <th>6.0</th>\n",
       "      <td>2.0</td>\n",
       "      <td>farmer, food, care, datum, drive, develop, hom...</td>\n",
       "      <td>163.0</td>\n",
       "      <td>0.1511</td>\n",
       "    </tr>\n",
       "  </tbody>\n",
       "</table>\n",
       "</div>"
      ],
      "text/plain": [
       "     Dominant_Topic                                     Topic_Keywords  \\\n",
       "0.0             2.0  farmer, food, care, datum, drive, develop, hom...   \n",
       "1.0             3.0  development, student, school, work, learn, acc...   \n",
       "2.0             3.0  development, student, school, work, learn, acc...   \n",
       "3.0             4.0  finance, credit, loan, india, access, urban, l...   \n",
       "4.0             1.0  social, application, impact, security, support...   \n",
       "5.0             2.0  farmer, food, care, datum, drive, develop, hom...   \n",
       "6.0             2.0  farmer, food, care, datum, drive, develop, hom...   \n",
       "\n",
       "     Num_Documents  Perc_Documents  \n",
       "0.0          200.0          0.1854  \n",
       "1.0          114.0          0.1057  \n",
       "2.0          168.0          0.1557  \n",
       "3.0          156.0          0.1446  \n",
       "4.0          127.0          0.1177  \n",
       "5.0          151.0          0.1399  \n",
       "6.0          163.0          0.1511  "
      ]
     },
     "execution_count": 40,
     "metadata": {},
     "output_type": "execute_result"
    }
   ],
   "source": [
    "# Number of Documents for Each Topic\n",
    "topic_counts = df_topic_sents_keywords['Dominant_Topic'].value_counts()\n",
    "\n",
    "# Percentage of Documents for Each Topic\n",
    "topic_contribution = round(topic_counts/topic_counts.sum(), 4)\n",
    "\n",
    "# Topic Number and Keywords\n",
    "topic_num_keywords = df_topic_sents_keywords[['Dominant_Topic', 'Topic_Keywords']]\n",
    "\n",
    "# Concatenate Column wise\n",
    "df_dominant_topics = pd.concat([topic_num_keywords, topic_counts, topic_contribution], axis=1)\n",
    "\n",
    "# Change Column names\n",
    "df_dominant_topics.columns = ['Dominant_Topic', 'Topic_Keywords', 'Num_Documents', 'Perc_Documents']\n",
    "\n",
    "# Show\n",
    "df_dominant_topics.head(7)"
   ]
  },
  {
   "cell_type": "code",
   "execution_count": 31,
   "metadata": {},
   "outputs": [],
   "source": [
    "df_docu_topics.to_excel(\"df_docu_topics_gensim.xlsx\")"
   ]
  },
  {
   "cell_type": "markdown",
   "metadata": {},
   "source": [
    "# Tranform data_test and apply trained model per random SMEs"
   ]
  },
  {
   "cell_type": "code",
   "execution_count": 96,
   "metadata": {},
   "outputs": [],
   "source": [
    "data_test=test.Long_description.values.tolist()"
   ]
  },
  {
   "cell_type": "code",
   "execution_count": 97,
   "metadata": {},
   "outputs": [
    {
     "name": "stderr",
     "output_type": "stream",
     "text": [
      "C:\\Users\\daian\\anaconda3\\lib\\site-packages\\ipykernel_launcher.py:4: SettingWithCopyWarning: \n",
      "A value is trying to be set on a copy of a slice from a DataFrame.\n",
      "Try using .loc[row_indexer,col_indexer] = value instead\n",
      "\n",
      "See the caveats in the documentation: https://pandas.pydata.org/pandas-docs/stable/user_guide/indexing.html#returning-a-view-versus-a-copy\n",
      "  after removing the cwd from sys.path.\n",
      "C:\\Users\\daian\\anaconda3\\lib\\site-packages\\ipykernel_launcher.py:6: SettingWithCopyWarning: \n",
      "A value is trying to be set on a copy of a slice from a DataFrame.\n",
      "Try using .loc[row_indexer,col_indexer] = value instead\n",
      "\n",
      "See the caveats in the documentation: https://pandas.pydata.org/pandas-docs/stable/user_guide/indexing.html#returning-a-view-versus-a-copy\n",
      "  \n"
     ]
    },
    {
     "data": {
      "text/plain": [
       "198     shaw healthcare is the health and social care ...\n",
       "328     preempt secures all workforce identities every...\n",
       "45      cotton ginning company improve household incom...\n",
       "263     gamerdna is a social network for online gamers...\n",
       "621     acep cameroun is a microfinance institution sp...\n",
       "520     our vision is running water in every home as a...\n",
       "186     ways to wellness provides support to people in...\n",
       "987     tarfin is a leading fintech company that provi...\n",
       "1107    skillsmart - a growing technology start-up tra...\n",
       "1052    gevo inc has a mission to transform renewable ...\n",
       "311     aquicore is a leading commercial real estate s...\n",
       "1090    fig helps you through financial emergencies an...\n",
       "Name: Long_description_processed, dtype: object"
      ]
     },
     "execution_count": 97,
     "metadata": {},
     "output_type": "execute_result"
    }
   ],
   "source": [
    "# Load the regular expression library\n",
    "import re\n",
    "# Remove punctuation\n",
    "test['Long_description_processed'] = test['Long_description'].map(lambda x: re.sub('[,\\.!?]', '', x))\n",
    "# Convert the descriptions to lowercase\n",
    "test['Long_description_processed'] = test['Long_description_processed'].map(lambda x: x.lower())\n",
    "# Print out the first rows of descriptions\n",
    "test['Long_description_processed'].head(12)"
   ]
  },
  {
   "cell_type": "code",
   "execution_count": 98,
   "metadata": {},
   "outputs": [
    {
     "name": "stdout",
     "output_type": "stream",
     "text": [
      "['shaw', 'healthcare', 'is', 'the', 'health', 'and', 'social', 'care', 'providers']\n"
     ]
    }
   ],
   "source": [
    "data = test.Long_description_processed.values.tolist()\n",
    "data_words = list(sent_to_words(data))\n",
    "print(data_words[:1][0][:30])"
   ]
  },
  {
   "cell_type": "code",
   "execution_count": 99,
   "metadata": {},
   "outputs": [
    {
     "name": "stdout",
     "output_type": "stream",
     "text": [
      "[['shaw', 'healthcare', 'health', 'social', 'care', 'provider'], ['preempt', 'secure', 'workforce', 'identity', 'everywhere']]\n"
     ]
    }
   ],
   "source": [
    "import spacy\n",
    "# Remove Stop Words\n",
    "data_words_nostops = remove_stopwords(data_words)\n",
    "# Form Bigrams\n",
    "data_words_bigrams = make_bigrams(data_words_nostops)\n",
    "# Initialize spacy 'en' model, keeping only tagger component (for efficiency)\n",
    "nlp = spacy.load(\"en_core_web_sm\", disable=['parser', 'ner'])\n",
    "# Do lemmatization keeping only noun, adj, vb, adv\n",
    "data_lemmatized = lemmatization(data_words_bigrams, allowed_postags=['NOUN', 'ADJ', 'VERB', 'ADV'])\n",
    "print(data_lemmatized[:2])"
   ]
  },
  {
   "cell_type": "code",
   "execution_count": 100,
   "metadata": {},
   "outputs": [],
   "source": [
    "import gensim.corpora as corpora\n",
    "# Create Dictionary\n",
    "id2word = corpora.Dictionary(data_lemmatized)\n",
    "# Create Corpus\n",
    "texts = data_lemmatized"
   ]
  },
  {
   "cell_type": "code",
   "execution_count": 101,
   "metadata": {},
   "outputs": [
    {
     "name": "stdout",
     "output_type": "stream",
     "text": [
      "[[(0, 1), (1, 1), (2, 1), (3, 1), (4, 1), (5, 1)], [(6, 1), (7, 1), (8, 1), (9, 1), (10, 1)]]\n"
     ]
    }
   ],
   "source": [
    "# Term Document Frequency\n",
    "corpus1 = [id2word.doc2bow(text) for text in texts]\n",
    "# View\n",
    "print(corpus[:2])"
   ]
  },
  {
   "cell_type": "code",
   "execution_count": 108,
   "metadata": {},
   "outputs": [
    {
     "data": {
      "text/plain": [
       "-7.362985259455337"
      ]
     },
     "execution_count": 108,
     "metadata": {},
     "output_type": "execute_result"
    }
   ],
   "source": [
    "lda_model.log_perplexity(corpus1)"
   ]
  },
  {
   "cell_type": "code",
   "execution_count": 102,
   "metadata": {},
   "outputs": [
    {
     "name": "stdout",
     "output_type": "stream",
     "text": [
      "\n",
      "Perplexity:  -7.362985252250922\n"
     ]
    }
   ],
   "source": [
    "\n",
    "# Compute Perplexity\n",
    "print('\\nPerplexity: ', lda_model.log_perplexity(corpus1))  # a measure of how good the model is. lower the better.\n"
   ]
  },
  {
   "cell_type": "code",
   "execution_count": 104,
   "metadata": {},
   "outputs": [
    {
     "name": "stdout",
     "output_type": "stream",
     "text": [
      "\n",
      "Perplexity:  -26742.36232370138\n"
     ]
    }
   ],
   "source": [
    "# Compute Perplexity\n",
    "print('\\nPerplexity: ', lda_model.bound(corpus1))  # a measure of how good the model is. lower the better."
   ]
  },
  {
   "cell_type": "code",
   "execution_count": 103,
   "metadata": {},
   "outputs": [
    {
     "data": {
      "text/plain": [
       "1576.5359352686592"
      ]
     },
     "execution_count": 103,
     "metadata": {},
     "output_type": "execute_result"
    }
   ],
   "source": [
    "np.exp(-1.*-7.362985273060032)"
   ]
  },
  {
   "cell_type": "code",
   "execution_count": 105,
   "metadata": {},
   "outputs": [
    {
     "name": "stderr",
     "output_type": "stream",
     "text": [
      "C:\\Users\\daian\\anaconda3\\lib\\site-packages\\ipykernel_launcher.py:2: RuntimeWarning: overflow encountered in exp\n",
      "  \n"
     ]
    },
    {
     "data": {
      "text/plain": [
       "inf"
      ]
     },
     "execution_count": 105,
     "metadata": {},
     "output_type": "execute_result"
    }
   ],
   "source": [
    "#convert gensim log_perplexity to the perlexity value from scikitlearn, to make them comparable \n",
    "np.exp(-1.*lda_model.bound(corpus1))\n"
   ]
  },
  {
   "cell_type": "code",
   "execution_count": 83,
   "metadata": {},
   "outputs": [
    {
     "data": {
      "text/plain": [
       "[['shaw', 'healthcare', 'health', 'social', 'care', 'provider'],\n",
       " ['preempt', 'secure', 'workforce', 'identity', 'everywhere'],\n",
       " ['cotton',\n",
       "  'gin',\n",
       "  'company',\n",
       "  'improve',\n",
       "  'household',\n",
       "  'income',\n",
       "  'socio',\n",
       "  'economic',\n",
       "  'opportunity',\n",
       "  'farmer',\n",
       "  'northern',\n",
       "  'uganda',\n",
       "  'partnership',\n",
       "  'programme',\n",
       "  'ugandan',\n",
       "  'government',\n",
       "  'donor',\n",
       "  'business'],\n",
       " ['gamerdna',\n",
       "  'social',\n",
       "  'network',\n",
       "  'online',\n",
       "  'gamer',\n",
       "  'massively',\n",
       "  'multiplayer',\n",
       "  'online',\n",
       "  'roleplay',\n",
       "  'game',\n",
       "  'community'],\n",
       " ['acep',\n",
       "  'cameroun',\n",
       "  'microfinance_institution',\n",
       "  'specialized',\n",
       "  'financing',\n",
       "  'sme',\n",
       "  'urban',\n",
       "  'area',\n",
       "  'douala',\n",
       "  'yaounde',\n",
       "  'bafoussam']]"
      ]
     },
     "execution_count": 83,
     "metadata": {},
     "output_type": "execute_result"
    }
   ],
   "source": [
    "texts[:5]"
   ]
  },
  {
   "cell_type": "code",
   "execution_count": 84,
   "metadata": {},
   "outputs": [
    {
     "name": "stdout",
     "output_type": "stream",
     "text": [
      "[(0, 1), (1, 1), (2, 1), (3, 1), (4, 1), (5, 1)]\n"
     ]
    }
   ],
   "source": [
    "num=0\n",
    "unseen_document = corpus[num]\n",
    "print(unseen_document)"
   ]
  },
  {
   "cell_type": "code",
   "execution_count": 85,
   "metadata": {},
   "outputs": [
    {
     "name": "stdout",
     "output_type": "stream",
     "text": [
      "Score: 0.7530252933502197\t Topic: 0.011*\"bank\" + 0.009*\"business\" + 0.008*\"care\" + 0.007*\"new\" + 0.007*\"service\" + 0.006*\"product\" + 0.006*\"help\" + 0.006*\"provider\"\n",
      "Score: 0.05039582401514053\t Topic: 0.012*\"credit\" + 0.010*\"base\" + 0.009*\"service\" + 0.008*\"customer\" + 0.007*\"company\" + 0.006*\"product\" + 0.006*\"brain\" + 0.005*\"well\"\n",
      "Score: 0.04177873954176903\t Topic: 0.009*\"well\" + 0.008*\"improve\" + 0.007*\"product\" + 0.006*\"small\" + 0.006*\"business\" + 0.006*\"provide\" + 0.005*\"company\" + 0.005*\"high\"\n",
      "Score: 0.03957386687397957\t Topic: 0.013*\"insurance\" + 0.011*\"provide\" + 0.009*\"service\" + 0.008*\"customer\" + 0.007*\"company\" + 0.006*\"urban\" + 0.006*\"product\" + 0.005*\"financial\"\n",
      "Score: 0.03852258622646332\t Topic: 0.014*\"project\" + 0.009*\"community\" + 0.009*\"help\" + 0.008*\"management\" + 0.008*\"service\" + 0.008*\"technology\" + 0.008*\"client\" + 0.005*\"institution\"\n",
      "Score: 0.0384100116789341\t Topic: 0.010*\"platform\" + 0.010*\"provide\" + 0.008*\"company\" + 0.007*\"financial\" + 0.007*\"digital\" + 0.005*\"technology\" + 0.005*\"datum\" + 0.005*\"process\"\n",
      "Score: 0.03829373046755791\t Topic: 0.012*\"provide\" + 0.009*\"solution\" + 0.008*\"india\" + 0.007*\"product\" + 0.007*\"teacher\" + 0.006*\"business\" + 0.006*\"quality\" + 0.006*\"kin\"\n"
     ]
    }
   ],
   "source": [
    "#bow_vector = dictionary.doc2bow((unseen_document))\n",
    "\n",
    "for index, score in sorted(lda_model[unseen_document], key=lambda tup: -1*tup[1]):\n",
    "    print(\"Score: {}\\t Topic: {}\".format(score, lda_model.print_topic(index, 8)))"
   ]
  },
  {
   "cell_type": "code",
   "execution_count": 149,
   "metadata": {},
   "outputs": [
    {
     "name": "stdout",
     "output_type": "stream",
     "text": [
      "[(1, 1), (5, 1), (35, 1), (47, 2), (49, 1), (50, 1), (51, 1), (52, 1), (53, 1), (54, 1), (55, 1), (56, 1), (57, 1), (58, 1), (59, 2), (60, 1), (61, 2), (62, 1), (63, 1), (64, 1), (65, 1), (66, 3)]\n"
     ]
    }
   ],
   "source": [
    "num=5\n",
    "unseen_document = corpus[num]\n",
    "print(unseen_document)"
   ]
  },
  {
   "cell_type": "code",
   "execution_count": 147,
   "metadata": {},
   "outputs": [
    {
     "name": "stdout",
     "output_type": "stream",
     "text": [
      "Score: 0.49588003754615784\t Topic: 0.026*\"development\" + 0.023*\"student\" + 0.018*\"school\" + 0.018*\"work\" + 0.017*\"learn\" + 0.016*\"access\" + 0.016*\"employee\" + 0.016*\"education\"\n",
      "Score: 0.2846449911594391\t Topic: 0.041*\"finance\" + 0.035*\"credit\" + 0.030*\"loan\" + 0.029*\"india\" + 0.020*\"access\" + 0.020*\"urban\" + 0.019*\"lending\" + 0.018*\"rural\"\n",
      "Score: 0.1727479249238968\t Topic: 0.028*\"farmer\" + 0.022*\"food\" + 0.021*\"datum\" + 0.021*\"care\" + 0.016*\"drive\" + 0.015*\"develop\" + 0.015*\"home\" + 0.014*\"work\"\n",
      "Score: 0.012371384538710117\t Topic: 0.038*\"health\" + 0.024*\"healthcare\" + 0.023*\"insurance\" + 0.020*\"life\" + 0.020*\"datum\" + 0.017*\"medical\" + 0.016*\"good\" + 0.016*\"small\"\n",
      "Score: 0.011617734096944332\t Topic: 0.033*\"energy\" + 0.029*\"power\" + 0.019*\"system\" + 0.018*\"solar\" + 0.017*\"network\" + 0.016*\"high\" + 0.015*\"industry\" + 0.014*\"africa\"\n",
      "Score: 0.01148970052599907\t Topic: 0.056*\"social\" + 0.025*\"application\" + 0.024*\"impact\" + 0.020*\"support\" + 0.020*\"security\" + 0.016*\"network\" + 0.016*\"software\" + 0.014*\"provider\"\n",
      "Score: 0.011248211376369\t Topic: 0.034*\"online\" + 0.026*\"digital\" + 0.023*\"payment\" + 0.023*\"consumer\" + 0.020*\"mobile\" + 0.016*\"experience\" + 0.015*\"app\" + 0.013*\"access\"\n"
     ]
    }
   ],
   "source": [
    "\n",
    "for index, score in sorted(lda_model[unseen_document], key=lambda tup: -1*tup[1]):\n",
    "    print(\"Score: {}\\t Topic: {}\".format(score, lda_model.print_topic(index, 8)))"
   ]
  },
  {
   "cell_type": "code",
   "execution_count": 148,
   "metadata": {},
   "outputs": [
    {
     "data": {
      "text/plain": [
       "['vision',\n",
       " 'run',\n",
       " 'water',\n",
       " 'home',\n",
       " 'social',\n",
       " 'enterprise',\n",
       " 'develop',\n",
       " 'technological',\n",
       " 'financial',\n",
       " 'solution',\n",
       " 'enable',\n",
       " 'water',\n",
       " 'utility',\n",
       " 'connect',\n",
       " 'urban',\n",
       " 'people',\n",
       " 'network',\n",
       " 'citytap',\n",
       " 'help',\n",
       " 'bring',\n",
       " 'run',\n",
       " 'water',\n",
       " 'urban',\n",
       " 'home',\n",
       " 'boost',\n",
       " 'health',\n",
       " 'dignity']"
      ]
     },
     "execution_count": 148,
     "metadata": {},
     "output_type": "execute_result"
    }
   ],
   "source": [
    "texts[5]"
   ]
  },
  {
   "cell_type": "code",
   "execution_count": null,
   "metadata": {},
   "outputs": [],
   "source": []
  }
 ],
 "metadata": {
  "kernelspec": {
   "display_name": "Python 3",
   "language": "python",
   "name": "python3"
  },
  "language_info": {
   "codemirror_mode": {
    "name": "ipython",
    "version": 3
   },
   "file_extension": ".py",
   "mimetype": "text/x-python",
   "name": "python",
   "nbconvert_exporter": "python",
   "pygments_lexer": "ipython3",
   "version": "3.7.6"
  }
 },
 "nbformat": 4,
 "nbformat_minor": 4
}
