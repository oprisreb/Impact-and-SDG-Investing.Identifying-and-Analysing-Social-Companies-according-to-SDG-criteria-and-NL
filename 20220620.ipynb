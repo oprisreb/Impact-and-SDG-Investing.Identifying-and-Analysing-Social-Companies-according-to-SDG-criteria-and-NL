{
  "nbformat": 4,
  "nbformat_minor": 0,
  "metadata": {
    "colab": {
      "name": "20220620.ipynb",
      "provenance": [],
      "toc_visible": true,
      "authorship_tag": "ABX9TyMyrGLiwwODhgGDmLQHFwnM",
      "include_colab_link": true
    },
    "kernelspec": {
      "name": "python3",
      "display_name": "Python 3"
    },
    "language_info": {
      "name": "python"
    }
  },
  "cells": [
    {
      "cell_type": "markdown",
      "metadata": {
        "id": "view-in-github",
        "colab_type": "text"
      },
      "source": [
        "<a href=\"https://colab.research.google.com/github/oprisreb/Impact-and-SDG-Investing.Identifying-and-Analysing-Social-Companies-according-to-SDG-criteria-and-NL/blob/main/20220620.ipynb\" target=\"_parent\"><img src=\"https://colab.research.google.com/assets/colab-badge.svg\" alt=\"Open In Colab\"/></a>"
      ]
    },
    {
      "cell_type": "code",
      "execution_count": 1,
      "metadata": {
        "colab": {
          "base_uri": "https://localhost:8080/"
        },
        "id": "g64Oa41No-fm",
        "outputId": "5d5258c9-896c-409e-abe3-5a0f06116bb3"
      },
      "outputs": [
        {
          "output_type": "execute_result",
          "data": {
            "text/plain": [
              "44"
            ]
          },
          "metadata": {},
          "execution_count": 1
        }
      ],
      "source": [
        "42+2"
      ]
    },
    {
      "cell_type": "code",
      "source": [
        ""
      ],
      "metadata": {
        "id": "ZtbwtSLupIxu"
      },
      "execution_count": null,
      "outputs": []
    }
  ]
}