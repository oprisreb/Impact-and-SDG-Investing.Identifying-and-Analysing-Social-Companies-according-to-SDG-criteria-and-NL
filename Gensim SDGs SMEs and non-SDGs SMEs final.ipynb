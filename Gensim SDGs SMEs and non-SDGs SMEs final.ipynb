{
 "cells": [
  {
   "cell_type": "code",
   "execution_count": 1,
   "metadata": {},
   "outputs": [],
   "source": [
    "import gensim\n",
    "from gensim.utils import simple_preprocess\n",
    "from gensim.parsing.preprocessing import STOPWORDS\n",
    "from nltk.stem import WordNetLemmatizer, SnowballStemmer\n",
    "from nltk.stem.porter import *\n",
    "import numpy as np\n",
    "np.random.seed(400)\n",
    "from sklearn.model_selection import train_test_split\n",
    "from sklearn import datasets\n",
    "from sklearn import svm"
   ]
  },
  {
   "cell_type": "code",
   "execution_count": 2,
   "metadata": {},
   "outputs": [
    {
     "data": {
      "text/html": [
       "<div>\n",
       "<style scoped>\n",
       "    .dataframe tbody tr th:only-of-type {\n",
       "        vertical-align: middle;\n",
       "    }\n",
       "\n",
       "    .dataframe tbody tr th {\n",
       "        vertical-align: top;\n",
       "    }\n",
       "\n",
       "    .dataframe thead th {\n",
       "        text-align: right;\n",
       "    }\n",
       "</style>\n",
       "<table border=\"1\" class=\"dataframe\">\n",
       "  <thead>\n",
       "    <tr style=\"text-align: right;\">\n",
       "      <th></th>\n",
       "      <th>Company Name</th>\n",
       "      <th>Long_description</th>\n",
       "      <th>Type</th>\n",
       "    </tr>\n",
       "  </thead>\n",
       "  <tbody>\n",
       "    <tr>\n",
       "      <th>0</th>\n",
       "      <td>Affect Therapeutics</td>\n",
       "      <td>Affect is using digital technology to deliver ...</td>\n",
       "      <td>SDGs</td>\n",
       "    </tr>\n",
       "  </tbody>\n",
       "</table>\n",
       "</div>"
      ],
      "text/plain": [
       "          Company Name                                   Long_description  \\\n",
       "0  Affect Therapeutics  Affect is using digital technology to deliver ...   \n",
       "\n",
       "   Type  \n",
       "0  SDGs  "
      ]
     },
     "execution_count": 2,
     "metadata": {},
     "output_type": "execute_result"
    }
   ],
   "source": [
    "# Importing modules\n",
    "import pandas as pd\n",
    "\n",
    "# Read data \n",
    "df=pd.read_excel(\"data_sdgs and non_final.xlsx\")\n",
    "# Print head\n",
    "df.head(1)"
   ]
  },
  {
   "cell_type": "code",
   "execution_count": 3,
   "metadata": {},
   "outputs": [],
   "source": [
    "train, test= train_test_split(df,test_size=0.1,random_state=0)"
   ]
  },
  {
   "cell_type": "code",
   "execution_count": 4,
   "metadata": {},
   "outputs": [
    {
     "name": "stderr",
     "output_type": "stream",
     "text": [
      "C:\\Users\\daian\\anaconda3\\lib\\site-packages\\ipykernel_launcher.py:4: SettingWithCopyWarning: \n",
      "A value is trying to be set on a copy of a slice from a DataFrame.\n",
      "Try using .loc[row_indexer,col_indexer] = value instead\n",
      "\n",
      "See the caveats in the documentation: https://pandas.pydata.org/pandas-docs/stable/user_guide/indexing.html#returning-a-view-versus-a-copy\n",
      "  after removing the cwd from sys.path.\n",
      "C:\\Users\\daian\\anaconda3\\lib\\site-packages\\ipykernel_launcher.py:6: SettingWithCopyWarning: \n",
      "A value is trying to be set on a copy of a slice from a DataFrame.\n",
      "Try using .loc[row_indexer,col_indexer] = value instead\n",
      "\n",
      "See the caveats in the documentation: https://pandas.pydata.org/pandas-docs/stable/user_guide/indexing.html#returning-a-view-versus-a-copy\n",
      "  \n"
     ]
    },
    {
     "data": {
      "text/plain": [
       "1949    curiositystream is a global factual streaming ...\n",
       "1583    factorial is a human resources software platfo...\n",
       "2060    apptio is the leading provider of cloud-based ...\n",
       "342     skout cybersecurity is a channel-only provider...\n",
       "1833    grip is an investment platform that allows ret...\n",
       "Name: Long_description_processed, dtype: object"
      ]
     },
     "execution_count": 4,
     "metadata": {},
     "output_type": "execute_result"
    }
   ],
   "source": [
    "# Load the regular expression library\n",
    "import re\n",
    "# Remove punctuation\n",
    "train['Long_description_processed'] = train['Long_description'].map(lambda x: re.sub('[,\\.!?]', '', x))\n",
    "# Convert the text to lowercase\n",
    "train['Long_description_processed'] = train['Long_description_processed'].map(lambda x: x.lower())\n",
    "#Print the first rows of descriptions\n",
    "train['Long_description_processed'].head()"
   ]
  },
  {
   "cell_type": "code",
   "execution_count": 5,
   "metadata": {},
   "outputs": [
    {
     "name": "stdout",
     "output_type": "stream",
     "text": [
      "['curiositystream', 'is', 'global', 'factual', 'streaming', 'services', 'and', 'media', 'companies', 'our', 'documentary', 'series', 'and', 'features', 'cover', 'every', 'topic', 'from', 'space', 'exploration', 'to', 'adventure', 'to', 'the', 'secret', 'life', 'of', 'pets', 'empowering', 'viewers']\n"
     ]
    }
   ],
   "source": [
    "import gensim\n",
    "from gensim.utils import simple_preprocess\n",
    "def sent_to_words(sentences):\n",
    "    for sentence in sentences:\n",
    "        yield(gensim.utils.simple_preprocess(str(sentence), deacc=True))  # deacc=True removes punctuations\n",
    "data = train.Long_description_processed.values.tolist()\n",
    "data_words = list(sent_to_words(data))\n",
    "print(data_words[:1][0][:30])"
   ]
  },
  {
   "cell_type": "code",
   "execution_count": 6,
   "metadata": {},
   "outputs": [],
   "source": [
    "# Build the bigram and trigram models\n",
    "bigram = gensim.models.Phrases(data_words, min_count=5, threshold=100) # higher threshold fewer phrases.\n",
    "trigram = gensim.models.Phrases(bigram[data_words], threshold=100)\n",
    "# same process, but faster\n",
    "bigram_mod = gensim.models.phrases.Phraser(bigram)\n",
    "trigram_mod = gensim.models.phrases.Phraser(trigram)"
   ]
  },
  {
   "cell_type": "code",
   "execution_count": 7,
   "metadata": {},
   "outputs": [],
   "source": [
    "# NLTK Stop words\n",
    "# import nltk\n",
    "# nltk.download('stopwords')\n",
    "from nltk.corpus import stopwords\n",
    "stop_words = stopwords.words('english')\n",
    "stop_words.extend(['from', 'subject', 're', 'edu', 'use'])\n",
    "# Define functions for stopwords, bigrams, trigrams and lemmatization\n",
    "def remove_stopwords(texts):\n",
    "    return [[word for word in simple_preprocess(str(doc)) if word not in stop_words] for doc in texts]\n",
    "def make_bigrams(texts):\n",
    "    return [bigram_mod[doc] for doc in texts]\n",
    "def make_trigrams(texts):\n",
    "    return [trigram_mod[bigram_mod[doc]] for doc in texts]\n",
    "def lemmatization(texts, allowed_postags=['NOUN', 'ADJ', 'VERB', 'ADV']):\n",
    "    \"\"\"https://spacy.io/api/annotation\"\"\"\n",
    "    texts_out = []\n",
    "    for sent in texts:\n",
    "        doc = nlp(\" \".join(sent)) \n",
    "        texts_out.append([token.lemma_ for token in doc if token.pos_ in allowed_postags])\n",
    "    return texts_out"
   ]
  },
  {
   "cell_type": "code",
   "execution_count": 8,
   "metadata": {},
   "outputs": [
    {
     "name": "stdout",
     "output_type": "stream",
     "text": [
      "[['curiositystream', 'global', 'factual', 'streaming', 'service', 'medium', 'company', 'documentary', 'series', 'feature', 'cover', 'topic', 'space', 'exploration', 'adventure', 'secret', 'life', 'pet', 'empower', 'viewer', 'age', 'fuel', 'passion', 'explore', 'new', 'one', 'thousand', 'title', 'many', 'ultra', 'hd', 'include', 'exclusive', 'original', 'curiositystream', 'feature', 'stunning', 'visual', 'unrivaled', 'storytelling', 'demystify', 'science', 'nature', 'history', 'technology', 'society', 'lifestyle', 'curiositystream', 'programming', 'available', 'worldwide', 'watch', 'tv', 'desktop', 'mobile', 'tablet', 'find', 'roku', 'apple', 'tv', 'channel', 'apple', 'tv', 'xbox', 'amazon', 'fire', 'tv', 'google', 'chromecast', 'io', 'android', 'well', 'amazon', 'prime', 'video', 'channel', 'youtube', 'tv', 'sling', 'tv', 'dish', 'comcast', 'xfinity', 'demand', 'cox', 'communication', 'altice', 'usa', 'suddenlink', 'mobile', 'frndly', 'tv', 'vidgo', 'sony', 'samsung', 'vizio', 'smart', 'tvs', 'liberty', 'global', 'com', 'hem', 'multichoice', 'starhub', 'tv', 'totalplay', 'millicom', 'okko', 'gazprom', 'global', 'distribution', 'partner', 'platform']]\n"
     ]
    }
   ],
   "source": [
    "import spacy\n",
    "# Remove Stop Words\n",
    "data_words_nostops = remove_stopwords(data_words)\n",
    "# Form Bigrams\n",
    "data_words_bigrams = make_bigrams(data_words_nostops)\n",
    "# Initialize spacy 'en' model\n",
    "nlp = spacy.load(\"en_core_web_sm\", disable=['parser', 'ner'])\n",
    "# Do lemmatization keeping only noun, adj, vb, adv\n",
    "data_lemmatized = lemmatization(data_words_bigrams, allowed_postags=['NOUN', 'ADJ', 'VERB', 'ADV'])\n",
    "print(data_lemmatized[:1])"
   ]
  },
  {
   "cell_type": "code",
   "execution_count": 9,
   "metadata": {},
   "outputs": [],
   "source": [
    "import gensim.corpora as corpora\n",
    "# Create Dictionary\n",
    "id2word = corpora.Dictionary(data_lemmatized)\n",
    "# Create Corpus\n",
    "texts = data_lemmatized"
   ]
  },
  {
   "cell_type": "code",
   "execution_count": 10,
   "metadata": {},
   "outputs": [
    {
     "name": "stdout",
     "output_type": "stream",
     "text": [
      "0 adventure\n",
      "1 age\n",
      "2 altice\n",
      "3 amazon\n",
      "4 android\n",
      "5 apple\n",
      "6 available\n",
      "7 channel\n",
      "8 chromecast\n"
     ]
    }
   ],
   "source": [
    "'''\n",
    "Checking dictionary created\n",
    "'''\n",
    "count = 0\n",
    "for k, v in id2word.iteritems():\n",
    "    print(k, v)\n",
    "    count += 1\n",
    "    if count > 8:\n",
    "        break"
   ]
  },
  {
   "cell_type": "code",
   "execution_count": 11,
   "metadata": {},
   "outputs": [],
   "source": [
    "#filter extremes\n",
    "id2word.filter_extremes(no_below=15, no_above=0.1, keep_n= 100000)"
   ]
  },
  {
   "cell_type": "code",
   "execution_count": 12,
   "metadata": {
    "scrolled": true
   },
   "outputs": [
    {
     "name": "stdout",
     "output_type": "stream",
     "text": [
      "[[(0, 1), (1, 1), (2, 2), (3, 1), (4, 1), (5, 1), (6, 1), (7, 1), (8, 2), (9, 1), (10, 1), (11, 3), (12, 1), (13, 1), (14, 1), (15, 1), (16, 2), (17, 1), (18, 1), (19, 1), (20, 1), (21, 1), (22, 1), (23, 1), (24, 1), (25, 1), (26, 1), (27, 1)]]\n"
     ]
    }
   ],
   "source": [
    "# Term Document Frequency\n",
    "corpus = [id2word.doc2bow(text) for text in texts]\n",
    "# View\n",
    "print(corpus[:1])"
   ]
  },
  {
   "cell_type": "code",
   "execution_count": 13,
   "metadata": {},
   "outputs": [],
   "source": [
    "# Build LDA model\n",
    "lda_model = gensim.models.LdaMulticore(corpus=corpus,\n",
    "                                       id2word=id2word,\n",
    "                                       num_topics=2, \n",
    "                                       random_state=100,\n",
    "                                       chunksize=100,\n",
    "                                       passes=10,\n",
    "                                       per_word_topics=True\n",
    "                                       )"
   ]
  },
  {
   "cell_type": "code",
   "execution_count": 14,
   "metadata": {},
   "outputs": [
    {
     "name": "stdout",
     "output_type": "stream",
     "text": [
      "[(0,\n",
      "  '0.008*\"system\" + 0.007*\"new\" + 0.007*\"market\" + 0.007*\"development\" + '\n",
      "  '0.007*\"social\" + 0.007*\"industry\" + 0.007*\"energy\" + 0.007*\"community\" + '\n",
      "  '0.007*\"design\" + 0.006*\"drive\"'),\n",
      " (1,\n",
      "  '0.012*\"user\" + 0.010*\"health\" + 0.009*\"online\" + 0.009*\"access\" + '\n",
      "  '0.008*\"software\" + 0.008*\"payment\" + 0.007*\"care\" + 0.007*\"app\" + '\n",
      "  '0.007*\"mobile\" + 0.006*\"manage\"')]\n"
     ]
    }
   ],
   "source": [
    "from pprint import pprint\n",
    "# Print the Keyword in the 2 topics\n",
    "pprint(lda_model.print_topics())\n",
    "doc_lda = lda_model[corpus]"
   ]
  },
  {
   "cell_type": "code",
   "execution_count": 15,
   "metadata": {},
   "outputs": [
    {
     "name": "stdout",
     "output_type": "stream",
     "text": [
      "\n",
      "Coherence Score:  0.2567488318702852\n"
     ]
    }
   ],
   "source": [
    "from gensim.models import CoherenceModel\n",
    "# Compute Coherence Score\n",
    "coherence_model_lda = CoherenceModel(model=lda_model, texts=data_lemmatized, dictionary=id2word, coherence='c_v')\n",
    "coherence_lda = coherence_model_lda.get_coherence()\n",
    "print('\\nCoherence Score: ', coherence_lda)"
   ]
  },
  {
   "cell_type": "code",
   "execution_count": 16,
   "metadata": {},
   "outputs": [
    {
     "name": "stdout",
     "output_type": "stream",
     "text": [
      "\n",
      "Perplexity:  -6.481021178074939\n"
     ]
    }
   ],
   "source": [
    "# Compute Perplexity\n",
    "print('\\nPerplexity: ', lda_model.log_perplexity(corpus))  # a measure of how good the model is. lower the better."
   ]
  },
  {
   "cell_type": "code",
   "execution_count": 17,
   "metadata": {},
   "outputs": [
    {
     "data": {
      "text/plain": [
       "652.637085774719"
      ]
     },
     "execution_count": 17,
     "metadata": {},
     "output_type": "execute_result"
    }
   ],
   "source": [
    "#convert gensim log_perplexity to the perlexity value from scikitlearn, to make them comparable !!\n",
    "np.exp(-1.*lda_model.log_perplexity(corpus))"
   ]
  },
  {
   "cell_type": "code",
   "execution_count": 17,
   "metadata": {},
   "outputs": [],
   "source": [
    "def compute_coherence_values(dictionary, corpus, texts, limit, start=2, step=1):\n",
    "    coherence_values=[]\n",
    "    model_list=[]\n",
    "    for num_topics in range (start, limit, step):\n",
    "        model=gensim.models.LdaMulticore(corpus=corpus, num_topics=num_topics, random_state=100, chunksize=200, \n",
    "                                      passes=10, per_word_topics=True, id2word=id2word, workers=3)\n",
    "        model_list.append(model)\n",
    "        coherencemodel=CoherenceModel(model=model, texts=texts, dictionary=dictionary, coherence=\"c_v\")\n",
    "        coherence_values.append(coherencemodel.get_coherence())\n",
    "    return model_list, coherence_values\n",
    "        "
   ]
  },
  {
   "cell_type": "code",
   "execution_count": 18,
   "metadata": {},
   "outputs": [],
   "source": [
    "model_list, coherence_values=compute_coherence_values(dictionary=id2word, corpus=corpus, texts=data_lemmatized, \n",
    "                                                      start=2, limit=4,step=1)"
   ]
  },
  {
   "cell_type": "code",
   "execution_count": 19,
   "metadata": {},
   "outputs": [
    {
     "data": {
      "image/png": "[encoded data removed]",
      "text/plain": [
       "<Figure size 432x288 with 1 Axes>"
      ]
     },
     "metadata": {
      "needs_background": "light"
     },
     "output_type": "display_data"
    }
   ],
   "source": [
    "#show graph\n",
    "from matplotlib import pyplot as plt\n",
    "limit=4; start=2; step=1;\n",
    "x=range(start, limit, step)\n",
    "plt.plot(x, coherence_values)\n",
    "plt.xlabel(\"Num topics\")\n",
    "plt.ylabel(\"Coherence score\")\n",
    "plt.legend((\"coherence_values\"), loc=\"best\")\n",
    "plt.show()"
   ]
  },
  {
   "cell_type": "code",
   "execution_count": 20,
   "metadata": {},
   "outputs": [
    {
     "name": "stdout",
     "output_type": "stream",
     "text": [
      "Num topics= 2 has coherence value of 0.2591\n",
      "Num topics= 3 has coherence value of 0.3214\n"
     ]
    }
   ],
   "source": [
    "#print the coherence score\n",
    "for m, cv in zip(x, coherence_values):\n",
    "    print(\"Num topics=\", m, \"has coherence value of\", round(cv,4))"
   ]
  },
  {
   "cell_type": "markdown",
   "metadata": {},
   "source": [
    "# Hyperparameter Tuning¶\n",
    " Model hyperparameters:\n",
    "\n",
    "Number of Topics (K)\n",
    "\n",
    "Dirichlet hyperparameter alpha: Document-Topic Density\n",
    "\n",
    "Dirichlet hyperparameter eta: Word-Topic Density\n",
    "\n",
    "One parameter at a time by keeping others constant and run them oveR validation corpus sets. Use C_v as our choice of metric for performance comparison"
   ]
  },
  {
   "cell_type": "code",
   "execution_count": 21,
   "metadata": {},
   "outputs": [],
   "source": [
    "# supporting function\n",
    "def compute_coherence_values(corpus, dictionary, k, a, b):\n",
    "    \n",
    "    lda_model = gensim.models.LdaMulticore(corpus=corpus,\n",
    "                                           id2word=dictionary,\n",
    "                                           num_topics=k, \n",
    "                                           random_state=100,\n",
    "                                           chunksize=100,\n",
    "                                           passes=10,\n",
    "                                           alpha=a,\n",
    "                                           eta=b)\n",
    "    \n",
    "    coherence_model_lda = CoherenceModel(model=lda_model, texts=data_lemmatized, dictionary=id2word, coherence='c_v')\n",
    "    \n",
    "    return coherence_model_lda.get_coherence()"
   ]
  },
  {
   "cell_type": "code",
   "execution_count": 22,
   "metadata": {},
   "outputs": [
    {
     "name": "stderr",
     "output_type": "stream",
     "text": [
      "100%|██████████| 540/540 [2:12:08<00:00, 14.68s/it]  \n"
     ]
    }
   ],
   "source": [
    "import numpy as np\n",
    "import tqdm\n",
    "grid = {}\n",
    "grid['Validation_Set'] = {}\n",
    "# Topics range\n",
    "min_topics = 2\n",
    "max_topics = 11\n",
    "step_size = 1\n",
    "topics_range = range(min_topics, max_topics, step_size)\n",
    "# Alpha parameter\n",
    "alpha = list(np.arange(0.01, 1, 0.3))\n",
    "alpha.append('symmetric')\n",
    "alpha.append('asymmetric')\n",
    "# Beta parameter\n",
    "eta = list(np.arange(0.01, 1, 0.3))\n",
    "eta.append('symmetric')\n",
    "# Validation sets\n",
    "num_of_docs = len(corpus)\n",
    "corpus_sets = [# gensim.utils.ClippedCorpus(corpus, num_of_docs*0.25), \n",
    "               # gensim.utils.ClippedCorpus(corpus, num_of_docs*0.5), \n",
    "               gensim.utils.ClippedCorpus(corpus, int(num_of_docs*0.75)), \n",
    "               corpus]\n",
    "corpus_title = ['75% Corpus', '100% Corpus']\n",
    "model_results = {'Validation_Set': [],\n",
    "                 'Topics': [],\n",
    "                 'Alpha': [],\n",
    "                 'Eta': [],\n",
    "                 'Coherence': []\n",
    "                }\n",
    "# Can take a long time to run\n",
    "if 1 == 1:\n",
    "    pbar = tqdm.tqdm(total=540)\n",
    "    \n",
    "    # iterate through validation corpuses\n",
    "    for i in range(len(corpus_sets)):\n",
    "        # iterate through number of topics\n",
    "        for k in topics_range:\n",
    "            # iterate through alpha values\n",
    "            for a in alpha:\n",
    "                # iterare through beta values\n",
    "                for b in eta:\n",
    "                    # get the coherence score for the given parameters\n",
    "                    cv = compute_coherence_values(corpus=corpus_sets[i], dictionary=id2word, \n",
    "                                                  k=k, a=a, b=b)\n",
    "                    # Save the model results\n",
    "                    model_results['Validation_Set'].append(corpus_title[i])\n",
    "                    model_results['Topics'].append(k)\n",
    "                    model_results['Alpha'].append(a)\n",
    "                    model_results['Eta'].append(b)\n",
    "                    model_results['Coherence'].append(cv)\n",
    "                    \n",
    "                    pbar.update(1)\n",
    "    pd.DataFrame(model_results).to_csv('lda_tuning_results2ETA.csv', index=False)\n",
    "    pbar.close()\n"
   ]
  },
  {
   "cell_type": "code",
   "execution_count": 18,
   "metadata": {},
   "outputs": [],
   "source": [
    "#final LDA model\n",
    "lda_model = gensim.models.LdaMulticore(corpus=corpus,\n",
    "                                           id2word=id2word,\n",
    "                                           num_topics=9, \n",
    "                                           random_state=100,\n",
    "                                           chunksize=100,\n",
    "                                           passes=10,\n",
    "                                           alpha=0.91,\n",
    "                                           eta=0.91)"
   ]
  },
  {
   "cell_type": "code",
   "execution_count": 19,
   "metadata": {},
   "outputs": [
    {
     "name": "stdout",
     "output_type": "stream",
     "text": [
      "\n",
      "Coherence Score:  0.42117224966847155\n"
     ]
    }
   ],
   "source": [
    "from gensim.models import CoherenceModel\n",
    "# Compute Coherence Score\n",
    "coherence_model_lda = CoherenceModel(model=lda_model, texts=data_lemmatized, dictionary=id2word, coherence='c_v')\n",
    "coherence_lda = coherence_model_lda.get_coherence()\n",
    "print('\\nCoherence Score: ', coherence_lda)"
   ]
  },
  {
   "cell_type": "code",
   "execution_count": 20,
   "metadata": {},
   "outputs": [
    {
     "name": "stdout",
     "output_type": "stream",
     "text": [
      "\n",
      "Perplexity:  -6.612508120602159\n"
     ]
    }
   ],
   "source": [
    "# Compute Perplexity\n",
    "print('\\nPerplexity: ', lda_model.log_perplexity(corpus))  # a measure of how good the model is. lower the better."
   ]
  },
  {
   "cell_type": "code",
   "execution_count": 21,
   "metadata": {},
   "outputs": [
    {
     "data": {
      "text/plain": [
       "744.3475928531425"
      ]
     },
     "execution_count": 21,
     "metadata": {},
     "output_type": "execute_result"
    }
   ],
   "source": [
    "#convert gensim log_perplexity to the perlexity value from scikitlearn, to make them comparable \n",
    "np.exp(-1.*lda_model.log_perplexity(corpus))"
   ]
  },
  {
   "cell_type": "code",
   "execution_count": 38,
   "metadata": {},
   "outputs": [],
   "source": [
    "import pyLDAvis\n",
    "import pyLDAvis.gensim_models as gensimvis\n",
    "pyLDAvis.enable_notebook()"
   ]
  },
  {
   "cell_type": "code",
   "execution_count": 39,
   "metadata": {},
   "outputs": [
    {
     "name": "stderr",
     "output_type": "stream",
     "text": [
      "C:\\Users\\daian\\AppData\\Roaming\\Python\\Python37\\site-packages\\pyLDAvis\\_prepare.py:247: FutureWarning: In a future version of pandas all arguments of DataFrame.drop except for the argument 'labels' will be keyword-only\n",
      "  by='saliency', ascending=False).head(R).drop('saliency', 1)\n"
     ]
    }
   ],
   "source": [
    "lda_viz = gensimvis.prepare(lda_model, corpus, id2word)"
   ]
  },
  {
   "cell_type": "code",
   "execution_count": 40,
   "metadata": {},
   "outputs": [
    {
     "data": {
      "text/html": [
       "\n",
       "<link rel=\"stylesheet\" type=\"text/css\" href=\"https://cdn.jsdelivr.net/gh/bmabey/pyLDAvis@3.3.1/pyLDAvis/js/ldavis.v1.0.0.css\">\n",
       "\n",
       "\n",
       "<div id=\"ldavis_el312482482190456136310047017\"></div>\n",
       "<script type=\"text/javascript\">\n",
       "\n",
       "var ldavis_el312482482190456136310047017_data = {\"mdsDat\": {\"x\": [0.08028459421566655, -0.1366788346281972, -0.05247390599668814, 0.08241538930036912, -0.0442724597803071, 0.04442101615189705, 0.0057017329870862644, 0.02331038943079555, -0.0027079216806221718], \"y\": [-0.11930087763020664, -0.072004076517325, -0.02621421922418983, -0.014310539898264418, 0.07806102122755396, 0.029920763864688, 0.04867975422423622, 0.061236441257274725, 0.013931732696232716], \"topics\": [1, 2, 3, 4, 5, 6, 7, 8, 9], \"cluster\": [1, 1, 1, 1, 1, 1, 1, 1, 1], \"Freq\": [14.915717524694832, 14.718279028762641, 11.752525930506467, 11.11512387118466, 10.196760696513874, 9.641296058077023, 9.513986748339928, 9.465568685187865, 8.68074145673271]}, \"tinfo\": {\"Term\": [\"health\", \"energy\", \"payment\", \"healthcare\", \"home\", \"care\", \"social\", \"security\", \"software\", \"ai\", \"insurance\", \"finance\", \"patient\", \"bank\", \"user\", \"brand\", \"farmer\", \"food\", \"power\", \"application\", \"sale\", \"credit\", \"india\", \"life\", \"network\", \"capital\", \"cloud\", \"small\", \"medical\", \"venture\", \"payment\", \"award\", \"credit\", \"merchant\", \"card\", \"money\", \"venture\", \"pay\", \"capital\", \"car\", \"shopping\", \"fund\", \"singapore\", \"lending\", \"funding\", \"dollar\", \"fintech\", \"investor\", \"cash\", \"list\", \"buy\", \"shop\", \"travel\", \"purchase\", \"send\", \"item\", \"spend\", \"sme\", \"transaction\", \"store\", \"consumer\", \"investment\", \"startup\", \"app\", \"online\", \"back\", \"invest\", \"global\", \"time\", \"mobile\", \"access\", \"marketplace\", \"partner\", \"also\", \"user\", \"get\", \"easy\", \"manage\", \"grow\", \"security\", \"secure\", \"identity\", \"compliance\", \"machine\", \"threat\", \"web\", \"software\", \"code\", \"application\", \"cloud\", \"developer\", \"detect\", \"remote\", \"contract\", \"automate\", \"control\", \"computer\", \"monitor\", \"document\", \"workflow\", \"vendor\", \"user\", \"feature\", \"quickly\", \"response\", \"risk\", \"cyber\", \"task\", \"interface\", \"automation\", \"production\", \"manage\", \"tool\", \"process\", \"enterprise\", \"allow\", \"organization\", \"real_time\", \"access\", \"system\", \"information\", \"increase\", \"data\", \"california\", \"fast\", \"headquartered\", \"sale\", \"ai\", \"marketing\", \"revenue\", \"conversation\", \"brand\", \"video\", \"content\", \"ecommerce\", \"engagement\", \"insight\", \"interaction\", \"campaign\", \"actionable\", \"deal\", \"contact\", \"intelligence\", \"analytic\", \"capture\", \"voice\", \"communication\", \"decision\", \"knowledge\", \"turn\", \"win\", \"email\", \"channel\", \"call\", \"recognition\", \"engine\", \"medium\", \"performance\", \"employee\", \"human\", \"drive\", \"data\", \"end\", \"commerce\", \"real_time\", \"learn\", \"enterprise\", \"power\", \"increase\", \"global\", \"good\", \"headquartered\", \"insurance\", \"course\", \"finance\", \"micro\", \"bank\", \"loan\", \"segment\", \"game\", \"banking\", \"student\", \"microfinance\", \"small\", \"india\", \"institution\", \"low_income\", \"education\", \"entrepreneur\", \"career\", \"learning\", \"income\", \"educational\", \"trade\", \"policy\", \"growth\", \"worker\", \"peer\", \"skill\", \"class\", \"learn\", \"seek\", \"opportunity\", \"large\", \"tech\", \"new\", \"online\", \"professional\", \"free\", \"mission\", \"way\", \"access\", \"community\", \"focus\", \"support\", \"clinical\", \"health\", \"therapeutic\", \"candidate\", \"disease\", \"therapy\", \"research\", \"drug\", \"medical\", \"outcome\", \"treat\", \"population\", \"condition\", \"employer\", \"care\", \"program\", \"advance\", \"result\", \"citizen\", \"diagnostic\", \"improve\", \"dedicate\", \"significant\", \"stage\", \"academic\", \"wellness\", \"discovery\", \"study\", \"assist\", \"talent\", \"patient\", \"development\", \"combine\", \"proprietary\", \"support\", \"provider\", \"focus\", \"system\", \"need\", \"organization\", \"reduce\", \"drive\", \"high\", \"cost\", \"global\", \"access\", \"network\", \"new\", \"farmer\", \"farm\", \"agricultural\", \"social\", \"produce\", \"food\", \"sector\", \"fresh\", \"supply_chain\", \"london\", \"agriculture\", \"impact\", \"distribution\", \"waste\", \"job\", \"central\", \"rural\", \"african\", \"woman\", \"crop\", \"organisation\", \"inspire\", \"physical\", \"assessment\", \"positive\", \"basis\", \"value\", \"country\", \"bridge\", \"promote\", \"africa\", \"model\", \"information\", \"quality\", \"reach\", \"community\", \"group\", \"market\", \"mission\", \"support\", \"grow\", \"first\", \"drive\", \"reduce\", \"new\", \"tech\", \"india\", \"change\", \"access\", \"healthcare\", \"event\", \"doctor\", \"plan\", \"patient\", \"hospital\", \"life\", \"lab\", \"family\", \"friend\", \"story\", \"treatment\", \"discover\", \"virtual\", \"find\", \"medicine\", \"fitness\", \"child\", \"record\", \"real\", \"news\", \"member\", \"passionate\", \"ready\", \"visit\", \"join\", \"passion\", \"journey\", \"together\", \"follow\", \"care\", \"science\", \"day\", \"community\", \"share\", \"live\", \"benefit\", \"bring\", \"medical\", \"need\", \"good\", \"design\", \"health\", \"group\", \"affordable\", \"system\", \"serve\", \"new\", \"energy\", \"solar\", \"electric\", \"battery\", \"school\", \"mobility\", \"storage\", \"clean\", \"water\", \"transportation\", \"utility\", \"grid\", \"project\", \"electricity\", \"material\", \"autonomous\", \"vehicle\", \"manufacture\", \"industrial\", \"generation\", \"cell\", \"construction\", \"automotive\", \"power\", \"teacher\", \"distribute\", \"revolutionize\", \"robotic\", \"fuel\", \"advanced\", \"design\", \"sustainable\", \"system\", \"market\", \"industry\", \"building\", \"development\", \"global\", \"smart\", \"high\", \"cost\", \"community\", \"new\", \"home\", \"internet\", \"space\", \"connectivity\", \"delivery\", \"iot\", \"infrastructure\", \"urban\", \"driver\", \"agency\", \"site\", \"plant\", \"high_quality\", \"network\", \"coverage\", \"speed\", \"client\", \"operator\", \"blockchain\", \"property\", \"fraction\", \"own\", \"thing\", \"operate\", \"real_estate\", \"wireless\", \"reliable\", \"hand\", \"mean\", \"friendly\", \"healthy\", \"city\", \"launch\", \"center\", \"low\", \"provider\", \"system\", \"high\", \"building\", \"market\", \"mission\", \"partner\", \"connect\", \"end\", \"care\", \"industry\", \"fast\", \"also\", \"access\", \"new\", \"first\"], \"Freq\": [225.0, 114.0, 153.0, 129.0, 131.0, 156.0, 121.0, 147.0, 214.0, 124.0, 107.0, 116.0, 103.0, 116.0, 250.0, 146.0, 73.0, 107.0, 174.0, 159.0, 85.0, 106.0, 131.0, 126.0, 185.0, 148.0, 129.0, 129.0, 80.0, 128.0, 141.07544507093448, 53.92055167159699, 87.83339005193159, 30.63828807334945, 38.72519172353629, 59.82661738982415, 92.9091445540487, 47.54479229304445, 105.88412276088755, 46.22895443492168, 21.88094166570091, 43.765092294061645, 22.58754465181467, 31.869081264513383, 22.64919766991107, 20.86104115703022, 32.87924896939869, 63.74583999365983, 16.88397850411053, 20.52679234303057, 25.469173082215693, 19.56393608360497, 28.274310262631623, 29.45391176847377, 16.95316585737256, 19.16430000370361, 21.99065469637168, 23.308181482210156, 30.14598854493784, 30.486819883144694, 84.97845526720666, 60.09648513807814, 50.275977340227534, 70.39460451839247, 92.98827224882389, 43.91473987744067, 28.045449106796948, 55.79489502458679, 47.74468404467086, 48.250827055172515, 56.77423836736591, 33.30010113025752, 43.151613633343274, 44.93500393495864, 48.13410211189223, 34.91533720835488, 35.67444723959613, 36.69360061244682, 34.09117483416571, 126.0178530446035, 72.75970291735634, 38.79504966720568, 35.006449677727375, 28.743256567115424, 25.257207093370706, 51.333847608883815, 157.74076428056748, 35.82909195613651, 115.57099211425127, 92.6540524810035, 62.73119097338439, 22.702523913998707, 34.32085889333721, 23.99190648260285, 65.84196244697692, 40.28913947003356, 22.876745601339792, 28.155939830591333, 21.53864406402046, 25.775397834684007, 19.243132522135397, 151.7038548554059, 42.1446267099021, 26.355189577286822, 17.588138067943103, 55.06397918650906, 13.389401899827039, 15.150792819310569, 14.475591272023431, 26.648610670965763, 27.396381519616106, 75.76635039473032, 61.95730862180301, 64.70929832816385, 59.96285191836875, 57.38203322613766, 53.6539354306533, 41.26339738234835, 59.93537326188744, 49.27523637769427, 34.93425606112075, 33.59970799315313, 32.72768435448431, 33.81145296099357, 32.347963105293765, 33.55513709259613, 70.0066442119493, 99.61907074791026, 58.27291209082862, 43.9485832791629, 27.211500787205036, 98.24694949109634, 36.51335920979704, 54.82605345347049, 20.40648397694199, 37.41627201625222, 62.95616850058812, 18.39207603933532, 14.610558439393966, 15.794134257438689, 18.691729376929633, 13.50210261749973, 36.62853944469933, 61.68344337019246, 14.323063466587195, 23.1255594310578, 28.555622055061963, 27.509163630981522, 19.584081852444218, 17.000904685314175, 9.872935046082107, 15.430540394071304, 18.388803284060902, 21.09470087967171, 10.654907027027932, 12.7939864153844, 31.253982840369908, 31.5300039978211, 39.477381562635166, 27.839490873024076, 54.84726433603465, 32.2930634681012, 30.012681573849598, 24.881571949388267, 28.323443638495718, 27.241735993582374, 31.095652308324397, 29.6013948019519, 24.770228349028898, 26.798240437867562, 25.58743601770518, 24.86825763210028, 87.32766354567173, 27.397156902400837, 88.33423834423148, 33.48948956672083, 81.96115889129517, 59.332010780515695, 18.625844687204214, 35.16908103066722, 44.68214337382529, 47.55844071604006, 15.675776358071191, 77.0588530924469, 77.73069650422825, 42.850621967558595, 13.971651094643937, 34.104472842412946, 32.52274779465495, 21.412554517307207, 23.948467523554445, 15.275973126560698, 8.639373447716332, 12.734007198304335, 10.241810687984492, 35.946771116341345, 11.617296950627379, 11.725850640565811, 17.58902554388839, 27.979711448442668, 31.213029862748026, 12.241189487560417, 24.756687801226658, 34.68926723624669, 26.976421759977736, 45.73982509943159, 49.38267088444695, 27.11614773161461, 24.161914352182798, 30.550538348795044, 24.81802549971136, 30.98708468344075, 26.437593309210982, 26.091398168114686, 24.169282384824037, 37.51711342152662, 178.2518404045369, 25.151120642130216, 28.241807196828724, 36.88814171750735, 21.23904838421519, 54.4760227257791, 22.236235637591232, 50.94452799631984, 25.229599737872938, 14.263588860572831, 13.56532392908544, 12.398278347098655, 16.888003559643703, 77.72485259180516, 38.91729493132723, 14.962007411715007, 22.96433017924261, 12.106764015059493, 10.321325937381621, 69.93788990324768, 11.019356036275711, 8.944416337577088, 9.838813450988985, 8.345097140807688, 7.845865552241202, 10.01343594583631, 7.773725958048454, 8.629998978407166, 18.693171489035365, 34.43618024720319, 36.95658759070131, 24.439116046996475, 21.292760469117827, 40.53873179665892, 38.61613387204911, 36.60585728485403, 40.143731633097964, 28.57898570510429, 24.477190238123583, 21.06256386259682, 25.491559409576105, 22.610273078323576, 20.57902985442333, 22.707035848393012, 22.837990244046985, 21.323795553260755, 21.372785546099777, 63.28129519057668, 30.936275090862235, 24.629373722984923, 92.2989192563806, 49.822418640849264, 71.36759138545489, 33.361836440063726, 15.470265430466542, 11.732769515017983, 16.523959868814536, 13.764907125187307, 45.32016546950629, 20.75249301120942, 12.171425613731419, 16.522098431992244, 11.330815732495987, 21.147445126797464, 15.116887562633652, 17.38777572411238, 11.903048426557064, 8.96020470141581, 9.60950939145995, 9.478397442083773, 9.354214996583828, 9.380143738324174, 7.799914324801946, 31.59182836157127, 28.78988855763877, 7.227821331019281, 9.341693780901466, 19.647334285528583, 19.36196269826044, 28.278198818672543, 24.604495971418594, 15.609041466639871, 31.864663930478542, 21.160351212121014, 33.49229244574855, 32.5804252456812, 25.240961188192465, 20.932439922148582, 22.853748027998947, 22.512827539297355, 17.90416346316986, 20.30820911916099, 17.733692116810182, 18.386336661192534, 17.835532694605583, 17.51317846542177, 100.6815314023308, 29.883426425303607, 16.1840112251958, 27.98215310955303, 61.01128169068108, 19.36842250152869, 67.35197805031328, 19.928276893606903, 52.92833163860968, 16.032317120350466, 15.504266287754144, 20.97435253140748, 19.92528424037514, 19.041755868377546, 32.05698736349861, 11.297537096332732, 10.8058308412704, 14.3339663264049, 12.740684319062051, 16.24036403586807, 11.136634055200403, 24.626508752027597, 9.859510615512184, 9.719182750061432, 8.825897671203606, 8.677213565658189, 7.5912159520049345, 12.843161237902425, 17.528625477212017, 10.151061503115288, 52.35070026552815, 19.06945114856019, 22.685441730033574, 43.08631133750081, 29.273597097927464, 26.28968993631876, 20.71724728335116, 26.753604138397176, 20.58234234657541, 29.635474423526002, 26.455967519725455, 26.281871424336817, 26.973902855736082, 20.084442632231724, 19.088429573020793, 21.832159423187978, 18.475954513775935, 18.56485037420396, 105.15391799553474, 38.48085667580455, 33.89005524741377, 27.00016720388786, 47.0364885529841, 28.086348984162818, 24.233901273538265, 24.173132048187995, 28.280786162714637, 20.51896182887356, 17.058451279189214, 22.09398962742268, 44.54995325654464, 14.695774243948083, 25.35976870779511, 21.49987289768664, 36.72726160043326, 25.593315675076035, 18.208350642244294, 20.81006262245926, 16.188562307927306, 15.186376015429854, 11.36662092001564, 81.9631739197892, 13.326404821636682, 17.553880690763307, 12.989984159300956, 11.000245273182326, 12.163105237644247, 22.19991250174181, 48.692346397030065, 19.762685440495527, 48.448183163070105, 35.23253703058821, 32.074114129533164, 23.41465392893813, 26.47138120628358, 28.85890037821803, 22.210468820303046, 24.171359037188896, 21.652271912785434, 21.816782264288936, 21.53200145560679, 98.72562259553929, 35.00689424898668, 40.33101358927428, 16.62382408282672, 52.80975596790228, 11.49237202483315, 39.431506987529154, 21.00622569763989, 10.05195928550532, 11.254553150980874, 19.287796306549918, 12.359635105693535, 19.329580937494956, 73.62748851477531, 9.668171590253916, 13.11260145234813, 40.34077960763877, 10.328724780701151, 15.778402097285081, 13.258618587382974, 6.773957820045604, 8.400296007000707, 13.283230219811948, 30.982994805077073, 12.7294185105369, 7.983097766663887, 15.343551054049907, 7.203918773651919, 8.55155017354848, 7.76406040219955, 9.80355389447509, 17.806391946297776, 18.189727325959627, 13.416462567243737, 12.800048880985864, 26.00734672532582, 31.532843963229645, 23.029600761447934, 17.971609586561343, 25.971098170638918, 24.348186503347954, 20.942180142541602, 19.88398323931695, 16.876780951538933, 18.18200047621986, 18.455037491528323, 16.6046668932714, 18.193310864939843, 18.29329343507403, 17.463146888356007, 16.294768239898666], \"Total\": [225.0, 114.0, 153.0, 129.0, 131.0, 156.0, 121.0, 147.0, 214.0, 124.0, 107.0, 116.0, 103.0, 116.0, 250.0, 146.0, 73.0, 107.0, 174.0, 159.0, 85.0, 106.0, 131.0, 126.0, 185.0, 148.0, 129.0, 129.0, 80.0, 128.0, 153.25769280530042, 64.65243538460872, 106.05046366434904, 38.79781028546661, 49.254725498331645, 79.41970315165376, 128.33939004486245, 66.2997181704783, 148.43799388318706, 65.56016138702218, 31.113438883521383, 63.881246981449365, 33.260387631690506, 47.174323422717286, 34.08627010440095, 32.13151113157507, 51.05858642007786, 99.21631240425877, 26.311107353357936, 32.30144548102569, 40.22753807724904, 31.151098855711595, 46.791143087857925, 48.959941260356786, 28.505420048838893, 32.49830703864327, 37.82662946092456, 40.50983323698852, 53.195853085904425, 54.87907050156994, 166.47075397909109, 116.19917345467667, 99.1316466095473, 148.09606175414578, 227.69329885423, 99.92373627034492, 54.43349108674638, 190.84171503601746, 146.52325013540337, 151.61775220393287, 236.40225557518914, 77.42434367756661, 143.3742371755341, 163.29127763995717, 250.27960266424188, 102.9961199447944, 114.62701851699858, 154.07141970882705, 114.95687541240656, 147.45295153041712, 87.6888279064902, 49.068917706222194, 46.497366632268395, 38.77296453776704, 34.16981657064325, 69.80212013946057, 214.65540434214762, 48.8608408223458, 159.99209616613237, 129.27216993726978, 87.60704103600472, 31.877622618113246, 48.37047053368031, 33.94711013899244, 94.90495276882095, 59.24532630451364, 33.80755641418353, 42.193016759733446, 32.40781887643281, 39.29340882715993, 29.6699029568713, 250.27960266424188, 71.37648707893425, 45.00715215469552, 30.317779369514547, 95.24328894983617, 23.833222880610606, 27.36948296594509, 26.247195649500956, 49.03749628316034, 51.00511029203131, 154.07141970882705, 128.50467251674297, 146.27734864658595, 144.0332273338703, 142.43490226202226, 136.50142550678225, 95.78228460593688, 236.40225557518914, 221.97083755994564, 102.85122284435388, 100.26947338005236, 93.0477211630334, 138.9296014372806, 108.99468221443063, 154.02290064206298, 85.45734325393464, 124.39722022794298, 74.61646808680378, 57.34582435183494, 35.97745052988229, 146.19057729783222, 55.49738627978245, 83.86097255547502, 31.429246799733157, 59.44847295229646, 100.40320348453267, 29.77835044810748, 23.740046016063868, 25.830116710942832, 31.81270466086093, 23.413218288774456, 63.72998036730021, 108.39377039186783, 25.177201111583233, 41.06029717907008, 53.80398937810706, 55.1795115717833, 40.07964824169107, 36.35488938201539, 21.318940176140895, 33.68108033662396, 40.661080230465195, 47.14468542977748, 24.14038523856034, 30.25155657555428, 75.03491413891417, 78.86557931321056, 103.84290434670866, 71.87457964021672, 177.95497300979977, 93.0477211630334, 103.77088591067661, 72.54146348972792, 95.78228460593688, 89.4618394754986, 144.0332273338703, 174.90288232339782, 100.26947338005236, 190.84171503601746, 149.69555455672185, 154.02290064206298, 107.38641404852366, 35.82898674573471, 116.67746759180751, 44.650863425240935, 116.56644501906636, 85.23637320002089, 26.83334229490067, 51.29035712724856, 70.91160321722325, 76.70628453735625, 26.086683190564013, 129.32182380853348, 131.30076725640865, 73.12478271356848, 24.889719505499567, 64.49965815233863, 63.40723887824741, 44.84682065047701, 51.81630746381009, 35.02875570909072, 20.598695710063552, 30.412174934653482, 25.180261227103564, 88.85055755111033, 29.137443742013097, 31.002101004421537, 47.98211807016662, 79.02231146594364, 89.4618394754986, 35.21653015403926, 73.9032540346297, 113.6179910203968, 93.35831897260498, 196.97075394135777, 227.69329885423, 97.5470443748007, 87.6382289168437, 175.9561848530958, 124.14557717144554, 236.40225557518914, 153.8726918842488, 163.2550590232249, 159.93676466136498, 45.30960275001424, 225.61877340261418, 32.81442532321518, 37.89329398123536, 49.87854299705217, 30.404104578099663, 78.68943021446037, 32.80048729437098, 80.2247804067794, 46.242755011698534, 26.461690847147832, 25.241635792856535, 23.22543533560198, 32.6138157558128, 156.34718041666392, 78.4551142693206, 31.16583617111332, 50.596861243741465, 27.88964656688261, 24.799498493782483, 168.79308780106243, 26.6518504762219, 21.920938803256732, 25.462385997362652, 22.162024690102243, 22.540884791534886, 28.95397728721772, 22.783673086409323, 25.45301442980106, 55.59791445545051, 103.11342990726996, 130.27827625879115, 84.46134979617817, 72.1480762536911, 159.93676466136498, 154.64900499064717, 163.2550590232249, 221.97083755994564, 161.2071043496875, 136.50142550678225, 98.05717557908997, 177.95497300979977, 138.74388050539767, 101.07005864976269, 190.84171503601746, 236.40225557518914, 185.58753280079026, 196.97075394135777, 73.11418985444213, 39.9136205677118, 31.94870546957821, 121.42192642197583, 68.09703778678598, 107.55246990522944, 58.49608237293164, 27.651586303323523, 21.02400141742574, 29.966680199701564, 25.756343694942462, 86.51704881679957, 43.84636816365624, 25.91711067076301, 35.54551445546557, 24.810472251170115, 47.525391406678786, 34.25128922748701, 40.28224704677618, 30.460352586675253, 23.850718761392017, 25.830659329896093, 25.57173754476004, 25.48916944217002, 25.91692170743144, 21.75086466386506, 88.2118687963677, 81.26601809334247, 21.021762198371473, 27.290652134721338, 60.09166513134885, 64.24041986362217, 102.85122284435388, 89.58817626631415, 53.62902508209519, 153.8726918842488, 86.28553328871693, 179.31766689749452, 175.9561848530958, 159.93676466136498, 114.95687541240656, 147.947473372656, 177.95497300979977, 98.05717557908997, 196.97075394135777, 93.35831897260498, 131.30076725640865, 114.74226960080522, 236.40225557518914, 129.7925232707401, 42.88675726503051, 25.91203573984885, 45.23584376756842, 103.11342990726996, 35.73630053162056, 126.14481455491749, 37.61263725394095, 104.77359086405974, 31.85884942158233, 31.23059545442717, 42.292729323983735, 40.80243405291807, 39.47857714615231, 68.64107199258308, 25.422581069032283, 25.6619354781182, 34.6600097923267, 30.820659008510283, 39.86010004901317, 27.726216610945364, 61.43870081112068, 24.72680087780348, 25.58401800940169, 24.638823029301022, 24.25715986412551, 21.4949916492703, 36.73569195962925, 50.159672169611824, 29.737320994660344, 156.34718041666392, 59.015137347805144, 72.42576897071366, 153.8726918842488, 99.65858116049561, 89.34334664894263, 69.17934491567375, 101.44864125476921, 80.2247804067794, 161.2071043496875, 149.69555455672185, 169.25788998058152, 225.61877340261418, 86.28553328871693, 74.12250044947191, 221.97083755994564, 88.06575715787818, 196.97075394135777, 114.80997350051305, 45.95268243009142, 41.029551935026674, 34.552763752139896, 61.108872137623194, 36.74303556243264, 32.90796582291942, 33.54094707301087, 39.383153150690944, 29.80386173948151, 24.827352551301736, 32.71172094671063, 66.13287847954844, 21.81898735650077, 38.34144796805468, 33.054703343869825, 57.352290685244114, 41.29199801867548, 29.379724231019782, 37.911922040666425, 31.739702279273736, 31.20929551701384, 24.20720082782366, 174.90288232339782, 29.142992793823012, 38.61430608381995, 30.822074317252905, 27.43502915084747, 30.911793927686308, 57.69062827476062, 169.25788998058152, 60.057080546566596, 221.97083755994564, 179.31766689749452, 166.81907737510224, 91.47792624707382, 130.27827625879115, 190.84171503601746, 89.88559878727976, 138.74388050539767, 101.07005864976269, 153.8726918842488, 196.97075394135777, 131.8048766052932, 55.00659305940424, 63.712662896588284, 27.944428445926896, 90.67821673353068, 23.016448651674793, 85.31059909038622, 45.649801407770184, 23.14927864155929, 26.00080826706239, 47.98224595642988, 30.761734931007418, 48.219548228914064, 185.58753280079026, 24.383272835661778, 33.07985827183104, 104.11354763657458, 26.969409040951682, 44.544060450606466, 37.443097835050125, 19.355732903834355, 25.072373190973018, 42.639104760719704, 99.56058929108245, 42.58264441940024, 26.940602271727478, 53.91669436808233, 25.659761897124525, 31.01144190485168, 28.65642694607938, 36.27846290153791, 71.88848635313369, 78.40239787212529, 54.38054313250373, 52.37144794260933, 154.64900499064717, 221.97083755994564, 138.74388050539767, 91.47792624707382, 179.31766689749452, 175.9561848530958, 143.3742371755341, 149.7692735264386, 103.77088591067661, 156.34718041666392, 166.81907737510224, 108.99468221443063, 163.29127763995717, 236.40225557518914, 196.97075394135777, 147.947473372656], \"Category\": [\"Default\", \"Default\", \"Default\", \"Default\", \"Default\", \"Default\", \"Default\", \"Default\", \"Default\", \"Default\", \"Default\", \"Default\", \"Default\", \"Default\", \"Default\", \"Default\", \"Default\", \"Default\", \"Default\", \"Default\", \"Default\", \"Default\", \"Default\", \"Default\", \"Default\", \"Default\", \"Default\", \"Default\", \"Default\", \"Default\", \"Topic1\", \"Topic1\", \"Topic1\", \"Topic1\", \"Topic1\", \"Topic1\", \"Topic1\", \"Topic1\", \"Topic1\", \"Topic1\", \"Topic1\", \"Topic1\", \"Topic1\", \"Topic1\", \"Topic1\", \"Topic1\", \"Topic1\", \"Topic1\", \"Topic1\", \"Topic1\", \"Topic1\", \"Topic1\", \"Topic1\", \"Topic1\", \"Topic1\", \"Topic1\", \"Topic1\", \"Topic1\", \"Topic1\", \"Topic1\", \"Topic1\", \"Topic1\", \"Topic1\", \"Topic1\", \"Topic1\", \"Topic1\", \"Topic1\", \"Topic1\", \"Topic1\", \"Topic1\", \"Topic1\", \"Topic1\", \"Topic1\", \"Topic1\", \"Topic1\", \"Topic1\", \"Topic1\", \"Topic1\", \"Topic1\", \"Topic2\", \"Topic2\", \"Topic2\", \"Topic2\", \"Topic2\", \"Topic2\", \"Topic2\", \"Topic2\", \"Topic2\", \"Topic2\", \"Topic2\", \"Topic2\", \"Topic2\", \"Topic2\", \"Topic2\", \"Topic2\", \"Topic2\", \"Topic2\", \"Topic2\", \"Topic2\", \"Topic2\", \"Topic2\", \"Topic2\", \"Topic2\", \"Topic2\", \"Topic2\", \"Topic2\", \"Topic2\", \"Topic2\", \"Topic2\", \"Topic2\", \"Topic2\", \"Topic2\", \"Topic2\", \"Topic2\", \"Topic2\", \"Topic2\", \"Topic2\", \"Topic2\", \"Topic2\", \"Topic2\", \"Topic2\", \"Topic2\", \"Topic2\", \"Topic2\", \"Topic2\", \"Topic2\", \"Topic3\", \"Topic3\", \"Topic3\", \"Topic3\", \"Topic3\", \"Topic3\", \"Topic3\", \"Topic3\", \"Topic3\", \"Topic3\", \"Topic3\", \"Topic3\", \"Topic3\", \"Topic3\", \"Topic3\", \"Topic3\", \"Topic3\", \"Topic3\", \"Topic3\", \"Topic3\", \"Topic3\", \"Topic3\", \"Topic3\", \"Topic3\", \"Topic3\", \"Topic3\", \"Topic3\", \"Topic3\", \"Topic3\", \"Topic3\", \"Topic3\", \"Topic3\", \"Topic3\", \"Topic3\", \"Topic3\", \"Topic3\", \"Topic3\", \"Topic3\", \"Topic3\", \"Topic3\", \"Topic3\", \"Topic3\", \"Topic3\", \"Topic3\", \"Topic3\", \"Topic3\", \"Topic4\", \"Topic4\", \"Topic4\", \"Topic4\", \"Topic4\", \"Topic4\", \"Topic4\", \"Topic4\", \"Topic4\", \"Topic4\", \"Topic4\", \"Topic4\", \"Topic4\", \"Topic4\", \"Topic4\", \"Topic4\", \"Topic4\", \"Topic4\", \"Topic4\", \"Topic4\", \"Topic4\", \"Topic4\", \"Topic4\", \"Topic4\", \"Topic4\", \"Topic4\", \"Topic4\", \"Topic4\", \"Topic4\", \"Topic4\", \"Topic4\", \"Topic4\", \"Topic4\", \"Topic4\", \"Topic4\", \"Topic4\", \"Topic4\", \"Topic4\", \"Topic4\", \"Topic4\", \"Topic4\", \"Topic4\", \"Topic4\", \"Topic5\", \"Topic5\", \"Topic5\", \"Topic5\", \"Topic5\", \"Topic5\", \"Topic5\", \"Topic5\", \"Topic5\", \"Topic5\", \"Topic5\", \"Topic5\", \"Topic5\", \"Topic5\", \"Topic5\", \"Topic5\", \"Topic5\", \"Topic5\", \"Topic5\", \"Topic5\", \"Topic5\", \"Topic5\", \"Topic5\", \"Topic5\", \"Topic5\", \"Topic5\", \"Topic5\", \"Topic5\", \"Topic5\", \"Topic5\", \"Topic5\", \"Topic5\", \"Topic5\", \"Topic5\", \"Topic5\", \"Topic5\", \"Topic5\", \"Topic5\", \"Topic5\", \"Topic5\", \"Topic5\", \"Topic5\", \"Topic5\", \"Topic5\", \"Topic5\", \"Topic5\", \"Topic5\", \"Topic5\", \"Topic6\", \"Topic6\", \"Topic6\", \"Topic6\", \"Topic6\", \"Topic6\", \"Topic6\", \"Topic6\", \"Topic6\", \"Topic6\", \"Topic6\", \"Topic6\", \"Topic6\", \"Topic6\", \"Topic6\", \"Topic6\", \"Topic6\", \"Topic6\", \"Topic6\", \"Topic6\", \"Topic6\", \"Topic6\", \"Topic6\", \"Topic6\", \"Topic6\", \"Topic6\", \"Topic6\", \"Topic6\", \"Topic6\", \"Topic6\", \"Topic6\", \"Topic6\", \"Topic6\", \"Topic6\", \"Topic6\", \"Topic6\", \"Topic6\", \"Topic6\", \"Topic6\", \"Topic6\", \"Topic6\", \"Topic6\", \"Topic6\", \"Topic6\", \"Topic6\", \"Topic6\", \"Topic6\", \"Topic6\", \"Topic6\", \"Topic7\", \"Topic7\", \"Topic7\", \"Topic7\", \"Topic7\", \"Topic7\", \"Topic7\", \"Topic7\", \"Topic7\", \"Topic7\", \"Topic7\", \"Topic7\", \"Topic7\", \"Topic7\", \"Topic7\", \"Topic7\", \"Topic7\", \"Topic7\", \"Topic7\", \"Topic7\", \"Topic7\", \"Topic7\", \"Topic7\", \"Topic7\", \"Topic7\", \"Topic7\", \"Topic7\", \"Topic7\", \"Topic7\", \"Topic7\", \"Topic7\", \"Topic7\", \"Topic7\", \"Topic7\", \"Topic7\", \"Topic7\", \"Topic7\", \"Topic7\", \"Topic7\", \"Topic7\", \"Topic7\", \"Topic7\", \"Topic7\", \"Topic7\", \"Topic7\", \"Topic7\", \"Topic7\", \"Topic7\", \"Topic8\", \"Topic8\", \"Topic8\", \"Topic8\", \"Topic8\", \"Topic8\", \"Topic8\", \"Topic8\", \"Topic8\", \"Topic8\", \"Topic8\", \"Topic8\", \"Topic8\", \"Topic8\", \"Topic8\", \"Topic8\", \"Topic8\", \"Topic8\", \"Topic8\", \"Topic8\", \"Topic8\", \"Topic8\", \"Topic8\", \"Topic8\", \"Topic8\", \"Topic8\", \"Topic8\", \"Topic8\", \"Topic8\", \"Topic8\", \"Topic8\", \"Topic8\", \"Topic8\", \"Topic8\", \"Topic8\", \"Topic8\", \"Topic8\", \"Topic8\", \"Topic8\", \"Topic8\", \"Topic8\", \"Topic8\", \"Topic8\", \"Topic9\", \"Topic9\", \"Topic9\", \"Topic9\", \"Topic9\", \"Topic9\", \"Topic9\", \"Topic9\", \"Topic9\", \"Topic9\", \"Topic9\", \"Topic9\", \"Topic9\", \"Topic9\", \"Topic9\", \"Topic9\", \"Topic9\", \"Topic9\", \"Topic9\", \"Topic9\", \"Topic9\", \"Topic9\", \"Topic9\", \"Topic9\", \"Topic9\", \"Topic9\", \"Topic9\", \"Topic9\", \"Topic9\", \"Topic9\", \"Topic9\", \"Topic9\", \"Topic9\", \"Topic9\", \"Topic9\", \"Topic9\", \"Topic9\", \"Topic9\", \"Topic9\", \"Topic9\", \"Topic9\", \"Topic9\", \"Topic9\", \"Topic9\", \"Topic9\", \"Topic9\", \"Topic9\", \"Topic9\", \"Topic9\", \"Topic9\", \"Topic9\"], \"logprob\": [30.0, 29.0, 28.0, 27.0, 26.0, 25.0, 24.0, 23.0, 22.0, 21.0, 20.0, 19.0, 18.0, 17.0, 16.0, 15.0, 14.0, 13.0, 12.0, 11.0, 10.0, 9.0, 8.0, 7.0, 6.0, 5.0, 4.0, 3.0, 2.0, 1.0, -3.7745, -4.7363, -4.2483, -5.3015, -5.0673, -4.6323, -4.1922, -4.8621, -4.0614, -4.8902, -5.6382, -4.9449, -5.6064, -5.2621, -5.6037, -5.6859, -5.2309, -4.5689, -5.8974, -5.702, -5.4863, -5.7501, -5.3818, -5.341, -5.8933, -5.7707, -5.6332, -5.575, -5.3177, -5.3065, -4.2814, -4.6278, -4.8063, -4.4697, -4.1913, -4.9415, -5.39, -4.7021, -4.8579, -4.8474, -4.6847, -5.2182, -4.9591, -4.9186, -4.8498, -5.1709, -5.1493, -5.1212, -5.1947, -3.874, -4.4233, -5.0522, -5.1549, -5.3521, -5.4813, -4.7721, -3.6495, -5.1317, -3.9606, -4.1816, -4.5716, -5.588, -5.1747, -5.5327, -4.5232, -5.0144, -5.5803, -5.3727, -5.6406, -5.461, -5.7533, -3.6885, -4.9693, -5.4388, -5.8432, -4.702, -6.116, -5.9924, -6.038, -5.4277, -5.4, -4.3828, -4.584, -4.5405, -4.6167, -4.6607, -4.7279, -4.9905, -4.6172, -4.813, -5.157, -5.1959, -5.2222, -5.1897, -5.2339, -5.1973, -4.2368, -3.8841, -4.4203, -4.7024, -5.1818, -3.8979, -4.8878, -4.4813, -5.4696, -4.8633, -4.343, -5.5735, -5.8037, -5.7258, -5.5574, -5.8826, -4.8846, -4.3634, -5.8236, -5.3445, -5.1336, -5.1709, -5.5107, -5.6522, -6.1956, -5.7491, -5.5737, -5.4364, -6.1194, -5.9365, -5.0433, -5.0345, -4.8097, -5.159, -4.4809, -5.0106, -5.0838, -5.2713, -5.1417, -5.1807, -5.0484, -5.0976, -5.2758, -5.1971, -5.2433, -5.2718, -3.96, -5.1192, -3.9485, -4.9184, -4.0234, -4.3465, -5.5051, -4.8695, -4.6301, -4.5677, -5.6776, -4.0851, -4.0764, -4.6719, -5.7926, -4.9002, -4.9477, -5.3657, -5.2538, -5.7034, -6.2733, -5.8854, -6.1032, -4.8476, -5.9772, -5.9679, -5.5624, -5.0982, -4.9888, -5.9249, -5.2206, -4.8832, -5.1347, -4.6067, -4.5301, -5.1295, -5.2449, -5.0103, -5.2181, -4.9961, -5.1549, -5.1681, -5.2446, -4.7186, -3.1602, -5.1185, -5.0026, -4.7355, -5.2876, -4.3457, -5.2417, -4.4127, -5.1154, -5.6857, -5.7359, -5.8259, -5.5168, -3.9903, -4.682, -5.6379, -5.2095, -5.8497, -6.0092, -4.0958, -5.9438, -6.1524, -6.0571, -6.2218, -6.2834, -6.0395, -6.2927, -6.1882, -5.4153, -4.8043, -4.7337, -5.1472, -5.2851, -4.6412, -4.6898, -4.7432, -4.651, -4.9908, -5.1457, -5.2959, -5.1051, -5.225, -5.3192, -5.2208, -5.215, -5.2836, -5.2813, -4.1398, -4.8555, -5.0835, -3.7624, -4.379, -4.0196, -4.78, -5.5485, -5.825, -5.4826, -5.6653, -4.4737, -5.2548, -5.7883, -5.4827, -5.8599, -5.2359, -5.5716, -5.4317, -5.8106, -6.0946, -6.0247, -6.0384, -6.0516, -6.0488, -6.2333, -4.8345, -4.9274, -6.3095, -6.0529, -5.3095, -5.3241, -4.9453, -5.0845, -5.5396, -4.8259, -5.2353, -4.7761, -4.8037, -5.059, -5.2461, -5.1583, -5.1733, -5.4024, -5.2764, -5.412, -5.3758, -5.4062, -5.4245, -3.6622, -4.8768, -5.4901, -4.9426, -4.1631, -5.3105, -4.0642, -5.282, -4.3052, -5.4995, -5.533, -5.2308, -5.2821, -5.3275, -4.8066, -5.8495, -5.894, -5.6115, -5.7293, -5.4866, -5.8639, -5.0703, -5.9857, -6.0, -6.0964, -6.1134, -6.2471, -5.7213, -5.4103, -5.9565, -4.3162, -5.326, -5.1524, -4.5109, -4.8974, -5.0049, -5.2432, -4.9875, -5.2497, -4.8852, -4.9986, -5.0052, -4.9793, -5.2742, -5.325, -5.1907, -5.3577, -5.3529, -3.6136, -4.6189, -4.7459, -4.9732, -4.4181, -4.9337, -5.0813, -5.0838, -4.9268, -5.2477, -5.4324, -5.1737, -4.4724, -5.5815, -5.0359, -5.201, -4.6655, -5.0267, -5.3671, -5.2336, -5.4847, -5.5486, -5.8383, -3.8628, -5.6793, -5.4037, -5.7048, -5.8711, -5.7706, -5.1689, -4.3835, -5.2852, -4.3885, -4.7071, -4.801, -5.1157, -4.993, -4.9066, -5.1685, -5.0839, -5.1939, -5.1863, -5.1995, -3.5901, -4.6269, -4.4853, -5.3716, -4.2158, -5.7408, -4.5079, -5.1377, -5.8747, -5.7617, -5.223, -5.668, -5.2208, -3.8835, -5.9136, -5.6089, -4.4851, -5.8475, -5.4238, -5.5978, -6.2694, -6.0542, -5.596, -4.749, -5.6386, -6.1051, -5.4518, -6.2078, -6.0364, -6.133, -5.8997, -5.3029, -5.2816, -5.586, -5.633, -4.9241, -4.7314, -5.0457, -5.2937, -4.9255, -4.99, -5.1407, -5.1926, -5.3565, -5.282, -5.2671, -5.3728, -5.2814, -5.2759, -5.3224, -5.3916], \"loglift\": [30.0, 29.0, 28.0, 27.0, 26.0, 25.0, 24.0, 23.0, 22.0, 21.0, 20.0, 19.0, 18.0, 17.0, 16.0, 15.0, 14.0, 13.0, 12.0, 11.0, 10.0, 9.0, 8.0, 7.0, 6.0, 5.0, 4.0, 3.0, 2.0, 1.0, 1.8199, 1.7212, 1.7143, 1.6666, 1.6622, 1.6195, 1.5797, 1.5702, 1.5649, 1.5534, 1.5507, 1.5246, 1.5158, 1.5105, 1.494, 1.4708, 1.4626, 1.4604, 1.4591, 1.4494, 1.4457, 1.4376, 1.399, 1.3946, 1.3831, 1.3746, 1.3604, 1.35, 1.3348, 1.3149, 1.2303, 1.2434, 1.2238, 1.159, 1.0072, 1.0806, 1.2396, 0.673, 0.7814, 0.7578, 0.4763, 1.059, 0.702, 0.6124, 0.2542, 0.821, 0.7355, 0.4679, 0.6872, 1.759, 1.7294, 1.6811, 1.6322, 1.6168, 1.6138, 1.6088, 1.608, 1.6059, 1.5908, 1.583, 1.5821, 1.5767, 1.5729, 1.569, 1.5505, 1.5305, 1.5255, 1.5116, 1.5075, 1.4944, 1.4831, 1.4154, 1.3892, 1.3809, 1.3716, 1.3681, 1.3395, 1.3247, 1.321, 1.3062, 1.2946, 1.2063, 1.1866, 1.1005, 1.0398, 1.0069, 0.9823, 1.074, 0.5438, 0.411, 0.8363, 0.8227, 0.8712, 0.5029, 0.7013, 0.3922, 1.9417, 1.919, 1.8939, 1.875, 1.8618, 1.7437, 1.7224, 1.7161, 1.7092, 1.6781, 1.6743, 1.6592, 1.6557, 1.6492, 1.6093, 1.5906, 1.5873, 1.5773, 1.577, 1.567, 1.5076, 1.445, 1.425, 1.381, 1.3713, 1.3605, 1.3476, 1.3369, 1.3232, 1.2805, 1.2653, 1.2243, 1.174, 1.1926, 0.9641, 1.0828, 0.9005, 1.0711, 0.9227, 0.952, 0.6081, 0.3647, 0.7429, 0.178, 0.3746, 0.3176, 1.9901, 1.9285, 1.9186, 1.9092, 1.8446, 1.8346, 1.8318, 1.8195, 1.735, 1.7188, 1.6876, 1.6791, 1.6726, 1.6624, 1.6194, 1.5596, 1.5292, 1.4576, 1.4251, 1.367, 1.328, 1.3263, 1.2973, 1.2919, 1.2773, 1.2246, 1.1933, 1.1586, 1.1439, 1.1402, 1.1032, 1.0105, 0.9554, 0.7368, 0.6685, 0.9167, 0.9084, 0.446, 0.587, 0.1649, 0.4355, 0.3632, 0.3072, 2.0944, 2.0475, 2.0171, 1.9891, 1.9814, 1.9244, 1.9154, 1.8944, 1.829, 1.6772, 1.6651, 1.6621, 1.6554, 1.625, 1.5842, 1.582, 1.5493, 1.4932, 1.4486, 1.4065, 1.402, 1.3999, 1.3867, 1.3322, 1.3064, 1.2278, 1.2213, 1.2078, 1.2015, 1.1931, 1.1864, 1.0232, 1.043, 1.0627, 0.9106, 0.8956, 0.788, 0.573, 0.5531, 0.5645, 0.745, 0.3399, 0.4689, 0.6916, 0.1543, -0.054, 0.1194, 0.0622, 2.1947, 2.0843, 2.0789, 2.0649, 2.0266, 1.929, 1.7776, 1.7584, 1.7558, 1.7438, 1.7126, 1.6925, 1.5911, 1.5833, 1.573, 1.5554, 1.5294, 1.5212, 1.499, 1.3995, 1.3601, 1.3503, 1.3466, 1.3367, 1.3228, 1.3136, 1.3123, 1.3014, 1.2715, 1.2671, 1.2212, 1.1398, 1.0479, 1.0468, 1.1049, 0.7645, 0.9336, 0.6613, 0.6526, 0.4928, 0.6359, 0.4714, 0.2717, 0.6386, 0.0671, 0.6781, 0.3732, 0.4776, -0.2635, 2.0984, 1.9911, 1.8817, 1.8721, 1.8276, 1.7399, 1.7249, 1.7172, 1.6695, 1.6657, 1.6521, 1.6511, 1.6357, 1.6233, 1.591, 1.5414, 1.4875, 1.4695, 1.469, 1.4545, 1.4403, 1.4382, 1.433, 1.3845, 1.3258, 1.3244, 1.3116, 1.3015, 1.301, 1.2776, 1.2583, 1.2227, 1.1916, 1.0795, 1.1273, 1.1291, 1.1467, 1.0195, 0.992, 0.6587, 0.6193, 0.4899, 0.2284, 0.8947, 0.9958, 0.0332, 0.7908, -0.0094, 2.2697, 2.1801, 2.1663, 2.1109, 2.0958, 2.0888, 2.0515, 2.03, 2.0264, 1.9842, 1.9822, 1.9651, 1.9625, 1.9623, 1.9441, 1.9274, 1.9118, 1.8792, 1.8791, 1.7577, 1.6842, 1.6372, 1.6015, 1.5995, 1.575, 1.5692, 1.4935, 1.4436, 1.4248, 1.4025, 1.1116, 1.246, 0.8355, 0.7303, 0.7086, 0.9948, 0.7639, 0.4685, 0.9595, 0.61, 0.8168, 0.4041, 0.144, 2.1551, 1.9922, 1.9868, 1.9247, 1.9034, 1.7495, 1.6723, 1.6679, 1.6099, 1.6067, 1.5327, 1.5322, 1.5299, 1.5196, 1.519, 1.5187, 1.4959, 1.4843, 1.4062, 1.4059, 1.3942, 1.3506, 1.2778, 1.2767, 1.2365, 1.2278, 1.1873, 1.1738, 1.1558, 1.1382, 1.1356, 1.0485, 0.9831, 1.0445, 1.0352, 0.6613, 0.4925, 0.6482, 0.8168, 0.5119, 0.4663, 0.5204, 0.4249, 0.6278, 0.2924, 0.2425, 0.5624, 0.2496, -0.1149, 0.0211, 0.2381]}, \"token.table\": {\"Topic\": [1, 2, 3, 4, 5, 6, 7, 8, 9, 1, 2, 3, 4, 5, 6, 7, 8, 9, 1, 2, 3, 4, 5, 6, 7, 8, 9, 1, 2, 3, 4, 5, 6, 7, 8, 9, 1, 2, 3, 4, 5, 6, 7, 8, 9, 1, 2, 3, 4, 5, 6, 7, 8, 9, 1, 2, 3, 4, 5, 6, 7, 8, 9, 1, 2, 3, 4, 5, 6, 7, 8, 9, 1, 2, 3, 4, 5, 6, 7, 8, 9, 1, 2, 3, 4, 5, 6, 7, 8, 9, 1, 2, 3, 4, 5, 6, 7, 8, 9, 1, 2, 3, 4, 5, 6, 7, 8, 9, 1, 2, 3, 4, 5, 6, 7, 8, 9, 1, 2, 3, 4, 5, 6, 7, 8, 9, 1, 2, 3, 4, 5, 6, 7, 8, 9, 1, 2, 3, 4, 5, 6, 7, 8, 9, 1, 2, 3, 4, 5, 6, 7, 8, 9, 1, 2, 3, 4, 5, 6, 7, 8, 9, 1, 2, 3, 4, 5, 6, 7, 8, 9, 1, 2, 3, 4, 5, 6, 7, 8, 9, 1, 2, 3, 4, 5, 6, 7, 8, 9, 1, 2, 3, 4, 5, 6, 7, 8, 9, 1, 2, 3, 4, 5, 6, 7, 8, 9, 1, 2, 3, 4, 5, 6, 7, 8, 9, 1, 2, 3, 4, 5, 6, 7, 8, 9, 1, 2, 3, 4, 5, 6, 7, 8, 9, 1, 2, 3, 4, 5, 6, 7, 8, 9, 1, 2, 3, 4, 5, 6, 7, 8, 9, 1, 2, 3, 4, 5, 6, 7, 8, 9, 1, 2, 3, 4, 5, 6, 7, 8, 9, 1, 2, 3, 4, 5, 6, 7, 8, 9, 1, 2, 3, 4, 5, 6, 7, 8, 9, 1, 2, 3, 4, 5, 6, 7, 8, 9, 1, 2, 3, 4, 5, 6, 7, 8, 9, 1, 2, 3, 4, 5, 6, 7, 8, 9, 1, 2, 3, 4, 5, 6, 7, 8, 9, 1, 2, 3, 4, 5, 6, 7, 8, 9, 1, 2, 3, 4, 5, 6, 7, 8, 9, 1, 2, 3, 4, 5, 6, 7, 8, 9, 1, 2, 3, 4, 5, 6, 7, 8, 9, 1, 2, 3, 4, 5, 6, 7, 8, 9, 1, 2, 3, 4, 5, 6, 7, 8, 9, 1, 2, 3, 4, 5, 6, 7, 8, 9, 1, 2, 3, 4, 5, 6, 7, 8, 9, 1, 2, 3, 4, 5, 6, 7, 8, 9, 1, 2, 3, 4, 5, 6, 7, 8, 9, 1, 2, 3, 4, 5, 6, 7, 8, 9, 1, 2, 3, 4, 5, 6, 7, 8, 9, 1, 2, 3, 4, 5, 6, 7, 8, 9, 1, 2, 3, 4, 5, 6, 7, 8, 9, 1, 2, 3, 4, 5, 6, 7, 8, 9, 1, 2, 3, 4, 5, 6, 7, 8, 9, 1, 2, 3, 4, 5, 6, 7, 8, 9, 1, 2, 3, 4, 5, 6, 7, 8, 9, 1, 2, 3, 4, 5, 6, 7, 8, 9, 1, 2, 3, 4, 5, 6, 7, 8, 9, 1, 2, 3, 4, 5, 6, 7, 8, 9, 1, 2, 3, 4, 5, 6, 7, 8, 9, 1, 2, 3, 4, 5, 6, 7, 8, 9, 1, 2, 3, 4, 5, 6, 7, 8, 9, 1, 2, 3, 4, 5, 6, 7, 8, 9, 1, 2, 3, 4, 5, 6, 7, 8, 9, 1, 2, 3, 4, 5, 6, 7, 8, 9, 1, 2, 3, 4, 5, 6, 7, 8, 9, 1, 2, 3, 4, 5, 6, 7, 8, 9, 1, 2, 3, 4, 5, 6, 7, 8, 9, 1, 2, 3, 4, 5, 6, 7, 8, 9, 1, 2, 3, 4, 5, 6, 7, 8, 9, 1, 2, 3, 4, 5, 6, 7, 8, 9, 1, 2, 3, 4, 5, 6, 7, 8, 9, 1, 2, 3, 4, 5, 6, 7, 8, 9, 1, 2, 3, 4, 5, 6, 7, 8, 9, 1, 2, 3, 4, 5, 6, 7, 8, 9, 1, 2, 3, 4, 5, 6, 7, 8, 9, 1, 2, 3, 4, 5, 6, 7, 8, 9, 1, 2, 3, 4, 5, 6, 7, 8, 9, 1, 2, 3, 4, 5, 6, 7, 8, 9, 1, 2, 3, 4, 5, 6, 7, 8, 9, 1, 2, 3, 4, 5, 6, 7, 8, 9, 1, 2, 3, 4, 5, 6, 7, 8, 9, 1, 2, 3, 4, 5, 6, 7, 8, 9, 1, 2, 3, 4, 5, 6, 7, 8, 9, 1, 2, 3, 4, 5, 6, 7, 8, 9, 1, 2, 3, 4, 5, 6, 7, 8, 9, 1, 2, 3, 4, 5, 6, 7, 8, 9, 1, 2, 3, 4, 5, 6, 7, 8, 9, 1, 2, 3, 4, 5, 6, 7, 8, 9, 1, 2, 3, 4, 5, 6, 7, 8, 9, 1, 2, 3, 4, 5, 6, 7, 8, 9, 1, 2, 3, 4, 5, 6, 7, 8, 9, 1, 2, 3, 4, 5, 6, 7, 8, 9, 1, 2, 3, 4, 5, 6, 7, 8, 9, 1, 2, 3, 4, 5, 6, 7, 8, 9, 1, 2, 3, 4, 5, 6, 7, 8, 9, 1, 2, 3, 4, 5, 6, 7, 8, 9, 1, 2, 3, 4, 5, 6, 7, 8, 9, 1, 2, 3, 4, 5, 6, 7, 8, 9, 1, 2, 3, 4, 5, 6, 7, 8, 9, 1, 2, 3, 4, 5, 6, 7, 8, 9, 1, 2, 3, 4, 5, 6, 7, 8, 9, 1, 2, 3, 4, 5, 6, 7, 8, 9, 1, 2, 3, 4, 5, 6, 7, 8, 9, 1, 2, 3, 4, 5, 6, 7, 8, 9, 1, 2, 3, 4, 5, 6, 7, 8, 9, 1, 2, 3, 4, 5, 6, 7, 8, 9, 1, 2, 3, 4, 5, 6, 7, 8, 9, 1, 2, 3, 4, 5, 6, 7, 8, 9, 1, 2, 3, 4, 5, 6, 7, 8, 9, 1, 2, 3, 4, 5, 6, 7, 8, 9, 1, 2, 3, 4, 5, 6, 7, 8, 9, 1, 2, 3, 4, 5, 6, 7, 8, 9, 1, 2, 3, 4, 5, 6, 7, 8, 9, 1, 2, 3, 4, 5, 6, 7, 8, 9, 1, 2, 3, 4, 5, 6, 7, 8, 9, 1, 2, 3, 4, 5, 6, 7, 8, 9, 1, 2, 3, 4, 5, 6, 7, 8, 9, 1, 2, 3, 4, 5, 6, 7, 8, 9, 1, 2, 3, 4, 5, 6, 7, 8, 9, 1, 2, 3, 4, 5, 6, 7, 8, 9, 1, 2, 3, 4, 5, 6, 7, 8, 9, 1, 2, 3, 4, 5, 6, 7, 8, 9, 1, 2, 3, 4, 5, 6, 7, 8, 9, 1, 2, 3, 4, 5, 6, 7, 8, 9, 1, 2, 3, 4, 5, 6, 7, 8, 9, 1, 2, 3, 4, 5, 6, 7, 8, 9, 1, 2, 3, 4, 5, 6, 7, 8, 9, 1, 2, 3, 4, 5, 6, 7, 8, 9, 1, 2, 3, 4, 5, 6, 7, 8, 9, 1, 2, 3, 4, 5, 6, 7, 8, 9, 1, 2, 3, 4, 5, 6, 7, 8, 9, 1, 2, 3, 4, 5, 6, 7, 8, 9, 1, 2, 3, 4, 5, 6, 7, 8, 9, 1, 2, 3, 4, 5, 6, 7, 8, 9, 1, 2, 3, 4, 5, 6, 7, 8, 9, 1, 2, 3, 4, 5, 6, 7, 8, 9, 1, 2, 3, 4, 5, 6, 7, 8, 9, 1, 2, 3, 4, 5, 6, 7, 8, 9, 1, 2, 3, 4, 5, 6, 7, 8, 9, 1, 2, 3, 4, 5, 6, 7, 8, 9, 1, 2, 3, 4, 5, 6, 7, 8, 9, 1, 2, 3, 4, 5, 6, 7, 8, 9, 1, 2, 3, 4, 5, 6, 7, 8, 9, 1, 2, 3, 4, 5, 6, 7, 8, 9, 1, 2, 3, 4, 5, 6, 7, 8, 9, 1, 2, 3, 4, 5, 6, 7, 8, 9, 1, 2, 3, 4, 5, 6, 7, 8, 9, 1, 2, 3, 4, 5, 6, 7, 8, 9, 1, 2, 3, 4, 5, 6, 7, 8, 9, 1, 2, 3, 4, 5, 6, 7, 8, 9, 1, 2, 3, 4, 5, 6, 7, 8, 9, 1, 2, 3, 4, 5, 6, 7, 8, 9, 1, 2, 3, 4, 5, 6, 7, 8, 9, 1, 2, 3, 4, 5, 6, 7, 8, 9, 1, 2, 3, 4, 5, 6, 7, 8, 9, 1, 2, 3, 4, 5, 6, 7, 8, 9, 1, 2, 3, 4, 5, 6, 7, 8, 9, 1, 2, 3, 4, 5, 6, 7, 8, 9, 1, 2, 3, 4, 5, 6, 7, 8, 9, 1, 2, 3, 4, 5, 6, 7, 8, 9, 1, 2, 3, 4, 5, 6, 7, 8, 9, 1, 2, 3, 4, 5, 6, 7, 8, 9, 1, 2, 3, 4, 5, 6, 7, 8, 9, 1, 2, 3, 4, 5, 6, 7, 8, 9, 1, 2, 3, 4, 5, 6, 7, 8, 9, 1, 2, 3, 4, 5, 6, 7, 8, 9, 1, 2, 3, 4, 5, 6, 7, 8, 9, 1, 2, 3, 4, 5, 6, 7, 8, 9, 1, 2, 3, 4, 5, 6, 7, 8, 9, 1, 2, 3, 4, 5, 6, 7, 8, 9, 1, 2, 3, 4, 5, 6, 7, 8, 9, 1, 2, 3, 4, 5, 6, 7, 8, 9, 1, 2, 3, 4, 5, 6, 7, 8, 9, 1, 2, 3, 4, 5, 6, 7, 8, 9, 1, 2, 3, 4, 5, 6, 7, 8, 9, 1, 2, 3, 4, 5, 6, 7, 8, 9, 1, 2, 3, 4, 5, 6, 7, 8, 9, 1, 2, 3, 4, 5, 6, 7, 8, 9, 1, 2, 3, 4, 5, 6, 7, 8, 9, 1, 2, 3, 4, 5, 6, 7, 8, 9, 1, 2, 3, 4, 5, 6, 7, 8, 9, 1, 2, 3, 4, 5, 6, 7, 8, 9, 1, 2, 3, 4, 5, 6, 7, 8, 9, 1, 2, 3, 4, 5, 6, 7, 8, 9, 1, 2, 3, 4, 5, 6, 7, 8, 9, 1, 2, 3, 4, 5, 6, 7, 8, 9, 1, 2, 3, 4, 5, 6, 7, 8, 9, 1, 2, 3, 4, 5, 6, 7, 8, 9, 1, 2, 3, 4, 5, 6, 7, 8, 9, 1, 2, 3, 4, 5, 6, 7, 8, 9, 1, 2, 3, 4, 5, 6, 7, 8, 9, 1, 2, 3, 4, 5, 6, 7, 8, 9, 1, 2, 3, 4, 5, 6, 7, 8, 9, 1, 2, 3, 4, 5, 6, 7, 8, 9, 1, 2, 3, 4, 5, 6, 7, 8, 9, 1, 2, 3, 4, 5, 6, 7, 8, 9, 1, 2, 3, 4, 5, 6, 7, 8, 9, 1, 2, 3, 4, 5, 6, 7, 8, 9, 1, 2, 3, 4, 5, 6, 7, 8, 9, 1, 2, 3, 4, 5, 6, 7, 8, 9, 1, 2, 3, 4, 5, 6, 7, 8, 9, 1, 2, 3, 4, 5, 6, 7, 8, 9, 1, 2, 3, 4, 5, 6, 7, 8, 9, 1, 2, 3, 4, 5, 6, 7, 8, 9, 1, 2, 3, 4, 5, 6, 7, 8, 9, 1, 2, 3, 4, 5, 6, 7, 8, 9, 1, 2, 3, 4, 5, 6, 7, 8, 9, 1, 2, 3, 4, 5, 6, 7, 8, 9, 1, 2, 3, 4, 5, 6, 7, 8, 9, 1, 2, 3, 4, 5, 6, 7, 8, 9, 1, 2, 3, 4, 5, 6, 7, 8, 9, 1, 2, 3, 4, 5, 6, 7, 8, 9, 1, 2, 3, 4, 5, 6, 7, 8, 9, 1, 2, 3, 4, 5, 6, 7, 8, 9, 1, 2, 3, 4, 5, 6, 7, 8, 9, 1, 2, 3, 4, 5, 6, 7, 8, 9, 1, 2, 3, 4, 5, 6, 7, 8, 9, 1, 2, 3, 4, 5, 6, 7, 8, 9, 1, 2, 3, 4, 5, 6, 7, 8, 9, 1, 2, 3, 4, 5, 6, 7, 8, 9, 1, 2, 3, 4, 5, 6, 7, 8, 9, 1, 2, 3, 4, 5, 6, 7, 8, 9, 1, 2, 3, 4, 5, 6, 7, 8, 9, 1, 2, 3, 4, 5, 6, 7, 8, 9, 1, 2, 3, 4, 5, 6, 7, 8, 9, 1, 2, 3, 4, 5, 6, 7, 8, 9, 1, 2, 3, 4, 5, 6, 7, 8, 9, 1, 2, 3, 4, 5, 6, 7, 8, 9, 1, 2, 3, 4, 5, 6, 7, 8, 9, 1, 2, 3, 4, 5, 6, 7, 8, 9, 1, 2, 3, 4, 5, 6, 7, 8, 9, 1, 2, 3, 4, 5, 6, 7, 8, 9, 1, 2, 3, 4, 5, 6, 7, 8, 9, 1, 2, 3, 4, 5, 6, 7, 8, 9, 1, 2, 3, 4, 5, 6, 7, 8, 9, 1, 2, 3, 4, 5, 6, 7, 8, 9, 1, 2, 3, 4, 5, 6, 7, 8, 9, 1, 2, 3, 4, 5, 6, 7, 8, 9, 1, 2, 3, 4, 5, 6, 7, 8, 9, 1, 2, 3, 4, 5, 6, 7, 8, 9, 1, 2, 3, 4, 5, 6, 7, 8, 9, 1, 2, 3, 4, 5, 6, 7, 8, 9, 1, 2, 3, 4, 5, 6, 7, 8, 9, 1, 2, 3, 4, 5, 6, 7, 8, 9, 1, 2, 3, 4, 5, 6, 7, 8, 9, 1, 2, 3, 4, 5, 6, 7, 8, 9, 1, 2, 3, 4, 5, 6, 7, 8, 9, 1, 2, 3, 4, 5, 6, 7, 8, 9, 1, 2, 3, 4, 5, 6, 7, 8, 9, 1, 2, 3, 4, 5, 6, 7, 8, 9, 1, 2, 3, 4, 5, 6, 7, 8, 9, 1, 2, 3, 4, 5, 6, 7, 8, 9, 1, 2, 3, 4, 5, 6, 7, 8, 9, 1, 2, 3, 4, 5, 6, 7, 8, 9, 1, 2, 3, 4, 5, 6, 7, 8, 9, 1, 2, 3, 4, 5, 6, 7, 8, 9, 1, 2, 3, 4, 5, 6, 7, 8, 9, 1, 2, 3, 4, 5, 6, 7, 8, 9, 1, 2, 3, 4, 5, 6, 7, 8, 9, 1, 2, 3, 4, 5, 6, 7, 8, 9, 1, 2, 3, 4, 5, 6, 7, 8, 9, 1, 2, 3, 4, 5, 6, 7, 8, 9, 1, 2, 3, 4, 5, 6, 7, 8, 9, 1, 2, 3, 4, 5, 6, 7, 8, 9, 1, 2, 3, 4, 5, 6, 7, 8, 9, 1, 2, 3, 4, 5, 6, 7, 8, 9, 1, 2, 3, 4, 5, 6, 7, 8, 9, 1, 2, 3, 4, 5, 6, 7, 8, 9, 1, 2, 3, 4, 5, 6, 7, 8, 9, 1, 2, 3, 4, 5, 6, 7, 8, 9, 1, 2, 3, 4, 5, 6, 7, 8, 9, 1, 2, 3, 4, 5, 6, 7, 8, 9, 1, 2, 3, 4, 5, 6, 7, 8, 9, 1, 2, 3, 4, 5, 6, 7, 8, 9, 1, 2, 3, 4, 5, 6, 7, 8, 9, 1, 2, 3, 4, 5, 6, 7, 8, 9, 1, 2, 3, 4, 5, 6, 7, 8, 9, 1, 2, 3, 4, 5, 6, 7, 8, 9, 1, 2, 3, 4, 5, 6, 7, 8, 9, 1, 2, 3, 4, 5, 6, 7, 8, 9, 1, 2, 3, 4, 5, 6, 7, 8, 9, 1, 2, 3, 4, 5, 6, 7, 8, 9, 1, 2, 3, 4, 5, 6, 7, 8, 9, 1, 2, 3, 4, 5, 6, 7, 8, 9, 1, 2, 3, 4, 5, 6, 7, 8, 9, 1, 2, 3, 4, 5, 6, 7, 8, 9, 1, 2, 3, 4, 5, 6, 7, 8, 9, 1, 2, 3, 4, 5, 6, 7, 8, 9, 1, 2, 3, 4, 5, 6, 7, 8, 9, 1, 2, 3, 4, 5, 6, 7, 8, 9, 1, 2, 3, 4, 5, 6, 7, 8, 9, 1, 2, 3, 4, 5, 6, 7, 8, 9, 1, 2, 3, 4, 5, 6, 7, 8, 9, 1, 2, 3, 4, 5, 6, 7, 8, 9, 1, 2, 3, 4, 5, 6, 7, 8, 9, 1, 2, 3, 4, 5, 6, 7, 8, 9, 1, 2, 3, 4, 5, 6, 7, 8, 9, 1, 2, 3, 4, 5, 6, 7, 8, 9, 1, 2, 3, 4, 5, 6, 7, 8, 9, 1, 2, 3, 4, 5, 6, 7, 8, 9, 1, 2, 3, 4, 5, 6, 7, 8, 9, 1, 2, 3, 4, 5, 6, 7, 8, 9, 1, 2, 3, 4, 5, 6, 7, 8, 9, 1, 2, 3, 4, 5, 6, 7, 8, 9, 1, 2, 3, 4, 5, 6, 7, 8, 9, 1, 2, 3, 4, 5, 6, 7, 8, 9, 1, 2, 3, 4, 5, 6, 7, 8, 9, 1, 2, 3, 4, 5, 6, 7, 8, 9, 1, 2, 3, 4, 5, 6, 7, 8, 9, 1, 2, 3, 4, 5, 6, 7, 8, 9, 1, 2, 3, 4, 5, 6, 7, 8, 9, 1, 2, 3, 4, 5, 6, 7, 8, 9, 1, 2, 3, 4, 5, 6, 7, 8, 9, 1, 2, 3, 4, 5, 6, 7, 8, 9, 1, 2, 3, 4, 5, 6, 7, 8, 9, 1, 2, 3, 4, 5, 6, 7, 8, 9, 1, 2, 3, 4, 5, 6, 7, 8, 9, 1, 2, 3, 4, 5, 6, 7, 8, 9, 1, 2, 3, 4, 5, 6, 7, 8, 9, 1, 2, 3, 4, 5, 6, 7, 8, 9, 1, 2, 3, 4, 5, 6, 7, 8, 9, 1, 2, 3, 4, 5, 6, 7, 8, 9, 1, 2, 3, 4, 5, 6, 7, 8, 9, 1, 2, 3, 4, 5, 6, 7, 8, 9, 1, 2, 3, 4, 5, 6, 7, 8, 9, 1, 2, 3, 4, 5, 6, 7, 8, 9, 1, 2, 3, 4, 5, 6, 7, 8, 9, 1, 2, 3, 4, 5, 6, 7, 8, 9, 1, 2, 3, 4, 5, 6, 7, 8, 9, 1, 2, 3, 4, 5, 6, 7, 8, 9, 1, 2, 3, 4, 5, 6, 7, 8, 9, 1, 2, 3, 4, 5, 6, 7, 8, 9, 1, 2, 3, 4, 5, 6, 7, 8, 9, 1, 2, 3, 4, 5, 6, 7, 8, 9, 1, 2, 3, 4, 5, 6, 7, 8, 9, 1, 2, 3, 4, 5, 6, 7, 8, 9, 1, 2, 3, 4, 5, 6, 7, 8, 9, 1, 2, 3, 4, 5, 6, 7, 8, 9, 1, 2, 3, 4, 5, 6, 7, 8, 9, 1, 2, 3, 4, 5, 6, 7, 8, 9, 1, 2, 3, 4, 5, 6, 7, 8, 9, 1, 2, 3, 4, 5, 6, 7, 8, 9, 1, 2, 3, 4, 5, 6, 7, 8, 9, 1, 2, 3, 4, 5, 6, 7, 8, 9, 1, 2, 3, 4, 5, 6, 7, 8, 9, 1, 2, 3, 4, 5, 6, 7, 8, 9, 1, 2, 3, 4, 5, 6, 7, 8, 9, 1, 2, 3, 4, 5, 6, 7, 8, 9, 1, 2, 3, 4, 5, 6, 7, 8, 9, 1, 2, 3, 4, 5, 6, 7, 8, 9, 1, 2, 3, 4, 5, 6, 7, 8, 9, 1, 2, 3, 4, 5, 6, 7, 8, 9, 1, 2, 3, 4, 5, 6, 7, 8, 9, 1, 2, 3, 4, 5, 6, 7, 8, 9, 1, 2, 3, 4, 5, 6, 7, 8, 9, 1, 2, 3, 4, 5, 6, 7, 8, 9, 1, 2, 3, 4, 5, 6, 7, 8, 9, 1, 2, 3, 4, 5, 6, 7, 8, 9], \"Freq\": [0.04512223111305389, 0.04512223111305389, 0.04512223111305389, 0.18048892445221557, 0.36097784890443113, 0.04512223111305389, 0.09024446222610778, 0.04512223111305389, 0.04512223111305389, 0.2411144507116211, 0.2538046849596012, 0.012690234247980058, 0.1311324205624606, 0.09729179590118045, 0.07614140548788036, 0.05922109315724027, 0.05076093699192023, 0.07614140548788036, 0.03871449793242141, 0.03871449793242141, 0.6194319669187426, 0.03871449793242141, 0.11614349379726423, 0.03871449793242141, 0.03871449793242141, 0.03871449793242141, 0.03871449793242141, 0.06417283300275255, 0.03208641650137627, 0.09625924950412883, 0.03208641650137627, 0.48129624752064415, 0.03208641650137627, 0.09625924950412883, 0.06417283300275255, 0.06417283300275255, 0.03466767583938743, 0.121336865437856, 0.08666918959846857, 0.03466767583938743, 0.13867070335754972, 0.03466767583938743, 0.052001513759081144, 0.3813444342332617, 0.121336865437856, 0.05396472023669431, 0.026982360118347155, 0.013491180059173578, 0.22935006100595082, 0.026982360118347155, 0.08094708035504146, 0.256332421124298, 0.21585888094677724, 0.09443826041421503, 0.1331299437702972, 0.01664124297128715, 0.01664124297128715, 0.049923728913861445, 0.0332824859425743, 0.33282485942574297, 0.0332824859425743, 0.29954237348316864, 0.09984745782772289, 0.11678392522492144, 0.02919598130623036, 0.02919598130623036, 0.08758794391869108, 0.1459799065311518, 0.4379397195934554, 0.02919598130623036, 0.05839196261246072, 0.05839196261246072, 0.07692068567474433, 0.038460342837372166, 0.1153810285121165, 0.038460342837372166, 0.038460342837372166, 0.07692068567474433, 0.1153810285121165, 0.07692068567474433, 0.42306377121109384, 0.031300172739462236, 0.031300172739462236, 0.031300172739462236, 0.031300172739462236, 0.031300172739462236, 0.7825043184865559, 0.031300172739462236, 0.031300172739462236, 0.031300172739462236, 0.0388253865472513, 0.0388253865472513, 0.0388253865472513, 0.0388253865472513, 0.0388253865472513, 0.5435554116615182, 0.0388253865472513, 0.11647615964175391, 0.0776507730945026, 0.02411629451609015, 0.05627135387087702, 0.8038764838696717, 0.016077529677393433, 0.0482325890321803, 0.016077529677393433, 0.016077529677393433, 0.016077529677393433, 0.016077529677393433, 0.19658103144193825, 0.4001828140068029, 0.07020751122926366, 0.042124506737558194, 0.04914525786048456, 0.07020751122926366, 0.04914525786048456, 0.04914525786048456, 0.08424901347511639, 0.27558116177657094, 0.09798441307611412, 0.09798441307611412, 0.14085259379691403, 0.04899220653805706, 0.10410843889337125, 0.07961233562434272, 0.04899220653805706, 0.11023246471062838, 0.03690248974216047, 0.14760995896864187, 0.5719885910034873, 0.02767686730662035, 0.09225622435540118, 0.03690248974216047, 0.02767686730662035, 0.02767686730662035, 0.02767686730662035, 0.4726661814694774, 0.20932359465076855, 0.0405142441259552, 0.08778086227290295, 0.0405142441259552, 0.013504748041985069, 0.0810284882519104, 0.0202571220629776, 0.03376187010496267, 0.037501852552576896, 0.7250358160164867, 0.05625277882886535, 0.012500617517525634, 0.05625277882886535, 0.018750926276288448, 0.037501852552576896, 0.043752161311339716, 0.018750926276288448, 0.03923234934228854, 0.07846469868457707, 0.03923234934228854, 0.1176970480268656, 0.2353940960537312, 0.35309114408059683, 0.03923234934228854, 0.03923234934228854, 0.03923234934228854, 0.039288077361445004, 0.07857615472289001, 0.07857615472289001, 0.039288077361445004, 0.35359269625300505, 0.11786423208433501, 0.07857615472289001, 0.039288077361445004, 0.19644038680722503, 0.09483172097375263, 0.695432620474186, 0.06322114731583509, 0.02107371577194503, 0.02107371577194503, 0.010536857885972514, 0.02107371577194503, 0.02107371577194503, 0.05268428942986257, 0.020392558262469933, 0.5505990730866882, 0.20392558262469934, 0.040785116524939866, 0.040785116524939866, 0.040785116524939866, 0.040785116524939866, 0.040785116524939866, 0.040785116524939866, 0.08262004410279473, 0.04131002205139737, 0.08262004410279473, 0.04131002205139737, 0.04131002205139737, 0.08262004410279473, 0.04131002205139737, 0.45441024256537105, 0.08262004410279473, 0.030252880795720572, 0.060505761591441144, 0.030252880795720572, 0.030252880795720572, 0.060505761591441144, 0.030252880795720572, 0.030252880795720572, 0.635310496710132, 0.060505761591441144, 0.8352353577829079, 0.01546732144042422, 0.01546732144042422, 0.03093464288084844, 0.01546732144042422, 0.01546732144042422, 0.01546732144042422, 0.03093464288084844, 0.01546732144042422, 0.4403358165166828, 0.08006105754848777, 0.14010685070985363, 0.1100839541291707, 0.06004579316136583, 0.030022896580682915, 0.05003816096780486, 0.030022896580682915, 0.06004579316136583, 0.1887335587561372, 0.01715759625055793, 0.01715759625055793, 0.7034614462728751, 0.008578798125278965, 0.01715759625055793, 0.008578798125278965, 0.01715759625055793, 0.01715759625055793, 0.23973509593238168, 0.014102064466610687, 0.014102064466610687, 0.6345929009974809, 0.014102064466610687, 0.028204128933221374, 0.014102064466610687, 0.014102064466610687, 0.014102064466610687, 0.09195036753286508, 0.13792555129929762, 0.04597518376643254, 0.04597518376643254, 0.04597518376643254, 0.3678014701314603, 0.04597518376643254, 0.04597518376643254, 0.13792555129929762, 0.028941244965913, 0.028941244965913, 0.028941244965913, 0.028941244965913, 0.028941244965913, 0.028941244965913, 0.028941244965913, 0.781413614079651, 0.028941244965913, 0.10118627183493366, 0.08673109014422885, 0.028910363381409617, 0.028910363381409617, 0.24573808874198175, 0.057820726762819234, 0.30355881550480096, 0.057820726762819234, 0.08673109014422885, 0.044899364354485334, 0.38164459701312536, 0.022449682177242667, 0.022449682177242667, 0.022449682177242667, 0.022449682177242667, 0.044899364354485334, 0.044899364354485334, 0.3591949148358827, 0.1162865645257431, 0.013680772297146246, 0.6703578425601661, 0.04104231689143874, 0.013680772297146246, 0.061563475337158106, 0.027361544594292492, 0.02052115844571937, 0.027361544594292492, 0.047569751315970486, 0.09513950263194097, 0.047569751315970486, 0.09513950263194097, 0.09513950263194097, 0.3329882592117934, 0.09513950263194097, 0.09513950263194097, 0.09513950263194097, 0.05914322681692825, 0.04928602234744021, 0.10842924916436845, 0.03942881787795217, 0.029571613408464124, 0.1182864536338565, 0.2661445206761771, 0.19714408938976083, 0.1380008625728326, 0.09838439030298733, 0.08745279138043319, 0.03279479676766244, 0.08745279138043319, 0.03279479676766244, 0.13117918707064977, 0.06558959353532488, 0.2514267752187454, 0.19676878060597466, 0.6214648272035053, 0.02485859308814021, 0.02485859308814021, 0.09943437235256083, 0.02485859308814021, 0.07457577926442063, 0.02485859308814021, 0.02485859308814021, 0.04971718617628042, 0.15835358175940525, 0.24472826271908085, 0.17274936191935117, 0.05758312063978373, 0.0647810107197567, 0.03598945039986483, 0.0647810107197567, 0.1295620214395134, 0.07197890079972966, 0.04242259719770581, 0.04242259719770581, 0.445437270575911, 0.04242259719770581, 0.0636338957965587, 0.04242259719770581, 0.0636338957965587, 0.04242259719770581, 0.21211298598852904, 0.04212291750923073, 0.04212291750923073, 0.631843762638461, 0.04212291750923073, 0.04212291750923073, 0.04212291750923073, 0.04212291750923073, 0.04212291750923073, 0.04212291750923073, 0.026389893697159102, 0.026389893697159102, 0.052779787394318205, 0.026389893697159102, 0.7389170235204549, 0.026389893697159102, 0.026389893697159102, 0.026389893697159102, 0.026389893697159102, 0.7141028871854497, 0.01347363938085754, 0.047157737833001395, 0.09431547566600279, 0.03368409845214385, 0.03368409845214385, 0.01347363938085754, 0.02694727876171508, 0.02021045907128631, 0.03971847369245232, 0.07943694738490464, 0.5560586316943325, 0.03971847369245232, 0.03971847369245232, 0.03971847369245232, 0.03971847369245232, 0.03971847369245232, 0.07943694738490464, 0.7016456187233522, 0.0152531656244207, 0.0152531656244207, 0.0305063312488414, 0.0152531656244207, 0.0152531656244207, 0.0305063312488414, 0.1067721593709449, 0.0457594968732621, 0.7918021997974795, 0.02030262050762768, 0.02030262050762768, 0.02030262050762768, 0.02030262050762768, 0.02030262050762768, 0.02030262050762768, 0.02030262050762768, 0.02030262050762768, 0.006396021964291319, 0.006396021964291319, 0.006396021964291319, 0.006396021964291319, 0.49888971321472286, 0.006396021964291319, 0.3325931421431486, 0.006396021964291319, 0.11512839535724374, 0.022298124716436586, 0.022298124716436586, 0.04459624943287317, 0.4682606190451683, 0.04459624943287317, 0.08919249886574634, 0.22298124716436585, 0.04459624943287317, 0.022298124716436586, 0.64611495714301, 0.03800676218488294, 0.03800676218488294, 0.07601352436976588, 0.03800676218488294, 0.03800676218488294, 0.03800676218488294, 0.03800676218488294, 0.03800676218488294, 0.03150628166581788, 0.03150628166581788, 0.03150628166581788, 0.03150628166581788, 0.252050253326543, 0.03150628166581788, 0.03150628166581788, 0.504100506653086, 0.06301256333163575, 0.018388929981140462, 0.07355571992456185, 0.2574450197359665, 0.036777859962280925, 0.2022782297925451, 0.05516678994342139, 0.09194464990570232, 0.036777859962280925, 0.23905608975482603, 0.04030556088882338, 0.12091668266647015, 0.04030556088882338, 0.08061112177764676, 0.04030556088882338, 0.4433611697770572, 0.04030556088882338, 0.08061112177764676, 0.04030556088882338, 0.06100628847898331, 0.139442945094819, 0.09586702475268806, 0.18301886543694992, 0.11329739288954042, 0.15687331323167136, 0.10458220882111424, 0.11329739288954042, 0.03486073627370475, 0.1967483390666543, 0.04918708476666357, 0.4426837628999722, 0.07378062714999536, 0.024593542383331786, 0.07378062714999536, 0.04918708476666357, 0.024593542383331786, 0.04918708476666357, 0.028851694099099413, 0.028851694099099413, 0.028851694099099413, 0.08655508229729823, 0.2308135527927953, 0.028851694099099413, 0.40392371738739175, 0.05770338819819883, 0.05770338819819883, 0.035855599589685865, 0.1075667987690576, 0.035855599589685865, 0.035855599589685865, 0.4302671950762304, 0.14342239835874346, 0.07171119917937173, 0.07171119917937173, 0.035855599589685865, 0.13910433377158024, 0.02782086675431605, 0.1112834670172642, 0.0556417335086321, 0.041731300131474074, 0.13910433377158024, 0.09737303364010617, 0.12519390039442221, 0.25038780078884443, 0.13920119262444866, 0.037963961624849635, 0.11389188487454892, 0.3543303084985966, 0.037963961624849635, 0.05061861549979951, 0.08858257712464915, 0.12654653874949878, 0.05061861549979951, 0.02981430422412437, 0.02981430422412437, 0.02981430422412437, 0.02981430422412437, 0.02981430422412437, 0.02981430422412437, 0.02981430422412437, 0.7155433013789849, 0.05962860844824874, 0.15367836715977276, 0.09604897947485798, 0.03841959178994319, 0.09604897947485798, 0.05762938768491479, 0.03841959178994319, 0.03841959178994319, 0.07683918357988638, 0.3841959178994319, 0.022070376681898533, 0.022070376681898533, 0.022070376681898533, 0.022070376681898533, 0.8386743139121443, 0.022070376681898533, 0.04414075336379707, 0.022070376681898533, 0.022070376681898533, 0.03094246814253236, 0.7194123843138774, 0.13924110664139563, 0.01547123407126618, 0.038678085178165456, 0.00773561703563309, 0.01547123407126618, 0.02320685110689927, 0.02320685110689927, 0.020466287177413132, 0.7367863383868728, 0.040932574354826265, 0.020466287177413132, 0.040932574354826265, 0.020466287177413132, 0.020466287177413132, 0.020466287177413132, 0.040932574354826265, 0.047358940031775314, 0.1657562901112136, 0.14207682009532593, 0.07103841004766297, 0.28415364019065187, 0.059198675039719144, 0.035519205023831484, 0.1302370850873821, 0.059198675039719144, 0.3584157080547689, 0.013785219540568036, 0.34463048851420086, 0.055140878162272144, 0.013785219540568036, 0.04135565862170411, 0.027570439081136072, 0.055140878162272144, 0.08271131724340822, 0.018585982406852934, 0.20444580647538227, 0.5389934897987351, 0.018585982406852934, 0.0557579472205588, 0.03717196481370587, 0.03717196481370587, 0.03717196481370587, 0.0557579472205588, 0.045492152728866087, 0.012997757922533168, 0.025995515845066337, 0.1689708529929312, 0.07148766857393242, 0.2079641267605307, 0.2794517953344631, 0.14297533714786484, 0.0389932737675995, 0.02150659429615992, 0.7527308003655971, 0.04301318859231984, 0.02150659429615992, 0.06451978288847976, 0.02150659429615992, 0.02150659429615992, 0.02150659429615992, 0.02150659429615992, 0.02957918601832053, 0.6803212784213721, 0.02957918601832053, 0.02957918601832053, 0.02957918601832053, 0.02957918601832053, 0.05915837203664106, 0.02957918601832053, 0.08873755805496158, 0.043056243534307946, 0.043056243534307946, 0.043056243534307946, 0.043056243534307946, 0.5166749224116953, 0.043056243534307946, 0.17222497413723178, 0.043056243534307946, 0.043056243534307946, 0.19363117225029913, 0.16692342435370613, 0.08012324368977895, 0.06676936974148245, 0.1001540546122237, 0.1001540546122237, 0.11350792856052018, 0.04673855881903772, 0.1335387394829649, 0.03578530875788076, 0.03578530875788076, 0.03578530875788076, 0.03578530875788076, 0.03578530875788076, 0.03578530875788076, 0.03578530875788076, 0.10735592627364228, 0.6083502488839729, 0.03204173575321004, 0.09612520725963011, 0.03204173575321004, 0.03204173575321004, 0.03204173575321004, 0.03204173575321004, 0.03204173575321004, 0.48062603629815054, 0.1602086787660502, 0.5106001983428038, 0.018021183470922485, 0.13816240661040574, 0.03604236694184497, 0.03604236694184497, 0.05406355041276746, 0.0780917950406641, 0.09010591735461243, 0.03003530578487081, 0.042710916016165675, 0.08542183203233135, 0.5979528242263195, 0.042710916016165675, 0.042710916016165675, 0.042710916016165675, 0.08542183203233135, 0.042710916016165675, 0.042710916016165675, 0.023848996011547285, 0.0834714860404155, 0.6558473903175503, 0.059622490028868214, 0.023848996011547285, 0.04769799202309457, 0.07154698803464185, 0.023848996011547285, 0.023848996011547285, 0.029457588463513325, 0.7069821231243197, 0.029457588463513325, 0.029457588463513325, 0.029457588463513325, 0.029457588463513325, 0.029457588463513325, 0.05891517692702665, 0.05891517692702665, 0.0506369056789454, 0.6751587423859386, 0.08439484279824233, 0.016878968559648468, 0.016878968559648468, 0.033757937119296935, 0.016878968559648468, 0.0506369056789454, 0.0506369056789454, 0.027795187965567937, 0.027795187965567937, 0.7504700750703343, 0.027795187965567937, 0.027795187965567937, 0.055590375931135874, 0.027795187965567937, 0.027795187965567937, 0.027795187965567937, 0.10883539741594707, 0.13851777852938718, 0.07915301630250696, 0.02968238111344011, 0.20777666779408077, 0.06925888926469359, 0.03957650815125348, 0.21767079483189414, 0.11872952445376043, 0.18457899564822952, 0.04922106550619454, 0.07383159825929181, 0.07383159825929181, 0.07383159825929181, 0.3568527249199104, 0.036915799129645904, 0.061526331882743174, 0.07383159825929181, 0.027910362274452146, 0.027910362274452146, 0.027910362274452146, 0.753579781410208, 0.027910362274452146, 0.027910362274452146, 0.027910362274452146, 0.027910362274452146, 0.027910362274452146, 0.0410117217134793, 0.0820234434269586, 0.0410117217134793, 0.1640468868539172, 0.0820234434269586, 0.0410117217134793, 0.0410117217134793, 0.0410117217134793, 0.41011721713479293, 0.8297936374754667, 0.009429473153130303, 0.018858946306260605, 0.06600631207191213, 0.009429473153130303, 0.02828841945939091, 0.009429473153130303, 0.009429473153130303, 0.018858946306260605, 0.032829560890816664, 0.032829560890816664, 0.032829560890816664, 0.032829560890816664, 0.032829560890816664, 0.3939547306897999, 0.032829560890816664, 0.3282956089081666, 0.06565912178163333, 0.04195823640845254, 0.545457073309883, 0.16783294563381015, 0.04195823640845254, 0.04195823640845254, 0.04195823640845254, 0.04195823640845254, 0.04195823640845254, 0.04195823640845254, 0.021494346932964682, 0.35465672439391727, 0.3439095509274349, 0.021494346932964682, 0.10747173466482342, 0.021494346932964682, 0.042988693865929364, 0.03224152039944703, 0.042988693865929364, 0.20710860530960262, 0.041421721061920526, 0.027614480707947017, 0.08284344212384105, 0.055228961415894035, 0.06903620176986754, 0.3175665281413907, 0.041421721061920526, 0.1656868842476821, 0.1571699122505445, 0.031433982450108894, 0.597245666552069, 0.031433982450108894, 0.06286796490021779, 0.031433982450108894, 0.031433982450108894, 0.031433982450108894, 0.031433982450108894, 0.07249067427493228, 0.07249067427493228, 0.5074347199245259, 0.054368005706199214, 0.12685867998113148, 0.07249067427493228, 0.054368005706199214, 0.01812266856873307, 0.03624533713746614, 0.11256254055141587, 0.03752084685047196, 0.07504169370094392, 0.03752084685047196, 0.41272931535519153, 0.07504169370094392, 0.11256254055141587, 0.03752084685047196, 0.11256254055141587, 0.099252062118156, 0.044112027608069336, 0.033084020706052, 0.022056013804034668, 0.099252062118156, 0.044112027608069336, 0.044112027608069336, 0.033084020706052, 0.5844843658069186, 0.04135700853179187, 0.11225473744343507, 0.10043844929149455, 0.10043844929149455, 0.06498958483567294, 0.059081440759702675, 0.15361174597522695, 0.2894990597225431, 0.08271401706358374, 0.03136996795462997, 0.7215092629564892, 0.03136996795462997, 0.03136996795462997, 0.06273993590925994, 0.03136996795462997, 0.03136996795462997, 0.03136996795462997, 0.03136996795462997, 0.034243822922487024, 0.7191202813722276, 0.02282921528165802, 0.034243822922487024, 0.02282921528165802, 0.02282921528165802, 0.034243822922487024, 0.034243822922487024, 0.06848764584497405, 0.03070350725284547, 0.11513815219817052, 0.04605526087926821, 0.09211052175853641, 0.2840074420888206, 0.09211052175853641, 0.05373113769247957, 0.19957279714349555, 0.07675876813211367, 0.04032339606588058, 0.04032339606588058, 0.04032339606588058, 0.04032339606588058, 0.40323396065880585, 0.04032339606588058, 0.32258716852704467, 0.04032339606588058, 0.04032339606588058, 0.07352502539699464, 0.07352502539699464, 0.07352502539699464, 0.07352502539699464, 0.04901668359799642, 0.12254170899499106, 0.49016683597996424, 0.02450834179899821, 0.02450834179899821, 0.03453756940126733, 0.10361270820380199, 0.27630055521013863, 0.03453756940126733, 0.34537569401267326, 0.03453756940126733, 0.06907513880253466, 0.03453756940126733, 0.03453756940126733, 0.020048701102979294, 0.020048701102979294, 0.020048701102979294, 0.020048701102979294, 0.7418019408102339, 0.020048701102979294, 0.12029220661787576, 0.020048701102979294, 0.020048701102979294, 0.05179427530456216, 0.23307423887052972, 0.05179427530456216, 0.05179427530456216, 0.02589713765228108, 0.05179427530456216, 0.02589713765228108, 0.46614847774105944, 0.05179427530456216, 0.022806906065001954, 0.06842071819500586, 0.11403453032500976, 0.09122762426000781, 0.022806906065001954, 0.478945027365041, 0.04561381213000391, 0.06842071819500586, 0.06842071819500586, 0.03859210484424228, 0.03859210484424228, 0.03859210484424228, 0.03859210484424228, 0.11577631453272685, 0.03859210484424228, 0.6174736775078765, 0.03859210484424228, 0.03859210484424228, 0.030856751076426398, 0.6788485236813808, 0.030856751076426398, 0.0925702532292792, 0.030856751076426398, 0.030856751076426398, 0.030856751076426398, 0.030856751076426398, 0.030856751076426398, 0.6535640329521779, 0.06224419361449314, 0.03112209680724657, 0.03112209680724657, 0.03112209680724657, 0.03112209680724657, 0.03112209680724657, 0.06224419361449314, 0.03112209680724657, 0.08991038423589826, 0.05057459113269277, 0.3090669458109002, 0.08429098522115461, 0.140484975368591, 0.12924617733910373, 0.06743278817692369, 0.07867158620641097, 0.04495519211794913, 0.08639578066201392, 0.04319789033100696, 0.04319789033100696, 0.08639578066201392, 0.04319789033100696, 0.04319789033100696, 0.04319789033100696, 0.17279156132402784, 0.43197890331006955, 0.030487351941616243, 0.030487351941616243, 0.030487351941616243, 0.030487351941616243, 0.6707217427155573, 0.030487351941616243, 0.060974703883232485, 0.060974703883232485, 0.030487351941616243, 0.3140620812244313, 0.17447893401357295, 0.06979157360542919, 0.12213525380950108, 0.05234368020407189, 0.06106762690475054, 0.148307093911537, 0.026171840102035944, 0.034895786802714594, 0.06363499617868604, 0.06363499617868604, 0.6363499617868604, 0.03181749808934302, 0.03181749808934302, 0.03181749808934302, 0.03181749808934302, 0.03181749808934302, 0.06363499617868604, 0.015503958139408249, 0.015503958139408249, 0.031007916278816498, 0.5271345767398804, 0.12403166511526599, 0.031007916278816498, 0.031007916278816498, 0.17054353953349072, 0.031007916278816498, 0.04854676306089842, 0.04854676306089842, 0.09709352612179684, 0.4369208675480858, 0.04854676306089842, 0.09709352612179684, 0.09709352612179684, 0.04854676306089842, 0.04854676306089842, 0.02437267659134016, 0.02437267659134016, 0.02437267659134016, 0.02437267659134016, 0.02437267659134016, 0.02437267659134016, 0.02437267659134016, 0.8286710041055655, 0.02437267659134016, 0.04583164120593612, 0.04583164120593612, 0.04583164120593612, 0.04583164120593612, 0.04583164120593612, 0.04583164120593612, 0.04583164120593612, 0.6874746180890419, 0.04583164120593612, 0.059380518083478766, 0.29690259041739386, 0.44535388562609074, 0.029690259041739383, 0.029690259041739383, 0.029690259041739383, 0.029690259041739383, 0.029690259041739383, 0.029690259041739383, 0.02888979289315386, 0.16370882639453854, 0.37556730761100016, 0.12518910253700005, 0.12518910253700005, 0.0481496548219231, 0.07703944771507695, 0.019259861928769238, 0.02888979289315386, 0.09198555674876241, 0.03066185224958747, 0.06132370449917494, 0.09198555674876241, 0.521251488242987, 0.03066185224958747, 0.12264740899834987, 0.03066185224958747, 0.03066185224958747, 0.02890984281065428, 0.21200551394479808, 0.28909842810654285, 0.02890984281065428, 0.11563937124261713, 0.07709291416174475, 0.02890984281065428, 0.04818307135109047, 0.1638224425937076, 0.008710044689589021, 0.008710044689589021, 0.008710044689589021, 0.008710044689589021, 0.008710044689589021, 0.008710044689589021, 0.008710044689589021, 0.9145546924068473, 0.008710044689589021, 0.01682128993964967, 0.01682128993964967, 0.6223877277670378, 0.05046386981894901, 0.06728515975859868, 0.08410644969824835, 0.05046386981894901, 0.03364257987929934, 0.01682128993964967, 0.13222460107167927, 0.09916845080375944, 0.4297299534829576, 0.06611230053583964, 0.03305615026791982, 0.03305615026791982, 0.06611230053583964, 0.13222460107167927, 0.03305615026791982, 0.03471421207836964, 0.41657054494043566, 0.21522811488589177, 0.11802832106645678, 0.03471421207836964, 0.09025695140376107, 0.013885684831347856, 0.020828527247021784, 0.05554273932539142, 0.07885534977482371, 0.01577106995496474, 0.03154213990992948, 0.5204453085138364, 0.03154213990992948, 0.15771069954964742, 0.07885534977482371, 0.03154213990992948, 0.06308427981985897, 0.023317221067105282, 0.11658610533552642, 0.023317221067105282, 0.023317221067105282, 0.023317221067105282, 0.023317221067105282, 0.6995166320131585, 0.023317221067105282, 0.023317221067105282, 0.03817755950724135, 0.019088779753620676, 0.028633169630431016, 0.1717990177825861, 0.04772194938405169, 0.03817755950724135, 0.5058526634709479, 0.05726633926086203, 0.09544389876810339, 0.02505410398196128, 0.02505410398196128, 0.02505410398196128, 0.02505410398196128, 0.02505410398196128, 0.7766772234407997, 0.02505410398196128, 0.05010820796392256, 0.02505410398196128, 0.013677235595317807, 0.013677235595317807, 0.013677235595317807, 0.013677235595317807, 0.013677235595317807, 0.8616658425050219, 0.013677235595317807, 0.027354471190635613, 0.013677235595317807, 0.22019422885956597, 0.2935923051460879, 0.05504855721489149, 0.11927187396559823, 0.027524278607445746, 0.03669903814326099, 0.03669903814326099, 0.05504855721489149, 0.15597091210885922, 0.09807151187279362, 0.5884290712367617, 0.028020431963655317, 0.15411237580010426, 0.014010215981827659, 0.028020431963655317, 0.056040863927310634, 0.014010215981827659, 0.028020431963655317, 0.06856508086023731, 0.017141270215059328, 0.017141270215059328, 0.7542158894626104, 0.017141270215059328, 0.06856508086023731, 0.017141270215059328, 0.02571190532258899, 0.017141270215059328, 0.05827414817228109, 0.07284268521535137, 0.13111683338763244, 0.11654829634456218, 0.05827414817228109, 0.05827414817228109, 0.4661931853782487, 0.014568537043070273, 0.029137074086140545, 0.6463163654492274, 0.03917068881510469, 0.03917068881510469, 0.13709741085286642, 0.019585344407552344, 0.03917068881510469, 0.019585344407552344, 0.019585344407552344, 0.03917068881510469, 0.18925635809590668, 0.08110986775538857, 0.10138733469423572, 0.12842395727936523, 0.10138733469423572, 0.15546057986449477, 0.04731408952397667, 0.08786902340167095, 0.1081464903405181, 0.11690466615653697, 0.03896822205217899, 0.07793644410435797, 0.11690466615653697, 0.07793644410435797, 0.07793644410435797, 0.4286504425739689, 0.03896822205217899, 0.03896822205217899, 0.04900307560369022, 0.11638230455876429, 0.07350461340553534, 0.15925999571199323, 0.2266392246670673, 0.07962999785599661, 0.11025692010830301, 0.09188076675691917, 0.09800615120738045, 0.1008833311023102, 0.1008833311023102, 0.0672555540682068, 0.1345111081364136, 0.0672555540682068, 0.1008833311023102, 0.336277770341034, 0.0336277770341034, 0.0336277770341034, 0.018595574808856673, 0.009297787404428336, 0.018595574808856673, 0.009297787404428336, 0.018595574808856673, 0.6601429057144118, 0.06508451183099835, 0.07438229923542669, 0.12087123625756836, 0.10332855955063328, 0.10332855955063328, 0.05166427977531664, 0.05166427977531664, 0.05166427977531664, 0.10332855955063328, 0.10332855955063328, 0.10332855955063328, 0.3616499584272165, 0.2510320013526847, 0.07987381861221786, 0.03423163654809337, 0.273853092384747, 0.03423163654809337, 0.09128436412824899, 0.06846327309618674, 0.06846327309618674, 0.09128436412824899, 0.03616429050509146, 0.03616429050509146, 0.07232858101018293, 0.03616429050509146, 0.03616429050509146, 0.5424643575763719, 0.03616429050509146, 0.07232858101018293, 0.10849287151527438, 0.18833071843251767, 0.03138845307208628, 0.09416535921625883, 0.03138845307208628, 0.03138845307208628, 0.06277690614417256, 0.5022152491533804, 0.03138845307208628, 0.03138845307208628, 0.06979237166459196, 0.1744809291614799, 0.03489618583229598, 0.10468855749688794, 0.03489618583229598, 0.03489618583229598, 0.10468855749688794, 0.1744809291614799, 0.2791694866583678, 0.12940044855880653, 0.03235011213970163, 0.19410067283820978, 0.03235011213970163, 0.06470022427940327, 0.09705033641910489, 0.03235011213970163, 0.38820134567641956, 0.03235011213970163, 0.6887780386124471, 0.03130809266420214, 0.03130809266420214, 0.07827023166050535, 0.046962138996303214, 0.046962138996303214, 0.01565404633210107, 0.03130809266420214, 0.03130809266420214, 0.6747584857350063, 0.0586746509334788, 0.0586746509334788, 0.0586746509334788, 0.0293373254667394, 0.0293373254667394, 0.0293373254667394, 0.0293373254667394, 0.0293373254667394, 0.038993684427622716, 0.038993684427622716, 0.058490526641434074, 0.6823894774833975, 0.019496842213811358, 0.058490526641434074, 0.038993684427622716, 0.019496842213811358, 0.019496842213811358, 0.0263769269974586, 0.0263769269974586, 0.0263769269974586, 0.0791307809923758, 0.1055077079898344, 0.0527538539949172, 0.0791307809923758, 0.5539154669466306, 0.0263769269974586, 0.33981862635951615, 0.09709103610271891, 0.11650924332326269, 0.1068001397129908, 0.029127310830815673, 0.09709103610271891, 0.14563655415407836, 0.029127310830815673, 0.048545518051359454, 0.2934368934456031, 0.08383911241302945, 0.14147850219698718, 0.031439667154886046, 0.12051872409372982, 0.08383911241302945, 0.036679611680700386, 0.15195839124861588, 0.06811927883558642, 0.20040675281798404, 0.060122025845395215, 0.17368585244225285, 0.16032540225438724, 0.060122025845395215, 0.08684292622112642, 0.17368585244225285, 0.033401125469664006, 0.046761575657529614, 0.03057008225366866, 0.06114016450733732, 0.12228032901467464, 0.03057008225366866, 0.03057008225366866, 0.03057008225366866, 0.03057008225366866, 0.6725418095807105, 0.03057008225366866, 0.18543085254468988, 0.04635771313617247, 0.057947141420215585, 0.08112599798830182, 0.023178856568086235, 0.24337799396490548, 0.23178856568086234, 0.08112599798830182, 0.04635771313617247, 0.2957630840088978, 0.060892399648890726, 0.095688056591114, 0.10438697082666981, 0.03479565694222327, 0.18267719894667217, 0.07829022812000236, 0.095688056591114, 0.060892399648890726, 0.18007765444573798, 0.011254853402858624, 0.15756794764002072, 0.4051747225029104, 0.022509706805717247, 0.09003882722286899, 0.022509706805717247, 0.03376456020857587, 0.07878397382001036, 0.07794304592608567, 0.038971522963042834, 0.15588609185217134, 0.19485761481521416, 0.038971522963042834, 0.038971522963042834, 0.07794304592608567, 0.038971522963042834, 0.2728006607412998, 0.1558209844117538, 0.22074639458331788, 0.1623135254289102, 0.09738811525734613, 0.06492541017156409, 0.03895524610293845, 0.07141795118872049, 0.11037319729165894, 0.09089557424018972, 0.013296765844243526, 0.008864510562829017, 0.008864510562829017, 0.008864510562829017, 0.7889414400917826, 0.008864510562829017, 0.11967089259819173, 0.008864510562829017, 0.03545804225131607, 0.007704604046521653, 0.007704604046521653, 0.007704604046521653, 0.007704604046521653, 0.1309782687908681, 0.007704604046521653, 0.7781650086986869, 0.007704604046521653, 0.038523020232608264, 0.027564563656240472, 0.027564563656240472, 0.027564563656240472, 0.055129127312480944, 0.13782281828120235, 0.13782281828120235, 0.19295194559368328, 0.08269369096872141, 0.2756456365624047, 0.057660200729997384, 0.07928277600374639, 0.10090535127749542, 0.12973545164249412, 0.16577307709874248, 0.08649030109499607, 0.043245150547498036, 0.17298060218999214, 0.16577307709874248, 0.02073847716807032, 0.02073847716807032, 0.04147695433614064, 0.08295390867228128, 0.12443086300842192, 0.06221543150421096, 0.2073847716807032, 0.04147695433614064, 0.3940310661933361, 0.0531088088717871, 0.015173945391939172, 0.022760918087908758, 0.030347890783878343, 0.015173945391939172, 0.022760918087908758, 0.060695781567756686, 0.030347890783878343, 0.7511102969009891, 0.02798275101574014, 0.02798275101574014, 0.02798275101574014, 0.02798275101574014, 0.25184475914166127, 0.02798275101574014, 0.5316722692990626, 0.02798275101574014, 0.02798275101574014, 0.01391312484894812, 0.09739187394263685, 0.3895674957705474, 0.08347874909368873, 0.23652312243211807, 0.041739374546844364, 0.05565249939579248, 0.05565249939579248, 0.02782624969789624, 0.04075899965787078, 0.7948004933284802, 0.02037949982893539, 0.04075899965787078, 0.02037949982893539, 0.02037949982893539, 0.02037949982893539, 0.02037949982893539, 0.02037949982893539, 0.02311683104488473, 0.04623366208976946, 0.11558415522442364, 0.034675246567327095, 0.12714257074686602, 0.5201286985099064, 0.034675246567327095, 0.06935049313465419, 0.02311683104488473, 0.0296220660759103, 0.12441267751882326, 0.1184882643036412, 0.0296220660759103, 0.4147089250627442, 0.07701737179736678, 0.09479061144291295, 0.0592441321518206, 0.05331971893663854, 0.17128784276065137, 0.028547973793441896, 0.028547973793441896, 0.42821960690162847, 0.028547973793441896, 0.17128784276065137, 0.028547973793441896, 0.028547973793441896, 0.05709594758688379, 0.0598387504964561, 0.3390862528132512, 0.24932812706856708, 0.039892500330970734, 0.08975812574468416, 0.09973125082742683, 0.02991937524822805, 0.06981187557919878, 0.02991937524822805, 0.09900932242545966, 0.007616101725035358, 0.030464406900141433, 0.594055934552758, 0.015232203450070717, 0.13708983105063646, 0.03808050862517679, 0.03808050862517679, 0.03808050862517679, 0.03403707918211762, 0.06807415836423523, 0.03403707918211762, 0.03403707918211762, 0.03403707918211762, 0.06807415836423523, 0.03403707918211762, 0.6126674252781171, 0.10211123754635286, 0.11389584632024677, 0.11389584632024677, 0.10790132809286536, 0.09591229163810254, 0.07792873695595832, 0.08991777341072113, 0.09591229163810254, 0.19182458327620508, 0.10790132809286536, 0.04861390911770263, 0.3402973638239184, 0.09722781823540526, 0.01944556364708105, 0.08750503641186473, 0.2722378910591347, 0.06805947276478368, 0.04861390911770263, 0.029168345470621575, 0.1172187290515337, 0.18754996648245392, 0.03516561871546011, 0.02344374581030674, 0.07033123743092022, 0.03516561871546011, 0.03516561871546011, 0.03516561871546011, 0.45715304330098144, 0.03983936628691542, 0.16931730671939055, 0.627470019018918, 0.01991968314345771, 0.059759049430373135, 0.01991968314345771, 0.029879524715186567, 0.01991968314345771, 0.01991968314345771, 0.038713684665517306, 0.07742736933103461, 0.11614105399655193, 0.07742736933103461, 0.038713684665517306, 0.3871368466551731, 0.15485473866206922, 0.038713684665517306, 0.07742736933103461, 0.13675254310389187, 0.027350508620778372, 0.04102576293116756, 0.588035935346735, 0.0957267801727243, 0.027350508620778372, 0.027350508620778372, 0.027350508620778372, 0.04102576293116756, 0.018624329881210853, 0.027936494821816277, 0.027936494821816277, 0.810158349832672, 0.018624329881210853, 0.018624329881210853, 0.037248659762421706, 0.018624329881210853, 0.027936494821816277, 0.01569120207218986, 0.20398562693846817, 0.5805744766710248, 0.01569120207218986, 0.09414721243313914, 0.01569120207218986, 0.03138240414437972, 0.01569120207218986, 0.01569120207218986, 0.033581443731835504, 0.033581443731835504, 0.6044659871730391, 0.10074433119550652, 0.033581443731835504, 0.06716288746367101, 0.033581443731835504, 0.033581443731835504, 0.033581443731835504, 0.03809930833578456, 0.5333903167009838, 0.07619861667156912, 0.03809930833578456, 0.03809930833578456, 0.03809930833578456, 0.03809930833578456, 0.03809930833578456, 0.07619861667156912, 0.03635927783856936, 0.1090778335157081, 0.05453891675785405, 0.03635927783856936, 0.03635927783856936, 0.01817963891928468, 0.05453891675785405, 0.03635927783856936, 0.6362873621749638, 0.5143892012250069, 0.0183710429008931, 0.0183710429008931, 0.16533938610803792, 0.05511312870267931, 0.11022625740535862, 0.0183710429008931, 0.05511312870267931, 0.0367420858017862, 0.5163547916578161, 0.008605913194296934, 0.06884730555437547, 0.18933009027453254, 0.0258177395828908, 0.12048278472015708, 0.01721182638859387, 0.03442365277718774, 0.01721182638859387, 0.6450552177270081, 0.020157975553969004, 0.08063190221587602, 0.09071088999286052, 0.020157975553969004, 0.08063190221587602, 0.010078987776984502, 0.04031595110793801, 0.020157975553969004, 0.08689437846244233, 0.08689437846244233, 0.043447189231221164, 0.043447189231221164, 0.043447189231221164, 0.043447189231221164, 0.043447189231221164, 0.08689437846244233, 0.4779190815434328, 0.5846458394711876, 0.030770833656378296, 0.030770833656378296, 0.09231250096913489, 0.030770833656378296, 0.09231250096913489, 0.06154166731275659, 0.030770833656378296, 0.06154166731275659, 0.05626588982150671, 0.028132944910753355, 0.028132944910753355, 0.19693061437527348, 0.08439883473226006, 0.47826006348280703, 0.05626588982150671, 0.05626588982150671, 0.028132944910753355, 0.12367482495082911, 0.04122494165027637, 0.08244988330055274, 0.08244988330055274, 0.08244988330055274, 0.08244988330055274, 0.37102447485248735, 0.04122494165027637, 0.08244988330055274, 0.16332889568525646, 0.027221482614209407, 0.08166444784262823, 0.13610741307104704, 0.13610741307104704, 0.027221482614209407, 0.3538792739847223, 0.027221482614209407, 0.027221482614209407, 0.024950318774499488, 0.12475159387249743, 0.4990063754899897, 0.07485095632349846, 0.049900637548998976, 0.07485095632349846, 0.09980127509799795, 0.049900637548998976, 0.024950318774499488, 0.02658680892936383, 0.05317361785872766, 0.05317361785872766, 0.02658680892936383, 0.10634723571745532, 0.05317361785872766, 0.5317361785872766, 0.10634723571745532, 0.05317361785872766, 0.14962419109266017, 0.0968156530599566, 0.088014230054506, 0.30804980519077096, 0.088014230054506, 0.11441849907085778, 0.0352056920218024, 0.06160996103815419, 0.06160996103815419, 0.31886779841574653, 0.05101884774651944, 0.038264135809889584, 0.05101884774651944, 0.1275471193662986, 0.08928298355640903, 0.0637735596831493, 0.02550942387325972, 0.2295848148593375, 0.022355900702754394, 0.022355900702754394, 0.3018046594871843, 0.3465164608926931, 0.06706770210826318, 0.05588975175688598, 0.05588975175688598, 0.10060155316239477, 0.022355900702754394, 0.019298943690621472, 0.019298943690621472, 0.15439154952497178, 0.4631746485749153, 0.15439154952497178, 0.019298943690621472, 0.038597887381242944, 0.11579366214372883, 0.019298943690621472, 0.6783351127954931, 0.02119797227485916, 0.02119797227485916, 0.1483858059240141, 0.02119797227485916, 0.04239594454971832, 0.02119797227485916, 0.02119797227485916, 0.02119797227485916, 0.03170958722412318, 0.01585479361206159, 0.03170958722412318, 0.14269314250855433, 0.10305615847840036, 0.04756438083618478, 0.5311355860040633, 0.07134657125427717, 0.02378219041809239, 0.6501257045086631, 0.061916733762729825, 0.030958366881364913, 0.030958366881364913, 0.030958366881364913, 0.030958366881364913, 0.061916733762729825, 0.061916733762729825, 0.030958366881364913, 0.05596387629899886, 0.08954220207839818, 0.12312052785779751, 0.15669885363719682, 0.05596387629899886, 0.12312052785779751, 0.2910121567547941, 0.05596387629899886, 0.04477110103919909, 0.17598120892356695, 0.011732080594904463, 0.011732080594904463, 0.6921927550993634, 0.011732080594904463, 0.03519624178471339, 0.011732080594904463, 0.011732080594904463, 0.023464161189808926, 0.033370396498240036, 0.1001111894947201, 0.1001111894947201, 0.033370396498240036, 0.033370396498240036, 0.5672967404700806, 0.033370396498240036, 0.033370396498240036, 0.033370396498240036, 0.07637749493547238, 0.09547186866934049, 0.057283121201604295, 0.17184936360481287, 0.09547186866934049, 0.057283121201604295, 0.03818874746773619, 0.17184936360481287, 0.24822685854028528, 0.04017723059430391, 0.04017723059430391, 0.04017723059430391, 0.5624812283202547, 0.04017723059430391, 0.04017723059430391, 0.04017723059430391, 0.08035446118860783, 0.08035446118860783, 0.02579116691028214, 0.747943840398182, 0.05158233382056428, 0.02579116691028214, 0.02579116691028214, 0.05158233382056428, 0.02579116691028214, 0.02579116691028214, 0.02579116691028214, 0.2401483680096199, 0.4932777288846246, 0.045433475028847, 0.025961985730769715, 0.03894297859615457, 0.025961985730769715, 0.07139546075961672, 0.012980992865384858, 0.05841446789423186, 0.024217767315297303, 0.024217767315297303, 0.04843553463059461, 0.024217767315297303, 0.04843553463059461, 0.04843553463059461, 0.04843553463059461, 0.6296619501977299, 0.09687106926118921, 0.14499407922177956, 0.06134364890152213, 0.08922712567494127, 0.10595721173899277, 0.02788347677341915, 0.18403094670456638, 0.039036867482786806, 0.19518433741393404, 0.14499407922177956, 0.04020560175147934, 0.013401867250493112, 0.7773083005286006, 0.026803734500986224, 0.013401867250493112, 0.06700933625246557, 0.013401867250493112, 0.026803734500986224, 0.013401867250493112, 0.4262225345742468, 0.03874750314311334, 0.05166333752415112, 0.19373751571556672, 0.02583166876207556, 0.05166333752415112, 0.09041084066726447, 0.05166333752415112, 0.09041084066726447, 0.026081435443783444, 0.026081435443783444, 0.026081435443783444, 0.026081435443783444, 0.05216287088756689, 0.05216287088756689, 0.026081435443783444, 0.6520358860945861, 0.07824430633135032, 0.09673848798145229, 0.12898465064193637, 0.09673848798145229, 0.12898465064193637, 0.06449232532096819, 0.06449232532096819, 0.09673848798145229, 0.06449232532096819, 0.2902154639443569, 0.012464976468985074, 0.012464976468985074, 0.012464976468985074, 0.012464976468985074, 0.6357137999182387, 0.012464976468985074, 0.26176450584868655, 0.012464976468985074, 0.024929952937970148, 0.03933510910181022, 0.03933510910181022, 0.03933510910181022, 0.03933510910181022, 0.27534576371267155, 0.03933510910181022, 0.43268620011991243, 0.03933510910181022, 0.07867021820362044, 0.06663564631717128, 0.05330851705373703, 0.41314100716646196, 0.11994416337090831, 0.05330851705373703, 0.1599255511612111, 0.05330851705373703, 0.026654258526868514, 0.05330851705373703, 0.1790402442560919, 0.016276385841462904, 0.03255277168292581, 0.0813819292073145, 0.0813819292073145, 0.09765831504877741, 0.40690964603657254, 0.048829157524388704, 0.048829157524388704, 0.7990141652817037, 0.02577465049295818, 0.02577465049295818, 0.02577465049295818, 0.02577465049295818, 0.02577465049295818, 0.02577465049295818, 0.02577465049295818, 0.02577465049295818, 0.04479196697615054, 0.02239598348807527, 0.02239598348807527, 0.739067455106484, 0.02239598348807527, 0.04479196697615054, 0.02239598348807527, 0.04479196697615054, 0.02239598348807527, 0.038333734982518464, 0.038333734982518464, 0.038333734982518464, 0.6133397597202954, 0.038333734982518464, 0.07666746996503693, 0.038333734982518464, 0.038333734982518464, 0.038333734982518464, 0.08524849531446343, 0.051149097188678064, 0.09093172833542766, 0.1761802236498911, 0.09661496135639189, 0.18754668969181956, 0.06819879625157074, 0.10798142739832035, 0.13639759250314148, 0.31658561944275354, 0.20446154589011167, 0.07914640486068839, 0.11871960729103258, 0.019786601215172096, 0.026382134953562796, 0.11212407355264188, 0.032977668691953496, 0.0857419385990791, 0.027216042025184083, 0.027216042025184083, 0.027216042025184083, 0.027216042025184083, 0.027216042025184083, 0.027216042025184083, 0.027216042025184083, 0.7620491767051544, 0.027216042025184083, 0.04669957024516319, 0.031133046830108792, 0.07783261707527199, 0.15566523415054398, 0.09339914049032638, 0.2957639448860335, 0.031133046830108792, 0.18679828098065276, 0.07783261707527199, 0.7554800335305788, 0.025182667784352627, 0.025182667784352627, 0.07554800335305788, 0.025182667784352627, 0.025182667784352627, 0.025182667784352627, 0.025182667784352627, 0.025182667784352627, 0.023700604431640016, 0.6636169240859204, 0.04740120886328003, 0.023700604431640016, 0.04740120886328003, 0.09480241772656006, 0.04740120886328003, 0.04740120886328003, 0.023700604431640016, 0.08684480784191406, 0.17368961568382812, 0.07443840672164062, 0.11786081064259765, 0.17989281624396483, 0.04342240392095703, 0.18609601680410157, 0.049625604481093745, 0.09304800840205078, 0.0808243946865817, 0.14009561745674162, 0.03232975787463268, 0.03771805085373813, 0.11315415256121439, 0.09160098064479259, 0.04310634383284358, 0.06465951574926536, 0.3987336804538031, 0.1370761875036456, 0.055845854168151916, 0.06599964583508863, 0.23353720833954436, 0.10661481250283547, 0.10153791666936712, 0.09646102083589876, 0.11169170833630383, 0.08630722916896205, 0.036066947540373546, 0.036066947540373546, 0.21640168524224127, 0.036066947540373546, 0.036066947540373546, 0.14426779016149419, 0.396736422944109, 0.036066947540373546, 0.036066947540373546, 0.40844416795743693, 0.07026996437977409, 0.10101307379592527, 0.21520176591305817, 0.017567491094943523, 0.030743109416151167, 0.07905370992724586, 0.021959363868679405, 0.052702473284830575, 0.12052962005795227, 0.020088270009658713, 0.08035308003863485, 0.08035308003863485, 0.05022067502414678, 0.15066202507244034, 0.0703089450338055, 0.12052962005795227, 0.31136818514971004, 0.11123714262498863, 0.11123714262498863, 0.03707904754166288, 0.03707904754166288, 0.03707904754166288, 0.03707904754166288, 0.03707904754166288, 0.18539523770831437, 0.37079047541662874, 0.1217808351954674, 0.013531203910607489, 0.10824963128485991, 0.3382800977651872, 0.027062407821214978, 0.17590565083789736, 0.10824963128485991, 0.06765601955303745, 0.040593611731822465, 0.041927457616863714, 0.041927457616863714, 0.041927457616863714, 0.16770983046745486, 0.12578237285059116, 0.37734711855177344, 0.041927457616863714, 0.041927457616863714, 0.08385491523372743, 0.02930372327724339, 0.39560026424278577, 0.10256303147035187, 0.02930372327724339, 0.17582233966346036, 0.08791116983173018, 0.06593337737379763, 0.021977792457932546, 0.09523710065104102, 0.043250018289222564, 0.021625009144611282, 0.06487502743383385, 0.021625009144611282, 0.5406252286152821, 0.043250018289222564, 0.19462508230150155, 0.021625009144611282, 0.043250018289222564, 0.15953814860414361, 0.039884537151035904, 0.07976907430207181, 0.07976907430207181, 0.07976907430207181, 0.039884537151035904, 0.039884537151035904, 0.11965361145310772, 0.31907629720828723, 0.29991441173182876, 0.0348737688060266, 0.08369704513446384, 0.1046213064180798, 0.14646982898531172, 0.055798030089642556, 0.06277278385084788, 0.06277278385084788, 0.14646982898531172, 0.04652246515452577, 0.04652246515452577, 0.09304493030905155, 0.13956739546357733, 0.13956739546357733, 0.04652246515452577, 0.3721797212362062, 0.04652246515452577, 0.04652246515452577, 0.08088389637962996, 0.04044194818981498, 0.08088389637962996, 0.12132584456944495, 0.12132584456944495, 0.08088389637962996, 0.40441948189814986, 0.04044194818981498, 0.08088389637962996, 0.009698057768995768, 0.009698057768995768, 0.009698057768995768, 0.009698057768995768, 0.3297339641458561, 0.009698057768995768, 0.5915815239087419, 0.009698057768995768, 0.019396115537991535, 0.7239849779840131, 0.030166040749333874, 0.015083020374666937, 0.04524906112400082, 0.030166040749333874, 0.04524906112400082, 0.04524906112400082, 0.04524906112400082, 0.015083020374666937, 0.920019069966865, 0.013049915886054824, 0.006524957943027412, 0.013049915886054824, 0.006524957943027412, 0.013049915886054824, 0.013049915886054824, 0.006524957943027412, 0.013049915886054824, 0.06451175679076586, 0.12902351358153172, 0.06451175679076586, 0.3870705407445951, 0.06451175679076586, 0.06451175679076586, 0.12902351358153172, 0.03225587839538293, 0.09676763518614878, 0.012679802883695964, 0.1394778317206556, 0.40575369227827085, 0.025359605767391928, 0.06339901441847982, 0.08875862018587174, 0.08875862018587174, 0.10143842306956771, 0.07607881730217578, 0.07821134549419088, 0.07821134549419088, 0.03910567274709544, 0.07821134549419088, 0.11731701824128632, 0.35195105472385896, 0.11731701824128632, 0.03910567274709544, 0.07821134549419088, 0.06631909013159235, 0.0442127267543949, 0.0442127267543949, 0.0442127267543949, 0.06631909013159235, 0.02210636337719745, 0.6189781745615286, 0.0442127267543949, 0.0442127267543949, 0.032507919408408054, 0.032507919408408054, 0.032507919408408054, 0.032507919408408054, 0.06501583881681611, 0.13003167763363221, 0.032507919408408054, 0.22755543585885638, 0.39009503290089664, 0.07942729354400967, 0.11914094031601451, 0.03971364677200483, 0.39713646772004835, 0.03971364677200483, 0.15885458708801933, 0.03971364677200483, 0.03971364677200483, 0.03971364677200483, 0.1188512513459611, 0.039617083781987035, 0.039617083781987035, 0.1188512513459611, 0.5546391729478185, 0.039617083781987035, 0.039617083781987035, 0.039617083781987035, 0.039617083781987035, 0.038584829297580475, 0.07716965859516095, 0.038584829297580475, 0.07716965859516095, 0.1543393171903219, 0.34726346367822425, 0.11575448789274141, 0.038584829297580475, 0.07716965859516095, 0.10863171462702793, 0.04573966931664334, 0.17152375993741253, 0.04002221065206292, 0.057174586645804173, 0.02286983465832167, 0.04002221065206292, 0.46883161049559424, 0.05145712798122376, 0.1367265689804174, 0.44436134918635656, 0.08887226983727131, 0.08203594138825045, 0.07519961293922957, 0.03418164224510435, 0.04785429914314609, 0.04101797069412522, 0.05469062759216696, 0.014684926576850997, 0.014684926576850997, 0.029369853153701993, 0.014684926576850997, 0.029369853153701993, 0.7342463288425499, 0.014684926576850997, 0.11747941261480797, 0.029369853153701993, 0.019605878592840395, 0.5293587220066907, 0.058817635778521185, 0.019605878592840395, 0.019605878592840395, 0.13724115014988278, 0.019605878592840395, 0.13724115014988278, 0.058817635778521185, 0.061508783156427216, 0.16402342175047258, 0.061508783156427216, 0.2767895242039225, 0.12301756631285443, 0.05125731929702268, 0.12301756631285443, 0.05125731929702268, 0.09226317473464082, 0.12746141654541493, 0.07647684992724896, 0.03823842496362448, 0.07647684992724896, 0.4970995245271182, 0.03823842496362448, 0.03823842496362448, 0.07647684992724896, 0.025492283309082986, 0.030242143484174804, 0.06048428696834961, 0.030242143484174804, 0.06048428696834961, 0.04536321522626221, 0.04536321522626221, 0.015121071742087402, 0.6804482283939332, 0.04536321522626221, 0.03664258351407149, 0.03664258351407149, 0.03664258351407149, 0.07328516702814299, 0.21985550108442894, 0.3297832516266434, 0.10992775054221447, 0.03664258351407149, 0.07328516702814299, 0.053414383842135496, 0.1602431515264065, 0.08012157576320325, 0.10682876768427099, 0.053414383842135496, 0.026707191921067748, 0.08012157576320325, 0.053414383842135496, 0.34719349497388075, 0.18018498447954, 0.06930191710751539, 0.06930191710751539, 0.06930191710751539, 0.29106805185156465, 0.05544153368601231, 0.027720766843006155, 0.1247434507935277, 0.1247434507935277, 0.07112881198728215, 0.18752141342101655, 0.07112881198728215, 0.05173004508165974, 0.2521839697730912, 0.0775950676224896, 0.08406132325769708, 0.0387975338112448, 0.16812264651539416, 0.5923209720735818, 0.061274583317956745, 0.04084972221197116, 0.1021243055299279, 0.02042486110598558, 0.04084972221197116, 0.04084972221197116, 0.02042486110598558, 0.061274583317956745, 0.02232437452521305, 0.06697312357563916, 0.0892974981008522, 0.07813531083824568, 0.15627062167649136, 0.2790546815651631, 0.1785949962017044, 0.055810936313032626, 0.10045968536345873, 0.06665607256572476, 0.5776859622362812, 0.06665607256572476, 0.04443738171048318, 0.11109345427620794, 0.02221869085524159, 0.02221869085524159, 0.02221869085524159, 0.04443738171048318, 0.1491729522912941, 0.09323309518205881, 0.05593985710923528, 0.16781957132770586, 0.07458647614564705, 0.2983459045825882, 0.05593985710923528, 0.07458647614564705, 0.037293238072823524, 0.03908690181630255, 0.19543450908151275, 0.03908690181630255, 0.03908690181630255, 0.0781738036326051, 0.11726070544890765, 0.3908690181630255, 0.03908690181630255, 0.03908690181630255, 0.02508774435514136, 0.05017548871028272, 0.1254387217757068, 0.05017548871028272, 0.07526323306542408, 0.05017548871028272, 0.40140390968226175, 0.10035097742056544, 0.10035097742056544, 0.30528869630457534, 0.04696749173916544, 0.04696749173916544, 0.07045123760874816, 0.02348374586958272, 0.1174187293479136, 0.04696749173916544, 0.04696749173916544, 0.30528869630457534, 0.03132103198772574, 0.42805410383225184, 0.29232963188544026, 0.03132103198772574, 0.09396309596317723, 0.03132103198772574, 0.04176137598363432, 0.03132103198772574, 0.03132103198772574, 0.08284871928246303, 0.08284871928246303, 0.45566795605354665, 0.04142435964123151, 0.12427307892369455, 0.04142435964123151, 0.04142435964123151, 0.08284871928246303, 0.04142435964123151, 0.06489153912795163, 0.1622288478198791, 0.06489153912795163, 0.03244576956397582, 0.09733730869192744, 0.06489153912795163, 0.4217950043316856, 0.03244576956397582, 0.06489153912795163, 0.05099065897494825, 0.22435889948977228, 0.09178318615490684, 0.03059439538496895, 0.21416076769478262, 0.18356637230981368, 0.0407925271799586, 0.09178318615490684, 0.0815850543599172, 0.05564139335990048, 0.11128278671980096, 0.018547131119966826, 0.0741885244798673, 0.03709426223993365, 0.03709426223993365, 0.09273565559983414, 0.2782069667995024, 0.2782069667995024, 0.0206737703596185, 0.7029081922270289, 0.0206737703596185, 0.0206737703596185, 0.062021311078855494, 0.041347540719237, 0.041347540719237, 0.041347540719237, 0.062021311078855494, 0.012708187075120477, 0.012708187075120477, 0.03812456122536143, 0.012708187075120477, 0.6862421020565057, 0.025416374150240954, 0.08895730952584334, 0.06354093537560238, 0.03812456122536143, 0.03298394608034949, 0.5937110294462908, 0.09895183824104847, 0.03298394608034949, 0.09895183824104847, 0.03298394608034949, 0.03298394608034949, 0.03298394608034949, 0.03298394608034949, 0.03952814366024312, 0.0988203591506078, 0.1976407183012156, 0.03952814366024312, 0.4545736520927959, 0.03952814366024312, 0.05929221549036468, 0.03952814366024312, 0.03952814366024312, 0.03487612258792133, 0.052314183881882005, 0.7672746969342694, 0.017438061293960666, 0.017438061293960666, 0.017438061293960666, 0.03487612258792133, 0.017438061293960666, 0.03487612258792133, 0.09733283909190776, 0.03244427969730259, 0.03244427969730259, 0.09733283909190776, 0.03244427969730259, 0.06488855939460518, 0.09733283909190776, 0.4217756360649337, 0.09733283909190776, 0.04199770969802152, 0.5774685083477958, 0.0524971371225269, 0.08399541939604303, 0.09449484682054841, 0.04199770969802152, 0.031498282273516136, 0.02099885484901076, 0.0524971371225269, 0.03644975168430284, 0.21869851010581703, 0.03644975168430284, 0.03644975168430284, 0.07289950336860568, 0.03644975168430284, 0.03644975168430284, 0.4009472685273312, 0.10934925505290852, 0.021041383782469367, 0.021041383782469367, 0.021041383782469367, 0.1262483026948162, 0.042082767564938735, 0.4418690594318567, 0.021041383782469367, 0.23145522160716303, 0.042082767564938735, 0.05850872271026036, 0.02340348908410414, 0.819122117943645, 0.01170174454205207, 0.01170174454205207, 0.02340348908410414, 0.01170174454205207, 0.01170174454205207, 0.02340348908410414, 0.016364235912387674, 0.03272847182477535, 0.016364235912387674, 0.0654569436495507, 0.016364235912387674, 0.016364235912387674, 0.03272847182477535, 0.7691190878822207, 0.016364235912387674, 0.0169448050947761, 0.0338896101895522, 0.1355584407582088, 0.0338896101895522, 0.2372272713268654, 0.0338896101895522, 0.3219512968007459, 0.1355584407582088, 0.0338896101895522, 0.03419032384509695, 0.051285485767645425, 0.017095161922548476, 0.1367612953803878, 0.051285485767645425, 0.5641403434440997, 0.03419032384509695, 0.03419032384509695, 0.0683806476901939, 0.045615845205110146, 0.8324891749932601, 0.022807922602555073, 0.022807922602555073, 0.022807922602555073, 0.022807922602555073, 0.011403961301277537, 0.011403961301277537, 0.022807922602555073, 0.02034547270070175, 0.8545098534294735, 0.027127296934269, 0.02034547270070175, 0.027127296934269, 0.0135636484671345, 0.00678182423356725, 0.0135636484671345, 0.0135636484671345, 0.028395756073240002, 0.08518726821972, 0.028395756073240002, 0.34074907287888, 0.08518726821972, 0.22716604858592002, 0.08518726821972, 0.056791512146480004, 0.056791512146480004, 0.03726706829920465, 0.03726706829920465, 0.03726706829920465, 0.7080742976848883, 0.03726706829920465, 0.03726706829920465, 0.03726706829920465, 0.03726706829920465, 0.03726706829920465, 0.5963778106364883, 0.035081047684499315, 0.035081047684499315, 0.035081047684499315, 0.035081047684499315, 0.035081047684499315, 0.14032419073799726, 0.035081047684499315, 0.035081047684499315, 0.07948605934825366, 0.02271030267092962, 0.10219636201918328, 0.19303757270290176, 0.06813090801278886, 0.13626181602557771, 0.20439272403836656, 0.07948605934825366, 0.1135515133546481, 0.13044536505154625, 0.10034258850118942, 0.15051388275178412, 0.04013703540047577, 0.030102776550356827, 0.13044536505154625, 0.2909935066534493, 0.04013703540047577, 0.08027407080095154, 0.6420319261493074, 0.03210159630746537, 0.03210159630746537, 0.06420319261493074, 0.03210159630746537, 0.06420319261493074, 0.06420319261493074, 0.03210159630746537, 0.03210159630746537, 0.7070899517845283, 0.03214045235384219, 0.03214045235384219, 0.03214045235384219, 0.03214045235384219, 0.03214045235384219, 0.03214045235384219, 0.03214045235384219, 0.03214045235384219, 0.04561848417967541, 0.04561848417967541, 0.04561848417967541, 0.13685545253902623, 0.41056635761707866, 0.04561848417967541, 0.09123696835935081, 0.04561848417967541, 0.09123696835935081, 0.6915132876589085, 0.03006579511560472, 0.06013159023120944, 0.03006579511560472, 0.03006579511560472, 0.03006579511560472, 0.03006579511560472, 0.03006579511560472, 0.06013159023120944, 0.08336416773054323, 0.16672833546108645, 0.06252312579790742, 0.04168208386527161, 0.06252312579790742, 0.04168208386527161, 0.12504625159581484, 0.020841041932635807, 0.3959797967200803, 0.020841097480058104, 0.020841097480058104, 0.04168219496011621, 0.3751397546410459, 0.06252329244017431, 0.16672877984046483, 0.16672877984046483, 0.10420548740029052, 0.020841097480058104, 0.14692029110361385, 0.03093058760076081, 0.03093058760076081, 0.5954138113146457, 0.015465293800380406, 0.06959382210171183, 0.02319794070057061, 0.02319794070057061, 0.06186117520152162, 0.2113798011733199, 0.17800404309332202, 0.08900202154666101, 0.06675151615999576, 0.03337575807999788, 0.055626263466663134, 0.055626263466663134, 0.24475555925331777, 0.07787676885332838, 0.5677633839035228, 0.02468536451754447, 0.02468536451754447, 0.04937072903508894, 0.02468536451754447, 0.17279755162281127, 0.04937072903508894, 0.04937072903508894, 0.02468536451754447, 0.024707234421352732, 0.016471489614235155, 0.04117872403558789, 0.024707234421352732, 0.03294297922847031, 0.7576885222548171, 0.0741217032640582, 0.016471489614235155, 0.016471489614235155, 0.02329314752322893, 0.7360634617340341, 0.04192766554181207, 0.013975888513937357, 0.05590355405574943, 0.013975888513937357, 0.051244924551103646, 0.03726903603716628, 0.02329314752322893, 0.021761515261297677, 0.021761515261297677, 0.021761515261297677, 0.021761515261297677, 0.021761515261297677, 0.021761515261297677, 0.021761515261297677, 0.8269375799293116, 0.021761515261297677, 0.07847733515887534, 0.03139093406355013, 0.03139093406355013, 0.03139093406355013, 0.03139093406355013, 0.06278186812710027, 0.03139093406355013, 0.07847733515887534, 0.6278186812710027, 0.030229875587210242, 0.2720688802848922, 0.09068962676163073, 0.030229875587210242, 0.060459751174420484, 0.030229875587210242, 0.030229875587210242, 0.030229875587210242, 0.39298838263373315, 0.5816008540418942, 0.052872804912899474, 0.10574560982579895, 0.07930920736934921, 0.026436402456449737, 0.052872804912899474, 0.026436402456449737, 0.026436402456449737, 0.026436402456449737, 0.11782085152234888, 0.11782085152234888, 0.03927361717411629, 0.03927361717411629, 0.3927361717411629, 0.15709446869646515, 0.03927361717411629, 0.03927361717411629, 0.03927361717411629, 0.5043797990861228, 0.040350383926889825, 0.03026278794516737, 0.09078836383550211, 0.040350383926889825, 0.06052557589033474, 0.07061317187205719, 0.08070076785377965, 0.07061317187205719, 0.030387779219812172, 0.030387779219812172, 0.030387779219812172, 0.030387779219812172, 0.030387779219812172, 0.030387779219812172, 0.030387779219812172, 0.7293067012754921, 0.030387779219812172, 0.5466564890005158, 0.05466564890005158, 0.03644376593336772, 0.03644376593336772, 0.01822188296668386, 0.127553180766787, 0.03644376593336772, 0.05466564890005158, 0.07288753186673544, 0.06403976520135433, 0.03201988260067717, 0.09605964780203151, 0.09605964780203151, 0.03201988260067717, 0.09605964780203151, 0.5123181216108347, 0.03201988260067717, 0.03201988260067717, 0.013036741461685531, 0.026073482923371062, 0.026073482923371062, 0.6257635901609054, 0.03911022438505659, 0.026073482923371062, 0.026073482923371062, 0.2085878633869685, 0.026073482923371062, 0.04389107920427938, 0.04389107920427938, 0.08778215840855876, 0.30723755442995565, 0.351128633634235, 0.04389107920427938, 0.04389107920427938, 0.04389107920427938, 0.04389107920427938, 0.047564684768863746, 0.047564684768863746, 0.09512936953772749, 0.047564684768863746, 0.047564684768863746, 0.570776217226365, 0.047564684768863746, 0.047564684768863746, 0.047564684768863746, 0.0687771821775335, 0.08128212439163049, 0.06252471107048499, 0.150059306569164, 0.2563513153889885, 0.1563117776762125, 0.0687771821775335, 0.087534595498679, 0.0687771821775335, 0.03330165205831568, 0.01665082602915784, 0.01665082602915784, 0.19980991234989406, 0.049952478087473516, 0.2497623904373676, 0.03330165205831568, 0.3330165205831568, 0.06660330411663136, 0.022525481522543227, 0.22074971892092365, 0.03604077043606917, 0.03153567413156052, 0.18020385218034582, 0.0495560593495951, 0.0991121186991902, 0.216244622616415, 0.14416308174427667, 0.05395885851804459, 0.03597257234536306, 0.14389028938145224, 0.1259040032087707, 0.3417394372809491, 0.1798628617268153, 0.05395885851804459, 0.03597257234536306, 0.03597257234536306, 0.03653704387635915, 0.5480556581453873, 0.10961113162907744, 0.03653704387635915, 0.0730740877527183, 0.03653704387635915, 0.03653704387635915, 0.03653704387635915, 0.0730740877527183, 0.03431356577118443, 0.03431356577118443, 0.03431356577118443, 0.27450852616947546, 0.03431356577118443, 0.03431356577118443, 0.03431356577118443, 0.44607635502539766, 0.03431356577118443, 0.053557091162569, 0.0321342546975414, 0.0642685093950828, 0.2892082922778726, 0.0642685093950828, 0.1928055281852484, 0.16067127348770702, 0.053557091162569, 0.0856913458601104, 0.03047440234440221, 0.03047440234440221, 0.03047440234440221, 0.03047440234440221, 0.7618600586100552, 0.03047440234440221, 0.03047440234440221, 0.03047440234440221, 0.03047440234440221, 0.032890296026685445, 0.032890296026685445, 0.032890296026685445, 0.032890296026685445, 0.6906962165603943, 0.032890296026685445, 0.09867088808005632, 0.032890296026685445, 0.032890296026685445, 0.046905299987500065, 0.0703579499812501, 0.1407158999625002, 0.046905299987500065, 0.046905299987500065, 0.046905299987500065, 0.18762119995000026, 0.09381059997500013, 0.30488444991875047, 0.029265594620111093, 0.7316398655027774, 0.05853118924022219, 0.029265594620111093, 0.029265594620111093, 0.029265594620111093, 0.029265594620111093, 0.029265594620111093, 0.029265594620111093, 0.3275930608667416, 0.21157051847643726, 0.12967225325975187, 0.10237283152085674, 0.03412427717361891, 0.047773988043066484, 0.03412427717361891, 0.06142369891251405, 0.047773988043066484, 0.019936334444502785, 0.05980900333350836, 0.17942701000052508, 0.03987266888900557, 0.11961800666701672, 0.09968167222251394, 0.35885402000105016, 0.07974533777801114, 0.03987266888900557, 0.11672727307285763, 0.4824727287011449, 0.062254545638857406, 0.08560000025342893, 0.09338181845828611, 0.03890909102428588, 0.07003636384371457, 0.03890909102428588, 0.023345454614571527, 0.09864470418331106, 0.09864470418331106, 0.032881568061103685, 0.4274603847943479, 0.032881568061103685, 0.16440784030551842, 0.032881568061103685, 0.06576313612220737, 0.032881568061103685, 0.5639537343550799, 0.13158920468285198, 0.05639537343550799, 0.05639537343550799, 0.018798457811835995, 0.05639537343550799, 0.03759691562367199, 0.018798457811835995, 0.05639537343550799, 0.0671053978669676, 0.0335526989334838, 0.0335526989334838, 0.0335526989334838, 0.0335526989334838, 0.0335526989334838, 0.0335526989334838, 0.7046066776031599, 0.0671053978669676, 0.5984038463737781, 0.021371565941920644, 0.04274313188384129, 0.021371565941920644, 0.021371565941920644, 0.021371565941920644, 0.21371565941920645, 0.04274313188384129, 0.021371565941920644, 0.03779048004817065, 0.03779048004817065, 0.03779048004817065, 0.03779048004817065, 0.5290667206743891, 0.03779048004817065, 0.2267428802890239, 0.03779048004817065, 0.03779048004817065, 0.023644726079026335, 0.023644726079026335, 0.023644726079026335, 0.023644726079026335, 0.2600919868692897, 0.070934178237079, 0.496539247659553, 0.023644726079026335, 0.04728945215805267, 0.0275066164963961, 0.1100264659855844, 0.46761248043873366, 0.0825198494891883, 0.0550132329927922, 0.0550132329927922, 0.0550132329927922, 0.0550132329927922, 0.0550132329927922, 0.021905900336069966, 0.021905900336069966, 0.021905900336069966, 0.08762360134427986, 0.021905900336069966, 0.17524720268855973, 0.021905900336069966, 0.1314354020164198, 0.46002390705746926, 0.1917855050473032, 0.6073207659831268, 0.04395084490667365, 0.0239731881309129, 0.0239731881309129, 0.0159821254206086, 0.05194190761697795, 0.01198659406545645, 0.02796871948606505, 0.04027815684067242, 0.04027815684067242, 0.04027815684067242, 0.04027815684067242, 0.04027815684067242, 0.04027815684067242, 0.04027815684067242, 0.6847286662914313, 0.04027815684067242, 0.12469977283207662, 0.05668171492367119, 0.13603611581681085, 0.034009028954202714, 0.06801805790840543, 0.3627629755114956, 0.05668171492367119, 0.12469977283207662, 0.04534537193893695, 0.05230828558294804, 0.05230828558294804, 0.03487219038863203, 0.03487219038863203, 0.017436095194316013, 0.03487219038863203, 0.017436095194316013, 0.6451355221896925, 0.10461657116589608, 0.06740837686281737, 0.640379580196765, 0.06740837686281737, 0.03370418843140868, 0.03370418843140868, 0.06740837686281737, 0.03370418843140868, 0.03370418843140868, 0.03370418843140868, 0.72464112512527, 0.01558368011022086, 0.12466944088176687, 0.02337552016533129, 0.03895920027555215, 0.01558368011022086, 0.01558368011022086, 0.02337552016533129, 0.02337552016533129, 0.03603773319913257, 0.05405659979869885, 0.6666980641839525, 0.05405659979869885, 0.03603773319913257, 0.018018866599566283, 0.09009433299783141, 0.03603773319913257, 0.03603773319913257, 0.05066038709034187, 0.0759905806355128, 0.05066038709034187, 0.1519811612710256, 0.10132077418068373, 0.025330193545170934, 0.4812736773582477, 0.025330193545170934, 0.025330193545170934, 0.16234541703729571, 0.04058635425932393, 0.04058635425932393, 0.08117270851864786, 0.08117270851864786, 0.12175906277797179, 0.3652771883339153, 0.04058635425932393, 0.08117270851864786, 0.07306328025139595, 0.07306328025139595, 0.5601518152607022, 0.048708853500930634, 0.09741770700186127, 0.048708853500930634, 0.024354426750465317, 0.024354426750465317, 0.048708853500930634, 0.03858454797309239, 0.03858454797309239, 0.03858454797309239, 0.03858454797309239, 0.03858454797309239, 0.4630145756771087, 0.07716909594618478, 0.15433819189236955, 0.11575364391927717, 0.02539156771357846, 0.02539156771357846, 0.02539156771357846, 0.02539156771357846, 0.02539156771357846, 0.02539156771357846, 0.02539156771357846, 0.7109638959801969, 0.07617470314073538, 0.17721130709004568, 0.17721130709004568, 0.06444047530547116, 0.20137648532959737, 0.05638541589228726, 0.05638541589228726, 0.11277083178457452, 0.08860565354502284, 0.08055059413183895, 0.02865242482612443, 0.7306368330661729, 0.07163106206531107, 0.014326212413062214, 0.02865242482612443, 0.02865242482612443, 0.04297863723918664, 0.014326212413062214, 0.02865242482612443, 0.04436383084551965, 0.04436383084551965, 0.04436383084551965, 0.04436383084551965, 0.3549106467641572, 0.0887276616910393, 0.1774553233820786, 0.04436383084551965, 0.13309149253655894, 0.09381329388213684, 0.04690664694106842, 0.4690664694106842, 0.14071994082320527, 0.04690664694106842, 0.04690664694106842, 0.04690664694106842, 0.04690664694106842, 0.04690664694106842, 0.03711869504303692, 0.37118695043036926, 0.03711869504303692, 0.03711869504303692, 0.07423739008607384, 0.03711869504303692, 0.03711869504303692, 0.07423739008607384, 0.29694956034429537, 0.07447449484425156, 0.02482483161475052, 0.02482483161475052, 0.17377382130325364, 0.04964966322950104, 0.42202213745075884, 0.07447449484425156, 0.04964966322950104, 0.07447449484425156, 0.06864020116892453, 0.06864020116892453, 0.06864020116892453, 0.41184120701354715, 0.20592060350677358, 0.03432010058446226, 0.06864020116892453, 0.03432010058446226, 0.03432010058446226, 0.05089912175340673, 0.6616885827942875, 0.07634868263011009, 0.025449560876703366, 0.05089912175340673, 0.025449560876703366, 0.05089912175340673, 0.025449560876703366, 0.025449560876703366], \"Term\": [\"academic\", \"academic\", \"academic\", \"academic\", \"academic\", \"academic\", \"academic\", \"academic\", \"academic\", \"access\", \"access\", \"access\", \"access\", \"access\", \"access\", \"access\", \"access\", \"access\", \"actionable\", \"actionable\", \"actionable\", \"actionable\", \"actionable\", \"actionable\", \"actionable\", \"actionable\", \"actionable\", \"advance\", \"advance\", \"advance\", \"advance\", \"advance\", \"advance\", \"advance\", \"advance\", \"advance\", \"advanced\", \"advanced\", \"advanced\", \"advanced\", \"advanced\", \"advanced\", \"advanced\", \"advanced\", \"advanced\", \"affordable\", \"affordable\", \"affordable\", \"affordable\", \"affordable\", \"affordable\", \"affordable\", \"affordable\", \"affordable\", \"africa\", \"africa\", \"africa\", \"africa\", \"africa\", \"africa\", \"africa\", \"africa\", \"africa\", \"african\", \"african\", \"african\", \"african\", \"african\", \"african\", \"african\", \"african\", \"african\", \"agency\", \"agency\", \"agency\", \"agency\", \"agency\", \"agency\", \"agency\", \"agency\", \"agency\", \"agricultural\", \"agricultural\", \"agricultural\", \"agricultural\", \"agricultural\", \"agricultural\", \"agricultural\", \"agricultural\", \"agricultural\", \"agriculture\", \"agriculture\", \"agriculture\", \"agriculture\", \"agriculture\", \"agriculture\", \"agriculture\", \"agriculture\", \"agriculture\", \"ai\", \"ai\", \"ai\", \"ai\", \"ai\", \"ai\", \"ai\", \"ai\", \"ai\", \"allow\", \"allow\", \"allow\", \"allow\", \"allow\", \"allow\", \"allow\", \"allow\", \"allow\", \"also\", \"also\", \"also\", \"also\", \"also\", \"also\", \"also\", \"also\", \"also\", \"analytic\", \"analytic\", \"analytic\", \"analytic\", \"analytic\", \"analytic\", \"analytic\", \"analytic\", \"analytic\", \"app\", \"app\", \"app\", \"app\", \"app\", \"app\", \"app\", \"app\", \"app\", \"application\", \"application\", \"application\", \"application\", \"application\", \"application\", \"application\", \"application\", \"application\", \"assessment\", \"assessment\", \"assessment\", \"assessment\", \"assessment\", \"assessment\", \"assessment\", \"assessment\", \"assessment\", \"assist\", \"assist\", \"assist\", \"assist\", \"assist\", \"assist\", \"assist\", \"assist\", \"assist\", \"automate\", \"automate\", \"automate\", \"automate\", \"automate\", \"automate\", \"automate\", \"automate\", \"automate\", \"automation\", \"automation\", \"automation\", \"automation\", \"automation\", \"automation\", \"automation\", \"automation\", \"automation\", \"automotive\", \"automotive\", \"automotive\", \"automotive\", \"automotive\", \"automotive\", \"automotive\", \"automotive\", \"automotive\", \"autonomous\", \"autonomous\", \"autonomous\", \"autonomous\", \"autonomous\", \"autonomous\", \"autonomous\", \"autonomous\", \"autonomous\", \"award\", \"award\", \"award\", \"award\", \"award\", \"award\", \"award\", \"award\", \"award\", \"back\", \"back\", \"back\", \"back\", \"back\", \"back\", \"back\", \"back\", \"back\", \"bank\", \"bank\", \"bank\", \"bank\", \"bank\", \"bank\", \"bank\", \"bank\", \"bank\", \"banking\", \"banking\", \"banking\", \"banking\", \"banking\", \"banking\", \"banking\", \"banking\", \"banking\", \"basis\", \"basis\", \"basis\", \"basis\", \"basis\", \"basis\", \"basis\", \"basis\", \"basis\", \"battery\", \"battery\", \"battery\", \"battery\", \"battery\", \"battery\", \"battery\", \"battery\", \"battery\", \"benefit\", \"benefit\", \"benefit\", \"benefit\", \"benefit\", \"benefit\", \"benefit\", \"benefit\", \"benefit\", \"blockchain\", \"blockchain\", \"blockchain\", \"blockchain\", \"blockchain\", \"blockchain\", \"blockchain\", \"blockchain\", \"blockchain\", \"brand\", \"brand\", \"brand\", \"brand\", \"brand\", \"brand\", \"brand\", \"brand\", \"brand\", \"bridge\", \"bridge\", \"bridge\", \"bridge\", \"bridge\", \"bridge\", \"bridge\", \"bridge\", \"bridge\", \"bring\", \"bring\", \"bring\", \"bring\", \"bring\", \"bring\", \"bring\", \"bring\", \"bring\", \"building\", \"building\", \"building\", \"building\", \"building\", \"building\", \"building\", \"building\", \"building\", \"buy\", \"buy\", \"buy\", \"buy\", \"buy\", \"buy\", \"buy\", \"buy\", \"buy\", \"california\", \"california\", \"california\", \"california\", \"california\", \"california\", \"california\", \"california\", \"california\", \"call\", \"call\", \"call\", \"call\", \"call\", \"call\", \"call\", \"call\", \"call\", \"campaign\", \"campaign\", \"campaign\", \"campaign\", \"campaign\", \"campaign\", \"campaign\", \"campaign\", \"campaign\", \"candidate\", \"candidate\", \"candidate\", \"candidate\", \"candidate\", \"candidate\", \"candidate\", \"candidate\", \"candidate\", \"capital\", \"capital\", \"capital\", \"capital\", \"capital\", \"capital\", \"capital\", \"capital\", \"capital\", \"capture\", \"capture\", \"capture\", \"capture\", \"capture\", \"capture\", \"capture\", \"capture\", \"capture\", \"car\", \"car\", \"car\", \"car\", \"car\", \"car\", \"car\", \"car\", \"car\", \"card\", \"card\", \"card\", \"card\", \"card\", \"card\", \"card\", \"card\", \"card\", \"care\", \"care\", \"care\", \"care\", \"care\", \"care\", \"care\", \"care\", \"care\", \"career\", \"career\", \"career\", \"career\", \"career\", \"career\", \"career\", \"career\", \"career\", \"cash\", \"cash\", \"cash\", \"cash\", \"cash\", \"cash\", \"cash\", \"cash\", \"cash\", \"cell\", \"cell\", \"cell\", \"cell\", \"cell\", \"cell\", \"cell\", \"cell\", \"cell\", \"center\", \"center\", \"center\", \"center\", \"center\", \"center\", \"center\", \"center\", \"center\", \"central\", \"central\", \"central\", \"central\", \"central\", \"central\", \"central\", \"central\", \"central\", \"change\", \"change\", \"change\", \"change\", \"change\", \"change\", \"change\", \"change\", \"change\", \"channel\", \"channel\", \"channel\", \"channel\", \"channel\", \"channel\", \"channel\", \"channel\", \"channel\", \"child\", \"child\", \"child\", \"child\", \"child\", \"child\", \"child\", \"child\", \"child\", \"citizen\", \"citizen\", \"citizen\", \"citizen\", \"citizen\", \"citizen\", \"citizen\", \"citizen\", \"citizen\", \"city\", \"city\", \"city\", \"city\", \"city\", \"city\", \"city\", \"city\", \"city\", \"class\", \"class\", \"class\", \"class\", \"class\", \"class\", \"class\", \"class\", \"class\", \"clean\", \"clean\", \"clean\", \"clean\", \"clean\", \"clean\", \"clean\", \"clean\", \"clean\", \"client\", \"client\", \"client\", \"client\", \"client\", \"client\", \"client\", \"client\", \"client\", \"clinical\", \"clinical\", \"clinical\", \"clinical\", \"clinical\", \"clinical\", \"clinical\", \"clinical\", \"clinical\", \"cloud\", \"cloud\", \"cloud\", \"cloud\", \"cloud\", \"cloud\", \"cloud\", \"cloud\", \"cloud\", \"code\", \"code\", \"code\", \"code\", \"code\", \"code\", \"code\", \"code\", \"code\", \"combine\", \"combine\", \"combine\", \"combine\", \"combine\", \"combine\", \"combine\", \"combine\", \"combine\", \"commerce\", \"commerce\", \"commerce\", \"commerce\", \"commerce\", \"commerce\", \"commerce\", \"commerce\", \"commerce\", \"communication\", \"communication\", \"communication\", \"communication\", \"communication\", \"communication\", \"communication\", \"communication\", \"communication\", \"community\", \"community\", \"community\", \"community\", \"community\", \"community\", \"community\", \"community\", \"community\", \"compliance\", \"compliance\", \"compliance\", \"compliance\", \"compliance\", \"compliance\", \"compliance\", \"compliance\", \"compliance\", \"computer\", \"computer\", \"computer\", \"computer\", \"computer\", \"computer\", \"computer\", \"computer\", \"computer\", \"condition\", \"condition\", \"condition\", \"condition\", \"condition\", \"condition\", \"condition\", \"condition\", \"condition\", \"connect\", \"connect\", \"connect\", \"connect\", \"connect\", \"connect\", \"connect\", \"connect\", \"connect\", \"connectivity\", \"connectivity\", \"connectivity\", \"connectivity\", \"connectivity\", \"connectivity\", \"connectivity\", \"connectivity\", \"connectivity\", \"construction\", \"construction\", \"construction\", \"construction\", \"construction\", \"construction\", \"construction\", \"construction\", \"construction\", \"consumer\", \"consumer\", \"consumer\", \"consumer\", \"consumer\", \"consumer\", \"consumer\", \"consumer\", \"consumer\", \"contact\", \"contact\", \"contact\", \"contact\", \"contact\", \"contact\", \"contact\", \"contact\", \"contact\", \"content\", \"content\", \"content\", \"content\", \"content\", \"content\", \"content\", \"content\", \"content\", \"contract\", \"contract\", \"contract\", \"contract\", \"contract\", \"contract\", \"contract\", \"contract\", \"contract\", \"control\", \"control\", \"control\", \"control\", \"control\", \"control\", \"control\", \"control\", \"control\", \"conversation\", \"conversation\", \"conversation\", \"conversation\", \"conversation\", \"conversation\", \"conversation\", \"conversation\", \"conversation\", \"cost\", \"cost\", \"cost\", \"cost\", \"cost\", \"cost\", \"cost\", \"cost\", \"cost\", \"country\", \"country\", \"country\", \"country\", \"country\", \"country\", \"country\", \"country\", \"country\", \"course\", \"course\", \"course\", \"course\", \"course\", \"course\", \"course\", \"course\", \"course\", \"coverage\", \"coverage\", \"coverage\", \"coverage\", \"coverage\", \"coverage\", \"coverage\", \"coverage\", \"coverage\", \"credit\", \"credit\", \"credit\", \"credit\", \"credit\", \"credit\", \"credit\", \"credit\", \"credit\", \"crop\", \"crop\", \"crop\", \"crop\", \"crop\", \"crop\", \"crop\", \"crop\", \"crop\", \"cyber\", \"cyber\", \"cyber\", \"cyber\", \"cyber\", \"cyber\", \"cyber\", \"cyber\", \"cyber\", \"data\", \"data\", \"data\", \"data\", \"data\", \"data\", \"data\", \"data\", \"data\", \"day\", \"day\", \"day\", \"day\", \"day\", \"day\", \"day\", \"day\", \"day\", \"deal\", \"deal\", \"deal\", \"deal\", \"deal\", \"deal\", \"deal\", \"deal\", \"deal\", \"decision\", \"decision\", \"decision\", \"decision\", \"decision\", \"decision\", \"decision\", \"decision\", \"decision\", \"dedicate\", \"dedicate\", \"dedicate\", \"dedicate\", \"dedicate\", \"dedicate\", \"dedicate\", \"dedicate\", \"dedicate\", \"delivery\", \"delivery\", \"delivery\", \"delivery\", \"delivery\", \"delivery\", \"delivery\", \"delivery\", \"delivery\", \"design\", \"design\", \"design\", \"design\", \"design\", \"design\", \"design\", \"design\", \"design\", \"detect\", \"detect\", \"detect\", \"detect\", \"detect\", \"detect\", \"detect\", \"detect\", \"detect\", \"developer\", \"developer\", \"developer\", \"developer\", \"developer\", \"developer\", \"developer\", \"developer\", \"developer\", \"development\", \"development\", \"development\", \"development\", \"development\", \"development\", \"development\", \"development\", \"development\", \"diagnostic\", \"diagnostic\", \"diagnostic\", \"diagnostic\", \"diagnostic\", \"diagnostic\", \"diagnostic\", \"diagnostic\", \"diagnostic\", \"discover\", \"discover\", \"discover\", \"discover\", \"discover\", \"discover\", \"discover\", \"discover\", \"discover\", \"discovery\", \"discovery\", \"discovery\", \"discovery\", \"discovery\", \"discovery\", \"discovery\", \"discovery\", \"discovery\", \"disease\", \"disease\", \"disease\", \"disease\", \"disease\", \"disease\", \"disease\", \"disease\", \"disease\", \"distribute\", \"distribute\", \"distribute\", \"distribute\", \"distribute\", \"distribute\", \"distribute\", \"distribute\", \"distribute\", \"distribution\", \"distribution\", \"distribution\", \"distribution\", \"distribution\", \"distribution\", \"distribution\", \"distribution\", \"distribution\", \"doctor\", \"doctor\", \"doctor\", \"doctor\", \"doctor\", \"doctor\", \"doctor\", \"doctor\", \"doctor\", \"document\", \"document\", \"document\", \"document\", \"document\", \"document\", \"document\", \"document\", \"document\", \"dollar\", \"dollar\", \"dollar\", \"dollar\", \"dollar\", \"dollar\", \"dollar\", \"dollar\", \"dollar\", \"drive\", \"drive\", \"drive\", \"drive\", \"drive\", \"drive\", \"drive\", \"drive\", \"drive\", \"driver\", \"driver\", \"driver\", \"driver\", \"driver\", \"driver\", \"driver\", \"driver\", \"driver\", \"drug\", \"drug\", \"drug\", \"drug\", \"drug\", \"drug\", \"drug\", \"drug\", \"drug\", \"easy\", \"easy\", \"easy\", \"easy\", \"easy\", \"easy\", \"easy\", \"easy\", \"easy\", \"ecommerce\", \"ecommerce\", \"ecommerce\", \"ecommerce\", \"ecommerce\", \"ecommerce\", \"ecommerce\", \"ecommerce\", \"ecommerce\", \"education\", \"education\", \"education\", \"education\", \"education\", \"education\", \"education\", \"education\", \"education\", \"educational\", \"educational\", \"educational\", \"educational\", \"educational\", \"educational\", \"educational\", \"educational\", \"educational\", \"electric\", \"electric\", \"electric\", \"electric\", \"electric\", \"electric\", \"electric\", \"electric\", \"electric\", \"electricity\", \"electricity\", \"electricity\", \"electricity\", \"electricity\", \"electricity\", \"electricity\", \"electricity\", \"electricity\", \"email\", \"email\", \"email\", \"email\", \"email\", \"email\", \"email\", \"email\", \"email\", \"employee\", \"employee\", \"employee\", \"employee\", \"employee\", \"employee\", \"employee\", \"employee\", \"employee\", \"employer\", \"employer\", \"employer\", \"employer\", \"employer\", \"employer\", \"employer\", \"employer\", \"employer\", \"end\", \"end\", \"end\", \"end\", \"end\", \"end\", \"end\", \"end\", \"end\", \"energy\", \"energy\", \"energy\", \"energy\", \"energy\", \"energy\", \"energy\", \"energy\", \"energy\", \"engagement\", \"engagement\", \"engagement\", \"engagement\", \"engagement\", \"engagement\", \"engagement\", \"engagement\", \"engagement\", \"engine\", \"engine\", \"engine\", \"engine\", \"engine\", \"engine\", \"engine\", \"engine\", \"engine\", \"enterprise\", \"enterprise\", \"enterprise\", \"enterprise\", \"enterprise\", \"enterprise\", \"enterprise\", \"enterprise\", \"enterprise\", \"entrepreneur\", \"entrepreneur\", \"entrepreneur\", \"entrepreneur\", \"entrepreneur\", \"entrepreneur\", \"entrepreneur\", \"entrepreneur\", \"entrepreneur\", \"event\", \"event\", \"event\", \"event\", \"event\", \"event\", \"event\", \"event\", \"event\", \"family\", \"family\", \"family\", \"family\", \"family\", \"family\", \"family\", \"family\", \"family\", \"farm\", \"farm\", \"farm\", \"farm\", \"farm\", \"farm\", \"farm\", \"farm\", \"farm\", \"farmer\", \"farmer\", \"farmer\", \"farmer\", \"farmer\", \"farmer\", \"farmer\", \"farmer\", \"farmer\", \"fast\", \"fast\", \"fast\", \"fast\", \"fast\", \"fast\", \"fast\", \"fast\", \"fast\", \"feature\", \"feature\", \"feature\", \"feature\", \"feature\", \"feature\", \"feature\", \"feature\", \"feature\", \"finance\", \"finance\", \"finance\", \"finance\", \"finance\", \"finance\", \"finance\", \"finance\", \"finance\", \"find\", \"find\", \"find\", \"find\", \"find\", \"find\", \"find\", \"find\", \"find\", \"fintech\", \"fintech\", \"fintech\", \"fintech\", \"fintech\", \"fintech\", \"fintech\", \"fintech\", \"fintech\", \"first\", \"first\", \"first\", \"first\", \"first\", \"first\", \"first\", \"first\", \"first\", \"fitness\", \"fitness\", \"fitness\", \"fitness\", \"fitness\", \"fitness\", \"fitness\", \"fitness\", \"fitness\", \"focus\", \"focus\", \"focus\", \"focus\", \"focus\", \"focus\", \"focus\", \"focus\", \"focus\", \"follow\", \"follow\", \"follow\", \"follow\", \"follow\", \"follow\", \"follow\", \"follow\", \"follow\", \"food\", \"food\", \"food\", \"food\", \"food\", \"food\", \"food\", \"food\", \"food\", \"fraction\", \"fraction\", \"fraction\", \"fraction\", \"fraction\", \"fraction\", \"fraction\", \"fraction\", \"fraction\", \"free\", \"free\", \"free\", \"free\", \"free\", \"free\", \"free\", \"free\", \"free\", \"fresh\", \"fresh\", \"fresh\", \"fresh\", \"fresh\", \"fresh\", \"fresh\", \"fresh\", \"fresh\", \"friend\", \"friend\", \"friend\", \"friend\", \"friend\", \"friend\", \"friend\", \"friend\", \"friend\", \"friendly\", \"friendly\", \"friendly\", \"friendly\", \"friendly\", \"friendly\", \"friendly\", \"friendly\", \"friendly\", \"fuel\", \"fuel\", \"fuel\", \"fuel\", \"fuel\", \"fuel\", \"fuel\", \"fuel\", \"fuel\", \"fund\", \"fund\", \"fund\", \"fund\", \"fund\", \"fund\", \"fund\", \"fund\", \"fund\", \"funding\", \"funding\", \"funding\", \"funding\", \"funding\", \"funding\", \"funding\", \"funding\", \"funding\", \"game\", \"game\", \"game\", \"game\", \"game\", \"game\", \"game\", \"game\", \"game\", \"generation\", \"generation\", \"generation\", \"generation\", \"generation\", \"generation\", \"generation\", \"generation\", \"generation\", \"get\", \"get\", \"get\", \"get\", \"get\", \"get\", \"get\", \"get\", \"get\", \"global\", \"global\", \"global\", \"global\", \"global\", \"global\", \"global\", \"global\", \"global\", \"good\", \"good\", \"good\", \"good\", \"good\", \"good\", \"good\", \"good\", \"good\", \"grid\", \"grid\", \"grid\", \"grid\", \"grid\", \"grid\", \"grid\", \"grid\", \"grid\", \"group\", \"group\", \"group\", \"group\", \"group\", \"group\", \"group\", \"group\", \"group\", \"grow\", \"grow\", \"grow\", \"grow\", \"grow\", \"grow\", \"grow\", \"grow\", \"grow\", \"growth\", \"growth\", \"growth\", \"growth\", \"growth\", \"growth\", \"growth\", \"growth\", \"growth\", \"hand\", \"hand\", \"hand\", \"hand\", \"hand\", \"hand\", \"hand\", \"hand\", \"hand\", \"headquartered\", \"headquartered\", \"headquartered\", \"headquartered\", \"headquartered\", \"headquartered\", \"headquartered\", \"headquartered\", \"headquartered\", \"health\", \"health\", \"health\", \"health\", \"health\", \"health\", \"health\", \"health\", \"health\", \"healthcare\", \"healthcare\", \"healthcare\", \"healthcare\", \"healthcare\", \"healthcare\", \"healthcare\", \"healthcare\", \"healthcare\", \"healthy\", \"healthy\", \"healthy\", \"healthy\", \"healthy\", \"healthy\", \"healthy\", \"healthy\", \"healthy\", \"high\", \"high\", \"high\", \"high\", \"high\", \"high\", \"high\", \"high\", \"high\", \"high_quality\", \"high_quality\", \"high_quality\", \"high_quality\", \"high_quality\", \"high_quality\", \"high_quality\", \"high_quality\", \"high_quality\", \"home\", \"home\", \"home\", \"home\", \"home\", \"home\", \"home\", \"home\", \"home\", \"hospital\", \"hospital\", \"hospital\", \"hospital\", \"hospital\", \"hospital\", \"hospital\", \"hospital\", \"hospital\", \"human\", \"human\", \"human\", \"human\", \"human\", \"human\", \"human\", \"human\", \"human\", \"identity\", \"identity\", \"identity\", \"identity\", \"identity\", \"identity\", \"identity\", \"identity\", \"identity\", \"impact\", \"impact\", \"impact\", \"impact\", \"impact\", \"impact\", \"impact\", \"impact\", \"impact\", \"improve\", \"improve\", \"improve\", \"improve\", \"improve\", \"improve\", \"improve\", \"improve\", \"improve\", \"income\", \"income\", \"income\", \"income\", \"income\", \"income\", \"income\", \"income\", \"income\", \"increase\", \"increase\", \"increase\", \"increase\", \"increase\", \"increase\", \"increase\", \"increase\", \"increase\", \"india\", \"india\", \"india\", \"india\", \"india\", \"india\", \"india\", \"india\", \"india\", \"industrial\", \"industrial\", \"industrial\", \"industrial\", \"industrial\", \"industrial\", \"industrial\", \"industrial\", \"industrial\", \"industry\", \"industry\", \"industry\", \"industry\", \"industry\", \"industry\", \"industry\", \"industry\", \"industry\", \"information\", \"information\", \"information\", \"information\", \"information\", \"information\", \"information\", \"information\", \"information\", \"infrastructure\", \"infrastructure\", \"infrastructure\", \"infrastructure\", \"infrastructure\", \"infrastructure\", \"infrastructure\", \"infrastructure\", \"infrastructure\", \"insight\", \"insight\", \"insight\", \"insight\", \"insight\", \"insight\", \"insight\", \"insight\", \"insight\", \"inspire\", \"inspire\", \"inspire\", \"inspire\", \"inspire\", \"inspire\", \"inspire\", \"inspire\", \"inspire\", \"institution\", \"institution\", \"institution\", \"institution\", \"institution\", \"institution\", \"institution\", \"institution\", \"institution\", \"insurance\", \"insurance\", \"insurance\", \"insurance\", \"insurance\", \"insurance\", \"insurance\", \"insurance\", \"insurance\", \"intelligence\", \"intelligence\", \"intelligence\", \"intelligence\", \"intelligence\", \"intelligence\", \"intelligence\", \"intelligence\", \"intelligence\", \"interaction\", \"interaction\", \"interaction\", \"interaction\", \"interaction\", \"interaction\", \"interaction\", \"interaction\", \"interaction\", \"interface\", \"interface\", \"interface\", \"interface\", \"interface\", \"interface\", \"interface\", \"interface\", \"interface\", \"internet\", \"internet\", \"internet\", \"internet\", \"internet\", \"internet\", \"internet\", \"internet\", \"internet\", \"invest\", \"invest\", \"invest\", \"invest\", \"invest\", \"invest\", \"invest\", \"invest\", \"invest\", \"investment\", \"investment\", \"investment\", \"investment\", \"investment\", \"investment\", \"investment\", \"investment\", \"investment\", \"investor\", \"investor\", \"investor\", \"investor\", \"investor\", \"investor\", \"investor\", \"investor\", \"investor\", \"iot\", \"iot\", \"iot\", \"iot\", \"iot\", \"iot\", \"iot\", \"iot\", \"iot\", \"item\", \"item\", \"item\", \"item\", \"item\", \"item\", \"item\", \"item\", \"item\", \"job\", \"job\", \"job\", \"job\", \"job\", \"job\", \"job\", \"job\", \"job\", \"join\", \"join\", \"join\", \"join\", \"join\", \"join\", \"join\", \"join\", \"join\", \"journey\", \"journey\", \"journey\", \"journey\", \"journey\", \"journey\", \"journey\", \"journey\", \"journey\", \"knowledge\", \"knowledge\", \"knowledge\", \"knowledge\", \"knowledge\", \"knowledge\", \"knowledge\", \"knowledge\", \"knowledge\", \"lab\", \"lab\", \"lab\", \"lab\", \"lab\", \"lab\", \"lab\", \"lab\", \"lab\", \"large\", \"large\", \"large\", \"large\", \"large\", \"large\", \"large\", \"large\", \"large\", \"launch\", \"launch\", \"launch\", \"launch\", \"launch\", \"launch\", \"launch\", \"launch\", \"launch\", \"learn\", \"learn\", \"learn\", \"learn\", \"learn\", \"learn\", \"learn\", \"learn\", \"learn\", \"learning\", \"learning\", \"learning\", \"learning\", \"learning\", \"learning\", \"learning\", \"learning\", \"learning\", \"lending\", \"lending\", \"lending\", \"lending\", \"lending\", \"lending\", \"lending\", \"lending\", \"lending\", \"life\", \"life\", \"life\", \"life\", \"life\", \"life\", \"life\", \"life\", \"life\", \"list\", \"list\", \"list\", \"list\", \"list\", \"list\", \"list\", \"list\", \"list\", \"live\", \"live\", \"live\", \"live\", \"live\", \"live\", \"live\", \"live\", \"live\", \"loan\", \"loan\", \"loan\", \"loan\", \"loan\", \"loan\", \"loan\", \"loan\", \"loan\", \"london\", \"london\", \"london\", \"london\", \"london\", \"london\", \"london\", \"london\", \"london\", \"low\", \"low\", \"low\", \"low\", \"low\", \"low\", \"low\", \"low\", \"low\", \"low_income\", \"low_income\", \"low_income\", \"low_income\", \"low_income\", \"low_income\", \"low_income\", \"low_income\", \"low_income\", \"machine\", \"machine\", \"machine\", \"machine\", \"machine\", \"machine\", \"machine\", \"machine\", \"machine\", \"manage\", \"manage\", \"manage\", \"manage\", \"manage\", \"manage\", \"manage\", \"manage\", \"manage\", \"manufacture\", \"manufacture\", \"manufacture\", \"manufacture\", \"manufacture\", \"manufacture\", \"manufacture\", \"manufacture\", \"manufacture\", \"market\", \"market\", \"market\", \"market\", \"market\", \"market\", \"market\", \"market\", \"market\", \"marketing\", \"marketing\", \"marketing\", \"marketing\", \"marketing\", \"marketing\", \"marketing\", \"marketing\", \"marketing\", \"marketplace\", \"marketplace\", \"marketplace\", \"marketplace\", \"marketplace\", \"marketplace\", \"marketplace\", \"marketplace\", \"marketplace\", \"material\", \"material\", \"material\", \"material\", \"material\", \"material\", \"material\", \"material\", \"material\", \"mean\", \"mean\", \"mean\", \"mean\", \"mean\", \"mean\", \"mean\", \"mean\", \"mean\", \"medical\", \"medical\", \"medical\", \"medical\", \"medical\", \"medical\", \"medical\", \"medical\", \"medical\", \"medicine\", \"medicine\", \"medicine\", \"medicine\", \"medicine\", \"medicine\", \"medicine\", \"medicine\", \"medicine\", \"medium\", \"medium\", \"medium\", \"medium\", \"medium\", \"medium\", \"medium\", \"medium\", \"medium\", \"member\", \"member\", \"member\", \"member\", \"member\", \"member\", \"member\", \"member\", \"member\", \"merchant\", \"merchant\", \"merchant\", \"merchant\", \"merchant\", \"merchant\", \"merchant\", \"merchant\", \"merchant\", \"micro\", \"micro\", \"micro\", \"micro\", \"micro\", \"micro\", \"micro\", \"micro\", \"micro\", \"microfinance\", \"microfinance\", \"microfinance\", \"microfinance\", \"microfinance\", \"microfinance\", \"microfinance\", \"microfinance\", \"microfinance\", \"mission\", \"mission\", \"mission\", \"mission\", \"mission\", \"mission\", \"mission\", \"mission\", \"mission\", \"mobile\", \"mobile\", \"mobile\", \"mobile\", \"mobile\", \"mobile\", \"mobile\", \"mobile\", \"mobile\", \"mobility\", \"mobility\", \"mobility\", \"mobility\", \"mobility\", \"mobility\", \"mobility\", \"mobility\", \"mobility\", \"model\", \"model\", \"model\", \"model\", \"model\", \"model\", \"model\", \"model\", \"model\", \"money\", \"money\", \"money\", \"money\", \"money\", \"money\", \"money\", \"money\", \"money\", \"monitor\", \"monitor\", \"monitor\", \"monitor\", \"monitor\", \"monitor\", \"monitor\", \"monitor\", \"monitor\", \"need\", \"need\", \"need\", \"need\", \"need\", \"need\", \"need\", \"need\", \"need\", \"network\", \"network\", \"network\", \"network\", \"network\", \"network\", \"network\", \"network\", \"network\", \"new\", \"new\", \"new\", \"new\", \"new\", \"new\", \"new\", \"new\", \"new\", \"news\", \"news\", \"news\", \"news\", \"news\", \"news\", \"news\", \"news\", \"news\", \"online\", \"online\", \"online\", \"online\", \"online\", \"online\", \"online\", \"online\", \"online\", \"operate\", \"operate\", \"operate\", \"operate\", \"operate\", \"operate\", \"operate\", \"operate\", \"operate\", \"operator\", \"operator\", \"operator\", \"operator\", \"operator\", \"operator\", \"operator\", \"operator\", \"operator\", \"opportunity\", \"opportunity\", \"opportunity\", \"opportunity\", \"opportunity\", \"opportunity\", \"opportunity\", \"opportunity\", \"opportunity\", \"organisation\", \"organisation\", \"organisation\", \"organisation\", \"organisation\", \"organisation\", \"organisation\", \"organisation\", \"organisation\", \"organization\", \"organization\", \"organization\", \"organization\", \"organization\", \"organization\", \"organization\", \"organization\", \"organization\", \"outcome\", \"outcome\", \"outcome\", \"outcome\", \"outcome\", \"outcome\", \"outcome\", \"outcome\", \"outcome\", \"own\", \"own\", \"own\", \"own\", \"own\", \"own\", \"own\", \"own\", \"own\", \"partner\", \"partner\", \"partner\", \"partner\", \"partner\", \"partner\", \"partner\", \"partner\", \"partner\", \"passion\", \"passion\", \"passion\", \"passion\", \"passion\", \"passion\", \"passion\", \"passion\", \"passion\", \"passionate\", \"passionate\", \"passionate\", \"passionate\", \"passionate\", \"passionate\", \"passionate\", \"passionate\", \"passionate\", \"patient\", \"patient\", \"patient\", \"patient\", \"patient\", \"patient\", \"patient\", \"patient\", \"patient\", \"pay\", \"pay\", \"pay\", \"pay\", \"pay\", \"pay\", \"pay\", \"pay\", \"pay\", \"payment\", \"payment\", \"payment\", \"payment\", \"payment\", \"payment\", \"payment\", \"payment\", \"payment\", \"peer\", \"peer\", \"peer\", \"peer\", \"peer\", \"peer\", \"peer\", \"peer\", \"peer\", \"performance\", \"performance\", \"performance\", \"performance\", \"performance\", \"performance\", \"performance\", \"performance\", \"performance\", \"physical\", \"physical\", \"physical\", \"physical\", \"physical\", \"physical\", \"physical\", \"physical\", \"physical\", \"plan\", \"plan\", \"plan\", \"plan\", \"plan\", \"plan\", \"plan\", \"plan\", \"plan\", \"plant\", \"plant\", \"plant\", \"plant\", \"plant\", \"plant\", \"plant\", \"plant\", \"plant\", \"policy\", \"policy\", \"policy\", \"policy\", \"policy\", \"policy\", \"policy\", \"policy\", \"policy\", \"population\", \"population\", \"population\", \"population\", \"population\", \"population\", \"population\", \"population\", \"population\", \"positive\", \"positive\", \"positive\", \"positive\", \"positive\", \"positive\", \"positive\", \"positive\", \"positive\", \"power\", \"power\", \"power\", \"power\", \"power\", \"power\", \"power\", \"power\", \"power\", \"process\", \"process\", \"process\", \"process\", \"process\", \"process\", \"process\", \"process\", \"process\", \"produce\", \"produce\", \"produce\", \"produce\", \"produce\", \"produce\", \"produce\", \"produce\", \"produce\", \"production\", \"production\", \"production\", \"production\", \"production\", \"production\", \"production\", \"production\", \"production\", \"professional\", \"professional\", \"professional\", \"professional\", \"professional\", \"professional\", \"professional\", \"professional\", \"professional\", \"program\", \"program\", \"program\", \"program\", \"program\", \"program\", \"program\", \"program\", \"program\", \"project\", \"project\", \"project\", \"project\", \"project\", \"project\", \"project\", \"project\", \"project\", \"promote\", \"promote\", \"promote\", \"promote\", \"promote\", \"promote\", \"promote\", \"promote\", \"promote\", \"property\", \"property\", \"property\", \"property\", \"property\", \"property\", \"property\", \"property\", \"property\", \"proprietary\", \"proprietary\", \"proprietary\", \"proprietary\", \"proprietary\", \"proprietary\", \"proprietary\", \"proprietary\", \"proprietary\", \"provider\", \"provider\", \"provider\", \"provider\", \"provider\", \"provider\", \"provider\", \"provider\", \"provider\", \"purchase\", \"purchase\", \"purchase\", \"purchase\", \"purchase\", \"purchase\", \"purchase\", \"purchase\", \"purchase\", \"quality\", \"quality\", \"quality\", \"quality\", \"quality\", \"quality\", \"quality\", \"quality\", \"quality\", \"quickly\", \"quickly\", \"quickly\", \"quickly\", \"quickly\", \"quickly\", \"quickly\", \"quickly\", \"quickly\", \"reach\", \"reach\", \"reach\", \"reach\", \"reach\", \"reach\", \"reach\", \"reach\", \"reach\", \"ready\", \"ready\", \"ready\", \"ready\", \"ready\", \"ready\", \"ready\", \"ready\", \"ready\", \"real\", \"real\", \"real\", \"real\", \"real\", \"real\", \"real\", \"real\", \"real\", \"real_estate\", \"real_estate\", \"real_estate\", \"real_estate\", \"real_estate\", \"real_estate\", \"real_estate\", \"real_estate\", \"real_estate\", \"real_time\", \"real_time\", \"real_time\", \"real_time\", \"real_time\", \"real_time\", \"real_time\", \"real_time\", \"real_time\", \"recognition\", \"recognition\", \"recognition\", \"recognition\", \"recognition\", \"recognition\", \"recognition\", \"recognition\", \"recognition\", \"record\", \"record\", \"record\", \"record\", \"record\", \"record\", \"record\", \"record\", \"record\", \"reduce\", \"reduce\", \"reduce\", \"reduce\", \"reduce\", \"reduce\", \"reduce\", \"reduce\", \"reduce\", \"reliable\", \"reliable\", \"reliable\", \"reliable\", \"reliable\", \"reliable\", \"reliable\", \"reliable\", \"reliable\", \"remote\", \"remote\", \"remote\", \"remote\", \"remote\", \"remote\", \"remote\", \"remote\", \"remote\", \"research\", \"research\", \"research\", \"research\", \"research\", \"research\", \"research\", \"research\", \"research\", \"response\", \"response\", \"response\", \"response\", \"response\", \"response\", \"response\", \"response\", \"response\", \"result\", \"result\", \"result\", \"result\", \"result\", \"result\", \"result\", \"result\", \"result\", \"revenue\", \"revenue\", \"revenue\", \"revenue\", \"revenue\", \"revenue\", \"revenue\", \"revenue\", \"revenue\", \"revolutionize\", \"revolutionize\", \"revolutionize\", \"revolutionize\", \"revolutionize\", \"revolutionize\", \"revolutionize\", \"revolutionize\", \"revolutionize\", \"risk\", \"risk\", \"risk\", \"risk\", \"risk\", \"risk\", \"risk\", \"risk\", \"risk\", \"robotic\", \"robotic\", \"robotic\", \"robotic\", \"robotic\", \"robotic\", \"robotic\", \"robotic\", \"robotic\", \"rural\", \"rural\", \"rural\", \"rural\", \"rural\", \"rural\", \"rural\", \"rural\", \"rural\", \"sale\", \"sale\", \"sale\", \"sale\", \"sale\", \"sale\", \"sale\", \"sale\", \"sale\", \"school\", \"school\", \"school\", \"school\", \"school\", \"school\", \"school\", \"school\", \"school\", \"science\", \"science\", \"science\", \"science\", \"science\", \"science\", \"science\", \"science\", \"science\", \"sector\", \"sector\", \"sector\", \"sector\", \"sector\", \"sector\", \"sector\", \"sector\", \"sector\", \"secure\", \"secure\", \"secure\", \"secure\", \"secure\", \"secure\", \"secure\", \"secure\", \"secure\", \"security\", \"security\", \"security\", \"security\", \"security\", \"security\", \"security\", \"security\", \"security\", \"seek\", \"seek\", \"seek\", \"seek\", \"seek\", \"seek\", \"seek\", \"seek\", \"seek\", \"segment\", \"segment\", \"segment\", \"segment\", \"segment\", \"segment\", \"segment\", \"segment\", \"segment\", \"send\", \"send\", \"send\", \"send\", \"send\", \"send\", \"send\", \"send\", \"send\", \"serve\", \"serve\", \"serve\", \"serve\", \"serve\", \"serve\", \"serve\", \"serve\", \"serve\", \"share\", \"share\", \"share\", \"share\", \"share\", \"share\", \"share\", \"share\", \"share\", \"shop\", \"shop\", \"shop\", \"shop\", \"shop\", \"shop\", \"shop\", \"shop\", \"shop\", \"shopping\", \"shopping\", \"shopping\", \"shopping\", \"shopping\", \"shopping\", \"shopping\", \"shopping\", \"shopping\", \"significant\", \"significant\", \"significant\", \"significant\", \"significant\", \"significant\", \"significant\", \"significant\", \"significant\", \"singapore\", \"singapore\", \"singapore\", \"singapore\", \"singapore\", \"singapore\", \"singapore\", \"singapore\", \"singapore\", \"site\", \"site\", \"site\", \"site\", \"site\", \"site\", \"site\", \"site\", \"site\", \"skill\", \"skill\", \"skill\", \"skill\", \"skill\", \"skill\", \"skill\", \"skill\", \"skill\", \"small\", \"small\", \"small\", \"small\", \"small\", \"small\", \"small\", \"small\", \"small\", \"smart\", \"smart\", \"smart\", \"smart\", \"smart\", \"smart\", \"smart\", \"smart\", \"smart\", \"sme\", \"sme\", \"sme\", \"sme\", \"sme\", \"sme\", \"sme\", \"sme\", \"sme\", \"social\", \"social\", \"social\", \"social\", \"social\", \"social\", \"social\", \"social\", \"social\", \"software\", \"software\", \"software\", \"software\", \"software\", \"software\", \"software\", \"software\", \"software\", \"solar\", \"solar\", \"solar\", \"solar\", \"solar\", \"solar\", \"solar\", \"solar\", \"solar\", \"space\", \"space\", \"space\", \"space\", \"space\", \"space\", \"space\", \"space\", \"space\", \"speed\", \"speed\", \"speed\", \"speed\", \"speed\", \"speed\", \"speed\", \"speed\", \"speed\", \"spend\", \"spend\", \"spend\", \"spend\", \"spend\", \"spend\", \"spend\", \"spend\", \"spend\", \"stage\", \"stage\", \"stage\", \"stage\", \"stage\", \"stage\", \"stage\", \"stage\", \"stage\", \"startup\", \"startup\", \"startup\", \"startup\", \"startup\", \"startup\", \"startup\", \"startup\", \"startup\", \"storage\", \"storage\", \"storage\", \"storage\", \"storage\", \"storage\", \"storage\", \"storage\", \"storage\", \"store\", \"store\", \"store\", \"store\", \"store\", \"store\", \"store\", \"store\", \"store\", \"story\", \"story\", \"story\", \"story\", \"story\", \"story\", \"story\", \"story\", \"story\", \"student\", \"student\", \"student\", \"student\", \"student\", \"student\", \"student\", \"student\", \"student\", \"study\", \"study\", \"study\", \"study\", \"study\", \"study\", \"study\", \"study\", \"study\", \"supply_chain\", \"supply_chain\", \"supply_chain\", \"supply_chain\", \"supply_chain\", \"supply_chain\", \"supply_chain\", \"supply_chain\", \"supply_chain\", \"support\", \"support\", \"support\", \"support\", \"support\", \"support\", \"support\", \"support\", \"support\", \"sustainable\", \"sustainable\", \"sustainable\", \"sustainable\", \"sustainable\", \"sustainable\", \"sustainable\", \"sustainable\", \"sustainable\", \"system\", \"system\", \"system\", \"system\", \"system\", \"system\", \"system\", \"system\", \"system\", \"talent\", \"talent\", \"talent\", \"talent\", \"talent\", \"talent\", \"talent\", \"talent\", \"talent\", \"task\", \"task\", \"task\", \"task\", \"task\", \"task\", \"task\", \"task\", \"task\", \"teacher\", \"teacher\", \"teacher\", \"teacher\", \"teacher\", \"teacher\", \"teacher\", \"teacher\", \"teacher\", \"tech\", \"tech\", \"tech\", \"tech\", \"tech\", \"tech\", \"tech\", \"tech\", \"tech\", \"therapeutic\", \"therapeutic\", \"therapeutic\", \"therapeutic\", \"therapeutic\", \"therapeutic\", \"therapeutic\", \"therapeutic\", \"therapeutic\", \"therapy\", \"therapy\", \"therapy\", \"therapy\", \"therapy\", \"therapy\", \"therapy\", \"therapy\", \"therapy\", \"thing\", \"thing\", \"thing\", \"thing\", \"thing\", \"thing\", \"thing\", \"thing\", \"thing\", \"threat\", \"threat\", \"threat\", \"threat\", \"threat\", \"threat\", \"threat\", \"threat\", \"threat\", \"time\", \"time\", \"time\", \"time\", \"time\", \"time\", \"time\", \"time\", \"time\", \"together\", \"together\", \"together\", \"together\", \"together\", \"together\", \"together\", \"together\", \"together\", \"tool\", \"tool\", \"tool\", \"tool\", \"tool\", \"tool\", \"tool\", \"tool\", \"tool\", \"trade\", \"trade\", \"trade\", \"trade\", \"trade\", \"trade\", \"trade\", \"trade\", \"trade\", \"transaction\", \"transaction\", \"transaction\", \"transaction\", \"transaction\", \"transaction\", \"transaction\", \"transaction\", \"transaction\", \"transportation\", \"transportation\", \"transportation\", \"transportation\", \"transportation\", \"transportation\", \"transportation\", \"transportation\", \"transportation\", \"travel\", \"travel\", \"travel\", \"travel\", \"travel\", \"travel\", \"travel\", \"travel\", \"travel\", \"treat\", \"treat\", \"treat\", \"treat\", \"treat\", \"treat\", \"treat\", \"treat\", \"treat\", \"treatment\", \"treatment\", \"treatment\", \"treatment\", \"treatment\", \"treatment\", \"treatment\", \"treatment\", \"treatment\", \"turn\", \"turn\", \"turn\", \"turn\", \"turn\", \"turn\", \"turn\", \"turn\", \"turn\", \"urban\", \"urban\", \"urban\", \"urban\", \"urban\", \"urban\", \"urban\", \"urban\", \"urban\", \"user\", \"user\", \"user\", \"user\", \"user\", \"user\", \"user\", \"user\", \"user\", \"utility\", \"utility\", \"utility\", \"utility\", \"utility\", \"utility\", \"utility\", \"utility\", \"utility\", \"value\", \"value\", \"value\", \"value\", \"value\", \"value\", \"value\", \"value\", \"value\", \"vehicle\", \"vehicle\", \"vehicle\", \"vehicle\", \"vehicle\", \"vehicle\", \"vehicle\", \"vehicle\", \"vehicle\", \"vendor\", \"vendor\", \"vendor\", \"vendor\", \"vendor\", \"vendor\", \"vendor\", \"vendor\", \"vendor\", \"venture\", \"venture\", \"venture\", \"venture\", \"venture\", \"venture\", \"venture\", \"venture\", \"venture\", \"video\", \"video\", \"video\", \"video\", \"video\", \"video\", \"video\", \"video\", \"video\", \"virtual\", \"virtual\", \"virtual\", \"virtual\", \"virtual\", \"virtual\", \"virtual\", \"virtual\", \"virtual\", \"visit\", \"visit\", \"visit\", \"visit\", \"visit\", \"visit\", \"visit\", \"visit\", \"visit\", \"voice\", \"voice\", \"voice\", \"voice\", \"voice\", \"voice\", \"voice\", \"voice\", \"voice\", \"waste\", \"waste\", \"waste\", \"waste\", \"waste\", \"waste\", \"waste\", \"waste\", \"waste\", \"water\", \"water\", \"water\", \"water\", \"water\", \"water\", \"water\", \"water\", \"water\", \"way\", \"way\", \"way\", \"way\", \"way\", \"way\", \"way\", \"way\", \"way\", \"web\", \"web\", \"web\", \"web\", \"web\", \"web\", \"web\", \"web\", \"web\", \"wellness\", \"wellness\", \"wellness\", \"wellness\", \"wellness\", \"wellness\", \"wellness\", \"wellness\", \"wellness\", \"win\", \"win\", \"win\", \"win\", \"win\", \"win\", \"win\", \"win\", \"win\", \"wireless\", \"wireless\", \"wireless\", \"wireless\", \"wireless\", \"wireless\", \"wireless\", \"wireless\", \"wireless\", \"woman\", \"woman\", \"woman\", \"woman\", \"woman\", \"woman\", \"woman\", \"woman\", \"woman\", \"worker\", \"worker\", \"worker\", \"worker\", \"worker\", \"worker\", \"worker\", \"worker\", \"worker\", \"workflow\", \"workflow\", \"workflow\", \"workflow\", \"workflow\", \"workflow\", \"workflow\", \"workflow\", \"workflow\"]}, \"R\": 30, \"lambda.step\": 0.01, \"plot.opts\": {\"xlab\": \"PC1\", \"ylab\": \"PC2\"}, \"topic.order\": [2, 7, 9, 5, 8, 1, 3, 4, 6]};\n",
       "\n",
       "function LDAvis_load_lib(url, callback){\n",
       "  var s = document.createElement('script');\n",
       "  s.src = url;\n",
       "  s.async = true;\n",
       "  s.onreadystatechange = s.onload = callback;\n",
       "  s.onerror = function(){console.warn(\"failed to load library \" + url);};\n",
       "  document.getElementsByTagName(\"head\")[0].appendChild(s);\n",
       "}\n",
       "\n",
       "if(typeof(LDAvis) !== \"undefined\"){\n",
       "   // already loaded: just create the visualization\n",
       "   !function(LDAvis){\n",
       "       new LDAvis(\"#\" + \"ldavis_el312482482190456136310047017\", ldavis_el312482482190456136310047017_data);\n",
       "   }(LDAvis);\n",
       "}else if(typeof define === \"function\" && define.amd){\n",
       "   // require.js is available: use it to load d3/LDAvis\n",
       "   require.config({paths: {d3: \"https://d3js.org/d3.v5\"}});\n",
       "   require([\"d3\"], function(d3){\n",
       "      window.d3 = d3;\n",
       "      LDAvis_load_lib(\"https://cdn.jsdelivr.net/gh/bmabey/pyLDAvis@3.3.1/pyLDAvis/js/ldavis.v3.0.0.js\", function(){\n",
       "        new LDAvis(\"#\" + \"ldavis_el312482482190456136310047017\", ldavis_el312482482190456136310047017_data);\n",
       "      });\n",
       "    });\n",
       "}else{\n",
       "    // require.js not available: dynamically load d3 & LDAvis\n",
       "    LDAvis_load_lib(\"https://d3js.org/d3.v5.js\", function(){\n",
       "         LDAvis_load_lib(\"https://cdn.jsdelivr.net/gh/bmabey/pyLDAvis@3.3.1/pyLDAvis/js/ldavis.v3.0.0.js\", function(){\n",
       "                 new LDAvis(\"#\" + \"ldavis_el312482482190456136310047017\", ldavis_el312482482190456136310047017_data);\n",
       "            })\n",
       "         });\n",
       "}\n",
       "</script>"
      ],
      "text/plain": [
       "PreparedData(topic_coordinates=              x         y  topics  cluster       Freq\n",
       "topic                                                \n",
       "1      0.080285 -0.119301       1        1  14.915718\n",
       "6     -0.136679 -0.072004       2        1  14.718279\n",
       "8     -0.052474 -0.026214       3        1  11.752526\n",
       "4      0.082415 -0.014311       4        1  11.115124\n",
       "7     -0.044272  0.078061       5        1  10.196761\n",
       "0      0.044421  0.029921       6        1   9.641296\n",
       "2      0.005702  0.048680       7        1   9.513987\n",
       "3      0.023310  0.061236       8        1   9.465569\n",
       "5     -0.002708  0.013932       9        1   8.680741, topic_info=           Term        Freq       Total Category  logprob  loglift\n",
       "163      health  225.000000  225.000000  Default  30.0000  30.0000\n",
       "252      energy  114.000000  114.000000  Default  29.0000  29.0000\n",
       "142     payment  153.000000  153.000000  Default  28.0000  28.0000\n",
       "164  healthcare  129.000000  129.000000  Default  27.0000  27.0000\n",
       "136        home  131.000000  131.000000  Default  26.0000  26.0000\n",
       "..          ...         ...         ...      ...      ...      ...\n",
       "51         fast   16.604667  108.994682   Topic9  -5.3728   0.5624\n",
       "189        also   18.193311  163.291278   Topic9  -5.2814   0.2496\n",
       "232      access   18.293293  236.402256   Topic9  -5.2759  -0.1149\n",
       "17          new   17.463147  196.970754   Topic9  -5.3224   0.0211\n",
       "220       first   16.294768  147.947473   Topic9  -5.3916   0.2381\n",
       "\n",
       "[454 rows x 6 columns], token_table=      Topic      Freq      Term\n",
       "term                           \n",
       "318       1  0.045122  academic\n",
       "318       2  0.045122  academic\n",
       "318       3  0.045122  academic\n",
       "318       4  0.180489  academic\n",
       "318       5  0.360978  academic\n",
       "...     ...       ...       ...\n",
       "414       5  0.050899  workflow\n",
       "414       6  0.025450  workflow\n",
       "414       7  0.050899  workflow\n",
       "414       8  0.025450  workflow\n",
       "414       9  0.025450  workflow\n",
       "\n",
       "[3213 rows x 3 columns], R=30, lambda_step=0.01, plot_opts={'xlab': 'PC1', 'ylab': 'PC2'}, topic_order=[2, 7, 9, 5, 8, 1, 3, 4, 6])"
      ]
     },
     "execution_count": 40,
     "metadata": {},
     "output_type": "execute_result"
    }
   ],
   "source": [
    "lda_viz"
   ]
  },
  {
   "cell_type": "code",
   "execution_count": 42,
   "metadata": {},
   "outputs": [
    {
     "name": "stdout",
     "output_type": "stream",
     "text": [
      "Topic: 0 \n",
      "Words: 0.023*\"social\" + 0.018*\"food\" + 0.016*\"farmer\" + 0.013*\"produce\" + 0.011*\"impact\" + 0.008*\"market\" + 0.008*\"sector\" + 0.008*\"mission\" + 0.008*\"community\" + 0.008*\"value\"\n",
      "Topic: 1 \n",
      "Words: 0.023*\"payment\" + 0.017*\"capital\" + 0.015*\"online\" + 0.015*\"venture\" + 0.014*\"credit\" + 0.014*\"consumer\" + 0.011*\"app\" + 0.010*\"investor\" + 0.010*\"investment\" + 0.010*\"money\"\n",
      "Topic: 2 \n",
      "Words: 0.026*\"healthcare\" + 0.017*\"life\" + 0.016*\"patient\" + 0.013*\"family\" + 0.013*\"care\" + 0.011*\"community\" + 0.008*\"find\" + 0.008*\"event\" + 0.008*\"need\" + 0.007*\"share\"\n",
      "Topic: 3 \n",
      "Words: 0.027*\"energy\" + 0.021*\"power\" + 0.012*\"design\" + 0.012*\"system\" + 0.012*\"school\" + 0.011*\"project\" + 0.010*\"solar\" + 0.009*\"vehicle\" + 0.009*\"market\" + 0.009*\"electric\"\n",
      "Topic: 4 \n",
      "Words: 0.019*\"finance\" + 0.019*\"insurance\" + 0.018*\"bank\" + 0.017*\"india\" + 0.017*\"small\" + 0.013*\"loan\" + 0.011*\"online\" + 0.010*\"student\" + 0.010*\"new\" + 0.010*\"banking\"\n",
      "Topic: 5 \n",
      "Words: 0.028*\"home\" + 0.021*\"network\" + 0.015*\"delivery\" + 0.011*\"client\" + 0.011*\"space\" + 0.011*\"infrastructure\" + 0.010*\"internet\" + 0.009*\"system\" + 0.009*\"operate\" + 0.007*\"provider\"\n",
      "Topic: 6 \n",
      "Words: 0.026*\"software\" + 0.025*\"user\" + 0.021*\"security\" + 0.019*\"application\" + 0.015*\"cloud\" + 0.012*\"manage\" + 0.012*\"secure\" + 0.011*\"automate\" + 0.011*\"process\" + 0.010*\"developer\"\n",
      "Topic: 7 \n",
      "Words: 0.042*\"health\" + 0.018*\"care\" + 0.017*\"improve\" + 0.013*\"research\" + 0.012*\"medical\" + 0.010*\"support\" + 0.010*\"system\" + 0.009*\"program\" + 0.009*\"provider\" + 0.009*\"clinical\"\n",
      "Topic: 8 \n",
      "Words: 0.021*\"ai\" + 0.020*\"brand\" + 0.014*\"sale\" + 0.013*\"insight\" + 0.013*\"analytic\" + 0.012*\"marketing\" + 0.011*\"drive\" + 0.011*\"content\" + 0.009*\"revenue\" + 0.008*\"employee\"\n"
     ]
    }
   ],
   "source": [
    "for idx, topic in lda_model.print_topics(-1):\n",
    "    print('Topic: {} \\nWords: {}'.format(idx, topic))"
   ]
  },
  {
   "cell_type": "code",
   "execution_count": 22,
   "metadata": {},
   "outputs": [],
   "source": [
    "data_test=test.Long_description.values.tolist()"
   ]
  },
  {
   "cell_type": "code",
   "execution_count": 23,
   "metadata": {},
   "outputs": [
    {
     "name": "stderr",
     "output_type": "stream",
     "text": [
      "C:\\Users\\daian\\anaconda3\\lib\\site-packages\\ipykernel_launcher.py:4: SettingWithCopyWarning: \n",
      "A value is trying to be set on a copy of a slice from a DataFrame.\n",
      "Try using .loc[row_indexer,col_indexer] = value instead\n",
      "\n",
      "See the caveats in the documentation: https://pandas.pydata.org/pandas-docs/stable/user_guide/indexing.html#returning-a-view-versus-a-copy\n",
      "  after removing the cwd from sys.path.\n",
      "C:\\Users\\daian\\anaconda3\\lib\\site-packages\\ipykernel_launcher.py:6: SettingWithCopyWarning: \n",
      "A value is trying to be set on a copy of a slice from a DataFrame.\n",
      "Try using .loc[row_indexer,col_indexer] = value instead\n",
      "\n",
      "See the caveats in the documentation: https://pandas.pydata.org/pandas-docs/stable/user_guide/indexing.html#returning-a-view-versus-a-copy\n",
      "  \n"
     ]
    },
    {
     "data": {
      "text/plain": [
       "810     metaweb technologies was spun out of applied m...\n",
       "1785    mark43 creates the next generation of law enfo...\n",
       "2108    instructure is a technology company that is fo...\n",
       "2099    trulioo operates a digital identity network th...\n",
       "1638    somatus is a healthcare company that partners ...\n",
       "512     young 1ove is a grassroots youth-led evidence-...\n",
       "913     bunker is the leading insurtech providing inst...\n",
       "2063    smartrecruiters is an end-to-end recruiting pl...\n",
       "474     inspired by the noble cause of serving indian ...\n",
       "686     the cargox platform for blockchain document tr...\n",
       "1379    bluecore is a multi-channel marketing platform...\n",
       "1354    bloom & wild a letterbox flower delivery compa...\n",
       "Name: Long_description_processed, dtype: object"
      ]
     },
     "execution_count": 23,
     "metadata": {},
     "output_type": "execute_result"
    }
   ],
   "source": [
    "# Load the regular expression library\n",
    "import re\n",
    "# Remove punctuation\n",
    "test['Long_description_processed'] = test['Long_description'].map(lambda x: re.sub('[,\\.!?]', '', x))\n",
    "# Convert the descriptions to lowercase\n",
    "test['Long_description_processed'] = test['Long_description_processed'].map(lambda x: x.lower())\n",
    "# Print out the first rows of descriptions\n",
    "test['Long_description_processed'].head(12)"
   ]
  },
  {
   "cell_type": "code",
   "execution_count": 24,
   "metadata": {},
   "outputs": [
    {
     "name": "stdout",
     "output_type": "stream",
     "text": [
      "['metaweb', 'technologies', 'was', 'spun', 'out', 'of', 'applied', 'minds', 'in', 'july', 'to', 'build', 'better', 'infrastructure', 'for', 'the', 'web', 'after', 'several', 'years', 'of', 'development', 'we', 'recently', 'launched', 'our', 'first', 'product', 'freebase', 'an']\n"
     ]
    }
   ],
   "source": [
    "data = test.Long_description_processed.values.tolist()\n",
    "data_words = list(sent_to_words(data))\n",
    "print(data_words[:1][0][:30])"
   ]
  },
  {
   "cell_type": "code",
   "execution_count": 25,
   "metadata": {},
   "outputs": [
    {
     "name": "stdout",
     "output_type": "stream",
     "text": [
      "[['metaweb', 'technology', 'spin', 'applied', 'mind', 'july', 'build', 'well', 'infrastructure', 'web', 'several', 'year', 'development', 'recently', 'launch', 'first', 'product', 'freebase', 'open', 'share', 'database', 'world', 'information', 'freebase', 'open', 'database', 'world', 'information', 'build', 'community', 'community', 'free', 'query', 'contribute', 'build', 'application', 'top', 'integrate', 'website'], ['mark', 'create', 'next_generation', 'law', 'enforcement', 'software', 'allow', 'police', 'effortlessly', 'collect', 'manage', 'analyze', 'share', 'information', 'mission', 'empower', 'community', 'government', 'new', 'technology', 'improve', 'safety', 'quality', 'life', 'intuitive', 'software', 'deliver', 'cloud', 'first', 'technology', 'datum', 'drive', 'insight', 'public', 'safety', 'company', 'found', 'base', 'new_york', 'city']]\n"
     ]
    }
   ],
   "source": [
    "import spacy\n",
    "# Remove Stop Words\n",
    "data_words_nostops = remove_stopwords(data_words)\n",
    "# Form Bigrams\n",
    "data_words_bigrams = make_bigrams(data_words_nostops)\n",
    "# Initialize spacy 'en' model, keeping only tagger component (for efficiency)\n",
    "nlp = spacy.load(\"en_core_web_sm\", disable=['parser', 'ner'])\n",
    "# Do lemmatization keeping only noun, adj, vb, adv\n",
    "data_lemmatized = lemmatization(data_words_bigrams, allowed_postags=['NOUN', 'ADJ', 'VERB', 'ADV'])\n",
    "print(data_lemmatized[:2])"
   ]
  },
  {
   "cell_type": "code",
   "execution_count": 26,
   "metadata": {},
   "outputs": [],
   "source": [
    "import gensim.corpora as corpora\n",
    "# Create Dictionary\n",
    "id2word = corpora.Dictionary(data_lemmatized)\n",
    "# Create Corpus\n",
    "texts = data_lemmatized"
   ]
  },
  {
   "cell_type": "code",
   "execution_count": 27,
   "metadata": {},
   "outputs": [
    {
     "name": "stdout",
     "output_type": "stream",
     "text": [
      "[[(0, 1), (1, 1), (2, 3), (3, 2), (4, 1), (5, 2), (6, 1), (7, 1), (8, 1), (9, 2), (10, 2), (11, 1), (12, 1), (13, 1), (14, 1), (15, 1), (16, 1), (17, 2), (18, 1), (19, 1), (20, 1), (21, 1), (22, 1), (23, 1), (24, 1), (25, 1), (26, 1), (27, 1), (28, 1), (29, 2), (30, 1)], [(3, 1), (7, 1), (10, 1), (22, 1), (24, 2), (31, 1), (32, 1), (33, 1), (34, 1), (35, 1), (36, 1), (37, 1), (38, 1), (39, 1), (40, 1), (41, 1), (42, 1), (43, 1), (44, 1), (45, 1), (46, 1), (47, 1), (48, 1), (49, 1), (50, 1), (51, 1), (52, 1), (53, 1), (54, 1), (55, 1), (56, 1), (57, 1), (58, 1), (59, 1), (60, 1), (61, 2), (62, 2)]]\n"
     ]
    }
   ],
   "source": [
    "# Term Document Frequency\n",
    "corpus = [id2word.doc2bow(text) for text in texts]\n",
    "# View\n",
    "print(corpus[:2])"
   ]
  },
  {
   "cell_type": "code",
   "execution_count": 49,
   "metadata": {},
   "outputs": [
    {
     "data": {
      "text/plain": [
       "[['metaweb',\n",
       "  'technology',\n",
       "  'spin',\n",
       "  'applied',\n",
       "  'mind',\n",
       "  'july',\n",
       "  'build',\n",
       "  'well',\n",
       "  'infrastructure',\n",
       "  'web',\n",
       "  'several',\n",
       "  'year',\n",
       "  'development',\n",
       "  'recently',\n",
       "  'launch',\n",
       "  'first',\n",
       "  'product',\n",
       "  'freebase',\n",
       "  'open',\n",
       "  'share',\n",
       "  'database',\n",
       "  'world',\n",
       "  'information',\n",
       "  'freebase',\n",
       "  'open',\n",
       "  'database',\n",
       "  'world',\n",
       "  'information',\n",
       "  'build',\n",
       "  'community',\n",
       "  'community',\n",
       "  'free',\n",
       "  'query',\n",
       "  'contribute',\n",
       "  'build',\n",
       "  'application',\n",
       "  'top',\n",
       "  'integrate',\n",
       "  'website'],\n",
       " ['mark',\n",
       "  'create',\n",
       "  'next_generation',\n",
       "  'law',\n",
       "  'enforcement',\n",
       "  'software',\n",
       "  'allow',\n",
       "  'police',\n",
       "  'effortlessly',\n",
       "  'collect',\n",
       "  'manage',\n",
       "  'analyze',\n",
       "  'share',\n",
       "  'information',\n",
       "  'mission',\n",
       "  'empower',\n",
       "  'community',\n",
       "  'government',\n",
       "  'new',\n",
       "  'technology',\n",
       "  'improve',\n",
       "  'safety',\n",
       "  'quality',\n",
       "  'life',\n",
       "  'intuitive',\n",
       "  'software',\n",
       "  'deliver',\n",
       "  'cloud',\n",
       "  'first',\n",
       "  'technology',\n",
       "  'datum',\n",
       "  'drive',\n",
       "  'insight',\n",
       "  'public',\n",
       "  'safety',\n",
       "  'company',\n",
       "  'found',\n",
       "  'base',\n",
       "  'new_york',\n",
       "  'city'],\n",
       " ['instructure',\n",
       "  'technology',\n",
       "  'company',\n",
       "  'focus',\n",
       "  'provide',\n",
       "  'cloud',\n",
       "  'base',\n",
       "  'learning',\n",
       "  'management',\n",
       "  'software',\n",
       "  'educational',\n",
       "  'institution',\n",
       "  'company',\n",
       "  'organization',\n",
       "  'found',\n",
       "  'computer',\n",
       "  'science',\n",
       "  'graduate',\n",
       "  'student',\n",
       "  'instructure',\n",
       "  'set',\n",
       "  'disrupt',\n",
       "  'complex',\n",
       "  'legacy',\n",
       "  'learn',\n",
       "  'management',\n",
       "  'system',\n",
       "  'industry',\n",
       "  'create',\n",
       "  'canvas',\n",
       "  'simple',\n",
       "  'yet',\n",
       "  'powerful',\n",
       "  'software',\n",
       "  'system',\n",
       "  'set',\n",
       "  'new',\n",
       "  'standard',\n",
       "  'open',\n",
       "  'technology',\n",
       "  'education',\n",
       "  'instructure',\n",
       "  'canvas',\n",
       "  'network',\n",
       "  'offer',\n",
       "  'course',\n",
       "  'institutional',\n",
       "  'partner',\n",
       "  'date',\n",
       "  'design',\n",
       "  'use',\n",
       "  'feedback',\n",
       "  'instructional',\n",
       "  'design',\n",
       "  'group',\n",
       "  'several',\n",
       "  'university',\n",
       "  'include',\n",
       "  'usc',\n",
       "  'unlv',\n",
       "  'berkeley',\n",
       "  'heavy',\n",
       "  'emphasis',\n",
       "  'put',\n",
       "  'usability',\n",
       "  'effort',\n",
       "  'streamline',\n",
       "  'common',\n",
       "  'case',\n",
       "  'learn',\n",
       "  'management',\n",
       "  'system',\n",
       "  'canvas',\n",
       "  'offer',\n",
       "  'integration',\n",
       "  'web',\n",
       "  'service',\n",
       "  'provide',\n",
       "  'simplified',\n",
       "  'tool',\n",
       "  'grade',\n",
       "  'assessment',\n",
       "  'instructure',\n",
       "  'also',\n",
       "  'work',\n",
       "  'closely',\n",
       "  'unizin',\n",
       "  'new',\n",
       "  'consortium',\n",
       "  'lead',\n",
       "  'major',\n",
       "  'institution',\n",
       "  'include',\n",
       "  'indiana',\n",
       "  'university',\n",
       "  'colorado',\n",
       "  'state',\n",
       "  'university',\n",
       "  'university',\n",
       "  'florida',\n",
       "  'university',\n",
       "  'michigan',\n",
       "  'consortium',\n",
       "  'use',\n",
       "  'canvas',\n",
       "  'foundational',\n",
       "  'platform',\n",
       "  'improve',\n",
       "  'student',\n",
       "  'outcome',\n",
       "  'instructure',\n",
       "  'inc',\n",
       "  'base',\n",
       "  'salt',\n",
       "  'lake',\n",
       "  'city',\n",
       "  'utah',\n",
       "  'software',\n",
       "  'develop',\n",
       "  'support',\n",
       "  'east',\n",
       "  'bench',\n",
       "  'wasatch',\n",
       "  'mountain'],\n",
       " ['trulioo',\n",
       "  'operate',\n",
       "  'digital',\n",
       "  'identity',\n",
       "  'network',\n",
       "  'provide',\n",
       "  'instant',\n",
       "  'access',\n",
       "  'hundred',\n",
       "  'procure',\n",
       "  'vet',\n",
       "  'trust',\n",
       "  'datum',\n",
       "  'source',\n",
       "  'world',\n",
       "  'single',\n",
       "  'integration',\n",
       "  'deploying',\n",
       "  'stringent',\n",
       "  'security',\n",
       "  'privacy',\n",
       "  'standard',\n",
       "  'combine',\n",
       "  'late',\n",
       "  'innovation',\n",
       "  'ai',\n",
       "  'biometric',\n",
       "  'cloud',\n",
       "  'computing',\n",
       "  'trulioo',\n",
       "  'globalgateway',\n",
       "  'solution',\n",
       "  'access',\n",
       "  'information',\n",
       "  'people',\n",
       "  'company',\n",
       "  'enable',\n",
       "  'organization',\n",
       "  'run',\n",
       "  'identity',\n",
       "  'verification',\n",
       "  'check',\n",
       "  'accuracy',\n",
       "  'reliability',\n",
       "  'speed',\n",
       "  'scale'],\n",
       " ['somatus',\n",
       "  'healthcare',\n",
       "  'company',\n",
       "  'partner',\n",
       "  'health',\n",
       "  'plan',\n",
       "  'health',\n",
       "  'system',\n",
       "  'nephrology',\n",
       "  'primary',\n",
       "  'care',\n",
       "  'group',\n",
       "  'provide',\n",
       "  'integrated',\n",
       "  'care',\n",
       "  'patient',\n",
       "  'risk',\n",
       "  'develop',\n",
       "  'kidney',\n",
       "  'disease',\n",
       "  'somatus',\n",
       "  'vertically_integrate',\n",
       "  'clinical',\n",
       "  'service',\n",
       "  'technology',\n",
       "  'delay',\n",
       "  'prevent',\n",
       "  'disease',\n",
       "  'progression',\n",
       "  'improve',\n",
       "  'quality',\n",
       "  'care',\n",
       "  'coordination',\n",
       "  'increase',\n",
       "  'home',\n",
       "  'dialysis',\n",
       "  'modality',\n",
       "  'rate',\n",
       "  'kidney',\n",
       "  'transplantation',\n",
       "  'company',\n",
       "  'headquarter',\n",
       "  'mclean',\n",
       "  'virginia',\n",
       "  'found',\n",
       "  'team',\n",
       "  'world',\n",
       "  'class',\n",
       "  'healthcare',\n",
       "  'operator',\n",
       "  'successful',\n",
       "  'entrepreneur',\n",
       "  'lead',\n",
       "  'clinician',\n",
       "  'treat',\n",
       "  'kidney',\n",
       "  'disease']]"
      ]
     },
     "execution_count": 49,
     "metadata": {},
     "output_type": "execute_result"
    }
   ],
   "source": [
    "texts[:5]"
   ]
  },
  {
   "cell_type": "code",
   "execution_count": 50,
   "metadata": {},
   "outputs": [
    {
     "name": "stdout",
     "output_type": "stream",
     "text": [
      "[(0, 1), (1, 1), (2, 3), (3, 2), (4, 1), (5, 2), (6, 1), (7, 1), (8, 1), (9, 2), (10, 2), (11, 1), (12, 1), (13, 1), (14, 1), (15, 1), (16, 1), (17, 2), (18, 1), (19, 1), (20, 1), (21, 1), (22, 1), (23, 1), (24, 1), (25, 1), (26, 1), (27, 1), (28, 1), (29, 2), (30, 1)]\n"
     ]
    }
   ],
   "source": [
    "num=0\n",
    "unseen_document = corpus[num]\n",
    "print(unseen_document)"
   ]
  },
  {
   "cell_type": "code",
   "execution_count": 51,
   "metadata": {},
   "outputs": [
    {
     "name": "stdout",
     "output_type": "stream",
     "text": [
      "Score: 0.35520750284194946\t Topic: 0.021*\"ai\" + 0.020*\"brand\" + 0.014*\"sale\" + 0.013*\"insight\" + 0.013*\"analytic\" + 0.012*\"marketing\" + 0.011*\"drive\" + 0.011*\"content\"\n",
      "Score: 0.25959569215774536\t Topic: 0.026*\"healthcare\" + 0.017*\"life\" + 0.016*\"patient\" + 0.013*\"family\" + 0.013*\"care\" + 0.011*\"community\" + 0.008*\"find\" + 0.008*\"event\"\n",
      "Score: 0.08304018527269363\t Topic: 0.026*\"software\" + 0.025*\"user\" + 0.021*\"security\" + 0.019*\"application\" + 0.015*\"cloud\" + 0.012*\"manage\" + 0.012*\"secure\" + 0.011*\"automate\"\n",
      "Score: 0.0782923772931099\t Topic: 0.028*\"home\" + 0.021*\"network\" + 0.015*\"delivery\" + 0.011*\"client\" + 0.011*\"space\" + 0.011*\"infrastructure\" + 0.010*\"internet\" + 0.009*\"system\"\n",
      "Score: 0.050623465329408646\t Topic: 0.023*\"payment\" + 0.017*\"capital\" + 0.015*\"online\" + 0.015*\"venture\" + 0.014*\"credit\" + 0.014*\"consumer\" + 0.011*\"app\" + 0.010*\"investor\"\n",
      "Score: 0.049751222133636475\t Topic: 0.027*\"energy\" + 0.021*\"power\" + 0.012*\"design\" + 0.012*\"system\" + 0.012*\"school\" + 0.011*\"project\" + 0.010*\"solar\" + 0.009*\"vehicle\"\n",
      "Score: 0.04214734956622124\t Topic: 0.019*\"finance\" + 0.019*\"insurance\" + 0.018*\"bank\" + 0.017*\"india\" + 0.017*\"small\" + 0.013*\"loan\" + 0.011*\"online\" + 0.010*\"student\"\n",
      "Score: 0.04151643067598343\t Topic: 0.023*\"social\" + 0.018*\"food\" + 0.016*\"farmer\" + 0.013*\"produce\" + 0.011*\"impact\" + 0.008*\"market\" + 0.008*\"sector\" + 0.008*\"mission\"\n",
      "Score: 0.03982580825686455\t Topic: 0.042*\"health\" + 0.018*\"care\" + 0.017*\"improve\" + 0.013*\"research\" + 0.012*\"medical\" + 0.010*\"support\" + 0.010*\"system\" + 0.009*\"program\"\n"
     ]
    }
   ],
   "source": [
    "#bow_vector = dictionary.doc2bow((unseen_document))\n",
    "\n",
    "for index, score in sorted(lda_model[unseen_document], key=lambda tup: -1*tup[1]):\n",
    "    print(\"Score: {}\\t Topic: {}\".format(score, lda_model.print_topic(index, 8)))"
   ]
  },
  {
   "cell_type": "code",
   "execution_count": 52,
   "metadata": {},
   "outputs": [
    {
     "name": "stdout",
     "output_type": "stream",
     "text": [
      "[(10, 1), (30, 1), (33, 2), (40, 2), (46, 1), (51, 1), (54, 1), (63, 1), (76, 1), (81, 1), (103, 1), (115, 1), (124, 1), (141, 1), (160, 3), (165, 1), (177, 1), (186, 1), (210, 1), (211, 1), (212, 1), (213, 1), (214, 1), (215, 1), (216, 1), (217, 1), (218, 1), (219, 1), (220, 1), (221, 2), (222, 1), (223, 1), (224, 1), (225, 1), (226, 1), (227, 1), (228, 1), (229, 1), (230, 1), (231, 1), (232, 1), (233, 1), (234, 1), (235, 1), (236, 1), (237, 1), (238, 2), (239, 1), (240, 1), (241, 1), (242, 4), (243, 2), (244, 1), (245, 1), (246, 1), (247, 1), (248, 1), (249, 1), (250, 1), (251, 1), (252, 1), (253, 1), (254, 2), (255, 2), (256, 1), (257, 1), (258, 1), (259, 1), (260, 2), (261, 5), (262, 3), (263, 2)]\n"
     ]
    }
   ],
   "source": [
    "num=5\n",
    "unseen_document = corpus[num]\n",
    "print(unseen_document)"
   ]
  },
  {
   "cell_type": "code",
   "execution_count": 53,
   "metadata": {},
   "outputs": [
    {
     "name": "stdout",
     "output_type": "stream",
     "text": [
      "Score: 0.2907371520996094\t Topic: 0.026*\"software\" + 0.025*\"user\" + 0.021*\"security\" + 0.019*\"application\" + 0.015*\"cloud\" + 0.012*\"manage\" + 0.012*\"secure\" + 0.011*\"automate\"\n",
      "Score: 0.1857650727033615\t Topic: 0.027*\"energy\" + 0.021*\"power\" + 0.012*\"design\" + 0.012*\"system\" + 0.012*\"school\" + 0.011*\"project\" + 0.010*\"solar\" + 0.009*\"vehicle\"\n",
      "Score: 0.1845799684524536\t Topic: 0.023*\"payment\" + 0.017*\"capital\" + 0.015*\"online\" + 0.015*\"venture\" + 0.014*\"credit\" + 0.014*\"consumer\" + 0.011*\"app\" + 0.010*\"investor\"\n",
      "Score: 0.08347582817077637\t Topic: 0.019*\"finance\" + 0.019*\"insurance\" + 0.018*\"bank\" + 0.017*\"india\" + 0.017*\"small\" + 0.013*\"loan\" + 0.011*\"online\" + 0.010*\"student\"\n",
      "Score: 0.07677315920591354\t Topic: 0.023*\"social\" + 0.018*\"food\" + 0.016*\"farmer\" + 0.013*\"produce\" + 0.011*\"impact\" + 0.008*\"market\" + 0.008*\"sector\" + 0.008*\"mission\"\n",
      "Score: 0.07653695344924927\t Topic: 0.021*\"ai\" + 0.020*\"brand\" + 0.014*\"sale\" + 0.013*\"insight\" + 0.013*\"analytic\" + 0.012*\"marketing\" + 0.011*\"drive\" + 0.011*\"content\"\n",
      "Score: 0.05881823971867561\t Topic: 0.028*\"home\" + 0.021*\"network\" + 0.015*\"delivery\" + 0.011*\"client\" + 0.011*\"space\" + 0.011*\"infrastructure\" + 0.010*\"internet\" + 0.009*\"system\"\n",
      "Score: 0.024103159084916115\t Topic: 0.042*\"health\" + 0.018*\"care\" + 0.017*\"improve\" + 0.013*\"research\" + 0.012*\"medical\" + 0.010*\"support\" + 0.010*\"system\" + 0.009*\"program\"\n",
      "Score: 0.01921050436794758\t Topic: 0.026*\"healthcare\" + 0.017*\"life\" + 0.016*\"patient\" + 0.013*\"family\" + 0.013*\"care\" + 0.011*\"community\" + 0.008*\"find\" + 0.008*\"event\"\n"
     ]
    }
   ],
   "source": [
    "for index, score in sorted(lda_model[unseen_document], key=lambda tup: -1*tup[1]):\n",
    "    print(\"Score: {}\\t Topic: {}\".format(score, lda_model.print_topic(index, 8)))"
   ]
  },
  {
   "cell_type": "code",
   "execution_count": 30,
   "metadata": {},
   "outputs": [],
   "source": [
    "data_test=test.Long_description.values.tolist()"
   ]
  },
  {
   "cell_type": "code",
   "execution_count": 31,
   "metadata": {},
   "outputs": [
    {
     "name": "stderr",
     "output_type": "stream",
     "text": [
      "C:\\Users\\daian\\anaconda3\\lib\\site-packages\\ipykernel_launcher.py:4: SettingWithCopyWarning: \n",
      "A value is trying to be set on a copy of a slice from a DataFrame.\n",
      "Try using .loc[row_indexer,col_indexer] = value instead\n",
      "\n",
      "See the caveats in the documentation: https://pandas.pydata.org/pandas-docs/stable/user_guide/indexing.html#returning-a-view-versus-a-copy\n",
      "  after removing the cwd from sys.path.\n",
      "C:\\Users\\daian\\anaconda3\\lib\\site-packages\\ipykernel_launcher.py:6: SettingWithCopyWarning: \n",
      "A value is trying to be set on a copy of a slice from a DataFrame.\n",
      "Try using .loc[row_indexer,col_indexer] = value instead\n",
      "\n",
      "See the caveats in the documentation: https://pandas.pydata.org/pandas-docs/stable/user_guide/indexing.html#returning-a-view-versus-a-copy\n",
      "  \n"
     ]
    },
    {
     "data": {
      "text/plain": [
       "810     metaweb technologies was spun out of applied m...\n",
       "1785    mark43 creates the next generation of law enfo...\n",
       "2108    instructure is a technology company that is fo...\n",
       "2099    trulioo operates a digital identity network th...\n",
       "1638    somatus is a healthcare company that partners ...\n",
       "512     young 1ove is a grassroots youth-led evidence-...\n",
       "913     bunker is the leading insurtech providing inst...\n",
       "2063    smartrecruiters is an end-to-end recruiting pl...\n",
       "474     inspired by the noble cause of serving indian ...\n",
       "686     the cargox platform for blockchain document tr...\n",
       "1379    bluecore is a multi-channel marketing platform...\n",
       "1354    bloom & wild a letterbox flower delivery compa...\n",
       "Name: Long_description_processed, dtype: object"
      ]
     },
     "execution_count": 31,
     "metadata": {},
     "output_type": "execute_result"
    }
   ],
   "source": [
    "# Load the regular expression library\n",
    "import re\n",
    "# Remove punctuation\n",
    "test['Long_description_processed'] = test['Long_description'].map(lambda x: re.sub('[,\\.!?]', '', x))\n",
    "# Convert the descriptions to lowercase\n",
    "test['Long_description_processed'] = test['Long_description_processed'].map(lambda x: x.lower())\n",
    "# Print out the first rows of descriptions\n",
    "test['Long_description_processed'].head(12)"
   ]
  },
  {
   "cell_type": "code",
   "execution_count": 32,
   "metadata": {},
   "outputs": [],
   "source": [
    "data = test.Long_description_processed.values.tolist()\n",
    "data_words = list(sent_to_words(data))"
   ]
  },
  {
   "cell_type": "code",
   "execution_count": 33,
   "metadata": {},
   "outputs": [
    {
     "name": "stdout",
     "output_type": "stream",
     "text": [
      "[['metaweb', 'technology', 'spin', 'applied', 'mind', 'july', 'build', 'well', 'infrastructure', 'web', 'several', 'year', 'development', 'recently', 'launch', 'first', 'product', 'freebase', 'open', 'share', 'database', 'world', 'information', 'freebase', 'open', 'database', 'world', 'information', 'build', 'community', 'community', 'free', 'query', 'contribute', 'build', 'application', 'top', 'integrate', 'website'], ['mark', 'create', 'next_generation', 'law', 'enforcement', 'software', 'allow', 'police', 'effortlessly', 'collect', 'manage', 'analyze', 'share', 'information', 'mission', 'empower', 'community', 'government', 'new', 'technology', 'improve', 'safety', 'quality', 'life', 'intuitive', 'software', 'deliver', 'cloud', 'first', 'technology', 'datum', 'drive', 'insight', 'public', 'safety', 'company', 'found', 'base', 'new_york', 'city']]\n"
     ]
    }
   ],
   "source": [
    "import spacy\n",
    "# Remove Stop Words\n",
    "data_words_nostops = remove_stopwords(data_words)\n",
    "# Form Bigrams\n",
    "data_words_bigrams = make_bigrams(data_words_nostops)\n",
    "# Initialize spacy 'en' model, keeping only tagger component (for efficiency)\n",
    "nlp = spacy.load(\"en_core_web_sm\", disable=['parser', 'ner'])\n",
    "# Do lemmatization keeping only noun, adj, vb, adv\n",
    "data_lemmatized = lemmatization(data_words_bigrams, allowed_postags=['NOUN', 'ADJ', 'VERB', 'ADV'])\n",
    "print(data_lemmatized[:2])"
   ]
  },
  {
   "cell_type": "code",
   "execution_count": 34,
   "metadata": {},
   "outputs": [],
   "source": [
    "import gensim.corpora as corpora\n",
    "# Create Dictionary\n",
    "id2word = corpora.Dictionary(data_lemmatized)\n",
    "# Create Corpus\n",
    "texts = data_lemmatized"
   ]
  },
  {
   "cell_type": "code",
   "execution_count": 41,
   "metadata": {},
   "outputs": [
    {
     "name": "stdout",
     "output_type": "stream",
     "text": [
      "[[(0, 1), (1, 1), (2, 3), (3, 2), (4, 1), (5, 2), (6, 1), (7, 1), (8, 1), (9, 2), (10, 2), (11, 1), (12, 1), (13, 1), (14, 1), (15, 1), (16, 1), (17, 2), (18, 1), (19, 1), (20, 1), (21, 1), (22, 1), (23, 1), (24, 1), (25, 1), (26, 1), (27, 1), (28, 1), (29, 2), (30, 1)], [(3, 1), (7, 1), (10, 1), (22, 1), (24, 2), (31, 1), (32, 1), (33, 1), (34, 1), (35, 1), (36, 1), (37, 1), (38, 1), (39, 1), (40, 1), (41, 1), (42, 1), (43, 1), (44, 1), (45, 1), (46, 1), (47, 1), (48, 1), (49, 1), (50, 1), (51, 1), (52, 1), (53, 1), (54, 1), (55, 1), (56, 1), (57, 1), (58, 1), (59, 1), (60, 1), (61, 2), (62, 2)]]\n"
     ]
    }
   ],
   "source": [
    "# Term Document Frequency\n",
    "corpus1 = [id2word.doc2bow(text) for text in texts]\n",
    "# View\n",
    "print(corpus1[:2])"
   ]
  },
  {
   "cell_type": "code",
   "execution_count": null,
   "metadata": {},
   "outputs": [],
   "source": []
  }
 ],
 "metadata": {
  "kernelspec": {
   "display_name": "Python 3",
   "language": "python",
   "name": "python3"
  },
  "language_info": {
   "codemirror_mode": {
    "name": "ipython",
    "version": 3
   },
   "file_extension": ".py",
   "mimetype": "text/x-python",
   "name": "python",
   "nbconvert_exporter": "python",
   "pygments_lexer": "ipython3",
   "version": "3.7.6"
  }
 },
 "nbformat": 4,
 "nbformat_minor": 4
}
